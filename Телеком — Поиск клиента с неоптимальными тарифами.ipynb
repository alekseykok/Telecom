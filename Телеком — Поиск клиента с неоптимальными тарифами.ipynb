{
 "cells": [
  {
   "cell_type": "markdown",
   "metadata": {},
   "source": [
    "# Проект \"Телеком — Поиск клиента с неоптимальными тарифами\"."
   ]
  },
  {
   "cell_type": "markdown",
   "metadata": {},
   "source": [
    "**Задача:**\n",
    "\n",
    "Найти клиентов, которые:\n",
    "\n",
    "а) переплачивают на текущих тарифах;\n",
    "\n",
    "б) сэкономят, если перейдут на более дорогой тариф."
   ]
  },
  {
   "cell_type": "markdown",
   "metadata": {},
   "source": [
    "Используйте правила формирования тарифов:\n",
    "    \n",
    "Ежемесячная плата за тариф:\n",
    "    \n",
    "* Тариф А — 4000 ₽,\n",
    "* Тариф B — 2000 ₽,\n",
    "* Тариф С — 1000 ₽.\n",
    "\n",
    "Дополнительная ежемесячная плата за каждого оператора:\n",
    "* Тариф А — 50 ₽,\n",
    "* Тариф B — 150 ₽,\n",
    "* Тариф С — 300 ₽.\n",
    "\n",
    "Входящие и внутренние звонки — бесплатны на всех тарифах,\n",
    "\n",
    "Исходящие звонки, внутри сети, включённыев тариф:\n",
    "* Тариф А — 2000 минут,\n",
    "* Тариф B — 500 минут,\n",
    "* Тариф С — нет.\n",
    "\n",
    "Цена сверх лимита:\n",
    "* A — 0.1 ₽/мин.,\n",
    "* B — 0.15 ₽/мин.,\n",
    "* C — 0.3 ₽/мин.\n",
    "\n",
    "Исходящие звонки, кроме внутренних:\n",
    "* A — 0.3 ₽/мин.,\n",
    "* B — 0.5 ₽/мин.,\n",
    "* C — 0.7 ₽/мин.\n"
   ]
  },
  {
   "cell_type": "markdown",
   "metadata": {},
   "source": [
    "1 Проведите исследовательский анализ данных\n",
    "\n",
    "2 Найдите клиентов с неоптимальными тарифами\n",
    "Ищите только по активным клиентам.\n",
    "Предложите решение: как уменьшить риск падения выручки, если все\n",
    "клиенты перейдут на более выгодные тарифы?\n",
    "\n",
    "3 Проверьте статистические гипотезы\n",
    "\n",
    "a. Проверьте гипотезу: цена услуг различается на тарифных планах A и B.\n",
    "\n",
    "b. Сформулируйте собственную статистическую гипотезу. Дополните её\n",
    "нулевой и альтернативной гипотезами. Проверьте гипотезу с помощью\n",
    "статистического теста."
   ]
  },
  {
   "cell_type": "markdown",
   "metadata": {},
   "source": [
    "**Описание данных:**\n",
    "    \n",
    "Датасеты описывают использование услуг «Нупозвони» — провайдера виртуальной телефонии. Его клиенты — колл-центры, которые:\n",
    "распределяют входящие вызовы на операторов, совершают исходящие вызовы силами операторов. Также операторы могут делать внутренние вызовы — вызовы друг между другом\n",
    "внутри сети виртуальной телефонии."
   ]
  },
  {
   "cell_type": "markdown",
   "metadata": {},
   "source": [
    "Датасет /datasets/telecom_dataset.csv\n",
    "\n",
    "Колонки:\n",
    "* user_id — идентификатор клиента;\n",
    "* date — дата статистики;\n",
    "* direction — направление вызовов: out — исходящий вызов, in — входящий;\n",
    "* internal — маркер внутренних и внешних вызовов;\n",
    "* operator_id — идентификатор оператора;\n",
    "* is_missed_call — маркер пропущенных вызовов;\n",
    "* calls_count — количество звонков;\n",
    "* call_duration — длительность звонка без учёта времени ожидания;\n",
    "* total_call_duration — длительность звонка с учётом времени ожидания."
   ]
  },
  {
   "cell_type": "markdown",
   "metadata": {},
   "source": [
    "Датасет /datasets/telecom_clients.csv\n",
    "\n",
    "Колонки:\n",
    "* user_id — идентификатор клиента;\n",
    "* tariff_plan — тарифный план клиента;\n",
    "* date_start — дата регистрации клиента в сервисе."
   ]
  },
  {
   "cell_type": "markdown",
   "metadata": {},
   "source": [
    "По итогам исследования подготовьте презентацию. Для создания презентации используйте любой удобный инструмент, но отправить презентацию\n",
    "нужно обязательно в формате pdf, прикрепив ссылку на файл в основном проекте."
   ]
  },
  {
   "cell_type": "markdown",
   "metadata": {},
   "source": [
    "**Декомпозиция**"
   ]
  },
  {
   "cell_type": "markdown",
   "metadata": {},
   "source": [
    "1. Предобработка данных\n",
    "* Загрузка данных и изучение общей информации.\n",
    "* Проверка и корректировка названий столбцов.\n",
    "* Проверка пропусков. Заполнение или удаление, при необходимости.\n",
    "* Проверка типов данных. Изменение, при необходимости.\n",
    "* Проверка и удаление дубликатов.\n",
    "* Проверка временного периода данных.\n",
    "2. Исследовательский анализ данных\n",
    "* Исследавание распределения звонков по датам. Определим активный период исследования, в котором еженедельное количество звонков было выше среднего.\n",
    "* Исследование распределения направления вызовов\n",
    "* Исследование распределения внутренних и внешних вызовов\n",
    "* Исследование распределения вызовов по операторам\n",
    "* Исследование распределения пропущенных вызовов\n",
    "* Исследование распределения длительности вызовов с учётом времени ожидания\n",
    "* Исследование распределения клиентов по тарифным планам. Принять решение об активных пользователях.\n",
    "\n",
    "3. Анализ экономических показателей.\n",
    "* Исследование расходов клиентов на каждом из тарифов\n",
    "* Исследование клиентов с неоптимальными тарифными планами.\n",
    "4. Проверка статистических гипотез\n",
    "* Проверка гипотезы: затраты клиентов различаются на тарифных планах A и B.\n",
    "* Проверка гипотезы: Доходы заказчика изменятся при переводе клиентов на оптимальные тарифные планы.\n",
    "5. Выводы и рекомендации\n"
   ]
  },
  {
   "cell_type": "markdown",
   "metadata": {},
   "source": [
    "## Предобработка данных"
   ]
  },
  {
   "cell_type": "markdown",
   "metadata": {},
   "source": [
    "### Загрузка данных и изучение общей информации."
   ]
  },
  {
   "cell_type": "markdown",
   "metadata": {},
   "source": [
    "Импортируем библиотеки"
   ]
  },
  {
   "cell_type": "code",
   "execution_count": 1,
   "metadata": {},
   "outputs": [],
   "source": [
    "import pandas as pd\n",
    "import matplotlib.pyplot as plt\n",
    "import seaborn as sns\n",
    "import numpy as np\n",
    "from scipy import stats"
   ]
  },
  {
   "cell_type": "markdown",
   "metadata": {},
   "source": [
    "Загружаем данные"
   ]
  },
  {
   "cell_type": "code",
   "execution_count": 2,
   "metadata": {},
   "outputs": [],
   "source": [
    "clients = pd.read_csv('/datasets/telecom_clients.csv')\n",
    "data = pd.read_csv('/datasets/telecom_dataset.csv')"
   ]
  },
  {
   "cell_type": "code",
   "execution_count": 3,
   "metadata": {},
   "outputs": [
    {
     "name": "stdout",
     "output_type": "stream",
     "text": [
      "<class 'pandas.core.frame.DataFrame'>\n",
      "RangeIndex: 732 entries, 0 to 731\n",
      "Data columns (total 3 columns):\n",
      " #   Column       Non-Null Count  Dtype \n",
      "---  ------       --------------  ----- \n",
      " 0   user_id      732 non-null    int64 \n",
      " 1   tariff_plan  732 non-null    object\n",
      " 2   date_start   732 non-null    object\n",
      "dtypes: int64(1), object(2)\n",
      "memory usage: 17.3+ KB\n"
     ]
    }
   ],
   "source": [
    "clients.info()"
   ]
  },
  {
   "cell_type": "code",
   "execution_count": 4,
   "metadata": {},
   "outputs": [
    {
     "name": "stdout",
     "output_type": "stream",
     "text": [
      "<class 'pandas.core.frame.DataFrame'>\n",
      "RangeIndex: 53902 entries, 0 to 53901\n",
      "Data columns (total 9 columns):\n",
      " #   Column               Non-Null Count  Dtype  \n",
      "---  ------               --------------  -----  \n",
      " 0   user_id              53902 non-null  int64  \n",
      " 1   date                 53902 non-null  object \n",
      " 2   direction            53902 non-null  object \n",
      " 3   internal             53785 non-null  object \n",
      " 4   operator_id          45730 non-null  float64\n",
      " 5   is_missed_call       53902 non-null  bool   \n",
      " 6   calls_count          53902 non-null  int64  \n",
      " 7   call_duration        53902 non-null  int64  \n",
      " 8   total_call_duration  53902 non-null  int64  \n",
      "dtypes: bool(1), float64(1), int64(4), object(3)\n",
      "memory usage: 3.3+ MB\n"
     ]
    }
   ],
   "source": [
    "data.info()"
   ]
  },
  {
   "cell_type": "code",
   "execution_count": 5,
   "metadata": {},
   "outputs": [
    {
     "data": {
      "text/html": [
       "<div>\n",
       "<style scoped>\n",
       "    .dataframe tbody tr th:only-of-type {\n",
       "        vertical-align: middle;\n",
       "    }\n",
       "\n",
       "    .dataframe tbody tr th {\n",
       "        vertical-align: top;\n",
       "    }\n",
       "\n",
       "    .dataframe thead th {\n",
       "        text-align: right;\n",
       "    }\n",
       "</style>\n",
       "<table border=\"1\" class=\"dataframe\">\n",
       "  <thead>\n",
       "    <tr style=\"text-align: right;\">\n",
       "      <th></th>\n",
       "      <th>user_id</th>\n",
       "      <th>tariff_plan</th>\n",
       "      <th>date_start</th>\n",
       "    </tr>\n",
       "  </thead>\n",
       "  <tbody>\n",
       "    <tr>\n",
       "      <th>0</th>\n",
       "      <td>166713</td>\n",
       "      <td>A</td>\n",
       "      <td>2019-08-15</td>\n",
       "    </tr>\n",
       "    <tr>\n",
       "      <th>1</th>\n",
       "      <td>166901</td>\n",
       "      <td>A</td>\n",
       "      <td>2019-08-23</td>\n",
       "    </tr>\n",
       "    <tr>\n",
       "      <th>2</th>\n",
       "      <td>168527</td>\n",
       "      <td>A</td>\n",
       "      <td>2019-10-29</td>\n",
       "    </tr>\n",
       "    <tr>\n",
       "      <th>3</th>\n",
       "      <td>167097</td>\n",
       "      <td>A</td>\n",
       "      <td>2019-09-01</td>\n",
       "    </tr>\n",
       "    <tr>\n",
       "      <th>4</th>\n",
       "      <td>168193</td>\n",
       "      <td>A</td>\n",
       "      <td>2019-10-16</td>\n",
       "    </tr>\n",
       "  </tbody>\n",
       "</table>\n",
       "</div>"
      ],
      "text/plain": [
       "   user_id tariff_plan  date_start\n",
       "0   166713           A  2019-08-15\n",
       "1   166901           A  2019-08-23\n",
       "2   168527           A  2019-10-29\n",
       "3   167097           A  2019-09-01\n",
       "4   168193           A  2019-10-16"
      ]
     },
     "execution_count": 5,
     "metadata": {},
     "output_type": "execute_result"
    }
   ],
   "source": [
    "clients.head()"
   ]
  },
  {
   "cell_type": "code",
   "execution_count": 6,
   "metadata": {},
   "outputs": [
    {
     "data": {
      "text/html": [
       "<div>\n",
       "<style scoped>\n",
       "    .dataframe tbody tr th:only-of-type {\n",
       "        vertical-align: middle;\n",
       "    }\n",
       "\n",
       "    .dataframe tbody tr th {\n",
       "        vertical-align: top;\n",
       "    }\n",
       "\n",
       "    .dataframe thead th {\n",
       "        text-align: right;\n",
       "    }\n",
       "</style>\n",
       "<table border=\"1\" class=\"dataframe\">\n",
       "  <thead>\n",
       "    <tr style=\"text-align: right;\">\n",
       "      <th></th>\n",
       "      <th>user_id</th>\n",
       "      <th>date</th>\n",
       "      <th>direction</th>\n",
       "      <th>internal</th>\n",
       "      <th>operator_id</th>\n",
       "      <th>is_missed_call</th>\n",
       "      <th>calls_count</th>\n",
       "      <th>call_duration</th>\n",
       "      <th>total_call_duration</th>\n",
       "    </tr>\n",
       "  </thead>\n",
       "  <tbody>\n",
       "    <tr>\n",
       "      <th>0</th>\n",
       "      <td>166377</td>\n",
       "      <td>2019-08-04 00:00:00+03:00</td>\n",
       "      <td>in</td>\n",
       "      <td>False</td>\n",
       "      <td>NaN</td>\n",
       "      <td>True</td>\n",
       "      <td>2</td>\n",
       "      <td>0</td>\n",
       "      <td>4</td>\n",
       "    </tr>\n",
       "    <tr>\n",
       "      <th>1</th>\n",
       "      <td>166377</td>\n",
       "      <td>2019-08-05 00:00:00+03:00</td>\n",
       "      <td>out</td>\n",
       "      <td>True</td>\n",
       "      <td>880022.0</td>\n",
       "      <td>True</td>\n",
       "      <td>3</td>\n",
       "      <td>0</td>\n",
       "      <td>5</td>\n",
       "    </tr>\n",
       "    <tr>\n",
       "      <th>2</th>\n",
       "      <td>166377</td>\n",
       "      <td>2019-08-05 00:00:00+03:00</td>\n",
       "      <td>out</td>\n",
       "      <td>True</td>\n",
       "      <td>880020.0</td>\n",
       "      <td>True</td>\n",
       "      <td>1</td>\n",
       "      <td>0</td>\n",
       "      <td>1</td>\n",
       "    </tr>\n",
       "    <tr>\n",
       "      <th>3</th>\n",
       "      <td>166377</td>\n",
       "      <td>2019-08-05 00:00:00+03:00</td>\n",
       "      <td>out</td>\n",
       "      <td>True</td>\n",
       "      <td>880020.0</td>\n",
       "      <td>False</td>\n",
       "      <td>1</td>\n",
       "      <td>10</td>\n",
       "      <td>18</td>\n",
       "    </tr>\n",
       "    <tr>\n",
       "      <th>4</th>\n",
       "      <td>166377</td>\n",
       "      <td>2019-08-05 00:00:00+03:00</td>\n",
       "      <td>out</td>\n",
       "      <td>False</td>\n",
       "      <td>880022.0</td>\n",
       "      <td>True</td>\n",
       "      <td>3</td>\n",
       "      <td>0</td>\n",
       "      <td>25</td>\n",
       "    </tr>\n",
       "  </tbody>\n",
       "</table>\n",
       "</div>"
      ],
      "text/plain": [
       "   user_id                       date direction internal  operator_id  \\\n",
       "0   166377  2019-08-04 00:00:00+03:00        in    False          NaN   \n",
       "1   166377  2019-08-05 00:00:00+03:00       out     True     880022.0   \n",
       "2   166377  2019-08-05 00:00:00+03:00       out     True     880020.0   \n",
       "3   166377  2019-08-05 00:00:00+03:00       out     True     880020.0   \n",
       "4   166377  2019-08-05 00:00:00+03:00       out    False     880022.0   \n",
       "\n",
       "   is_missed_call  calls_count  call_duration  total_call_duration  \n",
       "0            True            2              0                    4  \n",
       "1            True            3              0                    5  \n",
       "2            True            1              0                    1  \n",
       "3           False            1             10                   18  \n",
       "4            True            3              0                   25  "
      ]
     },
     "execution_count": 6,
     "metadata": {},
     "output_type": "execute_result"
    }
   ],
   "source": [
    "data.head()"
   ]
  },
  {
   "cell_type": "markdown",
   "metadata": {},
   "source": [
    "Названия столбцов изменять не требуется."
   ]
  },
  {
   "cell_type": "markdown",
   "metadata": {},
   "source": [
    "### Проверка пропусков."
   ]
  },
  {
   "cell_type": "code",
   "execution_count": 7,
   "metadata": {},
   "outputs": [
    {
     "data": {
      "text/plain": [
       "user_id        0\n",
       "tariff_plan    0\n",
       "date_start     0\n",
       "dtype: int64"
      ]
     },
     "execution_count": 7,
     "metadata": {},
     "output_type": "execute_result"
    }
   ],
   "source": [
    "clients.isna().sum()"
   ]
  },
  {
   "cell_type": "code",
   "execution_count": 8,
   "metadata": {},
   "outputs": [
    {
     "data": {
      "text/plain": [
       "user_id                   0\n",
       "date                      0\n",
       "direction                 0\n",
       "internal                117\n",
       "operator_id            8172\n",
       "is_missed_call            0\n",
       "calls_count               0\n",
       "call_duration             0\n",
       "total_call_duration       0\n",
       "dtype: int64"
      ]
     },
     "execution_count": 8,
     "metadata": {},
     "output_type": "execute_result"
    }
   ],
   "source": [
    "data.isna().sum()"
   ]
  },
  {
   "cell_type": "markdown",
   "metadata": {},
   "source": [
    "Найдены пропуски в столбце 'internal' 117 шт. и в столбце 'operator_id' 8172 шт."
   ]
  },
  {
   "cell_type": "markdown",
   "metadata": {},
   "source": [
    "Посмотрим на пропуски в столбце 'internal'."
   ]
  },
  {
   "cell_type": "code",
   "execution_count": 9,
   "metadata": {},
   "outputs": [
    {
     "data": {
      "text/html": [
       "<div>\n",
       "<style scoped>\n",
       "    .dataframe tbody tr th:only-of-type {\n",
       "        vertical-align: middle;\n",
       "    }\n",
       "\n",
       "    .dataframe tbody tr th {\n",
       "        vertical-align: top;\n",
       "    }\n",
       "\n",
       "    .dataframe thead th {\n",
       "        text-align: right;\n",
       "    }\n",
       "</style>\n",
       "<table border=\"1\" class=\"dataframe\">\n",
       "  <thead>\n",
       "    <tr style=\"text-align: right;\">\n",
       "      <th></th>\n",
       "      <th>user_id</th>\n",
       "      <th>date</th>\n",
       "      <th>direction</th>\n",
       "      <th>internal</th>\n",
       "      <th>operator_id</th>\n",
       "      <th>is_missed_call</th>\n",
       "      <th>calls_count</th>\n",
       "      <th>call_duration</th>\n",
       "      <th>total_call_duration</th>\n",
       "    </tr>\n",
       "  </thead>\n",
       "  <tbody>\n",
       "    <tr>\n",
       "      <th>1007</th>\n",
       "      <td>166405</td>\n",
       "      <td>2019-09-18 00:00:00+03:00</td>\n",
       "      <td>in</td>\n",
       "      <td>NaN</td>\n",
       "      <td>NaN</td>\n",
       "      <td>True</td>\n",
       "      <td>1</td>\n",
       "      <td>0</td>\n",
       "      <td>59</td>\n",
       "    </tr>\n",
       "    <tr>\n",
       "      <th>1090</th>\n",
       "      <td>166405</td>\n",
       "      <td>2019-10-01 00:00:00+03:00</td>\n",
       "      <td>in</td>\n",
       "      <td>NaN</td>\n",
       "      <td>NaN</td>\n",
       "      <td>True</td>\n",
       "      <td>1</td>\n",
       "      <td>0</td>\n",
       "      <td>1</td>\n",
       "    </tr>\n",
       "    <tr>\n",
       "      <th>1864</th>\n",
       "      <td>166406</td>\n",
       "      <td>2019-08-20 00:00:00+03:00</td>\n",
       "      <td>in</td>\n",
       "      <td>NaN</td>\n",
       "      <td>NaN</td>\n",
       "      <td>True</td>\n",
       "      <td>1</td>\n",
       "      <td>0</td>\n",
       "      <td>36</td>\n",
       "    </tr>\n",
       "    <tr>\n",
       "      <th>1924</th>\n",
       "      <td>166406</td>\n",
       "      <td>2019-09-02 00:00:00+03:00</td>\n",
       "      <td>in</td>\n",
       "      <td>NaN</td>\n",
       "      <td>879898.0</td>\n",
       "      <td>False</td>\n",
       "      <td>1</td>\n",
       "      <td>2</td>\n",
       "      <td>9</td>\n",
       "    </tr>\n",
       "    <tr>\n",
       "      <th>6210</th>\n",
       "      <td>166541</td>\n",
       "      <td>2019-09-26 00:00:00+03:00</td>\n",
       "      <td>in</td>\n",
       "      <td>NaN</td>\n",
       "      <td>908960.0</td>\n",
       "      <td>False</td>\n",
       "      <td>1</td>\n",
       "      <td>393</td>\n",
       "      <td>423</td>\n",
       "    </tr>\n",
       "  </tbody>\n",
       "</table>\n",
       "</div>"
      ],
      "text/plain": [
       "      user_id                       date direction internal  operator_id  \\\n",
       "1007   166405  2019-09-18 00:00:00+03:00        in      NaN          NaN   \n",
       "1090   166405  2019-10-01 00:00:00+03:00        in      NaN          NaN   \n",
       "1864   166406  2019-08-20 00:00:00+03:00        in      NaN          NaN   \n",
       "1924   166406  2019-09-02 00:00:00+03:00        in      NaN     879898.0   \n",
       "6210   166541  2019-09-26 00:00:00+03:00        in      NaN     908960.0   \n",
       "\n",
       "      is_missed_call  calls_count  call_duration  total_call_duration  \n",
       "1007            True            1              0                   59  \n",
       "1090            True            1              0                    1  \n",
       "1864            True            1              0                   36  \n",
       "1924           False            1              2                    9  \n",
       "6210           False            1            393                  423  "
      ]
     },
     "execution_count": 9,
     "metadata": {},
     "output_type": "execute_result"
    }
   ],
   "source": [
    "data.loc[data['internal'].isna()].head()"
   ]
  },
  {
   "cell_type": "markdown",
   "metadata": {},
   "source": [
    "Проверим, есть ли исходящие звонки с пропусками в столбце 'internal'."
   ]
  },
  {
   "cell_type": "code",
   "execution_count": 10,
   "metadata": {},
   "outputs": [
    {
     "data": {
      "text/html": [
       "<div>\n",
       "<style scoped>\n",
       "    .dataframe tbody tr th:only-of-type {\n",
       "        vertical-align: middle;\n",
       "    }\n",
       "\n",
       "    .dataframe tbody tr th {\n",
       "        vertical-align: top;\n",
       "    }\n",
       "\n",
       "    .dataframe thead th {\n",
       "        text-align: right;\n",
       "    }\n",
       "</style>\n",
       "<table border=\"1\" class=\"dataframe\">\n",
       "  <thead>\n",
       "    <tr style=\"text-align: right;\">\n",
       "      <th></th>\n",
       "      <th>user_id</th>\n",
       "      <th>date</th>\n",
       "      <th>direction</th>\n",
       "      <th>internal</th>\n",
       "      <th>operator_id</th>\n",
       "      <th>is_missed_call</th>\n",
       "      <th>calls_count</th>\n",
       "      <th>call_duration</th>\n",
       "      <th>total_call_duration</th>\n",
       "    </tr>\n",
       "  </thead>\n",
       "  <tbody>\n",
       "    <tr>\n",
       "      <th>21004</th>\n",
       "      <td>167016</td>\n",
       "      <td>2019-10-23 00:00:00+03:00</td>\n",
       "      <td>out</td>\n",
       "      <td>NaN</td>\n",
       "      <td>NaN</td>\n",
       "      <td>True</td>\n",
       "      <td>3</td>\n",
       "      <td>0</td>\n",
       "      <td>196</td>\n",
       "    </tr>\n",
       "    <tr>\n",
       "      <th>51367</th>\n",
       "      <td>168291</td>\n",
       "      <td>2019-11-28 00:00:00+03:00</td>\n",
       "      <td>out</td>\n",
       "      <td>NaN</td>\n",
       "      <td>NaN</td>\n",
       "      <td>True</td>\n",
       "      <td>3</td>\n",
       "      <td>0</td>\n",
       "      <td>93</td>\n",
       "    </tr>\n",
       "  </tbody>\n",
       "</table>\n",
       "</div>"
      ],
      "text/plain": [
       "       user_id                       date direction internal  operator_id  \\\n",
       "21004   167016  2019-10-23 00:00:00+03:00       out      NaN          NaN   \n",
       "51367   168291  2019-11-28 00:00:00+03:00       out      NaN          NaN   \n",
       "\n",
       "       is_missed_call  calls_count  call_duration  total_call_duration  \n",
       "21004            True            3              0                  196  \n",
       "51367            True            3              0                   93  "
      ]
     },
     "execution_count": 10,
     "metadata": {},
     "output_type": "execute_result"
    }
   ],
   "source": [
    "data.loc[data['internal'].isna()].query('direction == \"out\"')"
   ]
  },
  {
   "cell_type": "markdown",
   "metadata": {},
   "source": [
    "Возможно все входящие вызовы являются внутрисетевыми. Проверим."
   ]
  },
  {
   "cell_type": "code",
   "execution_count": 11,
   "metadata": {},
   "outputs": [
    {
     "data": {
      "text/html": [
       "<div>\n",
       "<style scoped>\n",
       "    .dataframe tbody tr th:only-of-type {\n",
       "        vertical-align: middle;\n",
       "    }\n",
       "\n",
       "    .dataframe tbody tr th {\n",
       "        vertical-align: top;\n",
       "    }\n",
       "\n",
       "    .dataframe thead th {\n",
       "        text-align: right;\n",
       "    }\n",
       "</style>\n",
       "<table border=\"1\" class=\"dataframe\">\n",
       "  <thead>\n",
       "    <tr style=\"text-align: right;\">\n",
       "      <th></th>\n",
       "      <th>user_id</th>\n",
       "      <th>date</th>\n",
       "      <th>direction</th>\n",
       "      <th>internal</th>\n",
       "      <th>operator_id</th>\n",
       "      <th>is_missed_call</th>\n",
       "      <th>calls_count</th>\n",
       "      <th>call_duration</th>\n",
       "      <th>total_call_duration</th>\n",
       "    </tr>\n",
       "  </thead>\n",
       "  <tbody>\n",
       "    <tr>\n",
       "      <th>0</th>\n",
       "      <td>166377</td>\n",
       "      <td>2019-08-04 00:00:00+03:00</td>\n",
       "      <td>in</td>\n",
       "      <td>False</td>\n",
       "      <td>NaN</td>\n",
       "      <td>True</td>\n",
       "      <td>2</td>\n",
       "      <td>0</td>\n",
       "      <td>4</td>\n",
       "    </tr>\n",
       "    <tr>\n",
       "      <th>7</th>\n",
       "      <td>166377</td>\n",
       "      <td>2019-08-05 00:00:00+03:00</td>\n",
       "      <td>in</td>\n",
       "      <td>False</td>\n",
       "      <td>NaN</td>\n",
       "      <td>True</td>\n",
       "      <td>6</td>\n",
       "      <td>0</td>\n",
       "      <td>35</td>\n",
       "    </tr>\n",
       "    <tr>\n",
       "      <th>9</th>\n",
       "      <td>166377</td>\n",
       "      <td>2019-08-06 00:00:00+03:00</td>\n",
       "      <td>in</td>\n",
       "      <td>False</td>\n",
       "      <td>NaN</td>\n",
       "      <td>True</td>\n",
       "      <td>4</td>\n",
       "      <td>0</td>\n",
       "      <td>62</td>\n",
       "    </tr>\n",
       "    <tr>\n",
       "      <th>17</th>\n",
       "      <td>166377</td>\n",
       "      <td>2019-08-07 00:00:00+03:00</td>\n",
       "      <td>in</td>\n",
       "      <td>False</td>\n",
       "      <td>NaN</td>\n",
       "      <td>True</td>\n",
       "      <td>2</td>\n",
       "      <td>0</td>\n",
       "      <td>24</td>\n",
       "    </tr>\n",
       "    <tr>\n",
       "      <th>26</th>\n",
       "      <td>166377</td>\n",
       "      <td>2019-08-12 00:00:00+03:00</td>\n",
       "      <td>in</td>\n",
       "      <td>False</td>\n",
       "      <td>880028.0</td>\n",
       "      <td>False</td>\n",
       "      <td>1</td>\n",
       "      <td>407</td>\n",
       "      <td>411</td>\n",
       "    </tr>\n",
       "    <tr>\n",
       "      <th>...</th>\n",
       "      <td>...</td>\n",
       "      <td>...</td>\n",
       "      <td>...</td>\n",
       "      <td>...</td>\n",
       "      <td>...</td>\n",
       "      <td>...</td>\n",
       "      <td>...</td>\n",
       "      <td>...</td>\n",
       "      <td>...</td>\n",
       "    </tr>\n",
       "    <tr>\n",
       "      <th>53889</th>\n",
       "      <td>168603</td>\n",
       "      <td>2019-11-28 00:00:00+03:00</td>\n",
       "      <td>in</td>\n",
       "      <td>False</td>\n",
       "      <td>NaN</td>\n",
       "      <td>True</td>\n",
       "      <td>1</td>\n",
       "      <td>0</td>\n",
       "      <td>30</td>\n",
       "    </tr>\n",
       "    <tr>\n",
       "      <th>53891</th>\n",
       "      <td>168606</td>\n",
       "      <td>2019-11-08 00:00:00+03:00</td>\n",
       "      <td>in</td>\n",
       "      <td>False</td>\n",
       "      <td>957922.0</td>\n",
       "      <td>True</td>\n",
       "      <td>1</td>\n",
       "      <td>0</td>\n",
       "      <td>7</td>\n",
       "    </tr>\n",
       "    <tr>\n",
       "      <th>53893</th>\n",
       "      <td>168606</td>\n",
       "      <td>2019-11-08 00:00:00+03:00</td>\n",
       "      <td>in</td>\n",
       "      <td>False</td>\n",
       "      <td>NaN</td>\n",
       "      <td>True</td>\n",
       "      <td>6</td>\n",
       "      <td>0</td>\n",
       "      <td>121</td>\n",
       "    </tr>\n",
       "    <tr>\n",
       "      <th>53894</th>\n",
       "      <td>168606</td>\n",
       "      <td>2019-11-08 00:00:00+03:00</td>\n",
       "      <td>in</td>\n",
       "      <td>False</td>\n",
       "      <td>957922.0</td>\n",
       "      <td>False</td>\n",
       "      <td>2</td>\n",
       "      <td>686</td>\n",
       "      <td>705</td>\n",
       "    </tr>\n",
       "    <tr>\n",
       "      <th>53901</th>\n",
       "      <td>168606</td>\n",
       "      <td>2019-11-19 00:00:00+03:00</td>\n",
       "      <td>in</td>\n",
       "      <td>False</td>\n",
       "      <td>NaN</td>\n",
       "      <td>True</td>\n",
       "      <td>2</td>\n",
       "      <td>0</td>\n",
       "      <td>64</td>\n",
       "    </tr>\n",
       "  </tbody>\n",
       "</table>\n",
       "<p>21138 rows × 9 columns</p>\n",
       "</div>"
      ],
      "text/plain": [
       "       user_id                       date direction internal  operator_id  \\\n",
       "0       166377  2019-08-04 00:00:00+03:00        in    False          NaN   \n",
       "7       166377  2019-08-05 00:00:00+03:00        in    False          NaN   \n",
       "9       166377  2019-08-06 00:00:00+03:00        in    False          NaN   \n",
       "17      166377  2019-08-07 00:00:00+03:00        in    False          NaN   \n",
       "26      166377  2019-08-12 00:00:00+03:00        in    False     880028.0   \n",
       "...        ...                        ...       ...      ...          ...   \n",
       "53889   168603  2019-11-28 00:00:00+03:00        in    False          NaN   \n",
       "53891   168606  2019-11-08 00:00:00+03:00        in    False     957922.0   \n",
       "53893   168606  2019-11-08 00:00:00+03:00        in    False          NaN   \n",
       "53894   168606  2019-11-08 00:00:00+03:00        in    False     957922.0   \n",
       "53901   168606  2019-11-19 00:00:00+03:00        in    False          NaN   \n",
       "\n",
       "       is_missed_call  calls_count  call_duration  total_call_duration  \n",
       "0                True            2              0                    4  \n",
       "7                True            6              0                   35  \n",
       "9                True            4              0                   62  \n",
       "17               True            2              0                   24  \n",
       "26              False            1            407                  411  \n",
       "...               ...          ...            ...                  ...  \n",
       "53889            True            1              0                   30  \n",
       "53891            True            1              0                    7  \n",
       "53893            True            6              0                  121  \n",
       "53894           False            2            686                  705  \n",
       "53901            True            2              0                   64  \n",
       "\n",
       "[21138 rows x 9 columns]"
      ]
     },
     "execution_count": 11,
     "metadata": {},
     "output_type": "execute_result"
    }
   ],
   "source": [
    "data.query('direction == \"in\" and internal == False')"
   ]
  },
  {
   "cell_type": "markdown",
   "metadata": {},
   "source": [
    "Т.к. в столбце \"internal\" определить корректные значения не представляется возможным, то заменяем пропуски на False, как более распространенное значение."
   ]
  },
  {
   "cell_type": "code",
   "execution_count": 12,
   "metadata": {},
   "outputs": [],
   "source": [
    "data['internal'] = data['internal'].fillna('False')"
   ]
  },
  {
   "cell_type": "markdown",
   "metadata": {},
   "source": [
    "Посмотрим на пропуски в столбце 'operator_id'."
   ]
  },
  {
   "cell_type": "code",
   "execution_count": 13,
   "metadata": {},
   "outputs": [
    {
     "data": {
      "text/html": [
       "<div>\n",
       "<style scoped>\n",
       "    .dataframe tbody tr th:only-of-type {\n",
       "        vertical-align: middle;\n",
       "    }\n",
       "\n",
       "    .dataframe tbody tr th {\n",
       "        vertical-align: top;\n",
       "    }\n",
       "\n",
       "    .dataframe thead th {\n",
       "        text-align: right;\n",
       "    }\n",
       "</style>\n",
       "<table border=\"1\" class=\"dataframe\">\n",
       "  <thead>\n",
       "    <tr style=\"text-align: right;\">\n",
       "      <th></th>\n",
       "      <th>user_id</th>\n",
       "      <th>date</th>\n",
       "      <th>direction</th>\n",
       "      <th>internal</th>\n",
       "      <th>operator_id</th>\n",
       "      <th>is_missed_call</th>\n",
       "      <th>calls_count</th>\n",
       "      <th>call_duration</th>\n",
       "      <th>total_call_duration</th>\n",
       "    </tr>\n",
       "  </thead>\n",
       "  <tbody>\n",
       "    <tr>\n",
       "      <th>0</th>\n",
       "      <td>166377</td>\n",
       "      <td>2019-08-04 00:00:00+03:00</td>\n",
       "      <td>in</td>\n",
       "      <td>False</td>\n",
       "      <td>NaN</td>\n",
       "      <td>True</td>\n",
       "      <td>2</td>\n",
       "      <td>0</td>\n",
       "      <td>4</td>\n",
       "    </tr>\n",
       "    <tr>\n",
       "      <th>7</th>\n",
       "      <td>166377</td>\n",
       "      <td>2019-08-05 00:00:00+03:00</td>\n",
       "      <td>in</td>\n",
       "      <td>False</td>\n",
       "      <td>NaN</td>\n",
       "      <td>True</td>\n",
       "      <td>6</td>\n",
       "      <td>0</td>\n",
       "      <td>35</td>\n",
       "    </tr>\n",
       "    <tr>\n",
       "      <th>9</th>\n",
       "      <td>166377</td>\n",
       "      <td>2019-08-06 00:00:00+03:00</td>\n",
       "      <td>in</td>\n",
       "      <td>False</td>\n",
       "      <td>NaN</td>\n",
       "      <td>True</td>\n",
       "      <td>4</td>\n",
       "      <td>0</td>\n",
       "      <td>62</td>\n",
       "    </tr>\n",
       "    <tr>\n",
       "      <th>17</th>\n",
       "      <td>166377</td>\n",
       "      <td>2019-08-07 00:00:00+03:00</td>\n",
       "      <td>in</td>\n",
       "      <td>False</td>\n",
       "      <td>NaN</td>\n",
       "      <td>True</td>\n",
       "      <td>2</td>\n",
       "      <td>0</td>\n",
       "      <td>24</td>\n",
       "    </tr>\n",
       "    <tr>\n",
       "      <th>27</th>\n",
       "      <td>166377</td>\n",
       "      <td>2019-08-12 00:00:00+03:00</td>\n",
       "      <td>in</td>\n",
       "      <td>False</td>\n",
       "      <td>NaN</td>\n",
       "      <td>True</td>\n",
       "      <td>2</td>\n",
       "      <td>0</td>\n",
       "      <td>34</td>\n",
       "    </tr>\n",
       "    <tr>\n",
       "      <th>28</th>\n",
       "      <td>166377</td>\n",
       "      <td>2019-08-12 00:00:00+03:00</td>\n",
       "      <td>in</td>\n",
       "      <td>False</td>\n",
       "      <td>NaN</td>\n",
       "      <td>True</td>\n",
       "      <td>2</td>\n",
       "      <td>0</td>\n",
       "      <td>34</td>\n",
       "    </tr>\n",
       "    <tr>\n",
       "      <th>30</th>\n",
       "      <td>166377</td>\n",
       "      <td>2019-08-13 00:00:00+03:00</td>\n",
       "      <td>in</td>\n",
       "      <td>False</td>\n",
       "      <td>NaN</td>\n",
       "      <td>True</td>\n",
       "      <td>7</td>\n",
       "      <td>0</td>\n",
       "      <td>128</td>\n",
       "    </tr>\n",
       "    <tr>\n",
       "      <th>38</th>\n",
       "      <td>166377</td>\n",
       "      <td>2019-08-14 00:00:00+03:00</td>\n",
       "      <td>in</td>\n",
       "      <td>False</td>\n",
       "      <td>NaN</td>\n",
       "      <td>True</td>\n",
       "      <td>1</td>\n",
       "      <td>0</td>\n",
       "      <td>3</td>\n",
       "    </tr>\n",
       "    <tr>\n",
       "      <th>45</th>\n",
       "      <td>166377</td>\n",
       "      <td>2019-08-14 00:00:00+03:00</td>\n",
       "      <td>in</td>\n",
       "      <td>False</td>\n",
       "      <td>NaN</td>\n",
       "      <td>True</td>\n",
       "      <td>1</td>\n",
       "      <td>0</td>\n",
       "      <td>3</td>\n",
       "    </tr>\n",
       "    <tr>\n",
       "      <th>77</th>\n",
       "      <td>166377</td>\n",
       "      <td>2019-08-22 00:00:00+03:00</td>\n",
       "      <td>in</td>\n",
       "      <td>False</td>\n",
       "      <td>NaN</td>\n",
       "      <td>True</td>\n",
       "      <td>1</td>\n",
       "      <td>0</td>\n",
       "      <td>1</td>\n",
       "    </tr>\n",
       "    <tr>\n",
       "      <th>81</th>\n",
       "      <td>166377</td>\n",
       "      <td>2019-08-23 00:00:00+03:00</td>\n",
       "      <td>in</td>\n",
       "      <td>False</td>\n",
       "      <td>NaN</td>\n",
       "      <td>True</td>\n",
       "      <td>2</td>\n",
       "      <td>0</td>\n",
       "      <td>47</td>\n",
       "    </tr>\n",
       "    <tr>\n",
       "      <th>88</th>\n",
       "      <td>166377</td>\n",
       "      <td>2019-08-24 00:00:00+03:00</td>\n",
       "      <td>in</td>\n",
       "      <td>False</td>\n",
       "      <td>NaN</td>\n",
       "      <td>True</td>\n",
       "      <td>2</td>\n",
       "      <td>0</td>\n",
       "      <td>35</td>\n",
       "    </tr>\n",
       "    <tr>\n",
       "      <th>109</th>\n",
       "      <td>166377</td>\n",
       "      <td>2019-08-29 00:00:00+03:00</td>\n",
       "      <td>in</td>\n",
       "      <td>False</td>\n",
       "      <td>NaN</td>\n",
       "      <td>True</td>\n",
       "      <td>2</td>\n",
       "      <td>0</td>\n",
       "      <td>60</td>\n",
       "    </tr>\n",
       "    <tr>\n",
       "      <th>127</th>\n",
       "      <td>166377</td>\n",
       "      <td>2019-09-03 00:00:00+03:00</td>\n",
       "      <td>in</td>\n",
       "      <td>False</td>\n",
       "      <td>NaN</td>\n",
       "      <td>True</td>\n",
       "      <td>1</td>\n",
       "      <td>0</td>\n",
       "      <td>20</td>\n",
       "    </tr>\n",
       "    <tr>\n",
       "      <th>134</th>\n",
       "      <td>166377</td>\n",
       "      <td>2019-09-04 00:00:00+03:00</td>\n",
       "      <td>in</td>\n",
       "      <td>False</td>\n",
       "      <td>NaN</td>\n",
       "      <td>True</td>\n",
       "      <td>1</td>\n",
       "      <td>0</td>\n",
       "      <td>19</td>\n",
       "    </tr>\n",
       "  </tbody>\n",
       "</table>\n",
       "</div>"
      ],
      "text/plain": [
       "     user_id                       date direction internal  operator_id  \\\n",
       "0     166377  2019-08-04 00:00:00+03:00        in    False          NaN   \n",
       "7     166377  2019-08-05 00:00:00+03:00        in    False          NaN   \n",
       "9     166377  2019-08-06 00:00:00+03:00        in    False          NaN   \n",
       "17    166377  2019-08-07 00:00:00+03:00        in    False          NaN   \n",
       "27    166377  2019-08-12 00:00:00+03:00        in    False          NaN   \n",
       "28    166377  2019-08-12 00:00:00+03:00        in    False          NaN   \n",
       "30    166377  2019-08-13 00:00:00+03:00        in    False          NaN   \n",
       "38    166377  2019-08-14 00:00:00+03:00        in    False          NaN   \n",
       "45    166377  2019-08-14 00:00:00+03:00        in    False          NaN   \n",
       "77    166377  2019-08-22 00:00:00+03:00        in    False          NaN   \n",
       "81    166377  2019-08-23 00:00:00+03:00        in    False          NaN   \n",
       "88    166377  2019-08-24 00:00:00+03:00        in    False          NaN   \n",
       "109   166377  2019-08-29 00:00:00+03:00        in    False          NaN   \n",
       "127   166377  2019-09-03 00:00:00+03:00        in    False          NaN   \n",
       "134   166377  2019-09-04 00:00:00+03:00        in    False          NaN   \n",
       "\n",
       "     is_missed_call  calls_count  call_duration  total_call_duration  \n",
       "0              True            2              0                    4  \n",
       "7              True            6              0                   35  \n",
       "9              True            4              0                   62  \n",
       "17             True            2              0                   24  \n",
       "27             True            2              0                   34  \n",
       "28             True            2              0                   34  \n",
       "30             True            7              0                  128  \n",
       "38             True            1              0                    3  \n",
       "45             True            1              0                    3  \n",
       "77             True            1              0                    1  \n",
       "81             True            2              0                   47  \n",
       "88             True            2              0                   35  \n",
       "109            True            2              0                   60  \n",
       "127            True            1              0                   20  \n",
       "134            True            1              0                   19  "
      ]
     },
     "execution_count": 13,
     "metadata": {},
     "output_type": "execute_result"
    }
   ],
   "source": [
    "data.loc[data['operator_id'].isna()].head(15)"
   ]
  },
  {
   "cell_type": "code",
   "execution_count": 14,
   "metadata": {},
   "outputs": [
    {
     "name": "stdout",
     "output_type": "stream",
     "text": [
      "Количество пропусков в столбце \"operator_id\" 8172 шт.\n"
     ]
    }
   ],
   "source": [
    "print('Количество пропусков в столбце \"operator_id\"',len(data.loc[data['operator_id'].isna()]), 'шт.')"
   ]
  },
  {
   "cell_type": "code",
   "execution_count": 15,
   "metadata": {},
   "outputs": [
    {
     "name": "stdout",
     "output_type": "stream",
     "text": [
      "Доля пропусков в столбце \"operator_id\" 15.2 %.\n"
     ]
    }
   ],
   "source": [
    "print('Доля пропусков в столбце \"operator_id\"', round(len(data.loc[data['operator_id'].isna()])/len(data)*100,1), '%.')"
   ]
  },
  {
   "cell_type": "markdown",
   "metadata": {},
   "source": [
    "Проверим данные каких клиентов имеют пропуски."
   ]
  },
  {
   "cell_type": "code",
   "execution_count": 16,
   "metadata": {},
   "outputs": [],
   "source": [
    "data_na = data.loc[data['operator_id'].isna()]"
   ]
  },
  {
   "cell_type": "code",
   "execution_count": 17,
   "metadata": {},
   "outputs": [
    {
     "data": {
      "text/plain": [
       "user_id\n",
       "166377     41\n",
       "166391     14\n",
       "166392     54\n",
       "166399     12\n",
       "166405    122\n",
       "         ... \n",
       "168583     12\n",
       "168598     14\n",
       "168601     17\n",
       "168603      1\n",
       "168606      2\n",
       "Name: user_id, Length: 305, dtype: int64"
      ]
     },
     "execution_count": 17,
     "metadata": {},
     "output_type": "execute_result"
    }
   ],
   "source": [
    "data_na.groupby('user_id')['user_id'].count()"
   ]
  },
  {
   "cell_type": "markdown",
   "metadata": {},
   "source": [
    "Т.к доля пропусков в столбце \"operator_id\" значительная и удалить их нельзя, заменяем пропуски в столбце 'operator_id' на '-1'."
   ]
  },
  {
   "cell_type": "code",
   "execution_count": 18,
   "metadata": {},
   "outputs": [],
   "source": [
    "data['operator_id'] = data['operator_id'].fillna(-1)"
   ]
  },
  {
   "cell_type": "markdown",
   "metadata": {},
   "source": [
    "Проверяем повторно на пропуски."
   ]
  },
  {
   "cell_type": "code",
   "execution_count": 19,
   "metadata": {},
   "outputs": [
    {
     "data": {
      "text/plain": [
       "user_id                0\n",
       "date                   0\n",
       "direction              0\n",
       "internal               0\n",
       "operator_id            0\n",
       "is_missed_call         0\n",
       "calls_count            0\n",
       "call_duration          0\n",
       "total_call_duration    0\n",
       "dtype: int64"
      ]
     },
     "execution_count": 19,
     "metadata": {},
     "output_type": "execute_result"
    }
   ],
   "source": [
    "data.isna().sum()"
   ]
  },
  {
   "cell_type": "markdown",
   "metadata": {},
   "source": [
    "### Проверка типов данных."
   ]
  },
  {
   "cell_type": "code",
   "execution_count": 20,
   "metadata": {},
   "outputs": [
    {
     "name": "stdout",
     "output_type": "stream",
     "text": [
      "<class 'pandas.core.frame.DataFrame'>\n",
      "RangeIndex: 732 entries, 0 to 731\n",
      "Data columns (total 3 columns):\n",
      " #   Column       Non-Null Count  Dtype \n",
      "---  ------       --------------  ----- \n",
      " 0   user_id      732 non-null    int64 \n",
      " 1   tariff_plan  732 non-null    object\n",
      " 2   date_start   732 non-null    object\n",
      "dtypes: int64(1), object(2)\n",
      "memory usage: 17.3+ KB\n"
     ]
    }
   ],
   "source": [
    "clients.info()"
   ]
  },
  {
   "cell_type": "markdown",
   "metadata": {},
   "source": [
    "Меняем тип данных столбца date_start на временной."
   ]
  },
  {
   "cell_type": "code",
   "execution_count": 21,
   "metadata": {},
   "outputs": [],
   "source": [
    "clients['date_start'] = pd.to_datetime(clients['date_start'])"
   ]
  },
  {
   "cell_type": "markdown",
   "metadata": {},
   "source": [
    "Проверяем."
   ]
  },
  {
   "cell_type": "code",
   "execution_count": 22,
   "metadata": {},
   "outputs": [
    {
     "name": "stdout",
     "output_type": "stream",
     "text": [
      "<class 'pandas.core.frame.DataFrame'>\n",
      "RangeIndex: 732 entries, 0 to 731\n",
      "Data columns (total 3 columns):\n",
      " #   Column       Non-Null Count  Dtype         \n",
      "---  ------       --------------  -----         \n",
      " 0   user_id      732 non-null    int64         \n",
      " 1   tariff_plan  732 non-null    object        \n",
      " 2   date_start   732 non-null    datetime64[ns]\n",
      "dtypes: datetime64[ns](1), int64(1), object(1)\n",
      "memory usage: 17.3+ KB\n"
     ]
    }
   ],
   "source": [
    "clients.info()"
   ]
  },
  {
   "cell_type": "code",
   "execution_count": 23,
   "metadata": {},
   "outputs": [
    {
     "name": "stdout",
     "output_type": "stream",
     "text": [
      "<class 'pandas.core.frame.DataFrame'>\n",
      "RangeIndex: 53902 entries, 0 to 53901\n",
      "Data columns (total 9 columns):\n",
      " #   Column               Non-Null Count  Dtype  \n",
      "---  ------               --------------  -----  \n",
      " 0   user_id              53902 non-null  int64  \n",
      " 1   date                 53902 non-null  object \n",
      " 2   direction            53902 non-null  object \n",
      " 3   internal             53902 non-null  object \n",
      " 4   operator_id          53902 non-null  float64\n",
      " 5   is_missed_call       53902 non-null  bool   \n",
      " 6   calls_count          53902 non-null  int64  \n",
      " 7   call_duration        53902 non-null  int64  \n",
      " 8   total_call_duration  53902 non-null  int64  \n",
      "dtypes: bool(1), float64(1), int64(4), object(3)\n",
      "memory usage: 3.3+ MB\n"
     ]
    }
   ],
   "source": [
    "data.info()"
   ]
  },
  {
   "cell_type": "markdown",
   "metadata": {},
   "source": [
    "Меняем тип данных столбца 'date' на временной."
   ]
  },
  {
   "cell_type": "code",
   "execution_count": 24,
   "metadata": {},
   "outputs": [],
   "source": [
    "data['date'] = pd.to_datetime(data['date'])"
   ]
  },
  {
   "cell_type": "markdown",
   "metadata": {},
   "source": [
    "Меняем тип данных столбца 'internal' на логический."
   ]
  },
  {
   "cell_type": "code",
   "execution_count": 25,
   "metadata": {},
   "outputs": [],
   "source": [
    "data['internal'] = data['internal'].astype('bool')"
   ]
  },
  {
   "cell_type": "markdown",
   "metadata": {},
   "source": [
    "Меняем тип данных столбца 'operator_id' на целочисленный."
   ]
  },
  {
   "cell_type": "code",
   "execution_count": 26,
   "metadata": {},
   "outputs": [],
   "source": [
    "data['operator_id'] = data['operator_id'].astype('int')"
   ]
  },
  {
   "cell_type": "markdown",
   "metadata": {},
   "source": [
    "Проверяем."
   ]
  },
  {
   "cell_type": "code",
   "execution_count": 27,
   "metadata": {},
   "outputs": [
    {
     "name": "stdout",
     "output_type": "stream",
     "text": [
      "<class 'pandas.core.frame.DataFrame'>\n",
      "RangeIndex: 53902 entries, 0 to 53901\n",
      "Data columns (total 9 columns):\n",
      " #   Column               Non-Null Count  Dtype                                \n",
      "---  ------               --------------  -----                                \n",
      " 0   user_id              53902 non-null  int64                                \n",
      " 1   date                 53902 non-null  datetime64[ns, pytz.FixedOffset(180)]\n",
      " 2   direction            53902 non-null  object                               \n",
      " 3   internal             53902 non-null  bool                                 \n",
      " 4   operator_id          53902 non-null  int64                                \n",
      " 5   is_missed_call       53902 non-null  bool                                 \n",
      " 6   calls_count          53902 non-null  int64                                \n",
      " 7   call_duration        53902 non-null  int64                                \n",
      " 8   total_call_duration  53902 non-null  int64                                \n",
      "dtypes: bool(2), datetime64[ns, pytz.FixedOffset(180)](1), int64(5), object(1)\n",
      "memory usage: 3.0+ MB\n"
     ]
    }
   ],
   "source": [
    "data.info()"
   ]
  },
  {
   "cell_type": "markdown",
   "metadata": {},
   "source": [
    "### Проверка и удаление дубликатов."
   ]
  },
  {
   "cell_type": "code",
   "execution_count": 28,
   "metadata": {},
   "outputs": [
    {
     "data": {
      "text/plain": [
       "0"
      ]
     },
     "execution_count": 28,
     "metadata": {},
     "output_type": "execute_result"
    }
   ],
   "source": [
    "clients.duplicated().sum()"
   ]
  },
  {
   "cell_type": "code",
   "execution_count": 29,
   "metadata": {},
   "outputs": [
    {
     "data": {
      "text/plain": [
       "4900"
      ]
     },
     "execution_count": 29,
     "metadata": {},
     "output_type": "execute_result"
    }
   ],
   "source": [
    "data.duplicated().sum()"
   ]
  },
  {
   "cell_type": "code",
   "execution_count": 30,
   "metadata": {},
   "outputs": [
    {
     "data": {
      "text/html": [
       "<div>\n",
       "<style scoped>\n",
       "    .dataframe tbody tr th:only-of-type {\n",
       "        vertical-align: middle;\n",
       "    }\n",
       "\n",
       "    .dataframe tbody tr th {\n",
       "        vertical-align: top;\n",
       "    }\n",
       "\n",
       "    .dataframe thead th {\n",
       "        text-align: right;\n",
       "    }\n",
       "</style>\n",
       "<table border=\"1\" class=\"dataframe\">\n",
       "  <thead>\n",
       "    <tr style=\"text-align: right;\">\n",
       "      <th></th>\n",
       "      <th>user_id</th>\n",
       "      <th>date</th>\n",
       "      <th>direction</th>\n",
       "      <th>internal</th>\n",
       "      <th>operator_id</th>\n",
       "      <th>is_missed_call</th>\n",
       "      <th>calls_count</th>\n",
       "      <th>call_duration</th>\n",
       "      <th>total_call_duration</th>\n",
       "    </tr>\n",
       "  </thead>\n",
       "  <tbody>\n",
       "    <tr>\n",
       "      <th>8</th>\n",
       "      <td>166377</td>\n",
       "      <td>2019-08-05 00:00:00+03:00</td>\n",
       "      <td>out</td>\n",
       "      <td>False</td>\n",
       "      <td>880020</td>\n",
       "      <td>True</td>\n",
       "      <td>8</td>\n",
       "      <td>0</td>\n",
       "      <td>50</td>\n",
       "    </tr>\n",
       "    <tr>\n",
       "      <th>28</th>\n",
       "      <td>166377</td>\n",
       "      <td>2019-08-12 00:00:00+03:00</td>\n",
       "      <td>in</td>\n",
       "      <td>False</td>\n",
       "      <td>-1</td>\n",
       "      <td>True</td>\n",
       "      <td>2</td>\n",
       "      <td>0</td>\n",
       "      <td>34</td>\n",
       "    </tr>\n",
       "    <tr>\n",
       "      <th>44</th>\n",
       "      <td>166377</td>\n",
       "      <td>2019-08-14 00:00:00+03:00</td>\n",
       "      <td>out</td>\n",
       "      <td>False</td>\n",
       "      <td>880026</td>\n",
       "      <td>False</td>\n",
       "      <td>10</td>\n",
       "      <td>1567</td>\n",
       "      <td>1654</td>\n",
       "    </tr>\n",
       "    <tr>\n",
       "      <th>45</th>\n",
       "      <td>166377</td>\n",
       "      <td>2019-08-14 00:00:00+03:00</td>\n",
       "      <td>in</td>\n",
       "      <td>False</td>\n",
       "      <td>-1</td>\n",
       "      <td>True</td>\n",
       "      <td>1</td>\n",
       "      <td>0</td>\n",
       "      <td>3</td>\n",
       "    </tr>\n",
       "    <tr>\n",
       "      <th>51</th>\n",
       "      <td>166377</td>\n",
       "      <td>2019-08-15 00:00:00+03:00</td>\n",
       "      <td>out</td>\n",
       "      <td>False</td>\n",
       "      <td>880026</td>\n",
       "      <td>False</td>\n",
       "      <td>11</td>\n",
       "      <td>1413</td>\n",
       "      <td>1473</td>\n",
       "    </tr>\n",
       "    <tr>\n",
       "      <th>...</th>\n",
       "      <td>...</td>\n",
       "      <td>...</td>\n",
       "      <td>...</td>\n",
       "      <td>...</td>\n",
       "      <td>...</td>\n",
       "      <td>...</td>\n",
       "      <td>...</td>\n",
       "      <td>...</td>\n",
       "      <td>...</td>\n",
       "    </tr>\n",
       "    <tr>\n",
       "      <th>53869</th>\n",
       "      <td>168601</td>\n",
       "      <td>2019-11-25 00:00:00+03:00</td>\n",
       "      <td>in</td>\n",
       "      <td>False</td>\n",
       "      <td>952914</td>\n",
       "      <td>False</td>\n",
       "      <td>7</td>\n",
       "      <td>1229</td>\n",
       "      <td>1282</td>\n",
       "    </tr>\n",
       "    <tr>\n",
       "      <th>53874</th>\n",
       "      <td>168601</td>\n",
       "      <td>2019-11-26 00:00:00+03:00</td>\n",
       "      <td>in</td>\n",
       "      <td>False</td>\n",
       "      <td>952914</td>\n",
       "      <td>False</td>\n",
       "      <td>4</td>\n",
       "      <td>539</td>\n",
       "      <td>562</td>\n",
       "    </tr>\n",
       "    <tr>\n",
       "      <th>53875</th>\n",
       "      <td>168601</td>\n",
       "      <td>2019-11-26 00:00:00+03:00</td>\n",
       "      <td>in</td>\n",
       "      <td>False</td>\n",
       "      <td>-1</td>\n",
       "      <td>True</td>\n",
       "      <td>3</td>\n",
       "      <td>0</td>\n",
       "      <td>35</td>\n",
       "    </tr>\n",
       "    <tr>\n",
       "      <th>53885</th>\n",
       "      <td>168603</td>\n",
       "      <td>2019-11-20 00:00:00+03:00</td>\n",
       "      <td>out</td>\n",
       "      <td>False</td>\n",
       "      <td>959118</td>\n",
       "      <td>True</td>\n",
       "      <td>3</td>\n",
       "      <td>0</td>\n",
       "      <td>89</td>\n",
       "    </tr>\n",
       "    <tr>\n",
       "      <th>53900</th>\n",
       "      <td>168606</td>\n",
       "      <td>2019-11-15 00:00:00+03:00</td>\n",
       "      <td>out</td>\n",
       "      <td>True</td>\n",
       "      <td>957922</td>\n",
       "      <td>False</td>\n",
       "      <td>4</td>\n",
       "      <td>3130</td>\n",
       "      <td>3190</td>\n",
       "    </tr>\n",
       "  </tbody>\n",
       "</table>\n",
       "<p>4900 rows × 9 columns</p>\n",
       "</div>"
      ],
      "text/plain": [
       "       user_id                      date direction  internal  operator_id  \\\n",
       "8       166377 2019-08-05 00:00:00+03:00       out     False       880020   \n",
       "28      166377 2019-08-12 00:00:00+03:00        in     False           -1   \n",
       "44      166377 2019-08-14 00:00:00+03:00       out     False       880026   \n",
       "45      166377 2019-08-14 00:00:00+03:00        in     False           -1   \n",
       "51      166377 2019-08-15 00:00:00+03:00       out     False       880026   \n",
       "...        ...                       ...       ...       ...          ...   \n",
       "53869   168601 2019-11-25 00:00:00+03:00        in     False       952914   \n",
       "53874   168601 2019-11-26 00:00:00+03:00        in     False       952914   \n",
       "53875   168601 2019-11-26 00:00:00+03:00        in     False           -1   \n",
       "53885   168603 2019-11-20 00:00:00+03:00       out     False       959118   \n",
       "53900   168606 2019-11-15 00:00:00+03:00       out      True       957922   \n",
       "\n",
       "       is_missed_call  calls_count  call_duration  total_call_duration  \n",
       "8                True            8              0                   50  \n",
       "28               True            2              0                   34  \n",
       "44              False           10           1567                 1654  \n",
       "45               True            1              0                    3  \n",
       "51              False           11           1413                 1473  \n",
       "...               ...          ...            ...                  ...  \n",
       "53869           False            7           1229                 1282  \n",
       "53874           False            4            539                  562  \n",
       "53875            True            3              0                   35  \n",
       "53885            True            3              0                   89  \n",
       "53900           False            4           3130                 3190  \n",
       "\n",
       "[4900 rows x 9 columns]"
      ]
     },
     "execution_count": 30,
     "metadata": {},
     "output_type": "execute_result"
    }
   ],
   "source": [
    "data[data.duplicated()]"
   ]
  },
  {
   "cell_type": "code",
   "execution_count": 31,
   "metadata": {},
   "outputs": [
    {
     "data": {
      "text/html": [
       "<div>\n",
       "<style scoped>\n",
       "    .dataframe tbody tr th:only-of-type {\n",
       "        vertical-align: middle;\n",
       "    }\n",
       "\n",
       "    .dataframe tbody tr th {\n",
       "        vertical-align: top;\n",
       "    }\n",
       "\n",
       "    .dataframe thead th {\n",
       "        text-align: right;\n",
       "    }\n",
       "</style>\n",
       "<table border=\"1\" class=\"dataframe\">\n",
       "  <thead>\n",
       "    <tr style=\"text-align: right;\">\n",
       "      <th></th>\n",
       "      <th>user_id</th>\n",
       "      <th>date</th>\n",
       "      <th>direction</th>\n",
       "      <th>internal</th>\n",
       "      <th>operator_id</th>\n",
       "      <th>is_missed_call</th>\n",
       "      <th>calls_count</th>\n",
       "      <th>call_duration</th>\n",
       "      <th>total_call_duration</th>\n",
       "    </tr>\n",
       "  </thead>\n",
       "  <tbody>\n",
       "    <tr>\n",
       "      <th>53889</th>\n",
       "      <td>168603</td>\n",
       "      <td>2019-11-28 00:00:00+03:00</td>\n",
       "      <td>in</td>\n",
       "      <td>False</td>\n",
       "      <td>-1</td>\n",
       "      <td>True</td>\n",
       "      <td>1</td>\n",
       "      <td>0</td>\n",
       "      <td>30</td>\n",
       "    </tr>\n",
       "    <tr>\n",
       "      <th>53888</th>\n",
       "      <td>168603</td>\n",
       "      <td>2019-11-27 00:00:00+03:00</td>\n",
       "      <td>out</td>\n",
       "      <td>False</td>\n",
       "      <td>959118</td>\n",
       "      <td>False</td>\n",
       "      <td>1</td>\n",
       "      <td>76</td>\n",
       "      <td>99</td>\n",
       "    </tr>\n",
       "    <tr>\n",
       "      <th>53886</th>\n",
       "      <td>168603</td>\n",
       "      <td>2019-11-21 00:00:00+03:00</td>\n",
       "      <td>out</td>\n",
       "      <td>False</td>\n",
       "      <td>959118</td>\n",
       "      <td>True</td>\n",
       "      <td>1</td>\n",
       "      <td>0</td>\n",
       "      <td>10</td>\n",
       "    </tr>\n",
       "    <tr>\n",
       "      <th>53887</th>\n",
       "      <td>168603</td>\n",
       "      <td>2019-11-21 00:00:00+03:00</td>\n",
       "      <td>out</td>\n",
       "      <td>False</td>\n",
       "      <td>959118</td>\n",
       "      <td>False</td>\n",
       "      <td>5</td>\n",
       "      <td>338</td>\n",
       "      <td>423</td>\n",
       "    </tr>\n",
       "    <tr>\n",
       "      <th>53883</th>\n",
       "      <td>168603</td>\n",
       "      <td>2019-11-20 00:00:00+03:00</td>\n",
       "      <td>out</td>\n",
       "      <td>False</td>\n",
       "      <td>959118</td>\n",
       "      <td>True</td>\n",
       "      <td>3</td>\n",
       "      <td>0</td>\n",
       "      <td>89</td>\n",
       "    </tr>\n",
       "    <tr>\n",
       "      <th>53884</th>\n",
       "      <td>168603</td>\n",
       "      <td>2019-11-20 00:00:00+03:00</td>\n",
       "      <td>out</td>\n",
       "      <td>False</td>\n",
       "      <td>959118</td>\n",
       "      <td>False</td>\n",
       "      <td>3</td>\n",
       "      <td>419</td>\n",
       "      <td>478</td>\n",
       "    </tr>\n",
       "    <tr>\n",
       "      <th>53885</th>\n",
       "      <td>168603</td>\n",
       "      <td>2019-11-20 00:00:00+03:00</td>\n",
       "      <td>out</td>\n",
       "      <td>False</td>\n",
       "      <td>959118</td>\n",
       "      <td>True</td>\n",
       "      <td>3</td>\n",
       "      <td>0</td>\n",
       "      <td>89</td>\n",
       "    </tr>\n",
       "    <tr>\n",
       "      <th>53882</th>\n",
       "      <td>168603</td>\n",
       "      <td>2019-11-12 00:00:00+03:00</td>\n",
       "      <td>out</td>\n",
       "      <td>False</td>\n",
       "      <td>959118</td>\n",
       "      <td>False</td>\n",
       "      <td>1</td>\n",
       "      <td>72</td>\n",
       "      <td>88</td>\n",
       "    </tr>\n",
       "  </tbody>\n",
       "</table>\n",
       "</div>"
      ],
      "text/plain": [
       "       user_id                      date direction  internal  operator_id  \\\n",
       "53889   168603 2019-11-28 00:00:00+03:00        in     False           -1   \n",
       "53888   168603 2019-11-27 00:00:00+03:00       out     False       959118   \n",
       "53886   168603 2019-11-21 00:00:00+03:00       out     False       959118   \n",
       "53887   168603 2019-11-21 00:00:00+03:00       out     False       959118   \n",
       "53883   168603 2019-11-20 00:00:00+03:00       out     False       959118   \n",
       "53884   168603 2019-11-20 00:00:00+03:00       out     False       959118   \n",
       "53885   168603 2019-11-20 00:00:00+03:00       out     False       959118   \n",
       "53882   168603 2019-11-12 00:00:00+03:00       out     False       959118   \n",
       "\n",
       "       is_missed_call  calls_count  call_duration  total_call_duration  \n",
       "53889            True            1              0                   30  \n",
       "53888           False            1             76                   99  \n",
       "53886            True            1              0                   10  \n",
       "53887           False            5            338                  423  \n",
       "53883            True            3              0                   89  \n",
       "53884           False            3            419                  478  \n",
       "53885            True            3              0                   89  \n",
       "53882           False            1             72                   88  "
      ]
     },
     "execution_count": 31,
     "metadata": {},
     "output_type": "execute_result"
    }
   ],
   "source": [
    "data.query('user_id == 168603').sort_values(by=['user_id','date','operator_id'], ascending=False).head(15)"
   ]
  },
  {
   "cell_type": "markdown",
   "metadata": {},
   "source": [
    "Строки 53883 и 53885 - явные дубликаты. Принимаем решение об удалении дубликатов."
   ]
  },
  {
   "cell_type": "code",
   "execution_count": 32,
   "metadata": {},
   "outputs": [],
   "source": [
    "data = data.drop_duplicates().reset_index(drop=True)"
   ]
  },
  {
   "cell_type": "code",
   "execution_count": 33,
   "metadata": {},
   "outputs": [
    {
     "name": "stdout",
     "output_type": "stream",
     "text": [
      "<class 'pandas.core.frame.DataFrame'>\n",
      "RangeIndex: 49002 entries, 0 to 49001\n",
      "Data columns (total 9 columns):\n",
      " #   Column               Non-Null Count  Dtype                                \n",
      "---  ------               --------------  -----                                \n",
      " 0   user_id              49002 non-null  int64                                \n",
      " 1   date                 49002 non-null  datetime64[ns, pytz.FixedOffset(180)]\n",
      " 2   direction            49002 non-null  object                               \n",
      " 3   internal             49002 non-null  bool                                 \n",
      " 4   operator_id          49002 non-null  int64                                \n",
      " 5   is_missed_call       49002 non-null  bool                                 \n",
      " 6   calls_count          49002 non-null  int64                                \n",
      " 7   call_duration        49002 non-null  int64                                \n",
      " 8   total_call_duration  49002 non-null  int64                                \n",
      "dtypes: bool(2), datetime64[ns, pytz.FixedOffset(180)](1), int64(5), object(1)\n",
      "memory usage: 2.7+ MB\n"
     ]
    }
   ],
   "source": [
    "data.info()"
   ]
  },
  {
   "cell_type": "markdown",
   "metadata": {},
   "source": [
    "После удаления дубликатов в датафрейме 'data' осталось 49002 строки."
   ]
  },
  {
   "cell_type": "markdown",
   "metadata": {},
   "source": [
    "### Проверка временного периода данных."
   ]
  },
  {
   "cell_type": "code",
   "execution_count": 34,
   "metadata": {},
   "outputs": [
    {
     "name": "stdout",
     "output_type": "stream",
     "text": [
      "Минимальная и максимальная дата звонков: 2019-08-02 00:00:00+03:00 , 2019-11-28 00:00:00+03:00\n"
     ]
    }
   ],
   "source": [
    "print('Минимальная и максимальная дата звонков:',data['date'].min(),',',data['date'].max())"
   ]
  },
  {
   "cell_type": "code",
   "execution_count": 35,
   "metadata": {},
   "outputs": [
    {
     "name": "stdout",
     "output_type": "stream",
     "text": [
      "Минимальная и максимальная дата подключения тарифа: 2019-08-01 00:00:00 , 2019-10-31 00:00:00\n"
     ]
    }
   ],
   "source": [
    "print('Минимальная и максимальная дата подключения тарифа:',clients['date_start'].min(),',',clients['date_start'].max())"
   ]
  },
  {
   "cell_type": "markdown",
   "metadata": {},
   "source": [
    "**Выводы и наблюдения:**\n",
    "* Были изучены данные в датасетах telecom_clients.csv и telecom_dataset.csv. Количество строк в telecom_dataset.csv 53902, в telecom_clients.csv 732.\n",
    "* В датасете telecom_dataset.csv были обнаружены пропуски в столбцах 'operator_id' и 'internal'. \n",
    "* В столбце \"operator_id\" 8172 пропуска или 15.2% от количества строк. Определить корректные значения не представляется возможным, поэтому принято решение заменить пропуски на '-1'.\n",
    "* В столбце \"internal\" 117 пропусков. Определить корректные значения не представляется возможным, поэтому принято решение заменить пропуски на 'unknown'.\n",
    "* Тип данных столбца 'date_start' был замен на временной.\n",
    "* Тип данных столбца 'date' был замен на временной.\n",
    "* Тип данных столбца 'operator_id' был заменен на целочисленный.\n",
    "* Тип данных столбца 'internal' был замен на логический.\n",
    "* В датасете telecom_dataset.csv было обнаружено и удалено 4900 дубликатов. После удаления осталось 49002 строки.\n",
    "* В датасете telecom_dataset.csv находятся данные за период с 2019-08-02 по 2019-11-28.\n",
    "* В датасете clients_dataset.csv находятся данные за период с 2019-08-01 по 2019-10-31.\n"
   ]
  },
  {
   "cell_type": "markdown",
   "metadata": {},
   "source": [
    "## Исследовательский анализ данных"
   ]
  },
  {
   "cell_type": "markdown",
   "metadata": {},
   "source": [
    "Добавим столбец с номером месяца"
   ]
  },
  {
   "cell_type": "code",
   "execution_count": 36,
   "metadata": {},
   "outputs": [],
   "source": [
    "data['month'] = data['date'].dt.month"
   ]
  },
  {
   "cell_type": "code",
   "execution_count": 37,
   "metadata": {},
   "outputs": [],
   "source": [
    "clients['month'] = clients['date_start'].dt.month"
   ]
  },
  {
   "cell_type": "markdown",
   "metadata": {},
   "source": [
    "Добавим столбец с номером недели"
   ]
  },
  {
   "cell_type": "code",
   "execution_count": 38,
   "metadata": {},
   "outputs": [],
   "source": [
    "data['week'] = data['date'].dt.isocalendar().week"
   ]
  },
  {
   "cell_type": "code",
   "execution_count": 39,
   "metadata": {},
   "outputs": [],
   "source": [
    "clients['week'] = clients['date_start'].dt.isocalendar().week"
   ]
  },
  {
   "cell_type": "code",
   "execution_count": 40,
   "metadata": {},
   "outputs": [
    {
     "data": {
      "text/html": [
       "<div>\n",
       "<style scoped>\n",
       "    .dataframe tbody tr th:only-of-type {\n",
       "        vertical-align: middle;\n",
       "    }\n",
       "\n",
       "    .dataframe tbody tr th {\n",
       "        vertical-align: top;\n",
       "    }\n",
       "\n",
       "    .dataframe thead th {\n",
       "        text-align: right;\n",
       "    }\n",
       "</style>\n",
       "<table border=\"1\" class=\"dataframe\">\n",
       "  <thead>\n",
       "    <tr style=\"text-align: right;\">\n",
       "      <th></th>\n",
       "      <th>user_id</th>\n",
       "      <th>date</th>\n",
       "      <th>direction</th>\n",
       "      <th>internal</th>\n",
       "      <th>operator_id</th>\n",
       "      <th>is_missed_call</th>\n",
       "      <th>calls_count</th>\n",
       "      <th>call_duration</th>\n",
       "      <th>total_call_duration</th>\n",
       "      <th>month</th>\n",
       "      <th>week</th>\n",
       "    </tr>\n",
       "  </thead>\n",
       "  <tbody>\n",
       "    <tr>\n",
       "      <th>0</th>\n",
       "      <td>166377</td>\n",
       "      <td>2019-08-04 00:00:00+03:00</td>\n",
       "      <td>in</td>\n",
       "      <td>False</td>\n",
       "      <td>-1</td>\n",
       "      <td>True</td>\n",
       "      <td>2</td>\n",
       "      <td>0</td>\n",
       "      <td>4</td>\n",
       "      <td>8</td>\n",
       "      <td>31</td>\n",
       "    </tr>\n",
       "    <tr>\n",
       "      <th>1</th>\n",
       "      <td>166377</td>\n",
       "      <td>2019-08-05 00:00:00+03:00</td>\n",
       "      <td>out</td>\n",
       "      <td>True</td>\n",
       "      <td>880022</td>\n",
       "      <td>True</td>\n",
       "      <td>3</td>\n",
       "      <td>0</td>\n",
       "      <td>5</td>\n",
       "      <td>8</td>\n",
       "      <td>32</td>\n",
       "    </tr>\n",
       "    <tr>\n",
       "      <th>2</th>\n",
       "      <td>166377</td>\n",
       "      <td>2019-08-05 00:00:00+03:00</td>\n",
       "      <td>out</td>\n",
       "      <td>True</td>\n",
       "      <td>880020</td>\n",
       "      <td>True</td>\n",
       "      <td>1</td>\n",
       "      <td>0</td>\n",
       "      <td>1</td>\n",
       "      <td>8</td>\n",
       "      <td>32</td>\n",
       "    </tr>\n",
       "    <tr>\n",
       "      <th>3</th>\n",
       "      <td>166377</td>\n",
       "      <td>2019-08-05 00:00:00+03:00</td>\n",
       "      <td>out</td>\n",
       "      <td>True</td>\n",
       "      <td>880020</td>\n",
       "      <td>False</td>\n",
       "      <td>1</td>\n",
       "      <td>10</td>\n",
       "      <td>18</td>\n",
       "      <td>8</td>\n",
       "      <td>32</td>\n",
       "    </tr>\n",
       "    <tr>\n",
       "      <th>4</th>\n",
       "      <td>166377</td>\n",
       "      <td>2019-08-05 00:00:00+03:00</td>\n",
       "      <td>out</td>\n",
       "      <td>False</td>\n",
       "      <td>880022</td>\n",
       "      <td>True</td>\n",
       "      <td>3</td>\n",
       "      <td>0</td>\n",
       "      <td>25</td>\n",
       "      <td>8</td>\n",
       "      <td>32</td>\n",
       "    </tr>\n",
       "  </tbody>\n",
       "</table>\n",
       "</div>"
      ],
      "text/plain": [
       "   user_id                      date direction  internal  operator_id  \\\n",
       "0   166377 2019-08-04 00:00:00+03:00        in     False           -1   \n",
       "1   166377 2019-08-05 00:00:00+03:00       out      True       880022   \n",
       "2   166377 2019-08-05 00:00:00+03:00       out      True       880020   \n",
       "3   166377 2019-08-05 00:00:00+03:00       out      True       880020   \n",
       "4   166377 2019-08-05 00:00:00+03:00       out     False       880022   \n",
       "\n",
       "   is_missed_call  calls_count  call_duration  total_call_duration  month  \\\n",
       "0            True            2              0                    4      8   \n",
       "1            True            3              0                    5      8   \n",
       "2            True            1              0                    1      8   \n",
       "3           False            1             10                   18      8   \n",
       "4            True            3              0                   25      8   \n",
       "\n",
       "   week  \n",
       "0    31  \n",
       "1    32  \n",
       "2    32  \n",
       "3    32  \n",
       "4    32  "
      ]
     },
     "execution_count": 40,
     "metadata": {},
     "output_type": "execute_result"
    }
   ],
   "source": [
    "data.head()"
   ]
  },
  {
   "cell_type": "code",
   "execution_count": 41,
   "metadata": {},
   "outputs": [
    {
     "data": {
      "text/html": [
       "<div>\n",
       "<style scoped>\n",
       "    .dataframe tbody tr th:only-of-type {\n",
       "        vertical-align: middle;\n",
       "    }\n",
       "\n",
       "    .dataframe tbody tr th {\n",
       "        vertical-align: top;\n",
       "    }\n",
       "\n",
       "    .dataframe thead th {\n",
       "        text-align: right;\n",
       "    }\n",
       "</style>\n",
       "<table border=\"1\" class=\"dataframe\">\n",
       "  <thead>\n",
       "    <tr style=\"text-align: right;\">\n",
       "      <th></th>\n",
       "      <th>user_id</th>\n",
       "      <th>tariff_plan</th>\n",
       "      <th>date_start</th>\n",
       "      <th>month</th>\n",
       "      <th>week</th>\n",
       "    </tr>\n",
       "  </thead>\n",
       "  <tbody>\n",
       "    <tr>\n",
       "      <th>0</th>\n",
       "      <td>166713</td>\n",
       "      <td>A</td>\n",
       "      <td>2019-08-15</td>\n",
       "      <td>8</td>\n",
       "      <td>33</td>\n",
       "    </tr>\n",
       "    <tr>\n",
       "      <th>1</th>\n",
       "      <td>166901</td>\n",
       "      <td>A</td>\n",
       "      <td>2019-08-23</td>\n",
       "      <td>8</td>\n",
       "      <td>34</td>\n",
       "    </tr>\n",
       "    <tr>\n",
       "      <th>2</th>\n",
       "      <td>168527</td>\n",
       "      <td>A</td>\n",
       "      <td>2019-10-29</td>\n",
       "      <td>10</td>\n",
       "      <td>44</td>\n",
       "    </tr>\n",
       "    <tr>\n",
       "      <th>3</th>\n",
       "      <td>167097</td>\n",
       "      <td>A</td>\n",
       "      <td>2019-09-01</td>\n",
       "      <td>9</td>\n",
       "      <td>35</td>\n",
       "    </tr>\n",
       "    <tr>\n",
       "      <th>4</th>\n",
       "      <td>168193</td>\n",
       "      <td>A</td>\n",
       "      <td>2019-10-16</td>\n",
       "      <td>10</td>\n",
       "      <td>42</td>\n",
       "    </tr>\n",
       "  </tbody>\n",
       "</table>\n",
       "</div>"
      ],
      "text/plain": [
       "   user_id tariff_plan date_start  month  week\n",
       "0   166713           A 2019-08-15      8    33\n",
       "1   166901           A 2019-08-23      8    34\n",
       "2   168527           A 2019-10-29     10    44\n",
       "3   167097           A 2019-09-01      9    35\n",
       "4   168193           A 2019-10-16     10    42"
      ]
     },
     "execution_count": 41,
     "metadata": {},
     "output_type": "execute_result"
    }
   ],
   "source": [
    "clients.head()"
   ]
  },
  {
   "cell_type": "markdown",
   "metadata": {},
   "source": [
    "### Исследование распределения звонков по датам"
   ]
  },
  {
   "cell_type": "code",
   "execution_count": 42,
   "metadata": {},
   "outputs": [
    {
     "data": {
      "text/html": [
       "<div>\n",
       "<style scoped>\n",
       "    .dataframe tbody tr th:only-of-type {\n",
       "        vertical-align: middle;\n",
       "    }\n",
       "\n",
       "    .dataframe tbody tr th {\n",
       "        vertical-align: top;\n",
       "    }\n",
       "\n",
       "    .dataframe thead th {\n",
       "        text-align: right;\n",
       "    }\n",
       "</style>\n",
       "<table border=\"1\" class=\"dataframe\">\n",
       "  <thead>\n",
       "    <tr style=\"text-align: right;\">\n",
       "      <th></th>\n",
       "      <th>calls_count</th>\n",
       "    </tr>\n",
       "    <tr>\n",
       "      <th>month</th>\n",
       "      <th></th>\n",
       "    </tr>\n",
       "  </thead>\n",
       "  <tbody>\n",
       "    <tr>\n",
       "      <th>8</th>\n",
       "      <td>37391</td>\n",
       "    </tr>\n",
       "    <tr>\n",
       "      <th>9</th>\n",
       "      <td>146590</td>\n",
       "    </tr>\n",
       "    <tr>\n",
       "      <th>10</th>\n",
       "      <td>316299</td>\n",
       "    </tr>\n",
       "    <tr>\n",
       "      <th>11</th>\n",
       "      <td>306429</td>\n",
       "    </tr>\n",
       "  </tbody>\n",
       "</table>\n",
       "</div>"
      ],
      "text/plain": [
       "       calls_count\n",
       "month             \n",
       "8            37391\n",
       "9           146590\n",
       "10          316299\n",
       "11          306429"
      ]
     },
     "execution_count": 42,
     "metadata": {},
     "output_type": "execute_result"
    }
   ],
   "source": [
    "calls_by_month = data.pivot_table(index='month', values='calls_count', aggfunc='sum')\n",
    "calls_by_month"
   ]
  },
  {
   "cell_type": "code",
   "execution_count": 43,
   "metadata": {},
   "outputs": [
    {
     "data": {
      "text/html": [
       "<div>\n",
       "<style scoped>\n",
       "    .dataframe tbody tr th:only-of-type {\n",
       "        vertical-align: middle;\n",
       "    }\n",
       "\n",
       "    .dataframe tbody tr th {\n",
       "        vertical-align: top;\n",
       "    }\n",
       "\n",
       "    .dataframe thead th {\n",
       "        text-align: right;\n",
       "    }\n",
       "</style>\n",
       "<table border=\"1\" class=\"dataframe\">\n",
       "  <thead>\n",
       "    <tr style=\"text-align: right;\">\n",
       "      <th></th>\n",
       "      <th>calls_count</th>\n",
       "    </tr>\n",
       "    <tr>\n",
       "      <th>week</th>\n",
       "      <th></th>\n",
       "    </tr>\n",
       "  </thead>\n",
       "  <tbody>\n",
       "    <tr>\n",
       "      <th>31</th>\n",
       "      <td>56</td>\n",
       "    </tr>\n",
       "    <tr>\n",
       "      <th>32</th>\n",
       "      <td>1358</td>\n",
       "    </tr>\n",
       "    <tr>\n",
       "      <th>33</th>\n",
       "      <td>8013</td>\n",
       "    </tr>\n",
       "    <tr>\n",
       "      <th>34</th>\n",
       "      <td>12067</td>\n",
       "    </tr>\n",
       "    <tr>\n",
       "      <th>35</th>\n",
       "      <td>16484</td>\n",
       "    </tr>\n",
       "    <tr>\n",
       "      <th>36</th>\n",
       "      <td>23751</td>\n",
       "    </tr>\n",
       "    <tr>\n",
       "      <th>37</th>\n",
       "      <td>28061</td>\n",
       "    </tr>\n",
       "    <tr>\n",
       "      <th>38</th>\n",
       "      <td>30192</td>\n",
       "    </tr>\n",
       "    <tr>\n",
       "      <th>39</th>\n",
       "      <td>53543</td>\n",
       "    </tr>\n",
       "    <tr>\n",
       "      <th>40</th>\n",
       "      <td>72002</td>\n",
       "    </tr>\n",
       "    <tr>\n",
       "      <th>41</th>\n",
       "      <td>84099</td>\n",
       "    </tr>\n",
       "    <tr>\n",
       "      <th>42</th>\n",
       "      <td>65419</td>\n",
       "    </tr>\n",
       "    <tr>\n",
       "      <th>43</th>\n",
       "      <td>61511</td>\n",
       "    </tr>\n",
       "    <tr>\n",
       "      <th>44</th>\n",
       "      <td>61238</td>\n",
       "    </tr>\n",
       "    <tr>\n",
       "      <th>45</th>\n",
       "      <td>68180</td>\n",
       "    </tr>\n",
       "    <tr>\n",
       "      <th>46</th>\n",
       "      <td>75495</td>\n",
       "    </tr>\n",
       "    <tr>\n",
       "      <th>47</th>\n",
       "      <td>81871</td>\n",
       "    </tr>\n",
       "    <tr>\n",
       "      <th>48</th>\n",
       "      <td>63369</td>\n",
       "    </tr>\n",
       "  </tbody>\n",
       "</table>\n",
       "</div>"
      ],
      "text/plain": [
       "      calls_count\n",
       "week             \n",
       "31             56\n",
       "32           1358\n",
       "33           8013\n",
       "34          12067\n",
       "35          16484\n",
       "36          23751\n",
       "37          28061\n",
       "38          30192\n",
       "39          53543\n",
       "40          72002\n",
       "41          84099\n",
       "42          65419\n",
       "43          61511\n",
       "44          61238\n",
       "45          68180\n",
       "46          75495\n",
       "47          81871\n",
       "48          63369"
      ]
     },
     "execution_count": 43,
     "metadata": {},
     "output_type": "execute_result"
    }
   ],
   "source": [
    "calls_by_week = data.pivot_table(index='week', values='calls_count', aggfunc='sum')\n",
    "calls_by_week"
   ]
  },
  {
   "cell_type": "code",
   "execution_count": 44,
   "metadata": {},
   "outputs": [
    {
     "data": {
      "image/png": "[encoded data removed]",
      "text/plain": [
       "<Figure size 720x720 with 1 Axes>"
      ]
     },
     "metadata": {
      "needs_background": "light"
     },
     "output_type": "display_data"
    }
   ],
   "source": [
    "calls_by_month.plot(kind='bar',figsize=(10, 10))\n",
    "plt.title('Количество звонков по месяцам')\n",
    "plt.ylabel('Количество звонков')\n",
    "plt.xlabel('месяц')\n",
    "plt.show()"
   ]
  },
  {
   "cell_type": "code",
   "execution_count": 45,
   "metadata": {},
   "outputs": [
    {
     "data": {
      "image/png": "[encoded data removed]",
      "text/plain": [
       "<Figure size 720x720 with 1 Axes>"
      ]
     },
     "metadata": {
      "needs_background": "light"
     },
     "output_type": "display_data"
    }
   ],
   "source": [
    "calls_by_week.plot(kind='bar',figsize=(10, 10))\n",
    "plt.title('Количество звонков по неделям')\n",
    "plt.ylabel('Количество звонков')\n",
    "plt.xlabel('неделя')\n",
    "plt.show()"
   ]
  },
  {
   "cell_type": "markdown",
   "metadata": {},
   "source": [
    "Как видно на диаграмме резкий скачок количества звонков выше среднего количества произошел на 39 неделе (после 23.09.2019). Самое большое количество звонков было на 41-й и 47-й неделях. Между ними наблюдался спад с минимумами на 43-44 неделями. Исследование будем проводить по всем данным."
   ]
  },
  {
   "cell_type": "markdown",
   "metadata": {},
   "source": [
    "### Исследование распределения направления вызовов"
   ]
  },
  {
   "cell_type": "code",
   "execution_count": 46,
   "metadata": {},
   "outputs": [
    {
     "data": {
      "text/html": [
       "<div>\n",
       "<style scoped>\n",
       "    .dataframe tbody tr th:only-of-type {\n",
       "        vertical-align: middle;\n",
       "    }\n",
       "\n",
       "    .dataframe tbody tr th {\n",
       "        vertical-align: top;\n",
       "    }\n",
       "\n",
       "    .dataframe thead th {\n",
       "        text-align: right;\n",
       "    }\n",
       "</style>\n",
       "<table border=\"1\" class=\"dataframe\">\n",
       "  <thead>\n",
       "    <tr style=\"text-align: right;\">\n",
       "      <th></th>\n",
       "      <th></th>\n",
       "      <th></th>\n",
       "      <th>calls_count</th>\n",
       "    </tr>\n",
       "    <tr>\n",
       "      <th>month</th>\n",
       "      <th>week</th>\n",
       "      <th>direction</th>\n",
       "      <th></th>\n",
       "    </tr>\n",
       "  </thead>\n",
       "  <tbody>\n",
       "    <tr>\n",
       "      <th rowspan=\"10\" valign=\"top\">8</th>\n",
       "      <th rowspan=\"2\" valign=\"top\">31</th>\n",
       "      <th>in</th>\n",
       "      <td>7</td>\n",
       "    </tr>\n",
       "    <tr>\n",
       "      <th>out</th>\n",
       "      <td>49</td>\n",
       "    </tr>\n",
       "    <tr>\n",
       "      <th rowspan=\"2\" valign=\"top\">32</th>\n",
       "      <th>in</th>\n",
       "      <td>145</td>\n",
       "    </tr>\n",
       "    <tr>\n",
       "      <th>out</th>\n",
       "      <td>1213</td>\n",
       "    </tr>\n",
       "    <tr>\n",
       "      <th rowspan=\"2\" valign=\"top\">33</th>\n",
       "      <th>in</th>\n",
       "      <td>635</td>\n",
       "    </tr>\n",
       "    <tr>\n",
       "      <th>out</th>\n",
       "      <td>7378</td>\n",
       "    </tr>\n",
       "    <tr>\n",
       "      <th rowspan=\"2\" valign=\"top\">34</th>\n",
       "      <th>in</th>\n",
       "      <td>1394</td>\n",
       "    </tr>\n",
       "    <tr>\n",
       "      <th>out</th>\n",
       "      <td>10673</td>\n",
       "    </tr>\n",
       "    <tr>\n",
       "      <th rowspan=\"2\" valign=\"top\">35</th>\n",
       "      <th>in</th>\n",
       "      <td>2230</td>\n",
       "    </tr>\n",
       "    <tr>\n",
       "      <th>out</th>\n",
       "      <td>13667</td>\n",
       "    </tr>\n",
       "    <tr>\n",
       "      <th rowspan=\"12\" valign=\"top\">9</th>\n",
       "      <th rowspan=\"2\" valign=\"top\">35</th>\n",
       "      <th>in</th>\n",
       "      <td>126</td>\n",
       "    </tr>\n",
       "    <tr>\n",
       "      <th>out</th>\n",
       "      <td>461</td>\n",
       "    </tr>\n",
       "    <tr>\n",
       "      <th rowspan=\"2\" valign=\"top\">36</th>\n",
       "      <th>in</th>\n",
       "      <td>3315</td>\n",
       "    </tr>\n",
       "    <tr>\n",
       "      <th>out</th>\n",
       "      <td>20436</td>\n",
       "    </tr>\n",
       "    <tr>\n",
       "      <th rowspan=\"2\" valign=\"top\">37</th>\n",
       "      <th>in</th>\n",
       "      <td>3813</td>\n",
       "    </tr>\n",
       "    <tr>\n",
       "      <th>out</th>\n",
       "      <td>24248</td>\n",
       "    </tr>\n",
       "    <tr>\n",
       "      <th rowspan=\"2\" valign=\"top\">38</th>\n",
       "      <th>in</th>\n",
       "      <td>4856</td>\n",
       "    </tr>\n",
       "    <tr>\n",
       "      <th>out</th>\n",
       "      <td>25336</td>\n",
       "    </tr>\n",
       "    <tr>\n",
       "      <th rowspan=\"2\" valign=\"top\">39</th>\n",
       "      <th>in</th>\n",
       "      <td>9086</td>\n",
       "    </tr>\n",
       "    <tr>\n",
       "      <th>out</th>\n",
       "      <td>44457</td>\n",
       "    </tr>\n",
       "    <tr>\n",
       "      <th rowspan=\"2\" valign=\"top\">40</th>\n",
       "      <th>in</th>\n",
       "      <td>2455</td>\n",
       "    </tr>\n",
       "    <tr>\n",
       "      <th>out</th>\n",
       "      <td>8001</td>\n",
       "    </tr>\n",
       "    <tr>\n",
       "      <th rowspan=\"10\" valign=\"top\">10</th>\n",
       "      <th rowspan=\"2\" valign=\"top\">40</th>\n",
       "      <th>in</th>\n",
       "      <td>14551</td>\n",
       "    </tr>\n",
       "    <tr>\n",
       "      <th>out</th>\n",
       "      <td>46995</td>\n",
       "    </tr>\n",
       "    <tr>\n",
       "      <th rowspan=\"2\" valign=\"top\">41</th>\n",
       "      <th>in</th>\n",
       "      <td>20581</td>\n",
       "    </tr>\n",
       "    <tr>\n",
       "      <th>out</th>\n",
       "      <td>63518</td>\n",
       "    </tr>\n",
       "    <tr>\n",
       "      <th rowspan=\"2\" valign=\"top\">42</th>\n",
       "      <th>in</th>\n",
       "      <td>17078</td>\n",
       "    </tr>\n",
       "    <tr>\n",
       "      <th>out</th>\n",
       "      <td>48341</td>\n",
       "    </tr>\n",
       "    <tr>\n",
       "      <th rowspan=\"2\" valign=\"top\">43</th>\n",
       "      <th>in</th>\n",
       "      <td>13835</td>\n",
       "    </tr>\n",
       "    <tr>\n",
       "      <th>out</th>\n",
       "      <td>47676</td>\n",
       "    </tr>\n",
       "    <tr>\n",
       "      <th rowspan=\"2\" valign=\"top\">44</th>\n",
       "      <th>in</th>\n",
       "      <td>12340</td>\n",
       "    </tr>\n",
       "    <tr>\n",
       "      <th>out</th>\n",
       "      <td>31384</td>\n",
       "    </tr>\n",
       "    <tr>\n",
       "      <th rowspan=\"10\" valign=\"top\">11</th>\n",
       "      <th rowspan=\"2\" valign=\"top\">44</th>\n",
       "      <th>in</th>\n",
       "      <td>5034</td>\n",
       "    </tr>\n",
       "    <tr>\n",
       "      <th>out</th>\n",
       "      <td>12480</td>\n",
       "    </tr>\n",
       "    <tr>\n",
       "      <th rowspan=\"2\" valign=\"top\">45</th>\n",
       "      <th>in</th>\n",
       "      <td>19998</td>\n",
       "    </tr>\n",
       "    <tr>\n",
       "      <th>out</th>\n",
       "      <td>48182</td>\n",
       "    </tr>\n",
       "    <tr>\n",
       "      <th rowspan=\"2\" valign=\"top\">46</th>\n",
       "      <th>in</th>\n",
       "      <td>21389</td>\n",
       "    </tr>\n",
       "    <tr>\n",
       "      <th>out</th>\n",
       "      <td>54106</td>\n",
       "    </tr>\n",
       "    <tr>\n",
       "      <th rowspan=\"2\" valign=\"top\">47</th>\n",
       "      <th>in</th>\n",
       "      <td>23459</td>\n",
       "    </tr>\n",
       "    <tr>\n",
       "      <th>out</th>\n",
       "      <td>58412</td>\n",
       "    </tr>\n",
       "    <tr>\n",
       "      <th rowspan=\"2\" valign=\"top\">48</th>\n",
       "      <th>in</th>\n",
       "      <td>21518</td>\n",
       "    </tr>\n",
       "    <tr>\n",
       "      <th>out</th>\n",
       "      <td>41851</td>\n",
       "    </tr>\n",
       "  </tbody>\n",
       "</table>\n",
       "</div>"
      ],
      "text/plain": [
       "                      calls_count\n",
       "month week direction             \n",
       "8     31   in                   7\n",
       "           out                 49\n",
       "      32   in                 145\n",
       "           out               1213\n",
       "      33   in                 635\n",
       "           out               7378\n",
       "      34   in                1394\n",
       "           out              10673\n",
       "      35   in                2230\n",
       "           out              13667\n",
       "9     35   in                 126\n",
       "           out                461\n",
       "      36   in                3315\n",
       "           out              20436\n",
       "      37   in                3813\n",
       "           out              24248\n",
       "      38   in                4856\n",
       "           out              25336\n",
       "      39   in                9086\n",
       "           out              44457\n",
       "      40   in                2455\n",
       "           out               8001\n",
       "10    40   in               14551\n",
       "           out              46995\n",
       "      41   in               20581\n",
       "           out              63518\n",
       "      42   in               17078\n",
       "           out              48341\n",
       "      43   in               13835\n",
       "           out              47676\n",
       "      44   in               12340\n",
       "           out              31384\n",
       "11    44   in                5034\n",
       "           out              12480\n",
       "      45   in               19998\n",
       "           out              48182\n",
       "      46   in               21389\n",
       "           out              54106\n",
       "      47   in               23459\n",
       "           out              58412\n",
       "      48   in               21518\n",
       "           out              41851"
      ]
     },
     "execution_count": 46,
     "metadata": {},
     "output_type": "execute_result"
    }
   ],
   "source": [
    "calls_by_directions = data.pivot_table(index=('month','week','direction'), values='calls_count', aggfunc='sum')\n",
    "calls_by_directions"
   ]
  },
  {
   "cell_type": "code",
   "execution_count": 47,
   "metadata": {},
   "outputs": [
    {
     "data": {
      "image/png": "[encoded data removed]",
      "text/plain": [
       "<Figure size 720x720 with 1 Axes>"
      ]
     },
     "metadata": {
      "needs_background": "light"
     },
     "output_type": "display_data"
    }
   ],
   "source": [
    "plt.figure(figsize=(10,10))\n",
    "sns.lineplot(x='week',y='calls_count', hue='direction', data=calls_by_directions)\n",
    "plt.title('Количество звонков в неделю по направлениям')\n",
    "plt.xlabel('неделя')\n",
    "plt.ylabel('Количество звонков')\n",
    "plt.show()"
   ]
  },
  {
   "cell_type": "markdown",
   "metadata": {},
   "source": [
    "На диаграмме видно, что входящих звонков меньше в 3-4 раза."
   ]
  },
  {
   "cell_type": "markdown",
   "metadata": {},
   "source": [
    "### Исследование распределения внутренних и внешних вызовов"
   ]
  },
  {
   "cell_type": "code",
   "execution_count": 48,
   "metadata": {},
   "outputs": [
    {
     "data": {
      "text/html": [
       "<div>\n",
       "<style scoped>\n",
       "    .dataframe tbody tr th:only-of-type {\n",
       "        vertical-align: middle;\n",
       "    }\n",
       "\n",
       "    .dataframe tbody tr th {\n",
       "        vertical-align: top;\n",
       "    }\n",
       "\n",
       "    .dataframe thead th {\n",
       "        text-align: right;\n",
       "    }\n",
       "</style>\n",
       "<table border=\"1\" class=\"dataframe\">\n",
       "  <thead>\n",
       "    <tr style=\"text-align: right;\">\n",
       "      <th></th>\n",
       "      <th>week</th>\n",
       "      <th>internal</th>\n",
       "      <th>calls_count</th>\n",
       "    </tr>\n",
       "  </thead>\n",
       "  <tbody>\n",
       "    <tr>\n",
       "      <th>0</th>\n",
       "      <td>31</td>\n",
       "      <td>External</td>\n",
       "      <td>50</td>\n",
       "    </tr>\n",
       "    <tr>\n",
       "      <th>1</th>\n",
       "      <td>31</td>\n",
       "      <td>Internal</td>\n",
       "      <td>6</td>\n",
       "    </tr>\n",
       "    <tr>\n",
       "      <th>2</th>\n",
       "      <td>32</td>\n",
       "      <td>External</td>\n",
       "      <td>1320</td>\n",
       "    </tr>\n",
       "    <tr>\n",
       "      <th>3</th>\n",
       "      <td>32</td>\n",
       "      <td>Internal</td>\n",
       "      <td>38</td>\n",
       "    </tr>\n",
       "    <tr>\n",
       "      <th>4</th>\n",
       "      <td>33</td>\n",
       "      <td>External</td>\n",
       "      <td>7962</td>\n",
       "    </tr>\n",
       "    <tr>\n",
       "      <th>5</th>\n",
       "      <td>33</td>\n",
       "      <td>Internal</td>\n",
       "      <td>51</td>\n",
       "    </tr>\n",
       "    <tr>\n",
       "      <th>6</th>\n",
       "      <td>34</td>\n",
       "      <td>External</td>\n",
       "      <td>12035</td>\n",
       "    </tr>\n",
       "    <tr>\n",
       "      <th>7</th>\n",
       "      <td>34</td>\n",
       "      <td>Internal</td>\n",
       "      <td>32</td>\n",
       "    </tr>\n",
       "    <tr>\n",
       "      <th>8</th>\n",
       "      <td>35</td>\n",
       "      <td>External</td>\n",
       "      <td>16310</td>\n",
       "    </tr>\n",
       "    <tr>\n",
       "      <th>9</th>\n",
       "      <td>35</td>\n",
       "      <td>Internal</td>\n",
       "      <td>174</td>\n",
       "    </tr>\n",
       "    <tr>\n",
       "      <th>10</th>\n",
       "      <td>36</td>\n",
       "      <td>External</td>\n",
       "      <td>23563</td>\n",
       "    </tr>\n",
       "    <tr>\n",
       "      <th>11</th>\n",
       "      <td>36</td>\n",
       "      <td>Internal</td>\n",
       "      <td>188</td>\n",
       "    </tr>\n",
       "    <tr>\n",
       "      <th>12</th>\n",
       "      <td>37</td>\n",
       "      <td>External</td>\n",
       "      <td>27435</td>\n",
       "    </tr>\n",
       "    <tr>\n",
       "      <th>13</th>\n",
       "      <td>37</td>\n",
       "      <td>Internal</td>\n",
       "      <td>626</td>\n",
       "    </tr>\n",
       "    <tr>\n",
       "      <th>14</th>\n",
       "      <td>38</td>\n",
       "      <td>External</td>\n",
       "      <td>29579</td>\n",
       "    </tr>\n",
       "    <tr>\n",
       "      <th>15</th>\n",
       "      <td>38</td>\n",
       "      <td>Internal</td>\n",
       "      <td>613</td>\n",
       "    </tr>\n",
       "    <tr>\n",
       "      <th>16</th>\n",
       "      <td>39</td>\n",
       "      <td>External</td>\n",
       "      <td>52695</td>\n",
       "    </tr>\n",
       "    <tr>\n",
       "      <th>17</th>\n",
       "      <td>39</td>\n",
       "      <td>Internal</td>\n",
       "      <td>848</td>\n",
       "    </tr>\n",
       "    <tr>\n",
       "      <th>18</th>\n",
       "      <td>40</td>\n",
       "      <td>External</td>\n",
       "      <td>71110</td>\n",
       "    </tr>\n",
       "    <tr>\n",
       "      <th>19</th>\n",
       "      <td>40</td>\n",
       "      <td>Internal</td>\n",
       "      <td>892</td>\n",
       "    </tr>\n",
       "    <tr>\n",
       "      <th>20</th>\n",
       "      <td>41</td>\n",
       "      <td>External</td>\n",
       "      <td>83167</td>\n",
       "    </tr>\n",
       "    <tr>\n",
       "      <th>21</th>\n",
       "      <td>41</td>\n",
       "      <td>Internal</td>\n",
       "      <td>932</td>\n",
       "    </tr>\n",
       "    <tr>\n",
       "      <th>22</th>\n",
       "      <td>42</td>\n",
       "      <td>External</td>\n",
       "      <td>64297</td>\n",
       "    </tr>\n",
       "    <tr>\n",
       "      <th>23</th>\n",
       "      <td>42</td>\n",
       "      <td>Internal</td>\n",
       "      <td>1122</td>\n",
       "    </tr>\n",
       "    <tr>\n",
       "      <th>24</th>\n",
       "      <td>43</td>\n",
       "      <td>External</td>\n",
       "      <td>60379</td>\n",
       "    </tr>\n",
       "    <tr>\n",
       "      <th>25</th>\n",
       "      <td>43</td>\n",
       "      <td>Internal</td>\n",
       "      <td>1132</td>\n",
       "    </tr>\n",
       "    <tr>\n",
       "      <th>26</th>\n",
       "      <td>44</td>\n",
       "      <td>External</td>\n",
       "      <td>60116</td>\n",
       "    </tr>\n",
       "    <tr>\n",
       "      <th>27</th>\n",
       "      <td>44</td>\n",
       "      <td>Internal</td>\n",
       "      <td>1122</td>\n",
       "    </tr>\n",
       "    <tr>\n",
       "      <th>28</th>\n",
       "      <td>45</td>\n",
       "      <td>External</td>\n",
       "      <td>66779</td>\n",
       "    </tr>\n",
       "    <tr>\n",
       "      <th>29</th>\n",
       "      <td>45</td>\n",
       "      <td>Internal</td>\n",
       "      <td>1401</td>\n",
       "    </tr>\n",
       "    <tr>\n",
       "      <th>30</th>\n",
       "      <td>46</td>\n",
       "      <td>External</td>\n",
       "      <td>73713</td>\n",
       "    </tr>\n",
       "    <tr>\n",
       "      <th>31</th>\n",
       "      <td>46</td>\n",
       "      <td>Internal</td>\n",
       "      <td>1782</td>\n",
       "    </tr>\n",
       "    <tr>\n",
       "      <th>32</th>\n",
       "      <td>47</td>\n",
       "      <td>External</td>\n",
       "      <td>79626</td>\n",
       "    </tr>\n",
       "    <tr>\n",
       "      <th>33</th>\n",
       "      <td>47</td>\n",
       "      <td>Internal</td>\n",
       "      <td>2245</td>\n",
       "    </tr>\n",
       "    <tr>\n",
       "      <th>34</th>\n",
       "      <td>48</td>\n",
       "      <td>External</td>\n",
       "      <td>61693</td>\n",
       "    </tr>\n",
       "    <tr>\n",
       "      <th>35</th>\n",
       "      <td>48</td>\n",
       "      <td>Internal</td>\n",
       "      <td>1676</td>\n",
       "    </tr>\n",
       "  </tbody>\n",
       "</table>\n",
       "</div>"
      ],
      "text/plain": [
       "    week  internal  calls_count\n",
       "0     31  External           50\n",
       "1     31  Internal            6\n",
       "2     32  External         1320\n",
       "3     32  Internal           38\n",
       "4     33  External         7962\n",
       "5     33  Internal           51\n",
       "6     34  External        12035\n",
       "7     34  Internal           32\n",
       "8     35  External        16310\n",
       "9     35  Internal          174\n",
       "10    36  External        23563\n",
       "11    36  Internal          188\n",
       "12    37  External        27435\n",
       "13    37  Internal          626\n",
       "14    38  External        29579\n",
       "15    38  Internal          613\n",
       "16    39  External        52695\n",
       "17    39  Internal          848\n",
       "18    40  External        71110\n",
       "19    40  Internal          892\n",
       "20    41  External        83167\n",
       "21    41  Internal          932\n",
       "22    42  External        64297\n",
       "23    42  Internal         1122\n",
       "24    43  External        60379\n",
       "25    43  Internal         1132\n",
       "26    44  External        60116\n",
       "27    44  Internal         1122\n",
       "28    45  External        66779\n",
       "29    45  Internal         1401\n",
       "30    46  External        73713\n",
       "31    46  Internal         1782\n",
       "32    47  External        79626\n",
       "33    47  Internal         2245\n",
       "34    48  External        61693\n",
       "35    48  Internal         1676"
      ]
     },
     "execution_count": 48,
     "metadata": {},
     "output_type": "execute_result"
    }
   ],
   "source": [
    "calls_by_internal = data.pivot_table(index=('week','internal'), values='calls_count', aggfunc='sum').reset_index()\n",
    "calls_by_internal.loc[calls_by_internal['internal'] == False, 'internal'] = 'External'\n",
    "calls_by_internal.loc[calls_by_internal['internal'] == True, 'internal'] = 'Internal'\n",
    "calls_by_internal"
   ]
  },
  {
   "cell_type": "code",
   "execution_count": 49,
   "metadata": {},
   "outputs": [
    {
     "data": {
      "image/png": "[encoded data removed]",
      "text/plain": [
       "<Figure size 432x288 with 1 Axes>"
      ]
     },
     "metadata": {
      "needs_background": "light"
     },
     "output_type": "display_data"
    }
   ],
   "source": [
    "\n",
    "sns.lineplot(x='week',y='calls_count', hue='internal', data=calls_by_internal)\n",
    "plt.title('Количество внутренних и внешних звонков в неделю')\n",
    "plt.xlabel('неделя')\n",
    "plt.ylabel('Количество звонков')\n",
    "plt.show()"
   ]
  },
  {
   "cell_type": "code",
   "execution_count": 50,
   "metadata": {},
   "outputs": [
    {
     "data": {
      "image/png": "[encoded data removed]",
      "text/plain": [
       "<Figure size 720x720 with 1 Axes>"
      ]
     },
     "metadata": {},
     "output_type": "display_data"
    }
   ],
   "source": [
    "calls_by_internal.groupby(['internal']).sum().plot(kind='pie', y='calls_count', figsize=(10, 10), autopct='%1.1f%%', ylabel = '')\n",
    "plt.title('Доли внутренних и внешних звонков')\n",
    "plt.show()"
   ]
  },
  {
   "cell_type": "markdown",
   "metadata": {},
   "source": [
    "Как видно на диаграмме, внутренних звонков всего 1.8%."
   ]
  },
  {
   "cell_type": "markdown",
   "metadata": {},
   "source": [
    "### Исследование распределения вызовов по операторам"
   ]
  },
  {
   "cell_type": "code",
   "execution_count": 51,
   "metadata": {},
   "outputs": [
    {
     "data": {
      "text/html": [
       "<div>\n",
       "<style scoped>\n",
       "    .dataframe tbody tr th:only-of-type {\n",
       "        vertical-align: middle;\n",
       "    }\n",
       "\n",
       "    .dataframe tbody tr th {\n",
       "        vertical-align: top;\n",
       "    }\n",
       "\n",
       "    .dataframe thead th {\n",
       "        text-align: right;\n",
       "    }\n",
       "</style>\n",
       "<table border=\"1\" class=\"dataframe\">\n",
       "  <thead>\n",
       "    <tr style=\"text-align: right;\">\n",
       "      <th></th>\n",
       "      <th>operator_id</th>\n",
       "      <th>calls_count</th>\n",
       "    </tr>\n",
       "  </thead>\n",
       "  <tbody>\n",
       "    <tr>\n",
       "      <th>0</th>\n",
       "      <td>885890</td>\n",
       "      <td>60221</td>\n",
       "    </tr>\n",
       "    <tr>\n",
       "      <th>1</th>\n",
       "      <td>885876</td>\n",
       "      <td>59429</td>\n",
       "    </tr>\n",
       "    <tr>\n",
       "      <th>2</th>\n",
       "      <td>929428</td>\n",
       "      <td>23754</td>\n",
       "    </tr>\n",
       "    <tr>\n",
       "      <th>3</th>\n",
       "      <td>925922</td>\n",
       "      <td>20021</td>\n",
       "    </tr>\n",
       "    <tr>\n",
       "      <th>4</th>\n",
       "      <td>908640</td>\n",
       "      <td>14239</td>\n",
       "    </tr>\n",
       "    <tr>\n",
       "      <th>5</th>\n",
       "      <td>929426</td>\n",
       "      <td>11189</td>\n",
       "    </tr>\n",
       "    <tr>\n",
       "      <th>6</th>\n",
       "      <td>879898</td>\n",
       "      <td>7313</td>\n",
       "    </tr>\n",
       "    <tr>\n",
       "      <th>7</th>\n",
       "      <td>945286</td>\n",
       "      <td>6880</td>\n",
       "    </tr>\n",
       "    <tr>\n",
       "      <th>8</th>\n",
       "      <td>945302</td>\n",
       "      <td>6138</td>\n",
       "    </tr>\n",
       "    <tr>\n",
       "      <th>9</th>\n",
       "      <td>893804</td>\n",
       "      <td>5846</td>\n",
       "    </tr>\n",
       "  </tbody>\n",
       "</table>\n",
       "</div>"
      ],
      "text/plain": [
       "   operator_id  calls_count\n",
       "0       885890        60221\n",
       "1       885876        59429\n",
       "2       929428        23754\n",
       "3       925922        20021\n",
       "4       908640        14239\n",
       "5       929426        11189\n",
       "6       879898         7313\n",
       "7       945286         6880\n",
       "8       945302         6138\n",
       "9       893804         5846"
      ]
     },
     "execution_count": 51,
     "metadata": {},
     "output_type": "execute_result"
    }
   ],
   "source": [
    "calls_by_operators = data.query('operator_id >= 0').pivot_table(index=('operator_id'), values='calls_count', aggfunc='sum').sort_values(by='calls_count', ascending=False).reset_index()\n",
    "calls_by_operators.head(10)"
   ]
  },
  {
   "cell_type": "code",
   "execution_count": 52,
   "metadata": {},
   "outputs": [
    {
     "data": {
      "image/png": "[encoded data removed]",
      "text/plain": [
       "<Figure size 720x720 with 1 Axes>"
      ]
     },
     "metadata": {
      "needs_background": "light"
     },
     "output_type": "display_data"
    }
   ],
   "source": [
    "plt.figure(figsize=(10,10))\n",
    "calls_by_operators['calls_count'].hist(bins=300, range=(0,30000))\n",
    "plt.title('Распределение операторов по количеству звонков')\n",
    "plt.xlabel('Количество звонков')\n",
    "plt.ylabel('Количество операторов')\n",
    "plt.show()"
   ]
  },
  {
   "cell_type": "code",
   "execution_count": 53,
   "metadata": {},
   "outputs": [
    {
     "data": {
      "image/png": "[encoded data removed]",
      "text/plain": [
       "<Figure size 720x720 with 1 Axes>"
      ]
     },
     "metadata": {
      "needs_background": "light"
     },
     "output_type": "display_data"
    }
   ],
   "source": [
    "plt.figure(figsize=(10,10))\n",
    "calls_by_operators['calls_count'].hist(bins=300, range=(0,3000))\n",
    "plt.title('Распределение операторов по количеству звонков (от 0 до 300)')\n",
    "plt.xlabel('Количество звонков')\n",
    "plt.ylabel('Количество операторов')\n",
    "plt.show()"
   ]
  },
  {
   "cell_type": "code",
   "execution_count": 54,
   "metadata": {},
   "outputs": [
    {
     "data": {
      "image/png": "[encoded data removed]",
      "text/plain": [
       "<Figure size 720x720 with 1 Axes>"
      ]
     },
     "metadata": {
      "needs_background": "light"
     },
     "output_type": "display_data"
    }
   ],
   "source": [
    "plt.figure(figsize=(10,10))\n",
    "calls_by_operators['calls_count'].plot(kind='box')\n",
    "plt.ylim(0,3000)\n",
    "plt.title('Boxplot распределения операторов по количеству звонков')\n",
    "plt.show()"
   ]
  },
  {
   "cell_type": "code",
   "execution_count": 55,
   "metadata": {},
   "outputs": [
    {
     "data": {
      "text/plain": [
       "count     1092.000000\n",
       "mean       642.989927\n",
       "std       2889.666021\n",
       "min          1.000000\n",
       "25%         10.000000\n",
       "50%         72.000000\n",
       "75%        493.750000\n",
       "max      60221.000000\n",
       "Name: calls_count, dtype: float64"
      ]
     },
     "execution_count": 55,
     "metadata": {},
     "output_type": "execute_result"
    }
   ],
   "source": [
    "calls_by_operators['calls_count'].describe()"
   ]
  },
  {
   "cell_type": "markdown",
   "metadata": {},
   "source": [
    "Как видно на диаграммах, большинство операторов совершили за все время исследования до 500 звонков, максимум 60221."
   ]
  },
  {
   "cell_type": "markdown",
   "metadata": {},
   "source": [
    "Посмотрим, как распределено время разговоров в день по операторам "
   ]
  },
  {
   "cell_type": "code",
   "execution_count": 56,
   "metadata": {},
   "outputs": [
    {
     "data": {
      "text/html": [
       "<div>\n",
       "<style scoped>\n",
       "    .dataframe tbody tr th:only-of-type {\n",
       "        vertical-align: middle;\n",
       "    }\n",
       "\n",
       "    .dataframe tbody tr th {\n",
       "        vertical-align: top;\n",
       "    }\n",
       "\n",
       "    .dataframe thead th {\n",
       "        text-align: right;\n",
       "    }\n",
       "</style>\n",
       "<table border=\"1\" class=\"dataframe\">\n",
       "  <thead>\n",
       "    <tr style=\"text-align: right;\">\n",
       "      <th></th>\n",
       "      <th>user_id</th>\n",
       "      <th>operator_id</th>\n",
       "      <th>date</th>\n",
       "      <th>total_call_duration</th>\n",
       "    </tr>\n",
       "  </thead>\n",
       "  <tbody>\n",
       "    <tr>\n",
       "      <th>0</th>\n",
       "      <td>166582</td>\n",
       "      <td>885876</td>\n",
       "      <td>2019-09-25 00:00:00+03:00</td>\n",
       "      <td>166908</td>\n",
       "    </tr>\n",
       "    <tr>\n",
       "      <th>1</th>\n",
       "      <td>166582</td>\n",
       "      <td>885876</td>\n",
       "      <td>2019-09-26 00:00:00+03:00</td>\n",
       "      <td>152217</td>\n",
       "    </tr>\n",
       "    <tr>\n",
       "      <th>2</th>\n",
       "      <td>166582</td>\n",
       "      <td>885876</td>\n",
       "      <td>2019-09-09 00:00:00+03:00</td>\n",
       "      <td>143712</td>\n",
       "    </tr>\n",
       "    <tr>\n",
       "      <th>3</th>\n",
       "      <td>166582</td>\n",
       "      <td>885876</td>\n",
       "      <td>2019-09-18 00:00:00+03:00</td>\n",
       "      <td>140263</td>\n",
       "    </tr>\n",
       "    <tr>\n",
       "      <th>4</th>\n",
       "      <td>166582</td>\n",
       "      <td>885876</td>\n",
       "      <td>2019-09-12 00:00:00+03:00</td>\n",
       "      <td>140240</td>\n",
       "    </tr>\n",
       "  </tbody>\n",
       "</table>\n",
       "</div>"
      ],
      "text/plain": [
       "   user_id  operator_id                      date  total_call_duration\n",
       "0   166582       885876 2019-09-25 00:00:00+03:00               166908\n",
       "1   166582       885876 2019-09-26 00:00:00+03:00               152217\n",
       "2   166582       885876 2019-09-09 00:00:00+03:00               143712\n",
       "3   166582       885876 2019-09-18 00:00:00+03:00               140263\n",
       "4   166582       885876 2019-09-12 00:00:00+03:00               140240"
      ]
     },
     "execution_count": 56,
     "metadata": {},
     "output_type": "execute_result"
    }
   ],
   "source": [
    "duration_by_operator = data.query('operator_id >= 0 and is_missed_call == False').pivot_table(index=('user_id','operator_id','date'), values='total_call_duration', aggfunc='sum').sort_values(by='total_call_duration', ascending=False).reset_index()\n",
    "duration_by_operator.head()"
   ]
  },
  {
   "cell_type": "code",
   "execution_count": 57,
   "metadata": {},
   "outputs": [
    {
     "data": {
      "image/png": "[encoded data removed]",
      "text/plain": [
       "<Figure size 720x720 with 1 Axes>"
      ]
     },
     "metadata": {
      "needs_background": "light"
     },
     "output_type": "display_data"
    }
   ],
   "source": [
    "plt.figure(figsize=(10,10))\n",
    "duration_by_operator['total_call_duration'].plot(kind='box')\n",
    "plt.ylim(0,10000)\n",
    "plt.title('Boxplot распределения суммарной дневной длительности разговоров операторов')\n",
    "plt.show()"
   ]
  },
  {
   "cell_type": "code",
   "execution_count": 58,
   "metadata": {},
   "outputs": [
    {
     "data": {
      "text/plain": [
       "count     18882.000000\n",
       "mean       2573.776348\n",
       "std        6984.828170\n",
       "min           3.000000\n",
       "25%         222.000000\n",
       "50%         891.000000\n",
       "75%        2726.750000\n",
       "max      166908.000000\n",
       "Name: total_call_duration, dtype: float64"
      ]
     },
     "execution_count": 58,
     "metadata": {},
     "output_type": "execute_result"
    }
   ],
   "source": [
    "duration_by_operator['total_call_duration'].describe()"
   ]
  },
  {
   "cell_type": "markdown",
   "metadata": {},
   "source": [
    "Медианное значение длительности разговоров в день на оператора 891 минута или 14.9 часа, но имеются операторы с длительностью более 10000 минут. Это явные аномалии. Найдем операторов, которые разговаривают более 10000 минут."
   ]
  },
  {
   "cell_type": "code",
   "execution_count": 59,
   "metadata": {},
   "outputs": [
    {
     "data": {
      "text/html": [
       "<div>\n",
       "<style scoped>\n",
       "    .dataframe tbody tr th:only-of-type {\n",
       "        vertical-align: middle;\n",
       "    }\n",
       "\n",
       "    .dataframe tbody tr th {\n",
       "        vertical-align: top;\n",
       "    }\n",
       "\n",
       "    .dataframe thead th {\n",
       "        text-align: right;\n",
       "    }\n",
       "</style>\n",
       "<table border=\"1\" class=\"dataframe\">\n",
       "  <thead>\n",
       "    <tr style=\"text-align: right;\">\n",
       "      <th></th>\n",
       "      <th>user_id</th>\n",
       "      <th>operator_id</th>\n",
       "      <th>date</th>\n",
       "      <th>total_call_duration</th>\n",
       "    </tr>\n",
       "  </thead>\n",
       "  <tbody>\n",
       "    <tr>\n",
       "      <th>0</th>\n",
       "      <td>166582</td>\n",
       "      <td>885876</td>\n",
       "      <td>2019-09-25 00:00:00+03:00</td>\n",
       "      <td>166908</td>\n",
       "    </tr>\n",
       "    <tr>\n",
       "      <th>1</th>\n",
       "      <td>166582</td>\n",
       "      <td>885876</td>\n",
       "      <td>2019-09-26 00:00:00+03:00</td>\n",
       "      <td>152217</td>\n",
       "    </tr>\n",
       "    <tr>\n",
       "      <th>2</th>\n",
       "      <td>166582</td>\n",
       "      <td>885876</td>\n",
       "      <td>2019-09-09 00:00:00+03:00</td>\n",
       "      <td>143712</td>\n",
       "    </tr>\n",
       "    <tr>\n",
       "      <th>3</th>\n",
       "      <td>166582</td>\n",
       "      <td>885876</td>\n",
       "      <td>2019-09-18 00:00:00+03:00</td>\n",
       "      <td>140263</td>\n",
       "    </tr>\n",
       "    <tr>\n",
       "      <th>4</th>\n",
       "      <td>166582</td>\n",
       "      <td>885876</td>\n",
       "      <td>2019-09-12 00:00:00+03:00</td>\n",
       "      <td>140240</td>\n",
       "    </tr>\n",
       "    <tr>\n",
       "      <th>...</th>\n",
       "      <td>...</td>\n",
       "      <td>...</td>\n",
       "      <td>...</td>\n",
       "      <td>...</td>\n",
       "    </tr>\n",
       "    <tr>\n",
       "      <th>722</th>\n",
       "      <td>168361</td>\n",
       "      <td>945322</td>\n",
       "      <td>2019-11-04 00:00:00+03:00</td>\n",
       "      <td>10037</td>\n",
       "    </tr>\n",
       "    <tr>\n",
       "      <th>723</th>\n",
       "      <td>168252</td>\n",
       "      <td>940588</td>\n",
       "      <td>2019-11-28 00:00:00+03:00</td>\n",
       "      <td>10035</td>\n",
       "    </tr>\n",
       "    <tr>\n",
       "      <th>724</th>\n",
       "      <td>167650</td>\n",
       "      <td>921318</td>\n",
       "      <td>2019-10-08 00:00:00+03:00</td>\n",
       "      <td>10024</td>\n",
       "    </tr>\n",
       "    <tr>\n",
       "      <th>725</th>\n",
       "      <td>168361</td>\n",
       "      <td>945280</td>\n",
       "      <td>2019-11-04 00:00:00+03:00</td>\n",
       "      <td>10011</td>\n",
       "    </tr>\n",
       "    <tr>\n",
       "      <th>726</th>\n",
       "      <td>166983</td>\n",
       "      <td>901880</td>\n",
       "      <td>2019-11-25 00:00:00+03:00</td>\n",
       "      <td>10007</td>\n",
       "    </tr>\n",
       "  </tbody>\n",
       "</table>\n",
       "<p>727 rows × 4 columns</p>\n",
       "</div>"
      ],
      "text/plain": [
       "     user_id  operator_id                      date  total_call_duration\n",
       "0     166582       885876 2019-09-25 00:00:00+03:00               166908\n",
       "1     166582       885876 2019-09-26 00:00:00+03:00               152217\n",
       "2     166582       885876 2019-09-09 00:00:00+03:00               143712\n",
       "3     166582       885876 2019-09-18 00:00:00+03:00               140263\n",
       "4     166582       885876 2019-09-12 00:00:00+03:00               140240\n",
       "..       ...          ...                       ...                  ...\n",
       "722   168361       945322 2019-11-04 00:00:00+03:00                10037\n",
       "723   168252       940588 2019-11-28 00:00:00+03:00                10035\n",
       "724   167650       921318 2019-10-08 00:00:00+03:00                10024\n",
       "725   168361       945280 2019-11-04 00:00:00+03:00                10011\n",
       "726   166983       901880 2019-11-25 00:00:00+03:00                10007\n",
       "\n",
       "[727 rows x 4 columns]"
      ]
     },
     "execution_count": 59,
     "metadata": {},
     "output_type": "execute_result"
    }
   ],
   "source": [
    "big_duration_operators = duration_by_operator.query('total_call_duration > 10000')\n",
    "big_duration_operators"
   ]
  },
  {
   "cell_type": "markdown",
   "metadata": {},
   "source": [
    "Найдем вызовы с длительностью более 10000 мин"
   ]
  },
  {
   "cell_type": "code",
   "execution_count": 60,
   "metadata": {},
   "outputs": [
    {
     "data": {
      "text/html": [
       "<div>\n",
       "<style scoped>\n",
       "    .dataframe tbody tr th:only-of-type {\n",
       "        vertical-align: middle;\n",
       "    }\n",
       "\n",
       "    .dataframe tbody tr th {\n",
       "        vertical-align: top;\n",
       "    }\n",
       "\n",
       "    .dataframe thead th {\n",
       "        text-align: right;\n",
       "    }\n",
       "</style>\n",
       "<table border=\"1\" class=\"dataframe\">\n",
       "  <thead>\n",
       "    <tr style=\"text-align: right;\">\n",
       "      <th></th>\n",
       "      <th>user_id</th>\n",
       "      <th>date</th>\n",
       "      <th>direction</th>\n",
       "      <th>internal</th>\n",
       "      <th>operator_id</th>\n",
       "      <th>is_missed_call</th>\n",
       "      <th>calls_count</th>\n",
       "      <th>call_duration</th>\n",
       "      <th>total_call_duration</th>\n",
       "      <th>month</th>\n",
       "      <th>week</th>\n",
       "    </tr>\n",
       "  </thead>\n",
       "  <tbody>\n",
       "    <tr>\n",
       "      <th>1104</th>\n",
       "      <td>166405</td>\n",
       "      <td>2019-10-16 00:00:00+03:00</td>\n",
       "      <td>out</td>\n",
       "      <td>False</td>\n",
       "      <td>882690</td>\n",
       "      <td>False</td>\n",
       "      <td>78</td>\n",
       "      <td>11795</td>\n",
       "      <td>13169</td>\n",
       "      <td>10</td>\n",
       "      <td>42</td>\n",
       "    </tr>\n",
       "    <tr>\n",
       "      <th>1189</th>\n",
       "      <td>166405</td>\n",
       "      <td>2019-10-24 00:00:00+03:00</td>\n",
       "      <td>out</td>\n",
       "      <td>False</td>\n",
       "      <td>882690</td>\n",
       "      <td>False</td>\n",
       "      <td>90</td>\n",
       "      <td>10346</td>\n",
       "      <td>12026</td>\n",
       "      <td>10</td>\n",
       "      <td>43</td>\n",
       "    </tr>\n",
       "    <tr>\n",
       "      <th>1206</th>\n",
       "      <td>166405</td>\n",
       "      <td>2019-10-25 00:00:00+03:00</td>\n",
       "      <td>out</td>\n",
       "      <td>False</td>\n",
       "      <td>882690</td>\n",
       "      <td>False</td>\n",
       "      <td>60</td>\n",
       "      <td>10099</td>\n",
       "      <td>11120</td>\n",
       "      <td>10</td>\n",
       "      <td>43</td>\n",
       "    </tr>\n",
       "    <tr>\n",
       "      <th>1259</th>\n",
       "      <td>166405</td>\n",
       "      <td>2019-10-30 00:00:00+03:00</td>\n",
       "      <td>out</td>\n",
       "      <td>False</td>\n",
       "      <td>882690</td>\n",
       "      <td>False</td>\n",
       "      <td>69</td>\n",
       "      <td>9158</td>\n",
       "      <td>10450</td>\n",
       "      <td>10</td>\n",
       "      <td>44</td>\n",
       "    </tr>\n",
       "    <tr>\n",
       "      <th>1317</th>\n",
       "      <td>166405</td>\n",
       "      <td>2019-11-05 00:00:00+03:00</td>\n",
       "      <td>in</td>\n",
       "      <td>False</td>\n",
       "      <td>-1</td>\n",
       "      <td>True</td>\n",
       "      <td>209</td>\n",
       "      <td>0</td>\n",
       "      <td>12359</td>\n",
       "      <td>11</td>\n",
       "      <td>45</td>\n",
       "    </tr>\n",
       "    <tr>\n",
       "      <th>...</th>\n",
       "      <td>...</td>\n",
       "      <td>...</td>\n",
       "      <td>...</td>\n",
       "      <td>...</td>\n",
       "      <td>...</td>\n",
       "      <td>...</td>\n",
       "      <td>...</td>\n",
       "      <td>...</td>\n",
       "      <td>...</td>\n",
       "      <td>...</td>\n",
       "      <td>...</td>\n",
       "    </tr>\n",
       "    <tr>\n",
       "      <th>48300</th>\n",
       "      <td>168361</td>\n",
       "      <td>2019-11-28 00:00:00+03:00</td>\n",
       "      <td>out</td>\n",
       "      <td>False</td>\n",
       "      <td>945322</td>\n",
       "      <td>False</td>\n",
       "      <td>144</td>\n",
       "      <td>7861</td>\n",
       "      <td>10920</td>\n",
       "      <td>11</td>\n",
       "      <td>48</td>\n",
       "    </tr>\n",
       "    <tr>\n",
       "      <th>48303</th>\n",
       "      <td>168361</td>\n",
       "      <td>2019-11-28 00:00:00+03:00</td>\n",
       "      <td>out</td>\n",
       "      <td>False</td>\n",
       "      <td>945316</td>\n",
       "      <td>False</td>\n",
       "      <td>85</td>\n",
       "      <td>11961</td>\n",
       "      <td>13366</td>\n",
       "      <td>11</td>\n",
       "      <td>48</td>\n",
       "    </tr>\n",
       "    <tr>\n",
       "      <th>48305</th>\n",
       "      <td>168361</td>\n",
       "      <td>2019-11-28 00:00:00+03:00</td>\n",
       "      <td>out</td>\n",
       "      <td>False</td>\n",
       "      <td>945280</td>\n",
       "      <td>False</td>\n",
       "      <td>53</td>\n",
       "      <td>9865</td>\n",
       "      <td>10755</td>\n",
       "      <td>11</td>\n",
       "      <td>48</td>\n",
       "    </tr>\n",
       "    <tr>\n",
       "      <th>48314</th>\n",
       "      <td>168361</td>\n",
       "      <td>2019-11-28 00:00:00+03:00</td>\n",
       "      <td>out</td>\n",
       "      <td>False</td>\n",
       "      <td>945312</td>\n",
       "      <td>False</td>\n",
       "      <td>68</td>\n",
       "      <td>10976</td>\n",
       "      <td>12301</td>\n",
       "      <td>11</td>\n",
       "      <td>48</td>\n",
       "    </tr>\n",
       "    <tr>\n",
       "      <th>48590</th>\n",
       "      <td>168412</td>\n",
       "      <td>2019-11-28 00:00:00+03:00</td>\n",
       "      <td>out</td>\n",
       "      <td>False</td>\n",
       "      <td>953462</td>\n",
       "      <td>False</td>\n",
       "      <td>25</td>\n",
       "      <td>12700</td>\n",
       "      <td>13148</td>\n",
       "      <td>11</td>\n",
       "      <td>48</td>\n",
       "    </tr>\n",
       "  </tbody>\n",
       "</table>\n",
       "<p>775 rows × 11 columns</p>\n",
       "</div>"
      ],
      "text/plain": [
       "       user_id                      date direction  internal  operator_id  \\\n",
       "1104    166405 2019-10-16 00:00:00+03:00       out     False       882690   \n",
       "1189    166405 2019-10-24 00:00:00+03:00       out     False       882690   \n",
       "1206    166405 2019-10-25 00:00:00+03:00       out     False       882690   \n",
       "1259    166405 2019-10-30 00:00:00+03:00       out     False       882690   \n",
       "1317    166405 2019-11-05 00:00:00+03:00        in     False           -1   \n",
       "...        ...                       ...       ...       ...          ...   \n",
       "48300   168361 2019-11-28 00:00:00+03:00       out     False       945322   \n",
       "48303   168361 2019-11-28 00:00:00+03:00       out     False       945316   \n",
       "48305   168361 2019-11-28 00:00:00+03:00       out     False       945280   \n",
       "48314   168361 2019-11-28 00:00:00+03:00       out     False       945312   \n",
       "48590   168412 2019-11-28 00:00:00+03:00       out     False       953462   \n",
       "\n",
       "       is_missed_call  calls_count  call_duration  total_call_duration  month  \\\n",
       "1104            False           78          11795                13169     10   \n",
       "1189            False           90          10346                12026     10   \n",
       "1206            False           60          10099                11120     10   \n",
       "1259            False           69           9158                10450     10   \n",
       "1317             True          209              0                12359     11   \n",
       "...               ...          ...            ...                  ...    ...   \n",
       "48300           False          144           7861                10920     11   \n",
       "48303           False           85          11961                13366     11   \n",
       "48305           False           53           9865                10755     11   \n",
       "48314           False           68          10976                12301     11   \n",
       "48590           False           25          12700                13148     11   \n",
       "\n",
       "       week  \n",
       "1104     42  \n",
       "1189     43  \n",
       "1206     43  \n",
       "1259     44  \n",
       "1317     45  \n",
       "...     ...  \n",
       "48300    48  \n",
       "48303    48  \n",
       "48305    48  \n",
       "48314    48  \n",
       "48590    48  \n",
       "\n",
       "[775 rows x 11 columns]"
      ]
     },
     "execution_count": 60,
     "metadata": {},
     "output_type": "execute_result"
    }
   ],
   "source": [
    "big_duration_calls = data.query('total_call_duration >= 10000')\n",
    "big_duration_calls"
   ]
  },
  {
   "cell_type": "code",
   "execution_count": 61,
   "metadata": {},
   "outputs": [
    {
     "name": "stdout",
     "output_type": "stream",
     "text": [
      "1.58 % звонков длительностью более 10000 мин.\n"
     ]
    }
   ],
   "source": [
    "print(round(len(big_duration_calls)/len(data)*100,2),'% звонков длительностью более 10000 мин.')"
   ]
  },
  {
   "cell_type": "markdown",
   "metadata": {},
   "source": [
    "Исключим такие звонки из дальнейшего исследования, т.к. это явные аномалии."
   ]
  },
  {
   "cell_type": "code",
   "execution_count": 62,
   "metadata": {},
   "outputs": [
    {
     "data": {
      "text/html": [
       "<div>\n",
       "<style scoped>\n",
       "    .dataframe tbody tr th:only-of-type {\n",
       "        vertical-align: middle;\n",
       "    }\n",
       "\n",
       "    .dataframe tbody tr th {\n",
       "        vertical-align: top;\n",
       "    }\n",
       "\n",
       "    .dataframe thead th {\n",
       "        text-align: right;\n",
       "    }\n",
       "</style>\n",
       "<table border=\"1\" class=\"dataframe\">\n",
       "  <thead>\n",
       "    <tr style=\"text-align: right;\">\n",
       "      <th></th>\n",
       "      <th>index</th>\n",
       "      <th>user_id</th>\n",
       "      <th>date</th>\n",
       "      <th>direction</th>\n",
       "      <th>internal</th>\n",
       "      <th>operator_id</th>\n",
       "      <th>is_missed_call</th>\n",
       "      <th>calls_count</th>\n",
       "      <th>call_duration</th>\n",
       "      <th>total_call_duration</th>\n",
       "      <th>month</th>\n",
       "      <th>week</th>\n",
       "    </tr>\n",
       "  </thead>\n",
       "  <tbody>\n",
       "    <tr>\n",
       "      <th>0</th>\n",
       "      <td>0</td>\n",
       "      <td>166377</td>\n",
       "      <td>2019-08-04 00:00:00+03:00</td>\n",
       "      <td>in</td>\n",
       "      <td>False</td>\n",
       "      <td>-1</td>\n",
       "      <td>True</td>\n",
       "      <td>2</td>\n",
       "      <td>0</td>\n",
       "      <td>4</td>\n",
       "      <td>8</td>\n",
       "      <td>31</td>\n",
       "    </tr>\n",
       "    <tr>\n",
       "      <th>1</th>\n",
       "      <td>1</td>\n",
       "      <td>166377</td>\n",
       "      <td>2019-08-05 00:00:00+03:00</td>\n",
       "      <td>out</td>\n",
       "      <td>True</td>\n",
       "      <td>880022</td>\n",
       "      <td>True</td>\n",
       "      <td>3</td>\n",
       "      <td>0</td>\n",
       "      <td>5</td>\n",
       "      <td>8</td>\n",
       "      <td>32</td>\n",
       "    </tr>\n",
       "    <tr>\n",
       "      <th>2</th>\n",
       "      <td>2</td>\n",
       "      <td>166377</td>\n",
       "      <td>2019-08-05 00:00:00+03:00</td>\n",
       "      <td>out</td>\n",
       "      <td>True</td>\n",
       "      <td>880020</td>\n",
       "      <td>True</td>\n",
       "      <td>1</td>\n",
       "      <td>0</td>\n",
       "      <td>1</td>\n",
       "      <td>8</td>\n",
       "      <td>32</td>\n",
       "    </tr>\n",
       "    <tr>\n",
       "      <th>3</th>\n",
       "      <td>3</td>\n",
       "      <td>166377</td>\n",
       "      <td>2019-08-05 00:00:00+03:00</td>\n",
       "      <td>out</td>\n",
       "      <td>True</td>\n",
       "      <td>880020</td>\n",
       "      <td>False</td>\n",
       "      <td>1</td>\n",
       "      <td>10</td>\n",
       "      <td>18</td>\n",
       "      <td>8</td>\n",
       "      <td>32</td>\n",
       "    </tr>\n",
       "    <tr>\n",
       "      <th>4</th>\n",
       "      <td>4</td>\n",
       "      <td>166377</td>\n",
       "      <td>2019-08-05 00:00:00+03:00</td>\n",
       "      <td>out</td>\n",
       "      <td>False</td>\n",
       "      <td>880022</td>\n",
       "      <td>True</td>\n",
       "      <td>3</td>\n",
       "      <td>0</td>\n",
       "      <td>25</td>\n",
       "      <td>8</td>\n",
       "      <td>32</td>\n",
       "    </tr>\n",
       "    <tr>\n",
       "      <th>...</th>\n",
       "      <td>...</td>\n",
       "      <td>...</td>\n",
       "      <td>...</td>\n",
       "      <td>...</td>\n",
       "      <td>...</td>\n",
       "      <td>...</td>\n",
       "      <td>...</td>\n",
       "      <td>...</td>\n",
       "      <td>...</td>\n",
       "      <td>...</td>\n",
       "      <td>...</td>\n",
       "      <td>...</td>\n",
       "    </tr>\n",
       "    <tr>\n",
       "      <th>48222</th>\n",
       "      <td>48997</td>\n",
       "      <td>168606</td>\n",
       "      <td>2019-11-10 00:00:00+03:00</td>\n",
       "      <td>out</td>\n",
       "      <td>True</td>\n",
       "      <td>957922</td>\n",
       "      <td>False</td>\n",
       "      <td>1</td>\n",
       "      <td>0</td>\n",
       "      <td>25</td>\n",
       "      <td>11</td>\n",
       "      <td>45</td>\n",
       "    </tr>\n",
       "    <tr>\n",
       "      <th>48223</th>\n",
       "      <td>48998</td>\n",
       "      <td>168606</td>\n",
       "      <td>2019-11-10 00:00:00+03:00</td>\n",
       "      <td>out</td>\n",
       "      <td>True</td>\n",
       "      <td>957922</td>\n",
       "      <td>True</td>\n",
       "      <td>1</td>\n",
       "      <td>0</td>\n",
       "      <td>38</td>\n",
       "      <td>11</td>\n",
       "      <td>45</td>\n",
       "    </tr>\n",
       "    <tr>\n",
       "      <th>48224</th>\n",
       "      <td>48999</td>\n",
       "      <td>168606</td>\n",
       "      <td>2019-11-11 00:00:00+03:00</td>\n",
       "      <td>out</td>\n",
       "      <td>True</td>\n",
       "      <td>957922</td>\n",
       "      <td>False</td>\n",
       "      <td>2</td>\n",
       "      <td>479</td>\n",
       "      <td>501</td>\n",
       "      <td>11</td>\n",
       "      <td>46</td>\n",
       "    </tr>\n",
       "    <tr>\n",
       "      <th>48225</th>\n",
       "      <td>49000</td>\n",
       "      <td>168606</td>\n",
       "      <td>2019-11-15 00:00:00+03:00</td>\n",
       "      <td>out</td>\n",
       "      <td>True</td>\n",
       "      <td>957922</td>\n",
       "      <td>False</td>\n",
       "      <td>4</td>\n",
       "      <td>3130</td>\n",
       "      <td>3190</td>\n",
       "      <td>11</td>\n",
       "      <td>46</td>\n",
       "    </tr>\n",
       "    <tr>\n",
       "      <th>48226</th>\n",
       "      <td>49001</td>\n",
       "      <td>168606</td>\n",
       "      <td>2019-11-19 00:00:00+03:00</td>\n",
       "      <td>in</td>\n",
       "      <td>False</td>\n",
       "      <td>-1</td>\n",
       "      <td>True</td>\n",
       "      <td>2</td>\n",
       "      <td>0</td>\n",
       "      <td>64</td>\n",
       "      <td>11</td>\n",
       "      <td>47</td>\n",
       "    </tr>\n",
       "  </tbody>\n",
       "</table>\n",
       "<p>48227 rows × 12 columns</p>\n",
       "</div>"
      ],
      "text/plain": [
       "       index  user_id                      date direction  internal  \\\n",
       "0          0   166377 2019-08-04 00:00:00+03:00        in     False   \n",
       "1          1   166377 2019-08-05 00:00:00+03:00       out      True   \n",
       "2          2   166377 2019-08-05 00:00:00+03:00       out      True   \n",
       "3          3   166377 2019-08-05 00:00:00+03:00       out      True   \n",
       "4          4   166377 2019-08-05 00:00:00+03:00       out     False   \n",
       "...      ...      ...                       ...       ...       ...   \n",
       "48222  48997   168606 2019-11-10 00:00:00+03:00       out      True   \n",
       "48223  48998   168606 2019-11-10 00:00:00+03:00       out      True   \n",
       "48224  48999   168606 2019-11-11 00:00:00+03:00       out      True   \n",
       "48225  49000   168606 2019-11-15 00:00:00+03:00       out      True   \n",
       "48226  49001   168606 2019-11-19 00:00:00+03:00        in     False   \n",
       "\n",
       "       operator_id  is_missed_call  calls_count  call_duration  \\\n",
       "0               -1            True            2              0   \n",
       "1           880022            True            3              0   \n",
       "2           880020            True            1              0   \n",
       "3           880020           False            1             10   \n",
       "4           880022            True            3              0   \n",
       "...            ...             ...          ...            ...   \n",
       "48222       957922           False            1              0   \n",
       "48223       957922            True            1              0   \n",
       "48224       957922           False            2            479   \n",
       "48225       957922           False            4           3130   \n",
       "48226           -1            True            2              0   \n",
       "\n",
       "       total_call_duration  month  week  \n",
       "0                        4      8    31  \n",
       "1                        5      8    32  \n",
       "2                        1      8    32  \n",
       "3                       18      8    32  \n",
       "4                       25      8    32  \n",
       "...                    ...    ...   ...  \n",
       "48222                   25     11    45  \n",
       "48223                   38     11    45  \n",
       "48224                  501     11    46  \n",
       "48225                 3190     11    46  \n",
       "48226                   64     11    47  \n",
       "\n",
       "[48227 rows x 12 columns]"
      ]
     },
     "execution_count": 62,
     "metadata": {},
     "output_type": "execute_result"
    }
   ],
   "source": [
    "data_final = data.query('total_call_duration < 10000').reset_index()\n",
    "data_final"
   ]
  },
  {
   "cell_type": "code",
   "execution_count": 63,
   "metadata": {},
   "outputs": [
    {
     "data": {
      "image/png": "[encoded data removed]",
      "text/plain": [
       "<Figure size 720x720 with 1 Axes>"
      ]
     },
     "metadata": {
      "needs_background": "light"
     },
     "output_type": "display_data"
    }
   ],
   "source": [
    "plt.figure(figsize=(10,10))\n",
    "data_final['total_call_duration'].plot(kind='box')\n",
    "plt.ylim(0,1500)\n",
    "plt.title('Boxplot распределения суммарной дневной длительности разговоров операторов')\n",
    "plt.show()"
   ]
  },
  {
   "cell_type": "code",
   "execution_count": 64,
   "metadata": {},
   "outputs": [
    {
     "data": {
      "text/plain": [
       "count    48227.000000\n",
       "mean       786.966678\n",
       "std       1417.911469\n",
       "min          0.000000\n",
       "25%         45.000000\n",
       "50%        198.000000\n",
       "75%        831.000000\n",
       "max       9997.000000\n",
       "Name: total_call_duration, dtype: float64"
      ]
     },
     "execution_count": 64,
     "metadata": {},
     "output_type": "execute_result"
    }
   ],
   "source": [
    "data_final['total_call_duration'].describe()"
   ]
  },
  {
   "cell_type": "markdown",
   "metadata": {},
   "source": [
    "В итоговом датасете осталось 48227 строк, медианное значение длительности разговора снизилось до 198, максимальное до 9997."
   ]
  },
  {
   "cell_type": "markdown",
   "metadata": {},
   "source": [
    "### Исследование распределения пропущенных вызовов"
   ]
  },
  {
   "cell_type": "code",
   "execution_count": 65,
   "metadata": {},
   "outputs": [
    {
     "data": {
      "image/png": "[encoded data removed]",
      "text/plain": [
       "<Figure size 720x720 with 1 Axes>"
      ]
     },
     "metadata": {},
     "output_type": "display_data"
    }
   ],
   "source": [
    "missed_calls = data_final.pivot_table(index=('week','is_missed_call'), values='calls_count', aggfunc='sum').reset_index()\n",
    "missed_calls.loc[missed_calls['is_missed_call'] == True, 'is_missed_call'] = 'Missed'\n",
    "missed_calls.loc[missed_calls['is_missed_call'] == False, 'is_missed_call'] = 'No missed'\n",
    "missed_calls\n",
    "missed_calls.groupby(['is_missed_call']).sum().plot(kind='pie', y='calls_count', figsize=(10, 10), autopct='%1.1f%%', ylabel = '')\n",
    "plt.title('Доли пропущенных и обработанных звонков')\n",
    "plt.show()"
   ]
  },
  {
   "cell_type": "markdown",
   "metadata": {},
   "source": [
    "Как видно на диаграмме пропущенных вызовов 52.1 %."
   ]
  },
  {
   "cell_type": "markdown",
   "metadata": {},
   "source": [
    "### Исследование распределения длительности вызовов с учётом времени ожидания"
   ]
  },
  {
   "cell_type": "code",
   "execution_count": 66,
   "metadata": {},
   "outputs": [
    {
     "data": {
      "image/png": "[encoded data removed]",
      "text/plain": [
       "<Figure size 720x720 with 1 Axes>"
      ]
     },
     "metadata": {
      "needs_background": "light"
     },
     "output_type": "display_data"
    }
   ],
   "source": [
    "plt.figure(figsize=(10,10))\n",
    "data_final['total_call_duration'].hist(bins=100, range=(0,1000))\n",
    "plt.title('Распределение вызовов по длительности')\n",
    "plt.xlabel('Длительность, мин')\n",
    "plt.ylabel('Количество звонков')\n",
    "plt.show()"
   ]
  },
  {
   "cell_type": "code",
   "execution_count": 67,
   "metadata": {},
   "outputs": [
    {
     "data": {
      "image/png": "[encoded data removed]",
      "text/plain": [
       "<Figure size 720x720 with 1 Axes>"
      ]
     },
     "metadata": {
      "needs_background": "light"
     },
     "output_type": "display_data"
    }
   ],
   "source": [
    "plt.figure(figsize=(10,10))\n",
    "data_final['total_call_duration'].plot(kind='box')\n",
    "plt.ylim(0,1200)\n",
    "plt.title('Boxplot распределения вызовов по длительности')\n",
    "plt.show()"
   ]
  },
  {
   "cell_type": "code",
   "execution_count": 68,
   "metadata": {},
   "outputs": [
    {
     "data": {
      "text/plain": [
       "count    48227.000000\n",
       "mean       786.966678\n",
       "std       1417.911469\n",
       "min          0.000000\n",
       "25%         45.000000\n",
       "50%        198.000000\n",
       "75%        831.000000\n",
       "max       9997.000000\n",
       "Name: total_call_duration, dtype: float64"
      ]
     },
     "execution_count": 68,
     "metadata": {},
     "output_type": "execute_result"
    }
   ],
   "source": [
    "data_final['total_call_duration'].describe()"
   ]
  },
  {
   "cell_type": "markdown",
   "metadata": {},
   "source": [
    "Как видно на диаграмме большинство вызовов имеют длительность до 850 мин."
   ]
  },
  {
   "cell_type": "markdown",
   "metadata": {},
   "source": [
    "### Исследование распределения клиентов по тарифным планам"
   ]
  },
  {
   "cell_type": "code",
   "execution_count": 69,
   "metadata": {},
   "outputs": [
    {
     "data": {
      "text/html": [
       "<div>\n",
       "<style scoped>\n",
       "    .dataframe tbody tr th:only-of-type {\n",
       "        vertical-align: middle;\n",
       "    }\n",
       "\n",
       "    .dataframe tbody tr th {\n",
       "        vertical-align: top;\n",
       "    }\n",
       "\n",
       "    .dataframe thead th {\n",
       "        text-align: right;\n",
       "    }\n",
       "</style>\n",
       "<table border=\"1\" class=\"dataframe\">\n",
       "  <thead>\n",
       "    <tr style=\"text-align: right;\">\n",
       "      <th></th>\n",
       "      <th>week</th>\n",
       "      <th>tariff_plan</th>\n",
       "      <th>user_id</th>\n",
       "    </tr>\n",
       "  </thead>\n",
       "  <tbody>\n",
       "    <tr>\n",
       "      <th>0</th>\n",
       "      <td>31</td>\n",
       "      <td>A</td>\n",
       "      <td>3</td>\n",
       "    </tr>\n",
       "    <tr>\n",
       "      <th>1</th>\n",
       "      <td>31</td>\n",
       "      <td>B</td>\n",
       "      <td>9</td>\n",
       "    </tr>\n",
       "    <tr>\n",
       "      <th>2</th>\n",
       "      <td>31</td>\n",
       "      <td>C</td>\n",
       "      <td>19</td>\n",
       "    </tr>\n",
       "    <tr>\n",
       "      <th>3</th>\n",
       "      <td>32</td>\n",
       "      <td>A</td>\n",
       "      <td>7</td>\n",
       "    </tr>\n",
       "    <tr>\n",
       "      <th>4</th>\n",
       "      <td>32</td>\n",
       "      <td>B</td>\n",
       "      <td>22</td>\n",
       "    </tr>\n",
       "    <tr>\n",
       "      <th>5</th>\n",
       "      <td>32</td>\n",
       "      <td>C</td>\n",
       "      <td>24</td>\n",
       "    </tr>\n",
       "    <tr>\n",
       "      <th>6</th>\n",
       "      <td>33</td>\n",
       "      <td>A</td>\n",
       "      <td>5</td>\n",
       "    </tr>\n",
       "    <tr>\n",
       "      <th>7</th>\n",
       "      <td>33</td>\n",
       "      <td>B</td>\n",
       "      <td>16</td>\n",
       "    </tr>\n",
       "    <tr>\n",
       "      <th>8</th>\n",
       "      <td>33</td>\n",
       "      <td>C</td>\n",
       "      <td>32</td>\n",
       "    </tr>\n",
       "    <tr>\n",
       "      <th>9</th>\n",
       "      <td>34</td>\n",
       "      <td>A</td>\n",
       "      <td>7</td>\n",
       "    </tr>\n",
       "    <tr>\n",
       "      <th>10</th>\n",
       "      <td>34</td>\n",
       "      <td>B</td>\n",
       "      <td>21</td>\n",
       "    </tr>\n",
       "    <tr>\n",
       "      <th>11</th>\n",
       "      <td>34</td>\n",
       "      <td>C</td>\n",
       "      <td>29</td>\n",
       "    </tr>\n",
       "    <tr>\n",
       "      <th>12</th>\n",
       "      <td>35</td>\n",
       "      <td>A</td>\n",
       "      <td>5</td>\n",
       "    </tr>\n",
       "    <tr>\n",
       "      <th>13</th>\n",
       "      <td>35</td>\n",
       "      <td>B</td>\n",
       "      <td>23</td>\n",
       "    </tr>\n",
       "    <tr>\n",
       "      <th>14</th>\n",
       "      <td>35</td>\n",
       "      <td>C</td>\n",
       "      <td>37</td>\n",
       "    </tr>\n",
       "    <tr>\n",
       "      <th>15</th>\n",
       "      <td>36</td>\n",
       "      <td>A</td>\n",
       "      <td>4</td>\n",
       "    </tr>\n",
       "    <tr>\n",
       "      <th>16</th>\n",
       "      <td>36</td>\n",
       "      <td>B</td>\n",
       "      <td>19</td>\n",
       "    </tr>\n",
       "    <tr>\n",
       "      <th>17</th>\n",
       "      <td>36</td>\n",
       "      <td>C</td>\n",
       "      <td>29</td>\n",
       "    </tr>\n",
       "    <tr>\n",
       "      <th>18</th>\n",
       "      <td>37</td>\n",
       "      <td>A</td>\n",
       "      <td>3</td>\n",
       "    </tr>\n",
       "    <tr>\n",
       "      <th>19</th>\n",
       "      <td>37</td>\n",
       "      <td>B</td>\n",
       "      <td>20</td>\n",
       "    </tr>\n",
       "    <tr>\n",
       "      <th>20</th>\n",
       "      <td>37</td>\n",
       "      <td>C</td>\n",
       "      <td>22</td>\n",
       "    </tr>\n",
       "    <tr>\n",
       "      <th>21</th>\n",
       "      <td>38</td>\n",
       "      <td>A</td>\n",
       "      <td>2</td>\n",
       "    </tr>\n",
       "    <tr>\n",
       "      <th>22</th>\n",
       "      <td>38</td>\n",
       "      <td>B</td>\n",
       "      <td>24</td>\n",
       "    </tr>\n",
       "    <tr>\n",
       "      <th>23</th>\n",
       "      <td>38</td>\n",
       "      <td>C</td>\n",
       "      <td>41</td>\n",
       "    </tr>\n",
       "    <tr>\n",
       "      <th>24</th>\n",
       "      <td>39</td>\n",
       "      <td>A</td>\n",
       "      <td>5</td>\n",
       "    </tr>\n",
       "    <tr>\n",
       "      <th>25</th>\n",
       "      <td>39</td>\n",
       "      <td>B</td>\n",
       "      <td>13</td>\n",
       "    </tr>\n",
       "    <tr>\n",
       "      <th>26</th>\n",
       "      <td>39</td>\n",
       "      <td>C</td>\n",
       "      <td>44</td>\n",
       "    </tr>\n",
       "    <tr>\n",
       "      <th>27</th>\n",
       "      <td>40</td>\n",
       "      <td>A</td>\n",
       "      <td>7</td>\n",
       "    </tr>\n",
       "    <tr>\n",
       "      <th>28</th>\n",
       "      <td>40</td>\n",
       "      <td>B</td>\n",
       "      <td>11</td>\n",
       "    </tr>\n",
       "    <tr>\n",
       "      <th>29</th>\n",
       "      <td>40</td>\n",
       "      <td>C</td>\n",
       "      <td>23</td>\n",
       "    </tr>\n",
       "    <tr>\n",
       "      <th>30</th>\n",
       "      <td>41</td>\n",
       "      <td>A</td>\n",
       "      <td>6</td>\n",
       "    </tr>\n",
       "    <tr>\n",
       "      <th>31</th>\n",
       "      <td>41</td>\n",
       "      <td>B</td>\n",
       "      <td>25</td>\n",
       "    </tr>\n",
       "    <tr>\n",
       "      <th>32</th>\n",
       "      <td>41</td>\n",
       "      <td>C</td>\n",
       "      <td>32</td>\n",
       "    </tr>\n",
       "    <tr>\n",
       "      <th>33</th>\n",
       "      <td>42</td>\n",
       "      <td>A</td>\n",
       "      <td>12</td>\n",
       "    </tr>\n",
       "    <tr>\n",
       "      <th>34</th>\n",
       "      <td>42</td>\n",
       "      <td>B</td>\n",
       "      <td>19</td>\n",
       "    </tr>\n",
       "    <tr>\n",
       "      <th>35</th>\n",
       "      <td>42</td>\n",
       "      <td>C</td>\n",
       "      <td>29</td>\n",
       "    </tr>\n",
       "    <tr>\n",
       "      <th>36</th>\n",
       "      <td>43</td>\n",
       "      <td>A</td>\n",
       "      <td>6</td>\n",
       "    </tr>\n",
       "    <tr>\n",
       "      <th>37</th>\n",
       "      <td>43</td>\n",
       "      <td>B</td>\n",
       "      <td>20</td>\n",
       "    </tr>\n",
       "    <tr>\n",
       "      <th>38</th>\n",
       "      <td>43</td>\n",
       "      <td>C</td>\n",
       "      <td>18</td>\n",
       "    </tr>\n",
       "    <tr>\n",
       "      <th>39</th>\n",
       "      <td>44</td>\n",
       "      <td>A</td>\n",
       "      <td>4</td>\n",
       "    </tr>\n",
       "    <tr>\n",
       "      <th>40</th>\n",
       "      <td>44</td>\n",
       "      <td>B</td>\n",
       "      <td>19</td>\n",
       "    </tr>\n",
       "    <tr>\n",
       "      <th>41</th>\n",
       "      <td>44</td>\n",
       "      <td>C</td>\n",
       "      <td>16</td>\n",
       "    </tr>\n",
       "  </tbody>\n",
       "</table>\n",
       "</div>"
      ],
      "text/plain": [
       "    week tariff_plan  user_id\n",
       "0     31           A        3\n",
       "1     31           B        9\n",
       "2     31           C       19\n",
       "3     32           A        7\n",
       "4     32           B       22\n",
       "5     32           C       24\n",
       "6     33           A        5\n",
       "7     33           B       16\n",
       "8     33           C       32\n",
       "9     34           A        7\n",
       "10    34           B       21\n",
       "11    34           C       29\n",
       "12    35           A        5\n",
       "13    35           B       23\n",
       "14    35           C       37\n",
       "15    36           A        4\n",
       "16    36           B       19\n",
       "17    36           C       29\n",
       "18    37           A        3\n",
       "19    37           B       20\n",
       "20    37           C       22\n",
       "21    38           A        2\n",
       "22    38           B       24\n",
       "23    38           C       41\n",
       "24    39           A        5\n",
       "25    39           B       13\n",
       "26    39           C       44\n",
       "27    40           A        7\n",
       "28    40           B       11\n",
       "29    40           C       23\n",
       "30    41           A        6\n",
       "31    41           B       25\n",
       "32    41           C       32\n",
       "33    42           A       12\n",
       "34    42           B       19\n",
       "35    42           C       29\n",
       "36    43           A        6\n",
       "37    43           B       20\n",
       "38    43           C       18\n",
       "39    44           A        4\n",
       "40    44           B       19\n",
       "41    44           C       16"
      ]
     },
     "execution_count": 69,
     "metadata": {},
     "output_type": "execute_result"
    }
   ],
   "source": [
    "clients_by_tariff = clients.pivot_table(index=('week','tariff_plan'), values='user_id', aggfunc='nunique').reset_index()\n",
    "clients_by_tariff"
   ]
  },
  {
   "cell_type": "code",
   "execution_count": 70,
   "metadata": {},
   "outputs": [
    {
     "data": {
      "image/png": "[encoded data removed]",
      "text/plain": [
       "<Figure size 720x720 with 1 Axes>"
      ]
     },
     "metadata": {
      "needs_background": "light"
     },
     "output_type": "display_data"
    }
   ],
   "source": [
    "plt.figure(figsize=(10,10))\n",
    "sns.lineplot(x='week',y='user_id', hue='tariff_plan', data=clients_by_tariff)\n",
    "plt.title('Количество подключений в неделю по тарифным планам')\n",
    "plt.xlabel('неделя')\n",
    "plt.ylabel('Количество подключений')\n",
    "plt.show()"
   ]
  },
  {
   "cell_type": "markdown",
   "metadata": {},
   "source": [
    "На диаграмме видно уменьшение подключений в последний месяц на тарифном плане С, хотя на нем сначала было больше всех подключений. На тарифном плане А подключения меньше всех и после небольшого роста к 42й неделе началось снижение."
   ]
  },
  {
   "cell_type": "markdown",
   "metadata": {},
   "source": [
    "Посмотрим распределение клиентов на тарифных планах в датасете clients."
   ]
  },
  {
   "cell_type": "code",
   "execution_count": 71,
   "metadata": {
    "scrolled": false
   },
   "outputs": [
    {
     "data": {
      "image/png": "[encoded data removed]",
      "text/plain": [
       "<Figure size 720x720 with 1 Axes>"
      ]
     },
     "metadata": {},
     "output_type": "display_data"
    }
   ],
   "source": [
    "clients_by_tariff.groupby(['tariff_plan']).sum().plot(kind='pie', y='user_id', figsize=(10, 10), autopct='%1.1f%%', ylabel = '')\n",
    "plt.title('Доли клиентов на тарифных планах')\n",
    "plt.show()\n"
   ]
  },
  {
   "cell_type": "code",
   "execution_count": 72,
   "metadata": {},
   "outputs": [
    {
     "data": {
      "text/html": [
       "<div>\n",
       "<style scoped>\n",
       "    .dataframe tbody tr th:only-of-type {\n",
       "        vertical-align: middle;\n",
       "    }\n",
       "\n",
       "    .dataframe tbody tr th {\n",
       "        vertical-align: top;\n",
       "    }\n",
       "\n",
       "    .dataframe thead th {\n",
       "        text-align: right;\n",
       "    }\n",
       "</style>\n",
       "<table border=\"1\" class=\"dataframe\">\n",
       "  <thead>\n",
       "    <tr style=\"text-align: right;\">\n",
       "      <th></th>\n",
       "      <th>tariff_plan</th>\n",
       "      <th>user_sum</th>\n",
       "    </tr>\n",
       "  </thead>\n",
       "  <tbody>\n",
       "    <tr>\n",
       "      <th>0</th>\n",
       "      <td>A</td>\n",
       "      <td>76</td>\n",
       "    </tr>\n",
       "    <tr>\n",
       "      <th>1</th>\n",
       "      <td>B</td>\n",
       "      <td>261</td>\n",
       "    </tr>\n",
       "    <tr>\n",
       "      <th>2</th>\n",
       "      <td>C</td>\n",
       "      <td>395</td>\n",
       "    </tr>\n",
       "  </tbody>\n",
       "</table>\n",
       "</div>"
      ],
      "text/plain": [
       "  tariff_plan  user_sum\n",
       "0           A        76\n",
       "1           B       261\n",
       "2           C       395"
      ]
     },
     "execution_count": 72,
     "metadata": {},
     "output_type": "execute_result"
    }
   ],
   "source": [
    "sum_clients_by_tariff = clients_by_tariff.groupby('tariff_plan')['user_id'].sum().reset_index()\n",
    "sum_clients_by_tariff = sum_clients_by_tariff.rename(columns={'user_id': 'user_sum'})\n",
    "sum_clients_by_tariff"
   ]
  },
  {
   "cell_type": "markdown",
   "metadata": {},
   "source": [
    "Как видно на диаграмме больше всего клиентов на тарифном плане С - 54%, на тарифном плане В - 35.7% и на A - 10.4%. Нужно проверить распределение клиентов, которые совершали звонки. Для этого соединим таблицы data и clients."
   ]
  },
  {
   "cell_type": "code",
   "execution_count": 73,
   "metadata": {},
   "outputs": [
    {
     "data": {
      "text/html": [
       "<div>\n",
       "<style scoped>\n",
       "    .dataframe tbody tr th:only-of-type {\n",
       "        vertical-align: middle;\n",
       "    }\n",
       "\n",
       "    .dataframe tbody tr th {\n",
       "        vertical-align: top;\n",
       "    }\n",
       "\n",
       "    .dataframe thead th {\n",
       "        text-align: right;\n",
       "    }\n",
       "</style>\n",
       "<table border=\"1\" class=\"dataframe\">\n",
       "  <thead>\n",
       "    <tr style=\"text-align: right;\">\n",
       "      <th></th>\n",
       "      <th>index</th>\n",
       "      <th>user_id</th>\n",
       "      <th>date</th>\n",
       "      <th>direction</th>\n",
       "      <th>internal</th>\n",
       "      <th>operator_id</th>\n",
       "      <th>is_missed_call</th>\n",
       "      <th>calls_count</th>\n",
       "      <th>call_duration</th>\n",
       "      <th>total_call_duration</th>\n",
       "      <th>month_x</th>\n",
       "      <th>week_x</th>\n",
       "      <th>tariff_plan</th>\n",
       "      <th>date_start</th>\n",
       "      <th>month_y</th>\n",
       "      <th>week_y</th>\n",
       "    </tr>\n",
       "  </thead>\n",
       "  <tbody>\n",
       "    <tr>\n",
       "      <th>0</th>\n",
       "      <td>0</td>\n",
       "      <td>166377</td>\n",
       "      <td>2019-08-04 00:00:00+03:00</td>\n",
       "      <td>in</td>\n",
       "      <td>False</td>\n",
       "      <td>-1</td>\n",
       "      <td>True</td>\n",
       "      <td>2</td>\n",
       "      <td>0</td>\n",
       "      <td>4</td>\n",
       "      <td>8</td>\n",
       "      <td>31</td>\n",
       "      <td>B</td>\n",
       "      <td>2019-08-01</td>\n",
       "      <td>8</td>\n",
       "      <td>31</td>\n",
       "    </tr>\n",
       "    <tr>\n",
       "      <th>1</th>\n",
       "      <td>1</td>\n",
       "      <td>166377</td>\n",
       "      <td>2019-08-05 00:00:00+03:00</td>\n",
       "      <td>out</td>\n",
       "      <td>True</td>\n",
       "      <td>880022</td>\n",
       "      <td>True</td>\n",
       "      <td>3</td>\n",
       "      <td>0</td>\n",
       "      <td>5</td>\n",
       "      <td>8</td>\n",
       "      <td>32</td>\n",
       "      <td>B</td>\n",
       "      <td>2019-08-01</td>\n",
       "      <td>8</td>\n",
       "      <td>31</td>\n",
       "    </tr>\n",
       "    <tr>\n",
       "      <th>2</th>\n",
       "      <td>2</td>\n",
       "      <td>166377</td>\n",
       "      <td>2019-08-05 00:00:00+03:00</td>\n",
       "      <td>out</td>\n",
       "      <td>True</td>\n",
       "      <td>880020</td>\n",
       "      <td>True</td>\n",
       "      <td>1</td>\n",
       "      <td>0</td>\n",
       "      <td>1</td>\n",
       "      <td>8</td>\n",
       "      <td>32</td>\n",
       "      <td>B</td>\n",
       "      <td>2019-08-01</td>\n",
       "      <td>8</td>\n",
       "      <td>31</td>\n",
       "    </tr>\n",
       "    <tr>\n",
       "      <th>3</th>\n",
       "      <td>3</td>\n",
       "      <td>166377</td>\n",
       "      <td>2019-08-05 00:00:00+03:00</td>\n",
       "      <td>out</td>\n",
       "      <td>True</td>\n",
       "      <td>880020</td>\n",
       "      <td>False</td>\n",
       "      <td>1</td>\n",
       "      <td>10</td>\n",
       "      <td>18</td>\n",
       "      <td>8</td>\n",
       "      <td>32</td>\n",
       "      <td>B</td>\n",
       "      <td>2019-08-01</td>\n",
       "      <td>8</td>\n",
       "      <td>31</td>\n",
       "    </tr>\n",
       "    <tr>\n",
       "      <th>4</th>\n",
       "      <td>4</td>\n",
       "      <td>166377</td>\n",
       "      <td>2019-08-05 00:00:00+03:00</td>\n",
       "      <td>out</td>\n",
       "      <td>False</td>\n",
       "      <td>880022</td>\n",
       "      <td>True</td>\n",
       "      <td>3</td>\n",
       "      <td>0</td>\n",
       "      <td>25</td>\n",
       "      <td>8</td>\n",
       "      <td>32</td>\n",
       "      <td>B</td>\n",
       "      <td>2019-08-01</td>\n",
       "      <td>8</td>\n",
       "      <td>31</td>\n",
       "    </tr>\n",
       "  </tbody>\n",
       "</table>\n",
       "</div>"
      ],
      "text/plain": [
       "   index  user_id                      date direction  internal  operator_id  \\\n",
       "0      0   166377 2019-08-04 00:00:00+03:00        in     False           -1   \n",
       "1      1   166377 2019-08-05 00:00:00+03:00       out      True       880022   \n",
       "2      2   166377 2019-08-05 00:00:00+03:00       out      True       880020   \n",
       "3      3   166377 2019-08-05 00:00:00+03:00       out      True       880020   \n",
       "4      4   166377 2019-08-05 00:00:00+03:00       out     False       880022   \n",
       "\n",
       "   is_missed_call  calls_count  call_duration  total_call_duration  month_x  \\\n",
       "0            True            2              0                    4        8   \n",
       "1            True            3              0                    5        8   \n",
       "2            True            1              0                    1        8   \n",
       "3           False            1             10                   18        8   \n",
       "4            True            3              0                   25        8   \n",
       "\n",
       "   week_x tariff_plan date_start  month_y  week_y  \n",
       "0      31           B 2019-08-01        8      31  \n",
       "1      32           B 2019-08-01        8      31  \n",
       "2      32           B 2019-08-01        8      31  \n",
       "3      32           B 2019-08-01        8      31  \n",
       "4      32           B 2019-08-01        8      31  "
      ]
     },
     "execution_count": 73,
     "metadata": {},
     "output_type": "execute_result"
    }
   ],
   "source": [
    "clients_data = data_final.merge(clients, on='user_id', how='left')\n",
    "clients_data.head()"
   ]
  },
  {
   "cell_type": "code",
   "execution_count": 74,
   "metadata": {},
   "outputs": [
    {
     "name": "stdout",
     "output_type": "stream",
     "text": [
      "<class 'pandas.core.frame.DataFrame'>\n",
      "Int64Index: 48227 entries, 0 to 48226\n",
      "Data columns (total 16 columns):\n",
      " #   Column               Non-Null Count  Dtype                                \n",
      "---  ------               --------------  -----                                \n",
      " 0   index                48227 non-null  int64                                \n",
      " 1   user_id              48227 non-null  int64                                \n",
      " 2   date                 48227 non-null  datetime64[ns, pytz.FixedOffset(180)]\n",
      " 3   direction            48227 non-null  object                               \n",
      " 4   internal             48227 non-null  bool                                 \n",
      " 5   operator_id          48227 non-null  int64                                \n",
      " 6   is_missed_call       48227 non-null  bool                                 \n",
      " 7   calls_count          48227 non-null  int64                                \n",
      " 8   call_duration        48227 non-null  int64                                \n",
      " 9   total_call_duration  48227 non-null  int64                                \n",
      " 10  month_x              48227 non-null  int64                                \n",
      " 11  week_x               48227 non-null  UInt32                               \n",
      " 12  tariff_plan          48227 non-null  object                               \n",
      " 13  date_start           48227 non-null  datetime64[ns]                       \n",
      " 14  month_y              48227 non-null  int64                                \n",
      " 15  week_y               48227 non-null  UInt32                               \n",
      "dtypes: UInt32(2), bool(2), datetime64[ns, pytz.FixedOffset(180)](1), datetime64[ns](1), int64(8), object(2)\n",
      "memory usage: 5.3+ MB\n"
     ]
    }
   ],
   "source": [
    "clients_data.info()"
   ]
  },
  {
   "cell_type": "code",
   "execution_count": 75,
   "metadata": {},
   "outputs": [
    {
     "data": {
      "text/html": [
       "<div>\n",
       "<style scoped>\n",
       "    .dataframe tbody tr th:only-of-type {\n",
       "        vertical-align: middle;\n",
       "    }\n",
       "\n",
       "    .dataframe tbody tr th {\n",
       "        vertical-align: top;\n",
       "    }\n",
       "\n",
       "    .dataframe thead th {\n",
       "        text-align: right;\n",
       "    }\n",
       "</style>\n",
       "<table border=\"1\" class=\"dataframe\">\n",
       "  <thead>\n",
       "    <tr style=\"text-align: right;\">\n",
       "      <th></th>\n",
       "      <th>tariff_plan</th>\n",
       "      <th>user_sum</th>\n",
       "    </tr>\n",
       "  </thead>\n",
       "  <tbody>\n",
       "    <tr>\n",
       "      <th>0</th>\n",
       "      <td>A</td>\n",
       "      <td>34</td>\n",
       "    </tr>\n",
       "    <tr>\n",
       "      <th>1</th>\n",
       "      <td>B</td>\n",
       "      <td>112</td>\n",
       "    </tr>\n",
       "    <tr>\n",
       "      <th>2</th>\n",
       "      <td>C</td>\n",
       "      <td>161</td>\n",
       "    </tr>\n",
       "  </tbody>\n",
       "</table>\n",
       "</div>"
      ],
      "text/plain": [
       "  tariff_plan  user_sum\n",
       "0           A        34\n",
       "1           B       112\n",
       "2           C       161"
      ]
     },
     "execution_count": 75,
     "metadata": {},
     "output_type": "execute_result"
    }
   ],
   "source": [
    "sum_act_clients_by_tariff = clients_data.groupby('tariff_plan').agg({'user_id':'nunique'}).reset_index()\n",
    "sum_act_clients_by_tariff = sum_act_clients_by_tariff.rename(columns={'user_id': 'user_sum'})\n",
    "sum_act_clients_by_tariff"
   ]
  },
  {
   "cell_type": "code",
   "execution_count": 76,
   "metadata": {},
   "outputs": [
    {
     "name": "stdout",
     "output_type": "stream",
     "text": [
      "41.94 % клиентов совершали звонки и перешли в новый набор.\n"
     ]
    }
   ],
   "source": [
    "sum_act_clients_by_tariff['user_sum'].sum()\n",
    "print(round(sum_act_clients_by_tariff['user_sum'].sum()/sum_clients_by_tariff['user_sum'].sum()*100,2),'% клиентов совершали звонки и перешли в новый набор.')"
   ]
  },
  {
   "cell_type": "markdown",
   "metadata": {},
   "source": [
    "Количество строк после объединения не изменилось, пропуски отсутствуют. Количество клиентов, совершавших звонки примерно 42% от количества в файле clients."
   ]
  },
  {
   "cell_type": "code",
   "execution_count": 77,
   "metadata": {},
   "outputs": [
    {
     "data": {
      "image/png": "[encoded data removed]",
      "text/plain": [
       "<Figure size 720x720 with 1 Axes>"
      ]
     },
     "metadata": {},
     "output_type": "display_data"
    }
   ],
   "source": [
    "sum_act_clients_by_tariff.groupby(['tariff_plan']).sum().plot(kind='pie', y='user_sum', figsize=(10, 10), autopct='%1.1f%%', ylabel = '')\n",
    "plt.title('Доли активных клиентов на тарифных планах')\n",
    "plt.show()"
   ]
  },
  {
   "cell_type": "markdown",
   "metadata": {},
   "source": [
    "Как видно из таблицы распределение по тарифным планам клиентов совершавших звонки осталось примерно таким же на тарифном плане С - 52.4%, на тарифном плане В - 36.5% и на С - 11.1%. Будем считать активными тех клиентов, которые совершали звонки в последние 2 месяца октябрь-ноябрь."
   ]
  },
  {
   "cell_type": "markdown",
   "metadata": {},
   "source": [
    "Создадим список активных клиентов."
   ]
  },
  {
   "cell_type": "code",
   "execution_count": 78,
   "metadata": {},
   "outputs": [
    {
     "name": "stdout",
     "output_type": "stream",
     "text": [
      "Активных клиентов 295\n"
     ]
    }
   ],
   "source": [
    "active_clients = clients_data[clients_data['month_x'] >= 10]['user_id'].unique()\n",
    "print('Активных клиентов',active_clients.shape[0])"
   ]
  },
  {
   "cell_type": "markdown",
   "metadata": {},
   "source": [
    "**Выводы и наблюдения:**\n",
    "* Резкий скачок количества звонков выше среднего количества произошел на 39 неделе (после 23.09.2019). Самое большое количество звонков было на 41-й и 47-й неделях. Между ними наблюдался спад с минимумами на 43-44 неделями. Исследование будем проводить по всем данным.\n",
    "* Входящих звонков меньше в 3-4 раза.\n",
    "* Внутренних звонков всего 1.8%.\n",
    "* Большинство операторов совершили за все время исследования до 500 звонков, максимум 60221..\n",
    "* Пропущенных вызовов почти 52.1 %.\n",
    "* Большинство вызовов имеют длительность до 850 мин.\n",
    "* Наблюдается уменьшение подключений в последний месяц на тарифном плане С, хотя на нем сначала было больше всех подключений. На тарифном плане А подключения меньше всех и после небольшого роста к 42й неделе началось снижение.\n",
    "* Больше всего клиентов на тарифном плане С - 54%, на тарифном плане В - 35.7% и на A - 10.4%. \n",
    "* Распределение по тарифным планам клиентов совершавших звонки осталось примерно таким же на тарифном плане С - 52.4%, на тарифном плане В - 36.5% и на С - 11.1%. Будем считать активными тех клиентов, которые совершали звонки в последние 2 месяца октябрь-ноябрь.\n",
    "* Активных клиентов 295"
   ]
  },
  {
   "cell_type": "markdown",
   "metadata": {},
   "source": [
    "## Анализ экономических показателей."
   ]
  },
  {
   "cell_type": "markdown",
   "metadata": {},
   "source": [
    "### Исследование расходов клиентов на каждом из тарифов"
   ]
  },
  {
   "cell_type": "markdown",
   "metadata": {},
   "source": [
    "Создаем таблицу с параметрами тарифных планов."
   ]
  },
  {
   "cell_type": "code",
   "execution_count": 79,
   "metadata": {},
   "outputs": [
    {
     "data": {
      "text/html": [
       "<div>\n",
       "<style scoped>\n",
       "    .dataframe tbody tr th:only-of-type {\n",
       "        vertical-align: middle;\n",
       "    }\n",
       "\n",
       "    .dataframe tbody tr th {\n",
       "        vertical-align: top;\n",
       "    }\n",
       "\n",
       "    .dataframe thead th {\n",
       "        text-align: right;\n",
       "    }\n",
       "</style>\n",
       "<table border=\"1\" class=\"dataframe\">\n",
       "  <thead>\n",
       "    <tr style=\"text-align: right;\">\n",
       "      <th></th>\n",
       "      <th>tariff_plan</th>\n",
       "      <th>monthly_fee</th>\n",
       "      <th>operator_fee</th>\n",
       "      <th>bundle</th>\n",
       "      <th>internal_cost</th>\n",
       "      <th>external_cost</th>\n",
       "    </tr>\n",
       "  </thead>\n",
       "  <tbody>\n",
       "    <tr>\n",
       "      <th>0</th>\n",
       "      <td>A</td>\n",
       "      <td>4000</td>\n",
       "      <td>50</td>\n",
       "      <td>2000</td>\n",
       "      <td>0.1</td>\n",
       "      <td>0.3</td>\n",
       "    </tr>\n",
       "    <tr>\n",
       "      <th>1</th>\n",
       "      <td>B</td>\n",
       "      <td>2000</td>\n",
       "      <td>150</td>\n",
       "      <td>500</td>\n",
       "      <td>0.15</td>\n",
       "      <td>0.5</td>\n",
       "    </tr>\n",
       "    <tr>\n",
       "      <th>2</th>\n",
       "      <td>C</td>\n",
       "      <td>1000</td>\n",
       "      <td>300</td>\n",
       "      <td>0</td>\n",
       "      <td>0.3</td>\n",
       "      <td>0.7</td>\n",
       "    </tr>\n",
       "  </tbody>\n",
       "</table>\n",
       "</div>"
      ],
      "text/plain": [
       "  tariff_plan monthly_fee operator_fee bundle internal_cost external_cost\n",
       "0           A        4000           50   2000           0.1           0.3\n",
       "1           B        2000          150    500          0.15           0.5\n",
       "2           C        1000          300      0           0.3           0.7"
      ]
     },
     "execution_count": 79,
     "metadata": {},
     "output_type": "execute_result"
    }
   ],
   "source": [
    "tariff_plan = pd.DataFrame({'tariff_plan':['A','B','C'],'monthly_fee':['4000','2000','1000'],'operator_fee':['50','150','300'],'bundle':['2000','500','0'], 'internal_cost':['0.1','0.15','0.3'], 'external_cost':['0.3','0.5','0.7']})\n",
    "tariff_plan"
   ]
  },
  {
   "cell_type": "markdown",
   "metadata": {},
   "source": [
    "Посчитаем ежемесячные расходы активных клиентов в исследуемом периоде по тарифам, клиентам и направлениям."
   ]
  },
  {
   "cell_type": "code",
   "execution_count": 80,
   "metadata": {},
   "outputs": [
    {
     "data": {
      "text/html": [
       "<div>\n",
       "<style scoped>\n",
       "    .dataframe tbody tr th:only-of-type {\n",
       "        vertical-align: middle;\n",
       "    }\n",
       "\n",
       "    .dataframe tbody tr th {\n",
       "        vertical-align: top;\n",
       "    }\n",
       "\n",
       "    .dataframe thead th {\n",
       "        text-align: right;\n",
       "    }\n",
       "</style>\n",
       "<table border=\"1\" class=\"dataframe\">\n",
       "  <thead>\n",
       "    <tr style=\"text-align: right;\">\n",
       "      <th></th>\n",
       "      <th>tariff_plan</th>\n",
       "      <th>user_id</th>\n",
       "      <th>month_x</th>\n",
       "      <th>internal</th>\n",
       "      <th>total_call_duration</th>\n",
       "    </tr>\n",
       "  </thead>\n",
       "  <tbody>\n",
       "    <tr>\n",
       "      <th>0</th>\n",
       "      <td>A</td>\n",
       "      <td>166407</td>\n",
       "      <td>8</td>\n",
       "      <td>False</td>\n",
       "      <td>60</td>\n",
       "    </tr>\n",
       "    <tr>\n",
       "      <th>1</th>\n",
       "      <td>A</td>\n",
       "      <td>166407</td>\n",
       "      <td>8</td>\n",
       "      <td>True</td>\n",
       "      <td>37</td>\n",
       "    </tr>\n",
       "    <tr>\n",
       "      <th>2</th>\n",
       "      <td>A</td>\n",
       "      <td>166407</td>\n",
       "      <td>9</td>\n",
       "      <td>False</td>\n",
       "      <td>5957</td>\n",
       "    </tr>\n",
       "    <tr>\n",
       "      <th>3</th>\n",
       "      <td>A</td>\n",
       "      <td>166407</td>\n",
       "      <td>9</td>\n",
       "      <td>True</td>\n",
       "      <td>5956</td>\n",
       "    </tr>\n",
       "    <tr>\n",
       "      <th>4</th>\n",
       "      <td>A</td>\n",
       "      <td>166407</td>\n",
       "      <td>10</td>\n",
       "      <td>False</td>\n",
       "      <td>20147</td>\n",
       "    </tr>\n",
       "    <tr>\n",
       "      <th>5</th>\n",
       "      <td>A</td>\n",
       "      <td>166407</td>\n",
       "      <td>10</td>\n",
       "      <td>True</td>\n",
       "      <td>9577</td>\n",
       "    </tr>\n",
       "    <tr>\n",
       "      <th>6</th>\n",
       "      <td>A</td>\n",
       "      <td>166407</td>\n",
       "      <td>11</td>\n",
       "      <td>False</td>\n",
       "      <td>9940</td>\n",
       "    </tr>\n",
       "    <tr>\n",
       "      <th>7</th>\n",
       "      <td>A</td>\n",
       "      <td>166407</td>\n",
       "      <td>11</td>\n",
       "      <td>True</td>\n",
       "      <td>7199</td>\n",
       "    </tr>\n",
       "    <tr>\n",
       "      <th>8</th>\n",
       "      <td>A</td>\n",
       "      <td>166481</td>\n",
       "      <td>8</td>\n",
       "      <td>False</td>\n",
       "      <td>51</td>\n",
       "    </tr>\n",
       "    <tr>\n",
       "      <th>9</th>\n",
       "      <td>A</td>\n",
       "      <td>166481</td>\n",
       "      <td>9</td>\n",
       "      <td>False</td>\n",
       "      <td>15</td>\n",
       "    </tr>\n",
       "  </tbody>\n",
       "</table>\n",
       "</div>"
      ],
      "text/plain": [
       "  tariff_plan  user_id  month_x  internal  total_call_duration\n",
       "0           A   166407        8     False                   60\n",
       "1           A   166407        8      True                   37\n",
       "2           A   166407        9     False                 5957\n",
       "3           A   166407        9      True                 5956\n",
       "4           A   166407       10     False                20147\n",
       "5           A   166407       10      True                 9577\n",
       "6           A   166407       11     False                 9940\n",
       "7           A   166407       11      True                 7199\n",
       "8           A   166481        8     False                   51\n",
       "9           A   166481        9     False                   15"
      ]
     },
     "execution_count": 80,
     "metadata": {},
     "output_type": "execute_result"
    }
   ],
   "source": [
    "monthly_expenses = clients_data.query('user_id in @active_clients').groupby(['tariff_plan','user_id','month_x','internal']).agg({'total_call_duration':'sum'}).reset_index()\n",
    "monthly_expenses.head(10)"
   ]
  },
  {
   "cell_type": "markdown",
   "metadata": {},
   "source": [
    "Сделаем отдельные таблицы с длительностью внешних и внутренних звонков."
   ]
  },
  {
   "cell_type": "code",
   "execution_count": 81,
   "metadata": {},
   "outputs": [
    {
     "data": {
      "text/html": [
       "<div>\n",
       "<style scoped>\n",
       "    .dataframe tbody tr th:only-of-type {\n",
       "        vertical-align: middle;\n",
       "    }\n",
       "\n",
       "    .dataframe tbody tr th {\n",
       "        vertical-align: top;\n",
       "    }\n",
       "\n",
       "    .dataframe thead th {\n",
       "        text-align: right;\n",
       "    }\n",
       "</style>\n",
       "<table border=\"1\" class=\"dataframe\">\n",
       "  <thead>\n",
       "    <tr style=\"text-align: right;\">\n",
       "      <th></th>\n",
       "      <th>user_id</th>\n",
       "      <th>month_x</th>\n",
       "      <th>total_call_duration</th>\n",
       "    </tr>\n",
       "  </thead>\n",
       "  <tbody>\n",
       "    <tr>\n",
       "      <th>0</th>\n",
       "      <td>166407</td>\n",
       "      <td>8</td>\n",
       "      <td>37</td>\n",
       "    </tr>\n",
       "    <tr>\n",
       "      <th>1</th>\n",
       "      <td>166407</td>\n",
       "      <td>9</td>\n",
       "      <td>5956</td>\n",
       "    </tr>\n",
       "    <tr>\n",
       "      <th>2</th>\n",
       "      <td>166407</td>\n",
       "      <td>10</td>\n",
       "      <td>9577</td>\n",
       "    </tr>\n",
       "    <tr>\n",
       "      <th>3</th>\n",
       "      <td>166407</td>\n",
       "      <td>11</td>\n",
       "      <td>7199</td>\n",
       "    </tr>\n",
       "    <tr>\n",
       "      <th>4</th>\n",
       "      <td>166541</td>\n",
       "      <td>9</td>\n",
       "      <td>2707</td>\n",
       "    </tr>\n",
       "    <tr>\n",
       "      <th>...</th>\n",
       "      <td>...</td>\n",
       "      <td>...</td>\n",
       "      <td>...</td>\n",
       "    </tr>\n",
       "    <tr>\n",
       "      <th>336</th>\n",
       "      <td>168416</td>\n",
       "      <td>11</td>\n",
       "      <td>0</td>\n",
       "    </tr>\n",
       "    <tr>\n",
       "      <th>337</th>\n",
       "      <td>168466</td>\n",
       "      <td>11</td>\n",
       "      <td>0</td>\n",
       "    </tr>\n",
       "    <tr>\n",
       "      <th>338</th>\n",
       "      <td>168598</td>\n",
       "      <td>11</td>\n",
       "      <td>17</td>\n",
       "    </tr>\n",
       "    <tr>\n",
       "      <th>339</th>\n",
       "      <td>168601</td>\n",
       "      <td>11</td>\n",
       "      <td>0</td>\n",
       "    </tr>\n",
       "    <tr>\n",
       "      <th>340</th>\n",
       "      <td>168606</td>\n",
       "      <td>11</td>\n",
       "      <td>3754</td>\n",
       "    </tr>\n",
       "  </tbody>\n",
       "</table>\n",
       "<p>341 rows × 3 columns</p>\n",
       "</div>"
      ],
      "text/plain": [
       "     user_id  month_x  total_call_duration\n",
       "0     166407        8                   37\n",
       "1     166407        9                 5956\n",
       "2     166407       10                 9577\n",
       "3     166407       11                 7199\n",
       "4     166541        9                 2707\n",
       "..       ...      ...                  ...\n",
       "336   168416       11                    0\n",
       "337   168466       11                    0\n",
       "338   168598       11                   17\n",
       "339   168601       11                    0\n",
       "340   168606       11                 3754\n",
       "\n",
       "[341 rows x 3 columns]"
      ]
     },
     "execution_count": 81,
     "metadata": {},
     "output_type": "execute_result"
    }
   ],
   "source": [
    "internal_calls = monthly_expenses.loc[monthly_expenses['internal'] == True].reset_index()\n",
    "internal_calls.drop(['index','tariff_plan','internal'], axis=1, inplace=True)\n",
    "internal_calls"
   ]
  },
  {
   "cell_type": "code",
   "execution_count": 82,
   "metadata": {},
   "outputs": [
    {
     "data": {
      "text/html": [
       "<div>\n",
       "<style scoped>\n",
       "    .dataframe tbody tr th:only-of-type {\n",
       "        vertical-align: middle;\n",
       "    }\n",
       "\n",
       "    .dataframe tbody tr th {\n",
       "        vertical-align: top;\n",
       "    }\n",
       "\n",
       "    .dataframe thead th {\n",
       "        text-align: right;\n",
       "    }\n",
       "</style>\n",
       "<table border=\"1\" class=\"dataframe\">\n",
       "  <thead>\n",
       "    <tr style=\"text-align: right;\">\n",
       "      <th></th>\n",
       "      <th>user_id</th>\n",
       "      <th>month_x</th>\n",
       "      <th>total_call_duration</th>\n",
       "    </tr>\n",
       "  </thead>\n",
       "  <tbody>\n",
       "    <tr>\n",
       "      <th>0</th>\n",
       "      <td>166407</td>\n",
       "      <td>8</td>\n",
       "      <td>60</td>\n",
       "    </tr>\n",
       "    <tr>\n",
       "      <th>1</th>\n",
       "      <td>166407</td>\n",
       "      <td>9</td>\n",
       "      <td>5957</td>\n",
       "    </tr>\n",
       "    <tr>\n",
       "      <th>2</th>\n",
       "      <td>166407</td>\n",
       "      <td>10</td>\n",
       "      <td>20147</td>\n",
       "    </tr>\n",
       "    <tr>\n",
       "      <th>3</th>\n",
       "      <td>166407</td>\n",
       "      <td>11</td>\n",
       "      <td>9940</td>\n",
       "    </tr>\n",
       "    <tr>\n",
       "      <th>4</th>\n",
       "      <td>166481</td>\n",
       "      <td>8</td>\n",
       "      <td>51</td>\n",
       "    </tr>\n",
       "    <tr>\n",
       "      <th>...</th>\n",
       "      <td>...</td>\n",
       "      <td>...</td>\n",
       "      <td>...</td>\n",
       "    </tr>\n",
       "    <tr>\n",
       "      <th>773</th>\n",
       "      <td>168575</td>\n",
       "      <td>10</td>\n",
       "      <td>2</td>\n",
       "    </tr>\n",
       "    <tr>\n",
       "      <th>774</th>\n",
       "      <td>168575</td>\n",
       "      <td>11</td>\n",
       "      <td>860</td>\n",
       "    </tr>\n",
       "    <tr>\n",
       "      <th>775</th>\n",
       "      <td>168598</td>\n",
       "      <td>11</td>\n",
       "      <td>4871</td>\n",
       "    </tr>\n",
       "    <tr>\n",
       "      <th>776</th>\n",
       "      <td>168601</td>\n",
       "      <td>11</td>\n",
       "      <td>42871</td>\n",
       "    </tr>\n",
       "    <tr>\n",
       "      <th>777</th>\n",
       "      <td>168606</td>\n",
       "      <td>11</td>\n",
       "      <td>1858</td>\n",
       "    </tr>\n",
       "  </tbody>\n",
       "</table>\n",
       "<p>778 rows × 3 columns</p>\n",
       "</div>"
      ],
      "text/plain": [
       "     user_id  month_x  total_call_duration\n",
       "0     166407        8                   60\n",
       "1     166407        9                 5957\n",
       "2     166407       10                20147\n",
       "3     166407       11                 9940\n",
       "4     166481        8                   51\n",
       "..       ...      ...                  ...\n",
       "773   168575       10                    2\n",
       "774   168575       11                  860\n",
       "775   168598       11                 4871\n",
       "776   168601       11                42871\n",
       "777   168606       11                 1858\n",
       "\n",
       "[778 rows x 3 columns]"
      ]
     },
     "execution_count": 82,
     "metadata": {},
     "output_type": "execute_result"
    }
   ],
   "source": [
    "external_calls = monthly_expenses.loc[monthly_expenses['internal'] == False].reset_index()\n",
    "external_calls.drop(['index','tariff_plan','internal'], axis=1, inplace=True)\n",
    "external_calls"
   ]
  },
  {
   "cell_type": "code",
   "execution_count": 83,
   "metadata": {},
   "outputs": [
    {
     "name": "stdout",
     "output_type": "stream",
     "text": [
      "<class 'pandas.core.frame.DataFrame'>\n",
      "RangeIndex: 1119 entries, 0 to 1118\n",
      "Data columns (total 5 columns):\n",
      " #   Column               Non-Null Count  Dtype \n",
      "---  ------               --------------  ----- \n",
      " 0   tariff_plan          1119 non-null   object\n",
      " 1   user_id              1119 non-null   int64 \n",
      " 2   month_x              1119 non-null   int64 \n",
      " 3   internal             1119 non-null   bool  \n",
      " 4   total_call_duration  1119 non-null   int64 \n",
      "dtypes: bool(1), int64(3), object(1)\n",
      "memory usage: 36.2+ KB\n"
     ]
    }
   ],
   "source": [
    "monthly_expenses.info()"
   ]
  },
  {
   "cell_type": "markdown",
   "metadata": {},
   "source": [
    "Посчитаем количество операторов активных клиентов."
   ]
  },
  {
   "cell_type": "code",
   "execution_count": 84,
   "metadata": {
    "scrolled": false
   },
   "outputs": [
    {
     "data": {
      "text/html": [
       "<div>\n",
       "<style scoped>\n",
       "    .dataframe tbody tr th:only-of-type {\n",
       "        vertical-align: middle;\n",
       "    }\n",
       "\n",
       "    .dataframe tbody tr th {\n",
       "        vertical-align: top;\n",
       "    }\n",
       "\n",
       "    .dataframe thead th {\n",
       "        text-align: right;\n",
       "    }\n",
       "</style>\n",
       "<table border=\"1\" class=\"dataframe\">\n",
       "  <thead>\n",
       "    <tr style=\"text-align: right;\">\n",
       "      <th></th>\n",
       "      <th>tariff_plan</th>\n",
       "      <th>user_id</th>\n",
       "      <th>month_x</th>\n",
       "      <th>operator_id</th>\n",
       "    </tr>\n",
       "  </thead>\n",
       "  <tbody>\n",
       "    <tr>\n",
       "      <th>0</th>\n",
       "      <td>A</td>\n",
       "      <td>166407</td>\n",
       "      <td>8</td>\n",
       "      <td>5</td>\n",
       "    </tr>\n",
       "    <tr>\n",
       "      <th>1</th>\n",
       "      <td>A</td>\n",
       "      <td>166407</td>\n",
       "      <td>9</td>\n",
       "      <td>110</td>\n",
       "    </tr>\n",
       "    <tr>\n",
       "      <th>2</th>\n",
       "      <td>A</td>\n",
       "      <td>166407</td>\n",
       "      <td>10</td>\n",
       "      <td>180</td>\n",
       "    </tr>\n",
       "    <tr>\n",
       "      <th>3</th>\n",
       "      <td>A</td>\n",
       "      <td>166407</td>\n",
       "      <td>11</td>\n",
       "      <td>151</td>\n",
       "    </tr>\n",
       "    <tr>\n",
       "      <th>4</th>\n",
       "      <td>A</td>\n",
       "      <td>166481</td>\n",
       "      <td>8</td>\n",
       "      <td>6</td>\n",
       "    </tr>\n",
       "    <tr>\n",
       "      <th>...</th>\n",
       "      <td>...</td>\n",
       "      <td>...</td>\n",
       "      <td>...</td>\n",
       "      <td>...</td>\n",
       "    </tr>\n",
       "    <tr>\n",
       "      <th>773</th>\n",
       "      <td>C</td>\n",
       "      <td>168575</td>\n",
       "      <td>10</td>\n",
       "      <td>1</td>\n",
       "    </tr>\n",
       "    <tr>\n",
       "      <th>774</th>\n",
       "      <td>C</td>\n",
       "      <td>168575</td>\n",
       "      <td>11</td>\n",
       "      <td>11</td>\n",
       "    </tr>\n",
       "    <tr>\n",
       "      <th>775</th>\n",
       "      <td>C</td>\n",
       "      <td>168598</td>\n",
       "      <td>11</td>\n",
       "      <td>23</td>\n",
       "    </tr>\n",
       "    <tr>\n",
       "      <th>776</th>\n",
       "      <td>C</td>\n",
       "      <td>168601</td>\n",
       "      <td>11</td>\n",
       "      <td>69</td>\n",
       "    </tr>\n",
       "    <tr>\n",
       "      <th>777</th>\n",
       "      <td>C</td>\n",
       "      <td>168606</td>\n",
       "      <td>11</td>\n",
       "      <td>11</td>\n",
       "    </tr>\n",
       "  </tbody>\n",
       "</table>\n",
       "<p>778 rows × 4 columns</p>\n",
       "</div>"
      ],
      "text/plain": [
       "    tariff_plan  user_id  month_x  operator_id\n",
       "0             A   166407        8            5\n",
       "1             A   166407        9          110\n",
       "2             A   166407       10          180\n",
       "3             A   166407       11          151\n",
       "4             A   166481        8            6\n",
       "..          ...      ...      ...          ...\n",
       "773           C   168575       10            1\n",
       "774           C   168575       11           11\n",
       "775           C   168598       11           23\n",
       "776           C   168601       11           69\n",
       "777           C   168606       11           11\n",
       "\n",
       "[778 rows x 4 columns]"
      ]
     },
     "execution_count": 84,
     "metadata": {},
     "output_type": "execute_result"
    }
   ],
   "source": [
    "monthly_operators = clients_data.query('user_id in @active_clients').groupby(['tariff_plan','user_id','month_x']).agg({'operator_id':'count'}).reset_index()\n",
    "monthly_operators"
   ]
  },
  {
   "cell_type": "markdown",
   "metadata": {},
   "source": [
    "Добавим в таблицу длительность внутренних и внешних звонков."
   ]
  },
  {
   "cell_type": "code",
   "execution_count": 85,
   "metadata": {},
   "outputs": [
    {
     "data": {
      "text/html": [
       "<div>\n",
       "<style scoped>\n",
       "    .dataframe tbody tr th:only-of-type {\n",
       "        vertical-align: middle;\n",
       "    }\n",
       "\n",
       "    .dataframe tbody tr th {\n",
       "        vertical-align: top;\n",
       "    }\n",
       "\n",
       "    .dataframe thead th {\n",
       "        text-align: right;\n",
       "    }\n",
       "</style>\n",
       "<table border=\"1\" class=\"dataframe\">\n",
       "  <thead>\n",
       "    <tr style=\"text-align: right;\">\n",
       "      <th></th>\n",
       "      <th>level_0</th>\n",
       "      <th>index</th>\n",
       "      <th>tariff_plan</th>\n",
       "      <th>user_id</th>\n",
       "      <th>month</th>\n",
       "      <th>operator_count</th>\n",
       "      <th>internal_duration</th>\n",
       "      <th>external_duration</th>\n",
       "    </tr>\n",
       "  </thead>\n",
       "  <tbody>\n",
       "    <tr>\n",
       "      <th>0</th>\n",
       "      <td>0</td>\n",
       "      <td>0</td>\n",
       "      <td>A</td>\n",
       "      <td>166407</td>\n",
       "      <td>8</td>\n",
       "      <td>5</td>\n",
       "      <td>37.0</td>\n",
       "      <td>60</td>\n",
       "    </tr>\n",
       "    <tr>\n",
       "      <th>1</th>\n",
       "      <td>1</td>\n",
       "      <td>1</td>\n",
       "      <td>A</td>\n",
       "      <td>166407</td>\n",
       "      <td>9</td>\n",
       "      <td>110</td>\n",
       "      <td>5956.0</td>\n",
       "      <td>5957</td>\n",
       "    </tr>\n",
       "    <tr>\n",
       "      <th>2</th>\n",
       "      <td>2</td>\n",
       "      <td>2</td>\n",
       "      <td>A</td>\n",
       "      <td>166407</td>\n",
       "      <td>10</td>\n",
       "      <td>180</td>\n",
       "      <td>9577.0</td>\n",
       "      <td>20147</td>\n",
       "    </tr>\n",
       "    <tr>\n",
       "      <th>3</th>\n",
       "      <td>3</td>\n",
       "      <td>3</td>\n",
       "      <td>A</td>\n",
       "      <td>166407</td>\n",
       "      <td>11</td>\n",
       "      <td>151</td>\n",
       "      <td>7199.0</td>\n",
       "      <td>9940</td>\n",
       "    </tr>\n",
       "    <tr>\n",
       "      <th>4</th>\n",
       "      <td>4</td>\n",
       "      <td>4</td>\n",
       "      <td>A</td>\n",
       "      <td>166481</td>\n",
       "      <td>8</td>\n",
       "      <td>6</td>\n",
       "      <td>0.0</td>\n",
       "      <td>51</td>\n",
       "    </tr>\n",
       "    <tr>\n",
       "      <th>...</th>\n",
       "      <td>...</td>\n",
       "      <td>...</td>\n",
       "      <td>...</td>\n",
       "      <td>...</td>\n",
       "      <td>...</td>\n",
       "      <td>...</td>\n",
       "      <td>...</td>\n",
       "      <td>...</td>\n",
       "    </tr>\n",
       "    <tr>\n",
       "      <th>773</th>\n",
       "      <td>773</td>\n",
       "      <td>773</td>\n",
       "      <td>C</td>\n",
       "      <td>168575</td>\n",
       "      <td>10</td>\n",
       "      <td>1</td>\n",
       "      <td>0.0</td>\n",
       "      <td>2</td>\n",
       "    </tr>\n",
       "    <tr>\n",
       "      <th>774</th>\n",
       "      <td>774</td>\n",
       "      <td>774</td>\n",
       "      <td>C</td>\n",
       "      <td>168575</td>\n",
       "      <td>11</td>\n",
       "      <td>11</td>\n",
       "      <td>0.0</td>\n",
       "      <td>860</td>\n",
       "    </tr>\n",
       "    <tr>\n",
       "      <th>775</th>\n",
       "      <td>775</td>\n",
       "      <td>775</td>\n",
       "      <td>C</td>\n",
       "      <td>168598</td>\n",
       "      <td>11</td>\n",
       "      <td>23</td>\n",
       "      <td>17.0</td>\n",
       "      <td>4871</td>\n",
       "    </tr>\n",
       "    <tr>\n",
       "      <th>776</th>\n",
       "      <td>776</td>\n",
       "      <td>776</td>\n",
       "      <td>C</td>\n",
       "      <td>168601</td>\n",
       "      <td>11</td>\n",
       "      <td>69</td>\n",
       "      <td>0.0</td>\n",
       "      <td>42871</td>\n",
       "    </tr>\n",
       "    <tr>\n",
       "      <th>777</th>\n",
       "      <td>777</td>\n",
       "      <td>777</td>\n",
       "      <td>C</td>\n",
       "      <td>168606</td>\n",
       "      <td>11</td>\n",
       "      <td>11</td>\n",
       "      <td>3754.0</td>\n",
       "      <td>1858</td>\n",
       "    </tr>\n",
       "  </tbody>\n",
       "</table>\n",
       "<p>778 rows × 8 columns</p>\n",
       "</div>"
      ],
      "text/plain": [
       "     level_0  index tariff_plan  user_id  month  operator_count  \\\n",
       "0          0      0           A   166407      8               5   \n",
       "1          1      1           A   166407      9             110   \n",
       "2          2      2           A   166407     10             180   \n",
       "3          3      3           A   166407     11             151   \n",
       "4          4      4           A   166481      8               6   \n",
       "..       ...    ...         ...      ...    ...             ...   \n",
       "773      773    773           C   168575     10               1   \n",
       "774      774    774           C   168575     11              11   \n",
       "775      775    775           C   168598     11              23   \n",
       "776      776    776           C   168601     11              69   \n",
       "777      777    777           C   168606     11              11   \n",
       "\n",
       "     internal_duration  external_duration  \n",
       "0                 37.0                 60  \n",
       "1               5956.0               5957  \n",
       "2               9577.0              20147  \n",
       "3               7199.0               9940  \n",
       "4                  0.0                 51  \n",
       "..                 ...                ...  \n",
       "773                0.0                  2  \n",
       "774                0.0                860  \n",
       "775               17.0               4871  \n",
       "776                0.0              42871  \n",
       "777             3754.0               1858  \n",
       "\n",
       "[778 rows x 8 columns]"
      ]
     },
     "execution_count": 85,
     "metadata": {},
     "output_type": "execute_result"
    }
   ],
   "source": [
    "monthly_costs = monthly_operators.merge(internal_calls, on=['user_id','month_x'], how='left').reset_index()\n",
    "monthly_costs = monthly_costs.rename(columns={\"total_call_duration\":\"internal_duration\"})\n",
    "monthly_costs = monthly_costs.merge(external_calls, on=['user_id','month_x'], how='left').reset_index()\n",
    "monthly_costs = monthly_costs.rename(columns={\"total_call_duration\":\"external_duration\"})\n",
    "monthly_costs = monthly_costs.rename(columns={\"operator_id\":\"operator_count\"})\n",
    "monthly_costs = monthly_costs.rename(columns={\"month_x\":\"month\"})\n",
    "monthly_costs['internal_duration'] = monthly_costs['internal_duration'].fillna(0)\n",
    "monthly_costs['external_duration'] = monthly_costs['external_duration'].fillna(0)\n",
    "monthly_costs"
   ]
  },
  {
   "cell_type": "code",
   "execution_count": 86,
   "metadata": {},
   "outputs": [
    {
     "name": "stdout",
     "output_type": "stream",
     "text": [
      "<class 'pandas.core.frame.DataFrame'>\n",
      "RangeIndex: 778 entries, 0 to 777\n",
      "Data columns (total 8 columns):\n",
      " #   Column             Non-Null Count  Dtype  \n",
      "---  ------             --------------  -----  \n",
      " 0   level_0            778 non-null    int64  \n",
      " 1   index              778 non-null    int64  \n",
      " 2   tariff_plan        778 non-null    object \n",
      " 3   user_id            778 non-null    int64  \n",
      " 4   month              778 non-null    int64  \n",
      " 5   operator_count     778 non-null    int64  \n",
      " 6   internal_duration  778 non-null    float64\n",
      " 7   external_duration  778 non-null    int64  \n",
      "dtypes: float64(1), int64(6), object(1)\n",
      "memory usage: 48.8+ KB\n"
     ]
    }
   ],
   "source": [
    "monthly_costs.info()"
   ]
  },
  {
   "cell_type": "code",
   "execution_count": 87,
   "metadata": {},
   "outputs": [
    {
     "name": "stdout",
     "output_type": "stream",
     "text": [
      "<class 'pandas.core.frame.DataFrame'>\n",
      "RangeIndex: 3 entries, 0 to 2\n",
      "Data columns (total 6 columns):\n",
      " #   Column         Non-Null Count  Dtype \n",
      "---  ------         --------------  ----- \n",
      " 0   tariff_plan    3 non-null      object\n",
      " 1   monthly_fee    3 non-null      object\n",
      " 2   operator_fee   3 non-null      object\n",
      " 3   bundle         3 non-null      object\n",
      " 4   internal_cost  3 non-null      object\n",
      " 5   external_cost  3 non-null      object\n",
      "dtypes: object(6)\n",
      "memory usage: 272.0+ bytes\n"
     ]
    }
   ],
   "source": [
    "tariff_plan.info()"
   ]
  },
  {
   "cell_type": "markdown",
   "metadata": {},
   "source": [
    "Меняем типы данных для расчетов."
   ]
  },
  {
   "cell_type": "code",
   "execution_count": 88,
   "metadata": {},
   "outputs": [],
   "source": [
    "tariff_plan['internal_cost'] = tariff_plan['internal_cost'].astype('float')\n",
    "tariff_plan['external_cost'] = tariff_plan['external_cost'].astype('float')\n",
    "tariff_plan['monthly_fee'] = tariff_plan['monthly_fee'].astype('int')\n",
    "tariff_plan['operator_fee'] = tariff_plan['operator_fee'].astype('int')\n",
    "tariff_plan['bundle'] = tariff_plan['bundle'].astype('int')\n",
    "monthly_costs['internal_duration'] = monthly_costs['internal_duration'].astype('int')\n",
    "monthly_costs['external_duration'] = monthly_costs['external_duration'].astype('int')"
   ]
  },
  {
   "cell_type": "code",
   "execution_count": 89,
   "metadata": {},
   "outputs": [
    {
     "data": {
      "text/html": [
       "<div>\n",
       "<style scoped>\n",
       "    .dataframe tbody tr th:only-of-type {\n",
       "        vertical-align: middle;\n",
       "    }\n",
       "\n",
       "    .dataframe tbody tr th {\n",
       "        vertical-align: top;\n",
       "    }\n",
       "\n",
       "    .dataframe thead th {\n",
       "        text-align: right;\n",
       "    }\n",
       "</style>\n",
       "<table border=\"1\" class=\"dataframe\">\n",
       "  <thead>\n",
       "    <tr style=\"text-align: right;\">\n",
       "      <th></th>\n",
       "      <th>tariff_plan</th>\n",
       "      <th>monthly_fee</th>\n",
       "      <th>operator_fee</th>\n",
       "      <th>bundle</th>\n",
       "      <th>internal_cost</th>\n",
       "      <th>external_cost</th>\n",
       "    </tr>\n",
       "  </thead>\n",
       "  <tbody>\n",
       "    <tr>\n",
       "      <th>0</th>\n",
       "      <td>A</td>\n",
       "      <td>4000</td>\n",
       "      <td>50</td>\n",
       "      <td>2000</td>\n",
       "      <td>0.10</td>\n",
       "      <td>0.3</td>\n",
       "    </tr>\n",
       "    <tr>\n",
       "      <th>1</th>\n",
       "      <td>B</td>\n",
       "      <td>2000</td>\n",
       "      <td>150</td>\n",
       "      <td>500</td>\n",
       "      <td>0.15</td>\n",
       "      <td>0.5</td>\n",
       "    </tr>\n",
       "    <tr>\n",
       "      <th>2</th>\n",
       "      <td>C</td>\n",
       "      <td>1000</td>\n",
       "      <td>300</td>\n",
       "      <td>0</td>\n",
       "      <td>0.30</td>\n",
       "      <td>0.7</td>\n",
       "    </tr>\n",
       "  </tbody>\n",
       "</table>\n",
       "</div>"
      ],
      "text/plain": [
       "  tariff_plan  monthly_fee  operator_fee  bundle  internal_cost  external_cost\n",
       "0           A         4000            50    2000           0.10            0.3\n",
       "1           B         2000           150     500           0.15            0.5\n",
       "2           C         1000           300       0           0.30            0.7"
      ]
     },
     "execution_count": 89,
     "metadata": {},
     "output_type": "execute_result"
    }
   ],
   "source": [
    "tariff_plan"
   ]
  },
  {
   "cell_type": "code",
   "execution_count": 90,
   "metadata": {},
   "outputs": [
    {
     "data": {
      "text/html": [
       "<div>\n",
       "<style scoped>\n",
       "    .dataframe tbody tr th:only-of-type {\n",
       "        vertical-align: middle;\n",
       "    }\n",
       "\n",
       "    .dataframe tbody tr th {\n",
       "        vertical-align: top;\n",
       "    }\n",
       "\n",
       "    .dataframe thead th {\n",
       "        text-align: right;\n",
       "    }\n",
       "</style>\n",
       "<table border=\"1\" class=\"dataframe\">\n",
       "  <thead>\n",
       "    <tr style=\"text-align: right;\">\n",
       "      <th></th>\n",
       "      <th>level_0</th>\n",
       "      <th>index</th>\n",
       "      <th>tariff_plan</th>\n",
       "      <th>user_id</th>\n",
       "      <th>month</th>\n",
       "      <th>operator_count</th>\n",
       "      <th>internal_duration</th>\n",
       "      <th>external_duration</th>\n",
       "    </tr>\n",
       "  </thead>\n",
       "  <tbody>\n",
       "    <tr>\n",
       "      <th>0</th>\n",
       "      <td>0</td>\n",
       "      <td>0</td>\n",
       "      <td>A</td>\n",
       "      <td>166407</td>\n",
       "      <td>8</td>\n",
       "      <td>5</td>\n",
       "      <td>37</td>\n",
       "      <td>60</td>\n",
       "    </tr>\n",
       "    <tr>\n",
       "      <th>1</th>\n",
       "      <td>1</td>\n",
       "      <td>1</td>\n",
       "      <td>A</td>\n",
       "      <td>166407</td>\n",
       "      <td>9</td>\n",
       "      <td>110</td>\n",
       "      <td>5956</td>\n",
       "      <td>5957</td>\n",
       "    </tr>\n",
       "    <tr>\n",
       "      <th>2</th>\n",
       "      <td>2</td>\n",
       "      <td>2</td>\n",
       "      <td>A</td>\n",
       "      <td>166407</td>\n",
       "      <td>10</td>\n",
       "      <td>180</td>\n",
       "      <td>9577</td>\n",
       "      <td>20147</td>\n",
       "    </tr>\n",
       "    <tr>\n",
       "      <th>3</th>\n",
       "      <td>3</td>\n",
       "      <td>3</td>\n",
       "      <td>A</td>\n",
       "      <td>166407</td>\n",
       "      <td>11</td>\n",
       "      <td>151</td>\n",
       "      <td>7199</td>\n",
       "      <td>9940</td>\n",
       "    </tr>\n",
       "    <tr>\n",
       "      <th>4</th>\n",
       "      <td>4</td>\n",
       "      <td>4</td>\n",
       "      <td>A</td>\n",
       "      <td>166481</td>\n",
       "      <td>8</td>\n",
       "      <td>6</td>\n",
       "      <td>0</td>\n",
       "      <td>51</td>\n",
       "    </tr>\n",
       "  </tbody>\n",
       "</table>\n",
       "</div>"
      ],
      "text/plain": [
       "   level_0  index tariff_plan  user_id  month  operator_count  \\\n",
       "0        0      0           A   166407      8               5   \n",
       "1        1      1           A   166407      9             110   \n",
       "2        2      2           A   166407     10             180   \n",
       "3        3      3           A   166407     11             151   \n",
       "4        4      4           A   166481      8               6   \n",
       "\n",
       "   internal_duration  external_duration  \n",
       "0                 37                 60  \n",
       "1               5956               5957  \n",
       "2               9577              20147  \n",
       "3               7199               9940  \n",
       "4                  0                 51  "
      ]
     },
     "execution_count": 90,
     "metadata": {},
     "output_type": "execute_result"
    }
   ],
   "source": [
    "monthly_costs.head()"
   ]
  },
  {
   "cell_type": "markdown",
   "metadata": {},
   "source": [
    "Создадим отдельные переменные с параметрами тарифных планов для расчетов."
   ]
  },
  {
   "cell_type": "code",
   "execution_count": 91,
   "metadata": {},
   "outputs": [],
   "source": [
    "monthly_fee_A = tariff_plan['monthly_fee'].loc[tariff_plan['tariff_plan']=='A']\n",
    "monthly_fee_B = tariff_plan['monthly_fee'].loc[tariff_plan['tariff_plan']=='B']\n",
    "monthly_fee_C = tariff_plan['monthly_fee'].loc[tariff_plan['tariff_plan']=='C']\n",
    "operator_fee_A = tariff_plan['operator_fee'].loc[tariff_plan['tariff_plan']=='A']\n",
    "operator_fee_B = tariff_plan['operator_fee'].loc[tariff_plan['tariff_plan']=='B']\n",
    "operator_fee_C = tariff_plan['operator_fee'].loc[tariff_plan['tariff_plan']=='C']\n",
    "bundle_A = tariff_plan['bundle'].loc[tariff_plan['tariff_plan']=='A']\n",
    "bundle_B = tariff_plan['bundle'].loc[tariff_plan['tariff_plan']=='B']\n",
    "bundle_C = tariff_plan['bundle'].loc[tariff_plan['tariff_plan']=='C']\n",
    "internal_cost_A = tariff_plan['internal_cost'].loc[tariff_plan['tariff_plan']=='A']\n",
    "internal_cost_B = tariff_plan['internal_cost'].loc[tariff_plan['tariff_plan']=='B']\n",
    "internal_cost_C = tariff_plan['internal_cost'].loc[tariff_plan['tariff_plan']=='C']\n",
    "external_cost_A = tariff_plan['external_cost'].loc[tariff_plan['tariff_plan']=='A']\n",
    "external_cost_B = tariff_plan['external_cost'].loc[tariff_plan['tariff_plan']=='B']\n",
    "external_cost_C = tariff_plan['external_cost'].loc[tariff_plan['tariff_plan']=='C']"
   ]
  },
  {
   "cell_type": "markdown",
   "metadata": {},
   "source": [
    "Создадим функции для расчетов стоимости услуг на всех тарифах."
   ]
  },
  {
   "cell_type": "code",
   "execution_count": 92,
   "metadata": {},
   "outputs": [],
   "source": [
    "def calc_cost_A(monthly_costs):\n",
    "    if monthly_costs['internal_duration']>2000:\n",
    "        calc_cost_A = (monthly_costs['internal_duration']-bundle_A)*internal_cost_A+monthly_costs['operator_count']*operator_fee_A+monthly_fee_A\n",
    "    else:\n",
    "        calc_cost_A = monthly_costs['operator_count']*operator_fee_A+monthly_fee_A\n",
    "    return calc_cost_A"
   ]
  },
  {
   "cell_type": "code",
   "execution_count": 93,
   "metadata": {},
   "outputs": [],
   "source": [
    "def calc_cost_B(monthly_costs):\n",
    "    if monthly_costs['internal_duration']>500:\n",
    "        calc_cost_B = (monthly_costs['internal_duration']-bundle_B)*internal_cost_B+monthly_costs['operator_count']*operator_fee_B+monthly_fee_B\n",
    "    else:\n",
    "        calc_cost_B = monthly_costs['operator_count']*operator_fee_B+monthly_fee_B\n",
    "    return calc_cost_B"
   ]
  },
  {
   "cell_type": "code",
   "execution_count": 94,
   "metadata": {},
   "outputs": [],
   "source": [
    "def calc_cost_C(monthly_costs):\n",
    "    if monthly_costs['operator_count']>0:\n",
    "        calc_cost_C = monthly_costs['operator_count']*operator_fee_C+monthly_fee_C\n",
    "    else:\n",
    "        calc_cost_C = monthly_fee_C\n",
    "    return calc_cost_C"
   ]
  },
  {
   "cell_type": "code",
   "execution_count": 95,
   "metadata": {},
   "outputs": [],
   "source": [
    "monthly_costs['calc_cost_A'] = monthly_costs.apply(calc_cost_A, axis=1)\n",
    "monthly_costs['calc_cost_B'] = monthly_costs.apply(calc_cost_B, axis=1)\n",
    "monthly_costs['calc_cost_C'] = monthly_costs.apply(calc_cost_C, axis=1)"
   ]
  },
  {
   "cell_type": "code",
   "execution_count": 96,
   "metadata": {},
   "outputs": [
    {
     "data": {
      "text/html": [
       "<div>\n",
       "<style scoped>\n",
       "    .dataframe tbody tr th:only-of-type {\n",
       "        vertical-align: middle;\n",
       "    }\n",
       "\n",
       "    .dataframe tbody tr th {\n",
       "        vertical-align: top;\n",
       "    }\n",
       "\n",
       "    .dataframe thead th {\n",
       "        text-align: right;\n",
       "    }\n",
       "</style>\n",
       "<table border=\"1\" class=\"dataframe\">\n",
       "  <thead>\n",
       "    <tr style=\"text-align: right;\">\n",
       "      <th></th>\n",
       "      <th>level_0</th>\n",
       "      <th>index</th>\n",
       "      <th>tariff_plan</th>\n",
       "      <th>user_id</th>\n",
       "      <th>month</th>\n",
       "      <th>operator_count</th>\n",
       "      <th>internal_duration</th>\n",
       "      <th>external_duration</th>\n",
       "      <th>calc_cost_A</th>\n",
       "      <th>calc_cost_B</th>\n",
       "      <th>calc_cost_C</th>\n",
       "    </tr>\n",
       "  </thead>\n",
       "  <tbody>\n",
       "    <tr>\n",
       "      <th>0</th>\n",
       "      <td>0</td>\n",
       "      <td>0</td>\n",
       "      <td>A</td>\n",
       "      <td>166407</td>\n",
       "      <td>8</td>\n",
       "      <td>5</td>\n",
       "      <td>37</td>\n",
       "      <td>60</td>\n",
       "      <td>4250.0</td>\n",
       "      <td>2750.00</td>\n",
       "      <td>2500</td>\n",
       "    </tr>\n",
       "    <tr>\n",
       "      <th>1</th>\n",
       "      <td>1</td>\n",
       "      <td>1</td>\n",
       "      <td>A</td>\n",
       "      <td>166407</td>\n",
       "      <td>9</td>\n",
       "      <td>110</td>\n",
       "      <td>5956</td>\n",
       "      <td>5957</td>\n",
       "      <td>9895.6</td>\n",
       "      <td>19318.40</td>\n",
       "      <td>34000</td>\n",
       "    </tr>\n",
       "    <tr>\n",
       "      <th>2</th>\n",
       "      <td>2</td>\n",
       "      <td>2</td>\n",
       "      <td>A</td>\n",
       "      <td>166407</td>\n",
       "      <td>10</td>\n",
       "      <td>180</td>\n",
       "      <td>9577</td>\n",
       "      <td>20147</td>\n",
       "      <td>13757.7</td>\n",
       "      <td>30361.55</td>\n",
       "      <td>55000</td>\n",
       "    </tr>\n",
       "    <tr>\n",
       "      <th>3</th>\n",
       "      <td>3</td>\n",
       "      <td>3</td>\n",
       "      <td>A</td>\n",
       "      <td>166407</td>\n",
       "      <td>11</td>\n",
       "      <td>151</td>\n",
       "      <td>7199</td>\n",
       "      <td>9940</td>\n",
       "      <td>12069.9</td>\n",
       "      <td>25654.85</td>\n",
       "      <td>46300</td>\n",
       "    </tr>\n",
       "    <tr>\n",
       "      <th>4</th>\n",
       "      <td>4</td>\n",
       "      <td>4</td>\n",
       "      <td>A</td>\n",
       "      <td>166481</td>\n",
       "      <td>8</td>\n",
       "      <td>6</td>\n",
       "      <td>0</td>\n",
       "      <td>51</td>\n",
       "      <td>4300.0</td>\n",
       "      <td>2900.00</td>\n",
       "      <td>2800</td>\n",
       "    </tr>\n",
       "  </tbody>\n",
       "</table>\n",
       "</div>"
      ],
      "text/plain": [
       "   level_0  index tariff_plan  user_id  month  operator_count  \\\n",
       "0        0      0           A   166407      8               5   \n",
       "1        1      1           A   166407      9             110   \n",
       "2        2      2           A   166407     10             180   \n",
       "3        3      3           A   166407     11             151   \n",
       "4        4      4           A   166481      8               6   \n",
       "\n",
       "   internal_duration  external_duration  calc_cost_A  calc_cost_B  calc_cost_C  \n",
       "0                 37                 60       4250.0      2750.00         2500  \n",
       "1               5956               5957       9895.6     19318.40        34000  \n",
       "2               9577              20147      13757.7     30361.55        55000  \n",
       "3               7199               9940      12069.9     25654.85        46300  \n",
       "4                  0                 51       4300.0      2900.00         2800  "
      ]
     },
     "execution_count": 96,
     "metadata": {},
     "output_type": "execute_result"
    }
   ],
   "source": [
    "monthly_costs.head()"
   ]
  },
  {
   "cell_type": "markdown",
   "metadata": {},
   "source": [
    "Найдем стоимость текущего тарифа."
   ]
  },
  {
   "cell_type": "code",
   "execution_count": 97,
   "metadata": {},
   "outputs": [],
   "source": [
    "def current_cost(monthly_costs):\n",
    "    if monthly_costs['tariff_plan']=='A':\n",
    "        return monthly_costs['calc_cost_A']\n",
    "    if monthly_costs['tariff_plan']=='B':\n",
    "        return monthly_costs['calc_cost_B']\n",
    "    if monthly_costs['tariff_plan']=='C':\n",
    "        return monthly_costs['calc_cost_C']"
   ]
  },
  {
   "cell_type": "code",
   "execution_count": 98,
   "metadata": {},
   "outputs": [],
   "source": [
    "monthly_costs['current_cost'] = monthly_costs.apply(current_cost, axis=1)"
   ]
  },
  {
   "cell_type": "code",
   "execution_count": 99,
   "metadata": {},
   "outputs": [
    {
     "data": {
      "text/html": [
       "<div>\n",
       "<style scoped>\n",
       "    .dataframe tbody tr th:only-of-type {\n",
       "        vertical-align: middle;\n",
       "    }\n",
       "\n",
       "    .dataframe tbody tr th {\n",
       "        vertical-align: top;\n",
       "    }\n",
       "\n",
       "    .dataframe thead th {\n",
       "        text-align: right;\n",
       "    }\n",
       "</style>\n",
       "<table border=\"1\" class=\"dataframe\">\n",
       "  <thead>\n",
       "    <tr style=\"text-align: right;\">\n",
       "      <th></th>\n",
       "      <th>level_0</th>\n",
       "      <th>index</th>\n",
       "      <th>tariff_plan</th>\n",
       "      <th>user_id</th>\n",
       "      <th>month</th>\n",
       "      <th>operator_count</th>\n",
       "      <th>internal_duration</th>\n",
       "      <th>external_duration</th>\n",
       "      <th>calc_cost_A</th>\n",
       "      <th>calc_cost_B</th>\n",
       "      <th>calc_cost_C</th>\n",
       "      <th>current_cost</th>\n",
       "    </tr>\n",
       "  </thead>\n",
       "  <tbody>\n",
       "    <tr>\n",
       "      <th>0</th>\n",
       "      <td>0</td>\n",
       "      <td>0</td>\n",
       "      <td>A</td>\n",
       "      <td>166407</td>\n",
       "      <td>8</td>\n",
       "      <td>5</td>\n",
       "      <td>37</td>\n",
       "      <td>60</td>\n",
       "      <td>4250.0</td>\n",
       "      <td>2750.00</td>\n",
       "      <td>2500</td>\n",
       "      <td>4250.0</td>\n",
       "    </tr>\n",
       "    <tr>\n",
       "      <th>1</th>\n",
       "      <td>1</td>\n",
       "      <td>1</td>\n",
       "      <td>A</td>\n",
       "      <td>166407</td>\n",
       "      <td>9</td>\n",
       "      <td>110</td>\n",
       "      <td>5956</td>\n",
       "      <td>5957</td>\n",
       "      <td>9895.6</td>\n",
       "      <td>19318.40</td>\n",
       "      <td>34000</td>\n",
       "      <td>9895.6</td>\n",
       "    </tr>\n",
       "    <tr>\n",
       "      <th>2</th>\n",
       "      <td>2</td>\n",
       "      <td>2</td>\n",
       "      <td>A</td>\n",
       "      <td>166407</td>\n",
       "      <td>10</td>\n",
       "      <td>180</td>\n",
       "      <td>9577</td>\n",
       "      <td>20147</td>\n",
       "      <td>13757.7</td>\n",
       "      <td>30361.55</td>\n",
       "      <td>55000</td>\n",
       "      <td>13757.7</td>\n",
       "    </tr>\n",
       "    <tr>\n",
       "      <th>3</th>\n",
       "      <td>3</td>\n",
       "      <td>3</td>\n",
       "      <td>A</td>\n",
       "      <td>166407</td>\n",
       "      <td>11</td>\n",
       "      <td>151</td>\n",
       "      <td>7199</td>\n",
       "      <td>9940</td>\n",
       "      <td>12069.9</td>\n",
       "      <td>25654.85</td>\n",
       "      <td>46300</td>\n",
       "      <td>12069.9</td>\n",
       "    </tr>\n",
       "    <tr>\n",
       "      <th>4</th>\n",
       "      <td>4</td>\n",
       "      <td>4</td>\n",
       "      <td>A</td>\n",
       "      <td>166481</td>\n",
       "      <td>8</td>\n",
       "      <td>6</td>\n",
       "      <td>0</td>\n",
       "      <td>51</td>\n",
       "      <td>4300.0</td>\n",
       "      <td>2900.00</td>\n",
       "      <td>2800</td>\n",
       "      <td>4300.0</td>\n",
       "    </tr>\n",
       "  </tbody>\n",
       "</table>\n",
       "</div>"
      ],
      "text/plain": [
       "   level_0  index tariff_plan  user_id  month  operator_count  \\\n",
       "0        0      0           A   166407      8               5   \n",
       "1        1      1           A   166407      9             110   \n",
       "2        2      2           A   166407     10             180   \n",
       "3        3      3           A   166407     11             151   \n",
       "4        4      4           A   166481      8               6   \n",
       "\n",
       "   internal_duration  external_duration  calc_cost_A  calc_cost_B  \\\n",
       "0                 37                 60       4250.0      2750.00   \n",
       "1               5956               5957       9895.6     19318.40   \n",
       "2               9577              20147      13757.7     30361.55   \n",
       "3               7199               9940      12069.9     25654.85   \n",
       "4                  0                 51       4300.0      2900.00   \n",
       "\n",
       "   calc_cost_C  current_cost  \n",
       "0         2500        4250.0  \n",
       "1        34000        9895.6  \n",
       "2        55000       13757.7  \n",
       "3        46300       12069.9  \n",
       "4         2800        4300.0  "
      ]
     },
     "execution_count": 99,
     "metadata": {},
     "output_type": "execute_result"
    }
   ],
   "source": [
    "monthly_costs.head()"
   ]
  },
  {
   "cell_type": "markdown",
   "metadata": {},
   "source": [
    "Найдем тарифный план с минимальными затратами."
   ]
  },
  {
   "cell_type": "code",
   "execution_count": 100,
   "metadata": {},
   "outputs": [],
   "source": [
    "monthly_costs['min_cost'] = monthly_costs[['calc_cost_A', 'calc_cost_B', 'calc_cost_C']].min(axis=1)"
   ]
  },
  {
   "cell_type": "code",
   "execution_count": 101,
   "metadata": {},
   "outputs": [
    {
     "data": {
      "text/html": [
       "<div>\n",
       "<style scoped>\n",
       "    .dataframe tbody tr th:only-of-type {\n",
       "        vertical-align: middle;\n",
       "    }\n",
       "\n",
       "    .dataframe tbody tr th {\n",
       "        vertical-align: top;\n",
       "    }\n",
       "\n",
       "    .dataframe thead th {\n",
       "        text-align: right;\n",
       "    }\n",
       "</style>\n",
       "<table border=\"1\" class=\"dataframe\">\n",
       "  <thead>\n",
       "    <tr style=\"text-align: right;\">\n",
       "      <th></th>\n",
       "      <th>level_0</th>\n",
       "      <th>index</th>\n",
       "      <th>tariff_plan</th>\n",
       "      <th>user_id</th>\n",
       "      <th>month</th>\n",
       "      <th>operator_count</th>\n",
       "      <th>internal_duration</th>\n",
       "      <th>external_duration</th>\n",
       "      <th>calc_cost_A</th>\n",
       "      <th>calc_cost_B</th>\n",
       "      <th>calc_cost_C</th>\n",
       "      <th>current_cost</th>\n",
       "      <th>min_cost</th>\n",
       "    </tr>\n",
       "  </thead>\n",
       "  <tbody>\n",
       "    <tr>\n",
       "      <th>0</th>\n",
       "      <td>0</td>\n",
       "      <td>0</td>\n",
       "      <td>A</td>\n",
       "      <td>166407</td>\n",
       "      <td>8</td>\n",
       "      <td>5</td>\n",
       "      <td>37</td>\n",
       "      <td>60</td>\n",
       "      <td>4250.0</td>\n",
       "      <td>2750.00</td>\n",
       "      <td>2500</td>\n",
       "      <td>4250.0</td>\n",
       "      <td>2500.0</td>\n",
       "    </tr>\n",
       "    <tr>\n",
       "      <th>1</th>\n",
       "      <td>1</td>\n",
       "      <td>1</td>\n",
       "      <td>A</td>\n",
       "      <td>166407</td>\n",
       "      <td>9</td>\n",
       "      <td>110</td>\n",
       "      <td>5956</td>\n",
       "      <td>5957</td>\n",
       "      <td>9895.6</td>\n",
       "      <td>19318.40</td>\n",
       "      <td>34000</td>\n",
       "      <td>9895.6</td>\n",
       "      <td>9895.6</td>\n",
       "    </tr>\n",
       "    <tr>\n",
       "      <th>2</th>\n",
       "      <td>2</td>\n",
       "      <td>2</td>\n",
       "      <td>A</td>\n",
       "      <td>166407</td>\n",
       "      <td>10</td>\n",
       "      <td>180</td>\n",
       "      <td>9577</td>\n",
       "      <td>20147</td>\n",
       "      <td>13757.7</td>\n",
       "      <td>30361.55</td>\n",
       "      <td>55000</td>\n",
       "      <td>13757.7</td>\n",
       "      <td>13757.7</td>\n",
       "    </tr>\n",
       "    <tr>\n",
       "      <th>3</th>\n",
       "      <td>3</td>\n",
       "      <td>3</td>\n",
       "      <td>A</td>\n",
       "      <td>166407</td>\n",
       "      <td>11</td>\n",
       "      <td>151</td>\n",
       "      <td>7199</td>\n",
       "      <td>9940</td>\n",
       "      <td>12069.9</td>\n",
       "      <td>25654.85</td>\n",
       "      <td>46300</td>\n",
       "      <td>12069.9</td>\n",
       "      <td>12069.9</td>\n",
       "    </tr>\n",
       "    <tr>\n",
       "      <th>4</th>\n",
       "      <td>4</td>\n",
       "      <td>4</td>\n",
       "      <td>A</td>\n",
       "      <td>166481</td>\n",
       "      <td>8</td>\n",
       "      <td>6</td>\n",
       "      <td>0</td>\n",
       "      <td>51</td>\n",
       "      <td>4300.0</td>\n",
       "      <td>2900.00</td>\n",
       "      <td>2800</td>\n",
       "      <td>4300.0</td>\n",
       "      <td>2800.0</td>\n",
       "    </tr>\n",
       "  </tbody>\n",
       "</table>\n",
       "</div>"
      ],
      "text/plain": [
       "   level_0  index tariff_plan  user_id  month  operator_count  \\\n",
       "0        0      0           A   166407      8               5   \n",
       "1        1      1           A   166407      9             110   \n",
       "2        2      2           A   166407     10             180   \n",
       "3        3      3           A   166407     11             151   \n",
       "4        4      4           A   166481      8               6   \n",
       "\n",
       "   internal_duration  external_duration  calc_cost_A  calc_cost_B  \\\n",
       "0                 37                 60       4250.0      2750.00   \n",
       "1               5956               5957       9895.6     19318.40   \n",
       "2               9577              20147      13757.7     30361.55   \n",
       "3               7199               9940      12069.9     25654.85   \n",
       "4                  0                 51       4300.0      2900.00   \n",
       "\n",
       "   calc_cost_C  current_cost  min_cost  \n",
       "0         2500        4250.0    2500.0  \n",
       "1        34000        9895.6    9895.6  \n",
       "2        55000       13757.7   13757.7  \n",
       "3        46300       12069.9   12069.9  \n",
       "4         2800        4300.0    2800.0  "
      ]
     },
     "execution_count": 101,
     "metadata": {},
     "output_type": "execute_result"
    }
   ],
   "source": [
    "monthly_costs.head()"
   ]
  },
  {
   "cell_type": "markdown",
   "metadata": {},
   "source": [
    "Посчитаем средние ежемечные затраты на одного клиента"
   ]
  },
  {
   "cell_type": "code",
   "execution_count": 102,
   "metadata": {},
   "outputs": [
    {
     "data": {
      "text/html": [
       "<div>\n",
       "<style scoped>\n",
       "    .dataframe tbody tr th:only-of-type {\n",
       "        vertical-align: middle;\n",
       "    }\n",
       "\n",
       "    .dataframe tbody tr th {\n",
       "        vertical-align: top;\n",
       "    }\n",
       "\n",
       "    .dataframe thead th {\n",
       "        text-align: right;\n",
       "    }\n",
       "</style>\n",
       "<table border=\"1\" class=\"dataframe\">\n",
       "  <thead>\n",
       "    <tr style=\"text-align: right;\">\n",
       "      <th></th>\n",
       "      <th>tariff_plan</th>\n",
       "      <th>month</th>\n",
       "      <th>current_cost</th>\n",
       "      <th>user_count</th>\n",
       "      <th>arpu</th>\n",
       "    </tr>\n",
       "  </thead>\n",
       "  <tbody>\n",
       "    <tr>\n",
       "      <th>0</th>\n",
       "      <td>A</td>\n",
       "      <td>8</td>\n",
       "      <td>55700.00</td>\n",
       "      <td>11</td>\n",
       "      <td>5063.64</td>\n",
       "    </tr>\n",
       "    <tr>\n",
       "      <th>1</th>\n",
       "      <td>A</td>\n",
       "      <td>9</td>\n",
       "      <td>134825.70</td>\n",
       "      <td>19</td>\n",
       "      <td>7096.09</td>\n",
       "    </tr>\n",
       "    <tr>\n",
       "      <th>2</th>\n",
       "      <td>A</td>\n",
       "      <td>10</td>\n",
       "      <td>360809.30</td>\n",
       "      <td>33</td>\n",
       "      <td>10933.62</td>\n",
       "    </tr>\n",
       "    <tr>\n",
       "      <th>3</th>\n",
       "      <td>A</td>\n",
       "      <td>11</td>\n",
       "      <td>496326.80</td>\n",
       "      <td>30</td>\n",
       "      <td>16544.23</td>\n",
       "    </tr>\n",
       "    <tr>\n",
       "      <th>4</th>\n",
       "      <td>B</td>\n",
       "      <td>8</td>\n",
       "      <td>226057.00</td>\n",
       "      <td>32</td>\n",
       "      <td>7064.28</td>\n",
       "    </tr>\n",
       "    <tr>\n",
       "      <th>5</th>\n",
       "      <td>B</td>\n",
       "      <td>9</td>\n",
       "      <td>602091.65</td>\n",
       "      <td>61</td>\n",
       "      <td>9870.35</td>\n",
       "    </tr>\n",
       "    <tr>\n",
       "      <th>6</th>\n",
       "      <td>B</td>\n",
       "      <td>10</td>\n",
       "      <td>1061972.05</td>\n",
       "      <td>92</td>\n",
       "      <td>11543.17</td>\n",
       "    </tr>\n",
       "    <tr>\n",
       "      <th>7</th>\n",
       "      <td>B</td>\n",
       "      <td>11</td>\n",
       "      <td>1264209.75</td>\n",
       "      <td>96</td>\n",
       "      <td>13168.85</td>\n",
       "    </tr>\n",
       "    <tr>\n",
       "      <th>8</th>\n",
       "      <td>C</td>\n",
       "      <td>8</td>\n",
       "      <td>163800.00</td>\n",
       "      <td>36</td>\n",
       "      <td>4550.00</td>\n",
       "    </tr>\n",
       "    <tr>\n",
       "      <th>9</th>\n",
       "      <td>C</td>\n",
       "      <td>9</td>\n",
       "      <td>1180600.00</td>\n",
       "      <td>85</td>\n",
       "      <td>13889.41</td>\n",
       "    </tr>\n",
       "    <tr>\n",
       "      <th>10</th>\n",
       "      <td>C</td>\n",
       "      <td>10</td>\n",
       "      <td>2136100.00</td>\n",
       "      <td>148</td>\n",
       "      <td>14433.11</td>\n",
       "    </tr>\n",
       "    <tr>\n",
       "      <th>11</th>\n",
       "      <td>C</td>\n",
       "      <td>11</td>\n",
       "      <td>2290500.00</td>\n",
       "      <td>135</td>\n",
       "      <td>16966.67</td>\n",
       "    </tr>\n",
       "  </tbody>\n",
       "</table>\n",
       "</div>"
      ],
      "text/plain": [
       "   tariff_plan  month  current_cost  user_count      arpu\n",
       "0            A      8      55700.00          11   5063.64\n",
       "1            A      9     134825.70          19   7096.09\n",
       "2            A     10     360809.30          33  10933.62\n",
       "3            A     11     496326.80          30  16544.23\n",
       "4            B      8     226057.00          32   7064.28\n",
       "5            B      9     602091.65          61   9870.35\n",
       "6            B     10    1061972.05          92  11543.17\n",
       "7            B     11    1264209.75          96  13168.85\n",
       "8            C      8     163800.00          36   4550.00\n",
       "9            C      9    1180600.00          85  13889.41\n",
       "10           C     10    2136100.00         148  14433.11\n",
       "11           C     11    2290500.00         135  16966.67"
      ]
     },
     "execution_count": 102,
     "metadata": {},
     "output_type": "execute_result"
    }
   ],
   "source": [
    "monthly_costs_by_month = monthly_costs.groupby(['tariff_plan','month']).agg({'current_cost':'sum','user_id':'nunique'}).reset_index()\n",
    "monthly_costs_by_month = monthly_costs_by_month.rename(columns={\"user_id\":\"user_count\"})\n",
    "monthly_costs_by_month['arpu'] = round(monthly_costs_by_month['current_cost']/monthly_costs_by_month['user_count'],2)\n",
    "monthly_costs_by_month"
   ]
  },
  {
   "cell_type": "code",
   "execution_count": 103,
   "metadata": {},
   "outputs": [
    {
     "data": {
      "image/png": "[encoded data removed]",
      "text/plain": [
       "<Figure size 720x720 with 1 Axes>"
      ]
     },
     "metadata": {
      "needs_background": "light"
     },
     "output_type": "display_data"
    }
   ],
   "source": [
    "plt.figure(figsize=(10,10))\n",
    "sns.lineplot(x='month',y='arpu', hue='tariff_plan', data=monthly_costs_by_month)\n",
    "plt.title('Средние затраты клиентов в месяц')\n",
    "plt.xlabel('месяц')\n",
    "plt.ylabel('Затраты клиентов')\n",
    "plt.show()"
   ]
  },
  {
   "cell_type": "markdown",
   "metadata": {},
   "source": [
    "Самые высокие средние затраты за месяц на тарифе C, на тарифе A расходы были самые маленькие, но в последнем месяце повысились почти до уровня расходов на тарифе С."
   ]
  },
  {
   "cell_type": "markdown",
   "metadata": {},
   "source": [
    "Найдем распределение выручки по тарифам."
   ]
  },
  {
   "cell_type": "code",
   "execution_count": 104,
   "metadata": {},
   "outputs": [
    {
     "data": {
      "image/png": "[encoded data removed]",
      "text/plain": [
       "<Figure size 720x720 with 1 Axes>"
      ]
     },
     "metadata": {},
     "output_type": "display_data"
    }
   ],
   "source": [
    "monthly_costs.groupby('tariff_plan')['current_cost'].sum().plot(kind='pie', y='current_cost', figsize=(10, 10), autopct='%1.1f%%', ylabel = '')\n",
    "plt.title('Распределение выручки по тарифам')\n",
    "plt.show()"
   ]
  },
  {
   "cell_type": "code",
   "execution_count": 105,
   "metadata": {},
   "outputs": [
    {
     "data": {
      "text/plain": [
       "tariff_plan\n",
       "A    1047661.80\n",
       "B    3154330.45\n",
       "C    5771000.00\n",
       "Name: current_cost, dtype: float64"
      ]
     },
     "execution_count": 105,
     "metadata": {},
     "output_type": "execute_result"
    }
   ],
   "source": [
    "monthly_costs.groupby('tariff_plan')['current_cost'].sum()"
   ]
  },
  {
   "cell_type": "markdown",
   "metadata": {},
   "source": [
    "Создадим датафрейм с клиентами, у которых неоптимальный тарифный план."
   ]
  },
  {
   "cell_type": "code",
   "execution_count": 106,
   "metadata": {},
   "outputs": [],
   "source": [
    "non_optimal_tariff = monthly_costs[monthly_costs['current_cost']>monthly_costs['min_cost']]"
   ]
  },
  {
   "cell_type": "code",
   "execution_count": 107,
   "metadata": {},
   "outputs": [
    {
     "data": {
      "text/html": [
       "<div>\n",
       "<style scoped>\n",
       "    .dataframe tbody tr th:only-of-type {\n",
       "        vertical-align: middle;\n",
       "    }\n",
       "\n",
       "    .dataframe tbody tr th {\n",
       "        vertical-align: top;\n",
       "    }\n",
       "\n",
       "    .dataframe thead th {\n",
       "        text-align: right;\n",
       "    }\n",
       "</style>\n",
       "<table border=\"1\" class=\"dataframe\">\n",
       "  <thead>\n",
       "    <tr style=\"text-align: right;\">\n",
       "      <th></th>\n",
       "      <th>level_0</th>\n",
       "      <th>index</th>\n",
       "      <th>tariff_plan</th>\n",
       "      <th>user_id</th>\n",
       "      <th>month</th>\n",
       "      <th>operator_count</th>\n",
       "      <th>internal_duration</th>\n",
       "      <th>external_duration</th>\n",
       "      <th>calc_cost_A</th>\n",
       "      <th>calc_cost_B</th>\n",
       "      <th>calc_cost_C</th>\n",
       "      <th>current_cost</th>\n",
       "      <th>min_cost</th>\n",
       "    </tr>\n",
       "  </thead>\n",
       "  <tbody>\n",
       "    <tr>\n",
       "      <th>0</th>\n",
       "      <td>0</td>\n",
       "      <td>0</td>\n",
       "      <td>A</td>\n",
       "      <td>166407</td>\n",
       "      <td>8</td>\n",
       "      <td>5</td>\n",
       "      <td>37</td>\n",
       "      <td>60</td>\n",
       "      <td>4250.0</td>\n",
       "      <td>2750.0</td>\n",
       "      <td>2500</td>\n",
       "      <td>4250.0</td>\n",
       "      <td>2500.0</td>\n",
       "    </tr>\n",
       "    <tr>\n",
       "      <th>4</th>\n",
       "      <td>4</td>\n",
       "      <td>4</td>\n",
       "      <td>A</td>\n",
       "      <td>166481</td>\n",
       "      <td>8</td>\n",
       "      <td>6</td>\n",
       "      <td>0</td>\n",
       "      <td>51</td>\n",
       "      <td>4300.0</td>\n",
       "      <td>2900.0</td>\n",
       "      <td>2800</td>\n",
       "      <td>4300.0</td>\n",
       "      <td>2800.0</td>\n",
       "    </tr>\n",
       "    <tr>\n",
       "      <th>5</th>\n",
       "      <td>5</td>\n",
       "      <td>5</td>\n",
       "      <td>A</td>\n",
       "      <td>166481</td>\n",
       "      <td>9</td>\n",
       "      <td>3</td>\n",
       "      <td>0</td>\n",
       "      <td>15</td>\n",
       "      <td>4150.0</td>\n",
       "      <td>2450.0</td>\n",
       "      <td>1900</td>\n",
       "      <td>4150.0</td>\n",
       "      <td>1900.0</td>\n",
       "    </tr>\n",
       "    <tr>\n",
       "      <th>6</th>\n",
       "      <td>6</td>\n",
       "      <td>6</td>\n",
       "      <td>A</td>\n",
       "      <td>166481</td>\n",
       "      <td>10</td>\n",
       "      <td>1</td>\n",
       "      <td>0</td>\n",
       "      <td>2</td>\n",
       "      <td>4050.0</td>\n",
       "      <td>2150.0</td>\n",
       "      <td>1300</td>\n",
       "      <td>4050.0</td>\n",
       "      <td>1300.0</td>\n",
       "    </tr>\n",
       "    <tr>\n",
       "      <th>15</th>\n",
       "      <td>15</td>\n",
       "      <td>15</td>\n",
       "      <td>A</td>\n",
       "      <td>166609</td>\n",
       "      <td>9</td>\n",
       "      <td>9</td>\n",
       "      <td>0</td>\n",
       "      <td>111</td>\n",
       "      <td>4450.0</td>\n",
       "      <td>3350.0</td>\n",
       "      <td>3700</td>\n",
       "      <td>4450.0</td>\n",
       "      <td>3350.0</td>\n",
       "    </tr>\n",
       "    <tr>\n",
       "      <th>...</th>\n",
       "      <td>...</td>\n",
       "      <td>...</td>\n",
       "      <td>...</td>\n",
       "      <td>...</td>\n",
       "      <td>...</td>\n",
       "      <td>...</td>\n",
       "      <td>...</td>\n",
       "      <td>...</td>\n",
       "      <td>...</td>\n",
       "      <td>...</td>\n",
       "      <td>...</td>\n",
       "      <td>...</td>\n",
       "      <td>...</td>\n",
       "    </tr>\n",
       "    <tr>\n",
       "      <th>770</th>\n",
       "      <td>770</td>\n",
       "      <td>770</td>\n",
       "      <td>C</td>\n",
       "      <td>168473</td>\n",
       "      <td>11</td>\n",
       "      <td>15</td>\n",
       "      <td>0</td>\n",
       "      <td>865</td>\n",
       "      <td>4750.0</td>\n",
       "      <td>4250.0</td>\n",
       "      <td>5500</td>\n",
       "      <td>5500.0</td>\n",
       "      <td>4250.0</td>\n",
       "    </tr>\n",
       "    <tr>\n",
       "      <th>774</th>\n",
       "      <td>774</td>\n",
       "      <td>774</td>\n",
       "      <td>C</td>\n",
       "      <td>168575</td>\n",
       "      <td>11</td>\n",
       "      <td>11</td>\n",
       "      <td>0</td>\n",
       "      <td>860</td>\n",
       "      <td>4550.0</td>\n",
       "      <td>3650.0</td>\n",
       "      <td>4300</td>\n",
       "      <td>4300.0</td>\n",
       "      <td>3650.0</td>\n",
       "    </tr>\n",
       "    <tr>\n",
       "      <th>775</th>\n",
       "      <td>775</td>\n",
       "      <td>775</td>\n",
       "      <td>C</td>\n",
       "      <td>168598</td>\n",
       "      <td>11</td>\n",
       "      <td>23</td>\n",
       "      <td>17</td>\n",
       "      <td>4871</td>\n",
       "      <td>5150.0</td>\n",
       "      <td>5450.0</td>\n",
       "      <td>7900</td>\n",
       "      <td>7900.0</td>\n",
       "      <td>5150.0</td>\n",
       "    </tr>\n",
       "    <tr>\n",
       "      <th>776</th>\n",
       "      <td>776</td>\n",
       "      <td>776</td>\n",
       "      <td>C</td>\n",
       "      <td>168601</td>\n",
       "      <td>11</td>\n",
       "      <td>69</td>\n",
       "      <td>0</td>\n",
       "      <td>42871</td>\n",
       "      <td>7450.0</td>\n",
       "      <td>12350.0</td>\n",
       "      <td>21700</td>\n",
       "      <td>21700.0</td>\n",
       "      <td>7450.0</td>\n",
       "    </tr>\n",
       "    <tr>\n",
       "      <th>777</th>\n",
       "      <td>777</td>\n",
       "      <td>777</td>\n",
       "      <td>C</td>\n",
       "      <td>168606</td>\n",
       "      <td>11</td>\n",
       "      <td>11</td>\n",
       "      <td>3754</td>\n",
       "      <td>1858</td>\n",
       "      <td>4725.4</td>\n",
       "      <td>4138.1</td>\n",
       "      <td>4300</td>\n",
       "      <td>4300.0</td>\n",
       "      <td>4138.1</td>\n",
       "    </tr>\n",
       "  </tbody>\n",
       "</table>\n",
       "<p>535 rows × 13 columns</p>\n",
       "</div>"
      ],
      "text/plain": [
       "     level_0  index tariff_plan  user_id  month  operator_count  \\\n",
       "0          0      0           A   166407      8               5   \n",
       "4          4      4           A   166481      8               6   \n",
       "5          5      5           A   166481      9               3   \n",
       "6          6      6           A   166481     10               1   \n",
       "15        15     15           A   166609      9               9   \n",
       "..       ...    ...         ...      ...    ...             ...   \n",
       "770      770    770           C   168473     11              15   \n",
       "774      774    774           C   168575     11              11   \n",
       "775      775    775           C   168598     11              23   \n",
       "776      776    776           C   168601     11              69   \n",
       "777      777    777           C   168606     11              11   \n",
       "\n",
       "     internal_duration  external_duration  calc_cost_A  calc_cost_B  \\\n",
       "0                   37                 60       4250.0       2750.0   \n",
       "4                    0                 51       4300.0       2900.0   \n",
       "5                    0                 15       4150.0       2450.0   \n",
       "6                    0                  2       4050.0       2150.0   \n",
       "15                   0                111       4450.0       3350.0   \n",
       "..                 ...                ...          ...          ...   \n",
       "770                  0                865       4750.0       4250.0   \n",
       "774                  0                860       4550.0       3650.0   \n",
       "775                 17               4871       5150.0       5450.0   \n",
       "776                  0              42871       7450.0      12350.0   \n",
       "777               3754               1858       4725.4       4138.1   \n",
       "\n",
       "     calc_cost_C  current_cost  min_cost  \n",
       "0           2500        4250.0    2500.0  \n",
       "4           2800        4300.0    2800.0  \n",
       "5           1900        4150.0    1900.0  \n",
       "6           1300        4050.0    1300.0  \n",
       "15          3700        4450.0    3350.0  \n",
       "..           ...           ...       ...  \n",
       "770         5500        5500.0    4250.0  \n",
       "774         4300        4300.0    3650.0  \n",
       "775         7900        7900.0    5150.0  \n",
       "776        21700       21700.0    7450.0  \n",
       "777         4300        4300.0    4138.1  \n",
       "\n",
       "[535 rows x 13 columns]"
      ]
     },
     "execution_count": 107,
     "metadata": {},
     "output_type": "execute_result"
    }
   ],
   "source": [
    "non_optimal_tariff"
   ]
  },
  {
   "cell_type": "markdown",
   "metadata": {},
   "source": [
    "### Исследование клиентов с неоптимальными тарифными планами."
   ]
  },
  {
   "cell_type": "markdown",
   "metadata": {},
   "source": [
    "Добавим в таблицу столбец с разницей текущих расходов и расходов на оптимальном тарифе."
   ]
  },
  {
   "cell_type": "code",
   "execution_count": 108,
   "metadata": {},
   "outputs": [
    {
     "data": {
      "text/html": [
       "<div>\n",
       "<style scoped>\n",
       "    .dataframe tbody tr th:only-of-type {\n",
       "        vertical-align: middle;\n",
       "    }\n",
       "\n",
       "    .dataframe tbody tr th {\n",
       "        vertical-align: top;\n",
       "    }\n",
       "\n",
       "    .dataframe thead th {\n",
       "        text-align: right;\n",
       "    }\n",
       "</style>\n",
       "<table border=\"1\" class=\"dataframe\">\n",
       "  <thead>\n",
       "    <tr style=\"text-align: right;\">\n",
       "      <th></th>\n",
       "      <th>level_0</th>\n",
       "      <th>index</th>\n",
       "      <th>tariff_plan</th>\n",
       "      <th>user_id</th>\n",
       "      <th>month</th>\n",
       "      <th>operator_count</th>\n",
       "      <th>internal_duration</th>\n",
       "      <th>external_duration</th>\n",
       "      <th>calc_cost_A</th>\n",
       "      <th>calc_cost_B</th>\n",
       "      <th>calc_cost_C</th>\n",
       "      <th>current_cost</th>\n",
       "      <th>min_cost</th>\n",
       "      <th>difference</th>\n",
       "    </tr>\n",
       "  </thead>\n",
       "  <tbody>\n",
       "    <tr>\n",
       "      <th>0</th>\n",
       "      <td>0</td>\n",
       "      <td>0</td>\n",
       "      <td>A</td>\n",
       "      <td>166407</td>\n",
       "      <td>8</td>\n",
       "      <td>5</td>\n",
       "      <td>37</td>\n",
       "      <td>60</td>\n",
       "      <td>4250.0</td>\n",
       "      <td>2750.0</td>\n",
       "      <td>2500</td>\n",
       "      <td>4250.0</td>\n",
       "      <td>2500.0</td>\n",
       "      <td>1750.0</td>\n",
       "    </tr>\n",
       "    <tr>\n",
       "      <th>4</th>\n",
       "      <td>4</td>\n",
       "      <td>4</td>\n",
       "      <td>A</td>\n",
       "      <td>166481</td>\n",
       "      <td>8</td>\n",
       "      <td>6</td>\n",
       "      <td>0</td>\n",
       "      <td>51</td>\n",
       "      <td>4300.0</td>\n",
       "      <td>2900.0</td>\n",
       "      <td>2800</td>\n",
       "      <td>4300.0</td>\n",
       "      <td>2800.0</td>\n",
       "      <td>1500.0</td>\n",
       "    </tr>\n",
       "    <tr>\n",
       "      <th>5</th>\n",
       "      <td>5</td>\n",
       "      <td>5</td>\n",
       "      <td>A</td>\n",
       "      <td>166481</td>\n",
       "      <td>9</td>\n",
       "      <td>3</td>\n",
       "      <td>0</td>\n",
       "      <td>15</td>\n",
       "      <td>4150.0</td>\n",
       "      <td>2450.0</td>\n",
       "      <td>1900</td>\n",
       "      <td>4150.0</td>\n",
       "      <td>1900.0</td>\n",
       "      <td>2250.0</td>\n",
       "    </tr>\n",
       "    <tr>\n",
       "      <th>6</th>\n",
       "      <td>6</td>\n",
       "      <td>6</td>\n",
       "      <td>A</td>\n",
       "      <td>166481</td>\n",
       "      <td>10</td>\n",
       "      <td>1</td>\n",
       "      <td>0</td>\n",
       "      <td>2</td>\n",
       "      <td>4050.0</td>\n",
       "      <td>2150.0</td>\n",
       "      <td>1300</td>\n",
       "      <td>4050.0</td>\n",
       "      <td>1300.0</td>\n",
       "      <td>2750.0</td>\n",
       "    </tr>\n",
       "    <tr>\n",
       "      <th>15</th>\n",
       "      <td>15</td>\n",
       "      <td>15</td>\n",
       "      <td>A</td>\n",
       "      <td>166609</td>\n",
       "      <td>9</td>\n",
       "      <td>9</td>\n",
       "      <td>0</td>\n",
       "      <td>111</td>\n",
       "      <td>4450.0</td>\n",
       "      <td>3350.0</td>\n",
       "      <td>3700</td>\n",
       "      <td>4450.0</td>\n",
       "      <td>3350.0</td>\n",
       "      <td>1100.0</td>\n",
       "    </tr>\n",
       "    <tr>\n",
       "      <th>...</th>\n",
       "      <td>...</td>\n",
       "      <td>...</td>\n",
       "      <td>...</td>\n",
       "      <td>...</td>\n",
       "      <td>...</td>\n",
       "      <td>...</td>\n",
       "      <td>...</td>\n",
       "      <td>...</td>\n",
       "      <td>...</td>\n",
       "      <td>...</td>\n",
       "      <td>...</td>\n",
       "      <td>...</td>\n",
       "      <td>...</td>\n",
       "      <td>...</td>\n",
       "    </tr>\n",
       "    <tr>\n",
       "      <th>770</th>\n",
       "      <td>770</td>\n",
       "      <td>770</td>\n",
       "      <td>C</td>\n",
       "      <td>168473</td>\n",
       "      <td>11</td>\n",
       "      <td>15</td>\n",
       "      <td>0</td>\n",
       "      <td>865</td>\n",
       "      <td>4750.0</td>\n",
       "      <td>4250.0</td>\n",
       "      <td>5500</td>\n",
       "      <td>5500.0</td>\n",
       "      <td>4250.0</td>\n",
       "      <td>1250.0</td>\n",
       "    </tr>\n",
       "    <tr>\n",
       "      <th>774</th>\n",
       "      <td>774</td>\n",
       "      <td>774</td>\n",
       "      <td>C</td>\n",
       "      <td>168575</td>\n",
       "      <td>11</td>\n",
       "      <td>11</td>\n",
       "      <td>0</td>\n",
       "      <td>860</td>\n",
       "      <td>4550.0</td>\n",
       "      <td>3650.0</td>\n",
       "      <td>4300</td>\n",
       "      <td>4300.0</td>\n",
       "      <td>3650.0</td>\n",
       "      <td>650.0</td>\n",
       "    </tr>\n",
       "    <tr>\n",
       "      <th>775</th>\n",
       "      <td>775</td>\n",
       "      <td>775</td>\n",
       "      <td>C</td>\n",
       "      <td>168598</td>\n",
       "      <td>11</td>\n",
       "      <td>23</td>\n",
       "      <td>17</td>\n",
       "      <td>4871</td>\n",
       "      <td>5150.0</td>\n",
       "      <td>5450.0</td>\n",
       "      <td>7900</td>\n",
       "      <td>7900.0</td>\n",
       "      <td>5150.0</td>\n",
       "      <td>2750.0</td>\n",
       "    </tr>\n",
       "    <tr>\n",
       "      <th>776</th>\n",
       "      <td>776</td>\n",
       "      <td>776</td>\n",
       "      <td>C</td>\n",
       "      <td>168601</td>\n",
       "      <td>11</td>\n",
       "      <td>69</td>\n",
       "      <td>0</td>\n",
       "      <td>42871</td>\n",
       "      <td>7450.0</td>\n",
       "      <td>12350.0</td>\n",
       "      <td>21700</td>\n",
       "      <td>21700.0</td>\n",
       "      <td>7450.0</td>\n",
       "      <td>14250.0</td>\n",
       "    </tr>\n",
       "    <tr>\n",
       "      <th>777</th>\n",
       "      <td>777</td>\n",
       "      <td>777</td>\n",
       "      <td>C</td>\n",
       "      <td>168606</td>\n",
       "      <td>11</td>\n",
       "      <td>11</td>\n",
       "      <td>3754</td>\n",
       "      <td>1858</td>\n",
       "      <td>4725.4</td>\n",
       "      <td>4138.1</td>\n",
       "      <td>4300</td>\n",
       "      <td>4300.0</td>\n",
       "      <td>4138.1</td>\n",
       "      <td>161.9</td>\n",
       "    </tr>\n",
       "  </tbody>\n",
       "</table>\n",
       "<p>535 rows × 14 columns</p>\n",
       "</div>"
      ],
      "text/plain": [
       "     level_0  index tariff_plan  user_id  month  operator_count  \\\n",
       "0          0      0           A   166407      8               5   \n",
       "4          4      4           A   166481      8               6   \n",
       "5          5      5           A   166481      9               3   \n",
       "6          6      6           A   166481     10               1   \n",
       "15        15     15           A   166609      9               9   \n",
       "..       ...    ...         ...      ...    ...             ...   \n",
       "770      770    770           C   168473     11              15   \n",
       "774      774    774           C   168575     11              11   \n",
       "775      775    775           C   168598     11              23   \n",
       "776      776    776           C   168601     11              69   \n",
       "777      777    777           C   168606     11              11   \n",
       "\n",
       "     internal_duration  external_duration  calc_cost_A  calc_cost_B  \\\n",
       "0                   37                 60       4250.0       2750.0   \n",
       "4                    0                 51       4300.0       2900.0   \n",
       "5                    0                 15       4150.0       2450.0   \n",
       "6                    0                  2       4050.0       2150.0   \n",
       "15                   0                111       4450.0       3350.0   \n",
       "..                 ...                ...          ...          ...   \n",
       "770                  0                865       4750.0       4250.0   \n",
       "774                  0                860       4550.0       3650.0   \n",
       "775                 17               4871       5150.0       5450.0   \n",
       "776                  0              42871       7450.0      12350.0   \n",
       "777               3754               1858       4725.4       4138.1   \n",
       "\n",
       "     calc_cost_C  current_cost  min_cost  difference  \n",
       "0           2500        4250.0    2500.0      1750.0  \n",
       "4           2800        4300.0    2800.0      1500.0  \n",
       "5           1900        4150.0    1900.0      2250.0  \n",
       "6           1300        4050.0    1300.0      2750.0  \n",
       "15          3700        4450.0    3350.0      1100.0  \n",
       "..           ...           ...       ...         ...  \n",
       "770         5500        5500.0    4250.0      1250.0  \n",
       "774         4300        4300.0    3650.0       650.0  \n",
       "775         7900        7900.0    5150.0      2750.0  \n",
       "776        21700       21700.0    7450.0     14250.0  \n",
       "777         4300        4300.0    4138.1       161.9  \n",
       "\n",
       "[535 rows x 14 columns]"
      ]
     },
     "execution_count": 108,
     "metadata": {},
     "output_type": "execute_result"
    }
   ],
   "source": [
    "pd.options.mode.chained_assignment = None\n",
    "non_optimal_tariff['difference'] = non_optimal_tariff['current_cost'] - non_optimal_tariff['min_cost']\n",
    "non_optimal_tariff"
   ]
  },
  {
   "cell_type": "code",
   "execution_count": 109,
   "metadata": {},
   "outputs": [
    {
     "name": "stdout",
     "output_type": "stream",
     "text": [
      "Количество клиентов с неоптимальными тарифами 248\n"
     ]
    }
   ],
   "source": [
    "print('Количество клиентов с неоптимальными тарифами',non_optimal_tariff['user_id'].nunique())"
   ]
  },
  {
   "cell_type": "markdown",
   "metadata": {},
   "source": [
    "Посчитаем суммарную и среднюю разницу."
   ]
  },
  {
   "cell_type": "code",
   "execution_count": 110,
   "metadata": {},
   "outputs": [
    {
     "name": "stdout",
     "output_type": "stream",
     "text": [
      "Суммарная разница текущих затрат и затрат на оптимальном тарифе составляет  4968060.2\n"
     ]
    }
   ],
   "source": [
    "print('Суммарная разница текущих затрат и затрат на оптимальном тарифе составляет ',non_optimal_tariff['difference'].sum())"
   ]
  },
  {
   "cell_type": "code",
   "execution_count": 111,
   "metadata": {},
   "outputs": [
    {
     "name": "stdout",
     "output_type": "stream",
     "text": [
      "Средняя экономия на клиента составляет 9286.09\n"
     ]
    }
   ],
   "source": [
    "print('Средняя экономия на клиента составляет', round(non_optimal_tariff['difference'].mean(),2))"
   ]
  },
  {
   "cell_type": "markdown",
   "metadata": {},
   "source": [
    "Посчитаем текущие суммарные и средние затраты."
   ]
  },
  {
   "cell_type": "code",
   "execution_count": 112,
   "metadata": {
    "scrolled": true
   },
   "outputs": [
    {
     "name": "stdout",
     "output_type": "stream",
     "text": [
      "Текущие суммарные затраты составляют  9972992.25\n"
     ]
    }
   ],
   "source": [
    "print('Текущие суммарные затраты составляют ',round(monthly_costs['current_cost'].sum(),2))"
   ]
  },
  {
   "cell_type": "code",
   "execution_count": 113,
   "metadata": {},
   "outputs": [
    {
     "name": "stdout",
     "output_type": "stream",
     "text": [
      "Экономия составит  50.0 %\n"
     ]
    }
   ],
   "source": [
    "print('Экономия составит ',round(non_optimal_tariff['difference'].sum()/monthly_costs['current_cost'].sum(),2)*100,'%')"
   ]
  },
  {
   "cell_type": "markdown",
   "metadata": {},
   "source": [
    "**Выводы и наблюдения:**\n",
    "* Самый доходный тариф С с доходом 5771000, самый низкодоходный А с доходом 1047661.80. На тарифе И доход составил 3154330.45.\n",
    "* Самые высокие средние затраты за месяц на тарифе C, на тарифе A расходы были самые маленькие, но в последнем месяце повысились почти до уровня расходов на тарифе С.\n",
    "* Суммарная разница текущих затрат и затрат на оптимальном тарифе составляет  4968060.2.\n",
    "* Количество клиентов с неоптимальными тарифами 248\n",
    "* Средняя экономия на оптимальном тарифе на клиента составит 9286.09\n",
    "* Текущие суммарные затраты составляют  9972992.25\n",
    "* Потери заказчика при смене тарифных планов на более оптимальные составят 50%."
   ]
  },
  {
   "cell_type": "markdown",
   "metadata": {},
   "source": [
    "## Проверка статистических гипотез"
   ]
  },
  {
   "cell_type": "markdown",
   "metadata": {},
   "source": [
    "### Проверка гипотезы: затраты клиентов различаются на тарифных планах A и B."
   ]
  },
  {
   "cell_type": "markdown",
   "metadata": {},
   "source": [
    "Выдвигаем гипотезы:\n",
    "\n",
    "H0: затраты клиентов одинаковые на тарифных планах А и В.\n",
    "\n",
    "H1: затраты клиентов различаются на тарифных планах А и В."
   ]
  },
  {
   "cell_type": "markdown",
   "metadata": {},
   "source": [
    "Посмотрим на распределение выборки."
   ]
  },
  {
   "cell_type": "code",
   "execution_count": 114,
   "metadata": {},
   "outputs": [
    {
     "data": {
      "image/png": "[encoded data removed]",
      "text/plain": [
       "<Figure size 720x720 with 1 Axes>"
      ]
     },
     "metadata": {
      "needs_background": "light"
     },
     "output_type": "display_data"
    }
   ],
   "source": [
    "plt.figure(figsize=(10,10))\n",
    "monthly_costs['calc_cost_A'].hist(bins=100)\n",
    "plt.title('Распределение выручки')\n",
    "plt.show()"
   ]
  },
  {
   "cell_type": "code",
   "execution_count": 115,
   "metadata": {},
   "outputs": [
    {
     "data": {
      "image/png": "[encoded data removed]",
      "text/plain": [
       "<Figure size 720x720 with 1 Axes>"
      ]
     },
     "metadata": {
      "needs_background": "light"
     },
     "output_type": "display_data"
    }
   ],
   "source": [
    "plt.figure(figsize=(10,10))\n",
    "monthly_costs['calc_cost_B'].hist(bins=100)\n",
    "plt.title('Распределение выручки')\n",
    "plt.show()"
   ]
  },
  {
   "cell_type": "markdown",
   "metadata": {},
   "source": [
    "Судя по диаграммам нельзя сказать, что распределение является нормальным. Будем использовать для проверки гипотез метод Манна-Уитни."
   ]
  },
  {
   "cell_type": "code",
   "execution_count": 116,
   "metadata": {},
   "outputs": [
    {
     "name": "stdout",
     "output_type": "stream",
     "text": [
      "p-значение: 0.04694245294574629\n",
      "Отвергаем нулевую гипотезу\n"
     ]
    }
   ],
   "source": [
    "results = stats.mannwhitneyu(monthly_costs['calc_cost_A'],monthly_costs['calc_cost_B'])\n",
    "alpha = 0.05\n",
    "\n",
    "print('p-значение:', results.pvalue)\n",
    "\n",
    "if (results.pvalue < alpha):\n",
    "    print('Отвергаем нулевую гипотезу')\n",
    "else:\n",
    "    print('Нельзя отвергнуть нулевую гипотезу')"
   ]
  },
  {
   "cell_type": "markdown",
   "metadata": {},
   "source": [
    "Вывод: затраты клиентов различаются на тарифных планах А и В."
   ]
  },
  {
   "cell_type": "markdown",
   "metadata": {},
   "source": [
    "### Проверка гипотезы: Доходы заказчика изменятся при переводе клиентов на оптимальные тарифные планы."
   ]
  },
  {
   "cell_type": "markdown",
   "metadata": {},
   "source": [
    "Выдвигаем гипотезы:\n",
    "\n",
    "H0: доходы заказчика не изменятся при переводе клиентов на оптимальные тарифные планы.\n",
    "\n",
    "H1: доходы заказчика изменятся при переводе клиентов на оптимальные тарифные планы."
   ]
  },
  {
   "cell_type": "markdown",
   "metadata": {},
   "source": [
    "Посмотрим на распределение выборки."
   ]
  },
  {
   "cell_type": "code",
   "execution_count": 117,
   "metadata": {
    "scrolled": false
   },
   "outputs": [
    {
     "data": {
      "image/png": "[encoded data removed]",
      "text/plain": [
       "<Figure size 720x720 with 1 Axes>"
      ]
     },
     "metadata": {
      "needs_background": "light"
     },
     "output_type": "display_data"
    }
   ],
   "source": [
    "plt.figure(figsize=(10,10))\n",
    "monthly_costs['current_cost'].hist(bins=100)\n",
    "plt.title('Распределение выручки')\n",
    "plt.show()"
   ]
  },
  {
   "cell_type": "code",
   "execution_count": 118,
   "metadata": {},
   "outputs": [
    {
     "data": {
      "image/png": "[encoded data removed]",
      "text/plain": [
       "<Figure size 720x720 with 1 Axes>"
      ]
     },
     "metadata": {
      "needs_background": "light"
     },
     "output_type": "display_data"
    }
   ],
   "source": [
    "plt.figure(figsize=(10,10))\n",
    "monthly_costs['min_cost'].hist(bins=100)\n",
    "plt.title('Распределение выручки')\n",
    "plt.show()"
   ]
  },
  {
   "cell_type": "markdown",
   "metadata": {},
   "source": [
    "Судя по диаграммам нельзя сказать, что распределение является нормальным. Будем использовать для проверки гипотез метод Манна-Уитни."
   ]
  },
  {
   "cell_type": "code",
   "execution_count": 119,
   "metadata": {},
   "outputs": [
    {
     "name": "stdout",
     "output_type": "stream",
     "text": [
      "p-значение: 8.836133873293984e-12\n",
      "Отвергаем нулевую гипотезу\n"
     ]
    }
   ],
   "source": [
    "results = stats.mannwhitneyu(monthly_costs['current_cost'],monthly_costs['min_cost'])\n",
    "alpha = 0.05\n",
    "\n",
    "print('p-значение:', results.pvalue)\n",
    "\n",
    "if (results.pvalue < alpha):\n",
    "    print('Отвергаем нулевую гипотезу')\n",
    "else:\n",
    "    print('Нельзя отвергнуть нулевую гипотезу')"
   ]
  },
  {
   "cell_type": "markdown",
   "metadata": {},
   "source": [
    "Вывод: доходы заказчика изменятся при переводе клиентов на оптимальные тарифные планы."
   ]
  },
  {
   "cell_type": "markdown",
   "metadata": {},
   "source": [
    "## Выводы и рекомендации"
   ]
  },
  {
   "cell_type": "markdown",
   "metadata": {},
   "source": [
    "**Выводы по предобработке данных:**\n",
    "\n",
    "* Были изучены данные в датасетах telecom_clients.csv и telecom_dataset.csv. Количество строк в telecom_dataset.csv 53902, в telecom_clients.csv 732.\n",
    "* В датасете telecom_dataset.csv были обнаружены пропуски в столбцах 'operator_id' и 'internal'.\n",
    "* В столбце \"operator_id\" 8172 пропуска или 15.2% от количества строк. Определить корректные значения не представляется * возможным, поэтому принято решение заменить пропуски на '-1'.\n",
    "* В столбце \"internal\" 117 пропусков. Определить корректные значения не представляется возможным, поэтому принято решение заменить пропуски на 'unknown'.\n",
    "* Тип данных столбца 'date_start' был замен на временной.\n",
    "* Тип данных столбца 'date' был замен на временной.\n",
    "* Тип данных столбца 'operator_id' был заменен на целочисленный.\n",
    "* Тип данных столбца 'internal' был замен на логический.\n",
    "* В датасете telecom_dataset.csv было обнаружено и удалено 4900 дубликатов. После удаления осталось 49002 строки.\n",
    "* В датасете telecom_dataset.csv находятся данные за период с 2019-08-02 по 2019-11-28.\n",
    "* В датасете clients_dataset.csv находятся данные за период с 2019-08-01 по 2019-10-31.\n",
    "\n",
    "**Выводы по исследовательскому анализу данных:**\n",
    "* Резкий скачок количества звонков выше среднего количества произошел на 39 неделе (после 23.09.2019). Самое большое количество звонков было на 41-й и 47-й неделях. Между ними наблюдался спад с минимумами на 43-44 неделями. Исследование будем проводить по всем данным.\n",
    "* Входящих звонков меньше в 3-4 раза.\n",
    "* Внутренних звонков всего 1.8%.\n",
    "* Большинство операторов совершили за все время исследования до 500 звонков, максимум 60221..\n",
    "* Пропущенных вызовов почти 52.1 %.\n",
    "* Большинство вызовов имеют длительность до 850 мин.\n",
    "* Наблюдается уменьшение подключений в последний месяц на тарифном плане С, хотя на нем сначала было больше всех подключений. На тарифном плане А подключения меньше всех и после небольшого роста к 42й неделе началось снижение.\n",
    "* Больше всего клиентов на тарифном плане С - 54%, на тарифном плане В - 35.7% и на A - 10.4%. \n",
    "* Распределение по тарифным планам клиентов совершавших звонки осталось примерно таким же на тарифном плане С - 52.4%, на тарифном плане В - 36.5% и на С - 11.1%. Будем считать активными тех клиентов, которые совершали звонки в последние 2 месяца октябрь-ноябрь.\n",
    "* Активных клиентов 295\n",
    "**Выводы по анализу экономических показателей:**\n",
    "* Самый доходный тариф С с доходом 5771000, самый низкодоходный А с доходом 1047661.80. На тарифе И доход составил 3154330.45.\n",
    "* Самые высокие средние затраты за месяц на тарифе C, на тарифе A расходы были самые маленькие, но в последнем месяце повысились почти до уровня расходов на тарифе С.\n",
    "* Суммарная разница текущих затрат и затрат на оптимальном тарифе составляет  4968060.2.\n",
    "* Количество клиентов с неоптимальными тарифами 248\n",
    "* Средняя экономия на оптимальном тарифе на клиента составит 9286.09\n",
    "* Текущие суммарные затраты составляют  9972992.25\n",
    "* Потери заказчика при смене тарифных планов на более оптимальные составят 50%.\n",
    "\n",
    "**Выводы по проверке гипотез:**\n",
    "* Затраты клиентов различаются на тарифных планах А и В.\n",
    "* Доходы заказчика изменятся при переводе клиентов на оптимальные тарифные планы.\n",
    "\n",
    "**Рекомендации:**\n"
   ]
  },
  {
   "cell_type": "markdown",
   "metadata": {},
   "source": [
    "Самый большой доход приносят клиенты на тарифе С, на нем и самое большое количество клиентов. В последнее время наблюдается увеличение доходов на тарифе А. Наблюдается уменьшение клиентов на тарифе С. Если клиентам предложить переход на оптимальные тарифы доходы заказчика сильно уменьшатся на 50%. Поэтому можно рекомендовать не проводить массовую смену тарифных планов, а работать индивидуально с каждым клиентом."
   ]
  },
  {
   "cell_type": "markdown",
   "metadata": {},
   "source": [
    "Ссылка на презентацию: https://disk.yandex.ru/i/I9WdHu8a-3LTMA"
   ]
  }
 ],
 "metadata": {
  "ExecuteTimeLog": [
   {
    "duration": 342,
    "start_time": "2024-07-16T09:43:03.261Z"
   },
   {
    "duration": 347,
    "start_time": "2024-07-16T09:45:54.701Z"
   },
   {
    "duration": 10,
    "start_time": "2024-07-16T09:46:37.594Z"
   },
   {
    "duration": 21,
    "start_time": "2024-07-16T09:47:10.101Z"
   },
   {
    "duration": 12,
    "start_time": "2024-07-16T09:47:24.550Z"
   },
   {
    "duration": 10,
    "start_time": "2024-07-16T09:47:37.980Z"
   },
   {
    "duration": 5,
    "start_time": "2024-07-16T09:55:01.887Z"
   },
   {
    "duration": 18,
    "start_time": "2024-07-16T09:55:07.041Z"
   },
   {
    "duration": 11,
    "start_time": "2024-07-16T09:59:07.392Z"
   },
   {
    "duration": 12,
    "start_time": "2024-07-16T10:00:55.394Z"
   },
   {
    "duration": 21,
    "start_time": "2024-07-16T10:06:07.956Z"
   },
   {
    "duration": 18,
    "start_time": "2024-07-16T10:06:26.289Z"
   },
   {
    "duration": 18,
    "start_time": "2024-07-16T10:06:43.632Z"
   },
   {
    "duration": 6,
    "start_time": "2024-07-16T10:10:02.303Z"
   },
   {
    "duration": 7,
    "start_time": "2024-07-16T10:12:02.772Z"
   },
   {
    "duration": 9,
    "start_time": "2024-07-16T10:12:26.236Z"
   },
   {
    "duration": 9,
    "start_time": "2024-07-16T10:12:37.654Z"
   },
   {
    "duration": 2,
    "start_time": "2024-07-16T10:12:48.294Z"
   },
   {
    "duration": 93,
    "start_time": "2024-07-16T10:12:49.523Z"
   },
   {
    "duration": 9,
    "start_time": "2024-07-16T10:12:50.397Z"
   },
   {
    "duration": 14,
    "start_time": "2024-07-16T10:12:51.656Z"
   },
   {
    "duration": 6,
    "start_time": "2024-07-16T10:13:04.939Z"
   },
   {
    "duration": 10,
    "start_time": "2024-07-16T10:13:06.305Z"
   },
   {
    "duration": 5,
    "start_time": "2024-07-16T10:13:09.000Z"
   },
   {
    "duration": 10,
    "start_time": "2024-07-16T10:13:09.919Z"
   },
   {
    "duration": 12,
    "start_time": "2024-07-16T10:13:14.908Z"
   },
   {
    "duration": 13,
    "start_time": "2024-07-16T10:13:17.332Z"
   },
   {
    "duration": 18,
    "start_time": "2024-07-16T10:13:19.401Z"
   },
   {
    "duration": 6,
    "start_time": "2024-07-16T10:13:21.857Z"
   },
   {
    "duration": 61,
    "start_time": "2024-07-16T10:14:18.975Z"
   },
   {
    "duration": 10,
    "start_time": "2024-07-16T10:14:35.166Z"
   },
   {
    "duration": 12,
    "start_time": "2024-07-16T10:15:17.088Z"
   },
   {
    "duration": 62,
    "start_time": "2024-07-16T10:17:17.359Z"
   },
   {
    "duration": 4,
    "start_time": "2024-07-16T10:19:08.830Z"
   },
   {
    "duration": 13,
    "start_time": "2024-07-16T10:19:27.918Z"
   },
   {
    "duration": 5,
    "start_time": "2024-07-16T10:23:45.829Z"
   },
   {
    "duration": 5,
    "start_time": "2024-07-16T10:24:46.373Z"
   },
   {
    "duration": 12,
    "start_time": "2024-07-16T10:26:20.697Z"
   },
   {
    "duration": 5,
    "start_time": "2024-07-16T10:27:20.777Z"
   },
   {
    "duration": 3,
    "start_time": "2024-07-16T10:28:22.637Z"
   },
   {
    "duration": 17,
    "start_time": "2024-07-16T10:29:11.815Z"
   },
   {
    "duration": 9,
    "start_time": "2024-07-16T10:39:12.256Z"
   },
   {
    "duration": 13,
    "start_time": "2024-07-16T10:47:01.192Z"
   },
   {
    "duration": 8,
    "start_time": "2024-07-16T10:47:26.171Z"
   },
   {
    "duration": 5,
    "start_time": "2024-07-16T10:48:05.587Z"
   },
   {
    "duration": 10,
    "start_time": "2024-07-16T10:48:08.282Z"
   },
   {
    "duration": 12,
    "start_time": "2024-07-16T10:48:29.809Z"
   },
   {
    "duration": 34,
    "start_time": "2024-07-16T10:50:25.837Z"
   },
   {
    "duration": 5,
    "start_time": "2024-07-16T10:50:58.404Z"
   },
   {
    "duration": 4,
    "start_time": "2024-07-16T10:52:01.114Z"
   },
   {
    "duration": 11,
    "start_time": "2024-07-16T10:52:42.725Z"
   },
   {
    "duration": 5,
    "start_time": "2024-07-16T10:53:52.804Z"
   },
   {
    "duration": 16,
    "start_time": "2024-07-16T10:54:11.802Z"
   },
   {
    "duration": 23,
    "start_time": "2024-07-16T10:54:25.642Z"
   },
   {
    "duration": 7,
    "start_time": "2024-07-16T10:59:06.932Z"
   },
   {
    "duration": 21,
    "start_time": "2024-07-16T11:03:24.198Z"
   },
   {
    "duration": 25,
    "start_time": "2024-07-16T11:03:50.622Z"
   },
   {
    "duration": 25,
    "start_time": "2024-07-16T11:04:52.436Z"
   },
   {
    "duration": 19,
    "start_time": "2024-07-16T11:05:43.407Z"
   },
   {
    "duration": 27,
    "start_time": "2024-07-16T11:07:19.385Z"
   },
   {
    "duration": 29,
    "start_time": "2024-07-16T11:07:38.315Z"
   },
   {
    "duration": 27,
    "start_time": "2024-07-16T11:09:12.678Z"
   },
   {
    "duration": 24,
    "start_time": "2024-07-16T11:11:43.794Z"
   },
   {
    "duration": 38,
    "start_time": "2024-07-16T11:13:09.274Z"
   },
   {
    "duration": 9,
    "start_time": "2024-07-16T11:13:19.299Z"
   },
   {
    "duration": 13,
    "start_time": "2024-07-16T11:13:35.734Z"
   },
   {
    "duration": 11,
    "start_time": "2024-07-16T11:15:27.085Z"
   },
   {
    "duration": 11,
    "start_time": "2024-07-16T11:15:32.851Z"
   },
   {
    "duration": 23,
    "start_time": "2024-07-16T11:15:40.214Z"
   },
   {
    "duration": 12,
    "start_time": "2024-07-16T11:16:13.708Z"
   },
   {
    "duration": 11,
    "start_time": "2024-07-16T11:16:18.831Z"
   },
   {
    "duration": 24,
    "start_time": "2024-07-16T11:16:24.565Z"
   },
   {
    "duration": 11,
    "start_time": "2024-07-16T11:16:38.096Z"
   },
   {
    "duration": 70,
    "start_time": "2024-07-16T11:18:40.258Z"
   },
   {
    "duration": 25,
    "start_time": "2024-07-16T11:19:21.859Z"
   },
   {
    "duration": 16,
    "start_time": "2024-07-16T11:20:55.537Z"
   },
   {
    "duration": 15,
    "start_time": "2024-07-16T11:21:22.884Z"
   },
   {
    "duration": 11,
    "start_time": "2024-07-16T11:22:07.764Z"
   },
   {
    "duration": 14,
    "start_time": "2024-07-16T11:22:35.289Z"
   },
   {
    "duration": 16,
    "start_time": "2024-07-16T11:23:57.036Z"
   },
   {
    "duration": 14,
    "start_time": "2024-07-16T11:25:25.612Z"
   },
   {
    "duration": 26,
    "start_time": "2024-07-16T11:27:24.481Z"
   },
   {
    "duration": 27,
    "start_time": "2024-07-16T11:29:06.577Z"
   },
   {
    "duration": 21,
    "start_time": "2024-07-16T11:29:45.953Z"
   },
   {
    "duration": 10,
    "start_time": "2024-07-16T11:30:21.068Z"
   },
   {
    "duration": 4,
    "start_time": "2024-07-16T11:32:29.503Z"
   },
   {
    "duration": 5,
    "start_time": "2024-07-16T11:39:43.559Z"
   },
   {
    "duration": 3,
    "start_time": "2024-07-16T11:40:06.870Z"
   },
   {
    "duration": 9,
    "start_time": "2024-07-16T11:40:10.612Z"
   },
   {
    "duration": 9,
    "start_time": "2024-07-16T11:40:22.483Z"
   },
   {
    "duration": 9,
    "start_time": "2024-07-16T11:40:26.084Z"
   },
   {
    "duration": 6,
    "start_time": "2024-07-16T11:41:07.043Z"
   },
   {
    "duration": 9,
    "start_time": "2024-07-16T11:41:12.677Z"
   },
   {
    "duration": 8,
    "start_time": "2024-07-16T11:41:21.426Z"
   },
   {
    "duration": 5,
    "start_time": "2024-07-16T11:41:28.335Z"
   },
   {
    "duration": 9,
    "start_time": "2024-07-16T11:41:31.141Z"
   },
   {
    "duration": 4,
    "start_time": "2024-07-16T11:43:50.294Z"
   },
   {
    "duration": 67,
    "start_time": "2024-07-16T11:58:51.436Z"
   },
   {
    "duration": 4,
    "start_time": "2024-07-16T12:13:33.500Z"
   },
   {
    "duration": 3,
    "start_time": "2024-07-16T12:14:38.513Z"
   },
   {
    "duration": 4,
    "start_time": "2024-07-16T12:14:53.613Z"
   },
   {
    "duration": 5,
    "start_time": "2024-07-16T12:18:26.771Z"
   },
   {
    "duration": 9,
    "start_time": "2024-07-16T12:18:39.846Z"
   },
   {
    "duration": 366,
    "start_time": "2024-07-16T12:22:08.005Z"
   },
   {
    "duration": 245,
    "start_time": "2024-07-16T12:25:07.630Z"
   },
   {
    "duration": 105,
    "start_time": "2024-07-16T12:25:48.336Z"
   },
   {
    "duration": 223,
    "start_time": "2024-07-16T12:26:01.752Z"
   },
   {
    "duration": 227,
    "start_time": "2024-07-16T12:26:11.438Z"
   },
   {
    "duration": 219,
    "start_time": "2024-07-16T12:27:56.476Z"
   },
   {
    "duration": 111,
    "start_time": "2024-07-16T12:30:05.491Z"
   },
   {
    "duration": 16,
    "start_time": "2024-07-16T12:33:44.581Z"
   },
   {
    "duration": 149,
    "start_time": "2024-07-16T12:36:10.357Z"
   },
   {
    "duration": 7,
    "start_time": "2024-07-16T12:39:18.981Z"
   },
   {
    "duration": 10,
    "start_time": "2024-07-16T12:39:20.415Z"
   },
   {
    "duration": 12,
    "start_time": "2024-07-16T12:40:00.816Z"
   },
   {
    "duration": 287,
    "start_time": "2024-07-16T12:40:49.652Z"
   },
   {
    "duration": 2,
    "start_time": "2024-07-16T13:48:47.151Z"
   },
   {
    "duration": 20,
    "start_time": "2024-07-16T13:52:14.846Z"
   },
   {
    "duration": 12,
    "start_time": "2024-07-16T13:53:23.075Z"
   },
   {
    "duration": 19,
    "start_time": "2024-07-16T13:53:46.872Z"
   },
   {
    "duration": 22,
    "start_time": "2024-07-16T13:54:43.899Z"
   },
   {
    "duration": 227,
    "start_time": "2024-07-16T13:55:23.112Z"
   },
   {
    "duration": 121,
    "start_time": "2024-07-16T13:55:58.695Z"
   },
   {
    "duration": 454,
    "start_time": "2024-07-16T14:00:47.089Z"
   },
   {
    "duration": 194,
    "start_time": "2024-07-16T14:00:54.668Z"
   },
   {
    "duration": 21,
    "start_time": "2024-07-16T14:10:45.440Z"
   },
   {
    "duration": 23,
    "start_time": "2024-07-16T14:13:20.278Z"
   },
   {
    "duration": 58,
    "start_time": "2024-07-16T14:16:24.239Z"
   },
   {
    "duration": 22,
    "start_time": "2024-07-16T14:16:31.543Z"
   },
   {
    "duration": 23,
    "start_time": "2024-07-16T14:16:57.848Z"
   },
   {
    "duration": 231,
    "start_time": "2024-07-16T14:18:31.764Z"
   },
   {
    "duration": 545,
    "start_time": "2024-07-16T14:21:08.205Z"
   },
   {
    "duration": 35,
    "start_time": "2024-07-16T14:23:36.159Z"
   },
   {
    "duration": 6,
    "start_time": "2024-07-16T14:26:54.202Z"
   },
   {
    "duration": 8,
    "start_time": "2024-07-16T14:27:13.876Z"
   },
   {
    "duration": 147,
    "start_time": "2024-07-16T14:27:22.357Z"
   },
   {
    "duration": 8,
    "start_time": "2024-07-16T14:27:56.574Z"
   },
   {
    "duration": 131,
    "start_time": "2024-07-16T14:29:23.184Z"
   },
   {
    "duration": 149,
    "start_time": "2024-07-16T14:30:11.223Z"
   },
   {
    "duration": 1031,
    "start_time": "2024-07-16T14:35:49.644Z"
   },
   {
    "duration": 120,
    "start_time": "2024-07-16T14:37:44.847Z"
   },
   {
    "duration": 154,
    "start_time": "2024-07-16T14:38:15.381Z"
   },
   {
    "duration": 162,
    "start_time": "2024-07-16T16:48:50.852Z"
   },
   {
    "duration": 157,
    "start_time": "2024-07-16T16:54:34.652Z"
   },
   {
    "duration": 169,
    "start_time": "2024-07-16T16:54:41.259Z"
   },
   {
    "duration": 157,
    "start_time": "2024-07-16T16:54:52.493Z"
   },
   {
    "duration": 151,
    "start_time": "2024-07-16T17:01:49.538Z"
   },
   {
    "duration": 153,
    "start_time": "2024-07-16T17:01:58.075Z"
   },
   {
    "duration": 147,
    "start_time": "2024-07-16T17:04:29.424Z"
   },
   {
    "duration": 8,
    "start_time": "2024-07-16T17:09:47.978Z"
   },
   {
    "duration": 13,
    "start_time": "2024-07-16T17:09:58.453Z"
   },
   {
    "duration": 15,
    "start_time": "2024-07-16T17:11:07.251Z"
   },
   {
    "duration": 13,
    "start_time": "2024-07-16T17:12:18.586Z"
   },
   {
    "duration": 29,
    "start_time": "2024-07-16T17:14:37.707Z"
   },
   {
    "duration": 2,
    "start_time": "2024-07-16T17:15:25.751Z"
   },
   {
    "duration": 29,
    "start_time": "2024-07-16T17:15:30.815Z"
   },
   {
    "duration": 29,
    "start_time": "2024-07-16T17:15:54.071Z"
   },
   {
    "duration": 29,
    "start_time": "2024-07-16T17:16:03.412Z"
   },
   {
    "duration": 24,
    "start_time": "2024-07-16T17:16:38.897Z"
   },
   {
    "duration": 22,
    "start_time": "2024-07-16T17:19:20.584Z"
   },
   {
    "duration": 93,
    "start_time": "2024-07-16T17:25:37.690Z"
   },
   {
    "duration": 186,
    "start_time": "2024-07-16T17:26:30.609Z"
   },
   {
    "duration": 344,
    "start_time": "2024-07-16T17:27:43.334Z"
   },
   {
    "duration": 209,
    "start_time": "2024-07-16T17:28:14.262Z"
   },
   {
    "duration": 111,
    "start_time": "2024-07-16T17:30:57.027Z"
   },
   {
    "duration": 3,
    "start_time": "2024-07-16T17:31:49.061Z"
   },
   {
    "duration": 190,
    "start_time": "2024-07-16T17:35:58.262Z"
   },
   {
    "duration": 17,
    "start_time": "2024-07-16T17:37:59.915Z"
   },
   {
    "duration": 222,
    "start_time": "2024-07-16T17:38:58.460Z"
   },
   {
    "duration": 19,
    "start_time": "2024-07-16T17:41:05.078Z"
   },
   {
    "duration": 16,
    "start_time": "2024-07-16T17:41:17.168Z"
   },
   {
    "duration": 485,
    "start_time": "2024-07-16T17:42:09.329Z"
   },
   {
    "duration": 400,
    "start_time": "2024-07-16T17:43:44.428Z"
   },
   {
    "duration": 538,
    "start_time": "2024-07-16T17:43:54.092Z"
   },
   {
    "duration": 415,
    "start_time": "2024-07-16T17:44:03.874Z"
   },
   {
    "duration": 390,
    "start_time": "2024-07-16T17:44:14.124Z"
   },
   {
    "duration": 478,
    "start_time": "2024-07-16T17:44:22.579Z"
   },
   {
    "duration": 403,
    "start_time": "2024-07-16T17:44:46.230Z"
   },
   {
    "duration": 403,
    "start_time": "2024-07-16T17:44:53.219Z"
   },
   {
    "duration": 477,
    "start_time": "2024-07-16T17:44:58.620Z"
   },
   {
    "duration": 392,
    "start_time": "2024-07-16T17:45:08.624Z"
   },
   {
    "duration": 389,
    "start_time": "2024-07-16T17:45:14.881Z"
   },
   {
    "duration": 482,
    "start_time": "2024-07-16T17:46:10.324Z"
   },
   {
    "duration": 387,
    "start_time": "2024-07-16T17:47:41.768Z"
   },
   {
    "duration": 3169,
    "start_time": "2024-07-16T17:50:17.273Z"
   },
   {
    "duration": 587,
    "start_time": "2024-07-16T17:50:59.421Z"
   },
   {
    "duration": 402,
    "start_time": "2024-07-16T17:51:24.995Z"
   },
   {
    "duration": 404,
    "start_time": "2024-07-16T18:00:43.558Z"
   },
   {
    "duration": 493,
    "start_time": "2024-07-16T18:02:04.215Z"
   },
   {
    "duration": 54,
    "start_time": "2024-07-16T18:04:53.762Z"
   },
   {
    "duration": 430,
    "start_time": "2024-07-16T18:05:15.608Z"
   },
   {
    "duration": 424,
    "start_time": "2024-07-16T18:06:08.212Z"
   },
   {
    "duration": 502,
    "start_time": "2024-07-16T18:09:42.530Z"
   },
   {
    "duration": 435,
    "start_time": "2024-07-16T18:10:48.386Z"
   },
   {
    "duration": 417,
    "start_time": "2024-07-16T18:11:08.654Z"
   },
   {
    "duration": 8,
    "start_time": "2024-07-16T18:13:11.454Z"
   },
   {
    "duration": 204,
    "start_time": "2024-07-16T18:14:11.645Z"
   },
   {
    "duration": 8,
    "start_time": "2024-07-16T18:14:34.092Z"
   },
   {
    "duration": 8,
    "start_time": "2024-07-16T18:15:37.713Z"
   },
   {
    "duration": 84,
    "start_time": "2024-07-16T18:15:53.232Z"
   },
   {
    "duration": 111,
    "start_time": "2024-07-16T18:16:18.927Z"
   },
   {
    "duration": 107,
    "start_time": "2024-07-16T18:16:50.176Z"
   },
   {
    "duration": 109,
    "start_time": "2024-07-16T18:18:44.224Z"
   },
   {
    "duration": 115,
    "start_time": "2024-07-16T18:19:16.656Z"
   },
   {
    "duration": 7,
    "start_time": "2024-07-16T18:20:51.546Z"
   },
   {
    "duration": 128,
    "start_time": "2024-07-16T18:23:26.712Z"
   },
   {
    "duration": 143,
    "start_time": "2024-07-16T18:29:21.745Z"
   },
   {
    "duration": 138,
    "start_time": "2024-07-16T18:34:32.467Z"
   },
   {
    "duration": 17,
    "start_time": "2024-07-16T18:37:08.468Z"
   },
   {
    "duration": 17,
    "start_time": "2024-07-16T18:37:37.838Z"
   },
   {
    "duration": 18,
    "start_time": "2024-07-16T18:38:16.769Z"
   },
   {
    "duration": 138,
    "start_time": "2024-07-16T18:38:29.153Z"
   },
   {
    "duration": 149,
    "start_time": "2024-07-16T18:39:23.927Z"
   },
   {
    "duration": 284,
    "start_time": "2024-07-16T18:40:19.012Z"
   },
   {
    "duration": 147,
    "start_time": "2024-07-16T18:40:32.014Z"
   },
   {
    "duration": 139,
    "start_time": "2024-07-16T18:40:59.680Z"
   },
   {
    "duration": 18,
    "start_time": "2024-07-16T18:42:28.036Z"
   },
   {
    "duration": 8,
    "start_time": "2024-07-16T18:49:26.461Z"
   },
   {
    "duration": 150,
    "start_time": "2024-07-16T18:49:38.647Z"
   },
   {
    "duration": 15,
    "start_time": "2024-07-16T18:51:07.440Z"
   },
   {
    "duration": 16,
    "start_time": "2024-07-16T18:51:24.101Z"
   },
   {
    "duration": 930,
    "start_time": "2024-07-16T18:51:34.485Z"
   },
   {
    "duration": 15,
    "start_time": "2024-07-16T18:51:43.668Z"
   },
   {
    "duration": 14,
    "start_time": "2024-07-16T18:52:00.032Z"
   },
   {
    "duration": 11,
    "start_time": "2024-07-16T18:52:10.033Z"
   },
   {
    "duration": 13,
    "start_time": "2024-07-16T18:52:22.324Z"
   },
   {
    "duration": 11,
    "start_time": "2024-07-16T18:52:33.311Z"
   },
   {
    "duration": 1180,
    "start_time": "2024-07-16T18:52:50.735Z"
   },
   {
    "duration": 57,
    "start_time": "2024-07-16T18:59:08.657Z"
   },
   {
    "duration": 25,
    "start_time": "2024-07-16T18:59:52.797Z"
   },
   {
    "duration": 23,
    "start_time": "2024-07-16T19:00:33.944Z"
   },
   {
    "duration": 154,
    "start_time": "2024-07-16T19:00:59.788Z"
   },
   {
    "duration": 488,
    "start_time": "2024-07-16T19:05:42.418Z"
   },
   {
    "duration": 409,
    "start_time": "2024-07-16T19:06:47.585Z"
   },
   {
    "duration": 8,
    "start_time": "2024-07-16T19:08:02.154Z"
   },
   {
    "duration": 427,
    "start_time": "2024-07-16T19:08:52.819Z"
   },
   {
    "duration": 517,
    "start_time": "2024-07-16T19:10:57.752Z"
   },
   {
    "duration": 220,
    "start_time": "2024-07-16T19:11:24.352Z"
   },
   {
    "duration": 4,
    "start_time": "2024-07-16T19:13:55.166Z"
   },
   {
    "duration": 986,
    "start_time": "2024-07-16T19:14:19.279Z"
   },
   {
    "duration": 12,
    "start_time": "2024-07-16T19:18:01.205Z"
   },
   {
    "duration": 112,
    "start_time": "2024-07-16T19:22:41.154Z"
   },
   {
    "duration": 149,
    "start_time": "2024-07-16T19:24:03.630Z"
   },
   {
    "duration": 5,
    "start_time": "2024-07-16T19:34:43.518Z"
   },
   {
    "duration": 8,
    "start_time": "2024-07-16T19:34:59.116Z"
   },
   {
    "duration": 15,
    "start_time": "2024-07-16T19:36:19.807Z"
   },
   {
    "duration": 207,
    "start_time": "2024-07-16T19:39:42.776Z"
   },
   {
    "duration": 49,
    "start_time": "2024-07-17T13:59:07.103Z"
   },
   {
    "duration": 1379,
    "start_time": "2024-07-17T13:59:25.930Z"
   },
   {
    "duration": 327,
    "start_time": "2024-07-17T13:59:27.312Z"
   },
   {
    "duration": 13,
    "start_time": "2024-07-17T13:59:27.917Z"
   },
   {
    "duration": 30,
    "start_time": "2024-07-17T13:59:28.814Z"
   },
   {
    "duration": 10,
    "start_time": "2024-07-17T13:59:29.572Z"
   },
   {
    "duration": 11,
    "start_time": "2024-07-17T13:59:30.559Z"
   },
   {
    "duration": 5,
    "start_time": "2024-07-17T13:59:32.826Z"
   },
   {
    "duration": 15,
    "start_time": "2024-07-17T13:59:33.512Z"
   },
   {
    "duration": 15,
    "start_time": "2024-07-17T13:59:35.881Z"
   },
   {
    "duration": 19,
    "start_time": "2024-07-17T13:59:37.351Z"
   },
   {
    "duration": 23,
    "start_time": "2024-07-17T13:59:38.759Z"
   },
   {
    "duration": 6,
    "start_time": "2024-07-17T13:59:40.050Z"
   },
   {
    "duration": 14,
    "start_time": "2024-07-17T13:59:41.279Z"
   },
   {
    "duration": 5,
    "start_time": "2024-07-17T13:59:41.916Z"
   },
   {
    "duration": 6,
    "start_time": "2024-07-17T13:59:42.527Z"
   },
   {
    "duration": 5,
    "start_time": "2024-07-17T13:59:43.823Z"
   },
   {
    "duration": 6,
    "start_time": "2024-07-17T13:59:44.477Z"
   },
   {
    "duration": 4,
    "start_time": "2024-07-17T13:59:45.717Z"
   },
   {
    "duration": 14,
    "start_time": "2024-07-17T13:59:46.856Z"
   },
   {
    "duration": 11,
    "start_time": "2024-07-17T13:59:48.089Z"
   },
   {
    "duration": 6,
    "start_time": "2024-07-17T13:59:49.524Z"
   },
   {
    "duration": 12,
    "start_time": "2024-07-17T13:59:50.729Z"
   },
   {
    "duration": 20,
    "start_time": "2024-07-17T13:59:51.381Z"
   },
   {
    "duration": 12,
    "start_time": "2024-07-17T13:59:52.717Z"
   },
   {
    "duration": 6,
    "start_time": "2024-07-17T13:59:53.795Z"
   },
   {
    "duration": 5,
    "start_time": "2024-07-17T13:59:54.936Z"
   },
   {
    "duration": 13,
    "start_time": "2024-07-17T13:59:56.125Z"
   },
   {
    "duration": 6,
    "start_time": "2024-07-17T13:59:57.382Z"
   },
   {
    "duration": 20,
    "start_time": "2024-07-17T13:59:57.983Z"
   },
   {
    "duration": 38,
    "start_time": "2024-07-17T13:59:58.666Z"
   },
   {
    "duration": 16,
    "start_time": "2024-07-17T13:59:59.253Z"
   },
   {
    "duration": 23,
    "start_time": "2024-07-17T14:00:00.415Z"
   },
   {
    "duration": 13,
    "start_time": "2024-07-17T14:00:01.265Z"
   },
   {
    "duration": 62,
    "start_time": "2024-07-17T14:00:02.305Z"
   },
   {
    "duration": 5,
    "start_time": "2024-07-17T14:00:14.140Z"
   },
   {
    "duration": 5,
    "start_time": "2024-07-17T14:00:14.671Z"
   },
   {
    "duration": 8,
    "start_time": "2024-07-17T14:00:16.970Z"
   },
   {
    "duration": 10,
    "start_time": "2024-07-17T14:00:18.074Z"
   },
   {
    "duration": 6,
    "start_time": "2024-07-17T14:00:18.652Z"
   },
   {
    "duration": 12,
    "start_time": "2024-07-17T14:00:19.183Z"
   },
   {
    "duration": 9,
    "start_time": "2024-07-17T14:00:19.776Z"
   },
   {
    "duration": 22,
    "start_time": "2024-07-17T14:00:20.993Z"
   },
   {
    "duration": 14,
    "start_time": "2024-07-17T14:00:21.722Z"
   },
   {
    "duration": 197,
    "start_time": "2024-07-17T14:00:22.501Z"
   },
   {
    "duration": 257,
    "start_time": "2024-07-17T14:00:23.191Z"
   },
   {
    "duration": 26,
    "start_time": "2024-07-17T14:00:25.174Z"
   },
   {
    "duration": 220,
    "start_time": "2024-07-17T14:00:25.924Z"
   },
   {
    "duration": 27,
    "start_time": "2024-07-17T14:00:27.871Z"
   },
   {
    "duration": 172,
    "start_time": "2024-07-17T14:00:28.559Z"
   },
   {
    "duration": 180,
    "start_time": "2024-07-17T14:00:29.429Z"
   },
   {
    "duration": 20,
    "start_time": "2024-07-17T14:00:31.669Z"
   },
   {
    "duration": 621,
    "start_time": "2024-07-17T14:00:32.345Z"
   },
   {
    "duration": 601,
    "start_time": "2024-07-17T14:00:32.968Z"
   },
   {
    "duration": 151,
    "start_time": "2024-07-17T14:00:33.759Z"
   },
   {
    "duration": 8,
    "start_time": "2024-07-17T14:00:34.603Z"
   },
   {
    "duration": 185,
    "start_time": "2024-07-17T14:00:37.133Z"
   },
   {
    "duration": 284,
    "start_time": "2024-07-17T14:00:39.358Z"
   },
   {
    "duration": 149,
    "start_time": "2024-07-17T14:00:39.928Z"
   },
   {
    "duration": 10,
    "start_time": "2024-07-17T14:00:40.678Z"
   },
   {
    "duration": 17,
    "start_time": "2024-07-17T14:00:42.508Z"
   },
   {
    "duration": 260,
    "start_time": "2024-07-17T14:00:43.581Z"
   },
   {
    "duration": 288,
    "start_time": "2024-07-17T14:00:45.698Z"
   },
   {
    "duration": 185,
    "start_time": "2024-07-17T14:01:44.962Z"
   },
   {
    "duration": 11,
    "start_time": "2024-07-17T14:03:13.972Z"
   },
   {
    "duration": 7,
    "start_time": "2024-07-17T14:04:10.515Z"
   },
   {
    "duration": 9,
    "start_time": "2024-07-17T14:05:06.903Z"
   },
   {
    "duration": 73,
    "start_time": "2024-07-17T14:07:52.188Z"
   },
   {
    "duration": 11,
    "start_time": "2024-07-17T14:09:24.508Z"
   },
   {
    "duration": 26,
    "start_time": "2024-07-17T14:15:52.857Z"
   },
   {
    "duration": 12,
    "start_time": "2024-07-17T14:16:14.820Z"
   },
   {
    "duration": 18,
    "start_time": "2024-07-17T14:16:27.299Z"
   },
   {
    "duration": 14,
    "start_time": "2024-07-17T14:25:53.133Z"
   },
   {
    "duration": 13,
    "start_time": "2024-07-17T14:27:01.920Z"
   },
   {
    "duration": 22,
    "start_time": "2024-07-17T14:30:07.914Z"
   },
   {
    "duration": 18,
    "start_time": "2024-07-17T14:30:24.171Z"
   },
   {
    "duration": 13,
    "start_time": "2024-07-17T14:33:30.815Z"
   },
   {
    "duration": 12,
    "start_time": "2024-07-17T14:33:42.823Z"
   },
   {
    "duration": 12,
    "start_time": "2024-07-17T14:35:46.142Z"
   },
   {
    "duration": 14,
    "start_time": "2024-07-17T14:35:57.864Z"
   },
   {
    "duration": 14,
    "start_time": "2024-07-17T14:38:56.432Z"
   },
   {
    "duration": 37,
    "start_time": "2024-07-17T14:59:44.367Z"
   },
   {
    "duration": 16,
    "start_time": "2024-07-17T15:00:37.832Z"
   },
   {
    "duration": 194,
    "start_time": "2024-07-17T15:02:30.893Z"
   },
   {
    "duration": 13,
    "start_time": "2024-07-17T15:21:33.817Z"
   },
   {
    "duration": 11,
    "start_time": "2024-07-17T15:22:57.233Z"
   },
   {
    "duration": 9,
    "start_time": "2024-07-17T15:24:35.518Z"
   },
   {
    "duration": 179,
    "start_time": "2024-07-17T15:24:58.477Z"
   },
   {
    "duration": 9,
    "start_time": "2024-07-17T15:25:01.979Z"
   },
   {
    "duration": 3,
    "start_time": "2024-07-17T15:26:00.053Z"
   },
   {
    "duration": 112,
    "start_time": "2024-07-17T15:26:01.363Z"
   },
   {
    "duration": 11,
    "start_time": "2024-07-17T15:26:01.982Z"
   },
   {
    "duration": 18,
    "start_time": "2024-07-17T15:26:02.498Z"
   },
   {
    "duration": 9,
    "start_time": "2024-07-17T15:26:03.159Z"
   },
   {
    "duration": 11,
    "start_time": "2024-07-17T15:26:03.819Z"
   },
   {
    "duration": 6,
    "start_time": "2024-07-17T15:26:05.398Z"
   },
   {
    "duration": 13,
    "start_time": "2024-07-17T15:26:05.980Z"
   },
   {
    "duration": 14,
    "start_time": "2024-07-17T15:26:07.890Z"
   },
   {
    "duration": 25,
    "start_time": "2024-07-17T15:26:09.188Z"
   },
   {
    "duration": 25,
    "start_time": "2024-07-17T15:26:10.457Z"
   },
   {
    "duration": 11,
    "start_time": "2024-07-17T15:26:11.623Z"
   },
   {
    "duration": 14,
    "start_time": "2024-07-17T15:26:12.700Z"
   },
   {
    "duration": 6,
    "start_time": "2024-07-17T15:26:13.348Z"
   },
   {
    "duration": 6,
    "start_time": "2024-07-17T15:26:13.856Z"
   },
   {
    "duration": 5,
    "start_time": "2024-07-17T15:26:14.932Z"
   },
   {
    "duration": 6,
    "start_time": "2024-07-17T15:26:15.490Z"
   },
   {
    "duration": 4,
    "start_time": "2024-07-17T15:26:16.594Z"
   },
   {
    "duration": 19,
    "start_time": "2024-07-17T15:26:17.656Z"
   },
   {
    "duration": 10,
    "start_time": "2024-07-17T15:26:18.829Z"
   },
   {
    "duration": 7,
    "start_time": "2024-07-17T15:26:20.259Z"
   },
   {
    "duration": 10,
    "start_time": "2024-07-17T15:26:21.552Z"
   },
   {
    "duration": 18,
    "start_time": "2024-07-17T15:26:22.719Z"
   },
   {
    "duration": 13,
    "start_time": "2024-07-17T15:26:24.046Z"
   },
   {
    "duration": 6,
    "start_time": "2024-07-17T15:26:25.309Z"
   },
   {
    "duration": 4,
    "start_time": "2024-07-17T15:26:26.710Z"
   },
   {
    "duration": 20,
    "start_time": "2024-07-17T15:26:28.079Z"
   },
   {
    "duration": 6,
    "start_time": "2024-07-17T15:26:29.338Z"
   },
   {
    "duration": 17,
    "start_time": "2024-07-17T15:26:29.906Z"
   },
   {
    "duration": 39,
    "start_time": "2024-07-17T15:26:30.807Z"
   },
   {
    "duration": 28,
    "start_time": "2024-07-17T15:26:31.452Z"
   },
   {
    "duration": 31,
    "start_time": "2024-07-17T15:26:32.668Z"
   },
   {
    "duration": 22,
    "start_time": "2024-07-17T15:26:33.266Z"
   },
   {
    "duration": 6,
    "start_time": "2024-07-17T15:26:34.921Z"
   },
   {
    "duration": 5,
    "start_time": "2024-07-17T15:26:35.536Z"
   },
   {
    "duration": 8,
    "start_time": "2024-07-17T15:26:37.894Z"
   },
   {
    "duration": 11,
    "start_time": "2024-07-17T15:26:39.009Z"
   },
   {
    "duration": 10,
    "start_time": "2024-07-17T15:26:39.575Z"
   },
   {
    "duration": 12,
    "start_time": "2024-07-17T15:26:40.141Z"
   },
   {
    "duration": 12,
    "start_time": "2024-07-17T15:26:40.744Z"
   },
   {
    "duration": 14,
    "start_time": "2024-07-17T15:26:42.218Z"
   },
   {
    "duration": 14,
    "start_time": "2024-07-17T15:26:42.910Z"
   },
   {
    "duration": 184,
    "start_time": "2024-07-17T15:26:43.575Z"
   },
   {
    "duration": 269,
    "start_time": "2024-07-17T15:26:52.591Z"
   },
   {
    "duration": 37,
    "start_time": "2024-07-17T15:26:55.274Z"
   },
   {
    "duration": 243,
    "start_time": "2024-07-17T15:26:56.269Z"
   },
   {
    "duration": 31,
    "start_time": "2024-07-17T15:26:59.784Z"
   },
   {
    "duration": 193,
    "start_time": "2024-07-17T15:27:00.815Z"
   },
   {
    "duration": 217,
    "start_time": "2024-07-17T15:27:01.723Z"
   },
   {
    "duration": 24,
    "start_time": "2024-07-17T15:27:08.954Z"
   },
   {
    "duration": 732,
    "start_time": "2024-07-17T15:27:10.130Z"
   },
   {
    "duration": 555,
    "start_time": "2024-07-17T15:27:12.002Z"
   },
   {
    "duration": 165,
    "start_time": "2024-07-17T15:27:12.925Z"
   },
   {
    "duration": 9,
    "start_time": "2024-07-17T15:27:14.100Z"
   },
   {
    "duration": 191,
    "start_time": "2024-07-17T15:27:16.518Z"
   },
   {
    "duration": 283,
    "start_time": "2024-07-17T15:27:20.892Z"
   },
   {
    "duration": 163,
    "start_time": "2024-07-17T15:27:22.041Z"
   },
   {
    "duration": 9,
    "start_time": "2024-07-17T15:27:22.641Z"
   },
   {
    "duration": 20,
    "start_time": "2024-07-17T15:27:26.028Z"
   },
   {
    "duration": 376,
    "start_time": "2024-07-17T15:27:27.376Z"
   },
   {
    "duration": 179,
    "start_time": "2024-07-17T15:27:31.635Z"
   },
   {
    "duration": 9,
    "start_time": "2024-07-17T15:27:37.923Z"
   },
   {
    "duration": 10,
    "start_time": "2024-07-17T15:28:40.533Z"
   },
   {
    "duration": 19,
    "start_time": "2024-07-17T15:29:14.303Z"
   },
   {
    "duration": 10,
    "start_time": "2024-07-17T15:29:27.412Z"
   },
   {
    "duration": 73,
    "start_time": "2024-07-17T15:34:21.242Z"
   },
   {
    "duration": 1071,
    "start_time": "2024-07-17T15:50:28.883Z"
   },
   {
    "duration": 23,
    "start_time": "2024-07-17T15:51:06.471Z"
   },
   {
    "duration": 12,
    "start_time": "2024-07-17T15:51:25.648Z"
   },
   {
    "duration": 11,
    "start_time": "2024-07-17T15:51:46.430Z"
   },
   {
    "duration": 1200,
    "start_time": "2024-07-17T15:53:32.675Z"
   },
   {
    "duration": 15,
    "start_time": "2024-07-17T15:55:54.827Z"
   },
   {
    "duration": 5,
    "start_time": "2024-07-17T16:01:32.024Z"
   },
   {
    "duration": 11,
    "start_time": "2024-07-17T16:03:59.027Z"
   },
   {
    "duration": 5,
    "start_time": "2024-07-17T16:04:05.900Z"
   },
   {
    "duration": 4,
    "start_time": "2024-07-17T16:04:38.719Z"
   },
   {
    "duration": 10,
    "start_time": "2024-07-17T16:05:42.225Z"
   },
   {
    "duration": 10,
    "start_time": "2024-07-17T16:07:24.927Z"
   },
   {
    "duration": 11,
    "start_time": "2024-07-17T16:08:32.846Z"
   },
   {
    "duration": 17,
    "start_time": "2024-07-17T16:08:51.999Z"
   },
   {
    "duration": 8,
    "start_time": "2024-07-17T16:09:35.724Z"
   },
   {
    "duration": 301,
    "start_time": "2024-07-17T16:18:21.070Z"
   },
   {
    "duration": 225,
    "start_time": "2024-07-17T16:40:29.847Z"
   },
   {
    "duration": 8,
    "start_time": "2024-07-17T16:40:46.880Z"
   },
   {
    "duration": 5,
    "start_time": "2024-07-17T16:50:50.459Z"
   },
   {
    "duration": 4,
    "start_time": "2024-07-17T16:57:27.710Z"
   },
   {
    "duration": 10,
    "start_time": "2024-07-17T16:57:33.853Z"
   },
   {
    "duration": 20,
    "start_time": "2024-07-17T17:00:06.935Z"
   },
   {
    "duration": 4,
    "start_time": "2024-07-17T17:00:38.805Z"
   },
   {
    "duration": 11,
    "start_time": "2024-07-17T17:00:39.896Z"
   },
   {
    "duration": 6,
    "start_time": "2024-07-17T17:00:40.458Z"
   },
   {
    "duration": 12,
    "start_time": "2024-07-17T17:00:41.112Z"
   },
   {
    "duration": 9,
    "start_time": "2024-07-17T17:00:42.066Z"
   },
   {
    "duration": 14,
    "start_time": "2024-07-17T17:00:43.545Z"
   },
   {
    "duration": 14,
    "start_time": "2024-07-17T17:00:44.536Z"
   },
   {
    "duration": 181,
    "start_time": "2024-07-17T17:00:45.863Z"
   },
   {
    "duration": 240,
    "start_time": "2024-07-17T17:00:46.784Z"
   },
   {
    "duration": 17,
    "start_time": "2024-07-17T17:00:54.580Z"
   },
   {
    "duration": 17,
    "start_time": "2024-07-17T17:01:17.958Z"
   },
   {
    "duration": 21,
    "start_time": "2024-07-17T17:03:06.320Z"
   },
   {
    "duration": 20,
    "start_time": "2024-07-17T17:03:49.124Z"
   },
   {
    "duration": 20,
    "start_time": "2024-07-17T17:04:21.075Z"
   },
   {
    "duration": 212,
    "start_time": "2024-07-17T17:04:28.006Z"
   },
   {
    "duration": 21,
    "start_time": "2024-07-17T17:05:46.399Z"
   },
   {
    "duration": 183,
    "start_time": "2024-07-17T17:05:54.601Z"
   },
   {
    "duration": 185,
    "start_time": "2024-07-17T17:06:04.922Z"
   },
   {
    "duration": 18,
    "start_time": "2024-07-17T17:07:06.822Z"
   },
   {
    "duration": 620,
    "start_time": "2024-07-17T17:07:11.902Z"
   },
   {
    "duration": 562,
    "start_time": "2024-07-17T17:07:19.807Z"
   },
   {
    "duration": 151,
    "start_time": "2024-07-17T17:07:22.321Z"
   },
   {
    "duration": 7,
    "start_time": "2024-07-17T17:07:30.953Z"
   },
   {
    "duration": 202,
    "start_time": "2024-07-17T17:08:41.610Z"
   },
   {
    "duration": 398,
    "start_time": "2024-07-17T17:09:07.018Z"
   },
   {
    "duration": 135,
    "start_time": "2024-07-17T17:09:15.935Z"
   },
   {
    "duration": 17,
    "start_time": "2024-07-17T17:09:20.674Z"
   },
   {
    "duration": 20,
    "start_time": "2024-07-17T17:09:54.182Z"
   },
   {
    "duration": 32,
    "start_time": "2024-07-17T17:10:09.949Z"
   },
   {
    "duration": 257,
    "start_time": "2024-07-17T17:10:17.781Z"
   },
   {
    "duration": 181,
    "start_time": "2024-07-17T17:10:50.914Z"
   },
   {
    "duration": 13,
    "start_time": "2024-07-17T17:10:56.384Z"
   },
   {
    "duration": 29,
    "start_time": "2024-07-17T17:11:32.326Z"
   },
   {
    "duration": 18,
    "start_time": "2024-07-17T17:11:37.331Z"
   },
   {
    "duration": 20,
    "start_time": "2024-07-17T17:11:38.629Z"
   },
   {
    "duration": 181,
    "start_time": "2024-07-17T17:11:40.057Z"
   },
   {
    "duration": 7,
    "start_time": "2024-07-17T17:14:06.605Z"
   },
   {
    "duration": 18,
    "start_time": "2024-07-17T17:17:51.310Z"
   },
   {
    "duration": 29,
    "start_time": "2024-07-17T17:18:13.888Z"
   },
   {
    "duration": 16,
    "start_time": "2024-07-17T17:18:27.575Z"
   },
   {
    "duration": 181,
    "start_time": "2024-07-17T17:18:32.937Z"
   },
   {
    "duration": 13,
    "start_time": "2024-07-17T17:20:23.368Z"
   },
   {
    "duration": 7,
    "start_time": "2024-07-17T17:20:34.934Z"
   },
   {
    "duration": 29,
    "start_time": "2024-07-17T17:21:07.110Z"
   },
   {
    "duration": 23,
    "start_time": "2024-07-17T17:21:08.558Z"
   },
   {
    "duration": 19,
    "start_time": "2024-07-17T17:21:14.287Z"
   },
   {
    "duration": 190,
    "start_time": "2024-07-17T17:21:15.096Z"
   },
   {
    "duration": 8,
    "start_time": "2024-07-17T17:21:17.995Z"
   },
   {
    "duration": 20,
    "start_time": "2024-07-17T17:21:46.593Z"
   },
   {
    "duration": 190,
    "start_time": "2024-07-17T17:21:51.954Z"
   },
   {
    "duration": 22,
    "start_time": "2024-07-17T17:22:40.758Z"
   },
   {
    "duration": 204,
    "start_time": "2024-07-17T17:30:14.918Z"
   },
   {
    "duration": 12,
    "start_time": "2024-07-17T17:30:30.996Z"
   },
   {
    "duration": 19,
    "start_time": "2024-07-17T17:42:54.819Z"
   },
   {
    "duration": 631,
    "start_time": "2024-07-17T17:43:03.500Z"
   },
   {
    "duration": 506,
    "start_time": "2024-07-17T17:43:10.839Z"
   },
   {
    "duration": 154,
    "start_time": "2024-07-17T17:43:17.302Z"
   },
   {
    "duration": 8,
    "start_time": "2024-07-17T17:43:25.896Z"
   },
   {
    "duration": 17,
    "start_time": "2024-07-17T17:58:48.262Z"
   },
   {
    "duration": 21,
    "start_time": "2024-07-17T17:59:34.479Z"
   },
   {
    "duration": 25,
    "start_time": "2024-07-17T17:59:55.593Z"
   },
   {
    "duration": 150,
    "start_time": "2024-07-17T18:02:57.394Z"
   },
   {
    "duration": 136,
    "start_time": "2024-07-17T18:03:09.037Z"
   },
   {
    "duration": 8,
    "start_time": "2024-07-17T18:03:56.428Z"
   },
   {
    "duration": 32,
    "start_time": "2024-07-17T18:09:53.931Z"
   },
   {
    "duration": 27,
    "start_time": "2024-07-17T18:10:15.834Z"
   },
   {
    "duration": 136,
    "start_time": "2024-07-17T18:10:35.131Z"
   },
   {
    "duration": 8,
    "start_time": "2024-07-17T18:10:43.455Z"
   },
   {
    "duration": 5,
    "start_time": "2024-07-17T18:13:12.299Z"
   },
   {
    "duration": 18,
    "start_time": "2024-07-17T18:29:32.033Z"
   },
   {
    "duration": 22,
    "start_time": "2024-07-17T18:37:56.576Z"
   },
   {
    "duration": 227,
    "start_time": "2024-07-17T18:52:02.508Z"
   },
   {
    "duration": 100,
    "start_time": "2024-07-17T18:52:12.630Z"
   },
   {
    "duration": 21,
    "start_time": "2024-07-17T18:53:27.221Z"
   },
   {
    "duration": 21,
    "start_time": "2024-07-17T18:53:57.904Z"
   },
   {
    "duration": 28,
    "start_time": "2024-07-17T18:54:24.217Z"
   },
   {
    "duration": 147,
    "start_time": "2024-07-17T18:55:30.899Z"
   },
   {
    "duration": 177,
    "start_time": "2024-07-17T18:55:56.493Z"
   },
   {
    "duration": 9,
    "start_time": "2024-07-17T18:56:52.652Z"
   },
   {
    "duration": 177,
    "start_time": "2024-07-17T18:59:25.824Z"
   },
   {
    "duration": 320,
    "start_time": "2024-07-17T19:01:20.483Z"
   },
   {
    "duration": 129,
    "start_time": "2024-07-17T19:01:31.911Z"
   },
   {
    "duration": 11,
    "start_time": "2024-07-17T19:01:45.284Z"
   },
   {
    "duration": 19,
    "start_time": "2024-07-17T19:02:25.537Z"
   },
   {
    "duration": 263,
    "start_time": "2024-07-17T19:02:26.390Z"
   },
   {
    "duration": 172,
    "start_time": "2024-07-17T19:02:29.243Z"
   },
   {
    "duration": 11,
    "start_time": "2024-07-17T19:02:30.093Z"
   },
   {
    "duration": 28,
    "start_time": "2024-07-17T19:02:33.175Z"
   },
   {
    "duration": 17,
    "start_time": "2024-07-17T19:02:34.792Z"
   },
   {
    "duration": 26,
    "start_time": "2024-07-17T19:02:37.430Z"
   },
   {
    "duration": 175,
    "start_time": "2024-07-17T19:02:38.694Z"
   },
   {
    "duration": 9,
    "start_time": "2024-07-17T19:02:42.771Z"
   },
   {
    "duration": 47,
    "start_time": "2024-07-18T11:44:27.809Z"
   },
   {
    "duration": 1287,
    "start_time": "2024-07-18T11:44:35.345Z"
   },
   {
    "duration": 406,
    "start_time": "2024-07-18T11:44:36.634Z"
   },
   {
    "duration": 10,
    "start_time": "2024-07-18T11:44:37.042Z"
   },
   {
    "duration": 18,
    "start_time": "2024-07-18T11:44:37.456Z"
   },
   {
    "duration": 10,
    "start_time": "2024-07-18T11:44:38.145Z"
   },
   {
    "duration": 10,
    "start_time": "2024-07-18T11:44:38.796Z"
   },
   {
    "duration": 5,
    "start_time": "2024-07-18T11:44:40.527Z"
   },
   {
    "duration": 14,
    "start_time": "2024-07-18T11:44:41.137Z"
   },
   {
    "duration": 14,
    "start_time": "2024-07-18T11:44:42.842Z"
   },
   {
    "duration": 15,
    "start_time": "2024-07-18T11:44:43.937Z"
   },
   {
    "duration": 21,
    "start_time": "2024-07-18T11:44:45.107Z"
   },
   {
    "duration": 7,
    "start_time": "2024-07-18T11:44:46.225Z"
   },
   {
    "duration": 12,
    "start_time": "2024-07-18T11:44:47.364Z"
   },
   {
    "duration": 5,
    "start_time": "2024-07-18T11:44:48.088Z"
   },
   {
    "duration": 6,
    "start_time": "2024-07-18T11:44:48.753Z"
   },
   {
    "duration": 4,
    "start_time": "2024-07-18T11:44:49.893Z"
   },
   {
    "duration": 6,
    "start_time": "2024-07-18T11:44:50.464Z"
   },
   {
    "duration": 4,
    "start_time": "2024-07-18T11:44:51.725Z"
   },
   {
    "duration": 14,
    "start_time": "2024-07-18T11:44:52.776Z"
   },
   {
    "duration": 9,
    "start_time": "2024-07-18T11:44:53.952Z"
   },
   {
    "duration": 5,
    "start_time": "2024-07-18T11:44:55.093Z"
   },
   {
    "duration": 10,
    "start_time": "2024-07-18T11:44:56.281Z"
   },
   {
    "duration": 17,
    "start_time": "2024-07-18T11:44:56.925Z"
   },
   {
    "duration": 12,
    "start_time": "2024-07-18T11:44:58.158Z"
   },
   {
    "duration": 5,
    "start_time": "2024-07-18T11:44:59.222Z"
   },
   {
    "duration": 3,
    "start_time": "2024-07-18T11:45:00.264Z"
   },
   {
    "duration": 14,
    "start_time": "2024-07-18T11:45:01.320Z"
   },
   {
    "duration": 5,
    "start_time": "2024-07-18T11:45:02.376Z"
   },
   {
    "duration": 16,
    "start_time": "2024-07-18T11:45:02.896Z"
   },
   {
    "duration": 31,
    "start_time": "2024-07-18T11:45:03.437Z"
   },
   {
    "duration": 15,
    "start_time": "2024-07-18T11:45:04.100Z"
   },
   {
    "duration": 21,
    "start_time": "2024-07-18T11:45:05.234Z"
   },
   {
    "duration": 12,
    "start_time": "2024-07-18T11:45:05.787Z"
   },
   {
    "duration": 4,
    "start_time": "2024-07-18T11:45:07.423Z"
   },
   {
    "duration": 4,
    "start_time": "2024-07-18T11:45:07.971Z"
   },
   {
    "duration": 8,
    "start_time": "2024-07-18T11:45:10.057Z"
   },
   {
    "duration": 3,
    "start_time": "2024-07-18T11:45:10.584Z"
   },
   {
    "duration": 10,
    "start_time": "2024-07-18T11:45:11.502Z"
   },
   {
    "duration": 6,
    "start_time": "2024-07-18T11:45:12.003Z"
   },
   {
    "duration": 11,
    "start_time": "2024-07-18T11:45:12.609Z"
   },
   {
    "duration": 9,
    "start_time": "2024-07-18T11:45:13.201Z"
   },
   {
    "duration": 15,
    "start_time": "2024-07-18T11:45:14.357Z"
   },
   {
    "duration": 13,
    "start_time": "2024-07-18T11:45:14.925Z"
   },
   {
    "duration": 169,
    "start_time": "2024-07-18T11:45:15.494Z"
   },
   {
    "duration": 230,
    "start_time": "2024-07-18T11:45:16.086Z"
   },
   {
    "duration": 19,
    "start_time": "2024-07-18T11:45:17.839Z"
   },
   {
    "duration": 208,
    "start_time": "2024-07-18T11:45:18.441Z"
   },
   {
    "duration": 20,
    "start_time": "2024-07-18T11:45:20.035Z"
   },
   {
    "duration": 171,
    "start_time": "2024-07-18T11:45:20.623Z"
   },
   {
    "duration": 173,
    "start_time": "2024-07-18T11:45:21.248Z"
   },
   {
    "duration": 16,
    "start_time": "2024-07-18T11:45:22.969Z"
   },
   {
    "duration": 550,
    "start_time": "2024-07-18T11:45:23.510Z"
   },
   {
    "duration": 510,
    "start_time": "2024-07-18T11:45:24.062Z"
   },
   {
    "duration": 141,
    "start_time": "2024-07-18T11:45:24.573Z"
   },
   {
    "duration": 7,
    "start_time": "2024-07-18T11:45:25.063Z"
   },
   {
    "duration": 23,
    "start_time": "2024-07-18T11:45:26.713Z"
   },
   {
    "duration": 124,
    "start_time": "2024-07-18T11:45:27.283Z"
   },
   {
    "duration": 8,
    "start_time": "2024-07-18T11:45:27.871Z"
   },
   {
    "duration": 14,
    "start_time": "2024-07-18T11:45:28.997Z"
   },
   {
    "duration": 18,
    "start_time": "2024-07-18T11:45:30.273Z"
   },
   {
    "duration": 22,
    "start_time": "2024-07-18T11:45:31.382Z"
   },
   {
    "duration": 134,
    "start_time": "2024-07-18T11:45:32.019Z"
   },
   {
    "duration": 9,
    "start_time": "2024-07-18T11:45:32.695Z"
   },
   {
    "duration": 168,
    "start_time": "2024-07-18T11:45:34.625Z"
   },
   {
    "duration": 254,
    "start_time": "2024-07-18T11:45:36.826Z"
   },
   {
    "duration": 213,
    "start_time": "2024-07-18T11:45:37.363Z"
   },
   {
    "duration": 8,
    "start_time": "2024-07-18T11:45:37.975Z"
   },
   {
    "duration": 17,
    "start_time": "2024-07-18T11:45:39.684Z"
   },
   {
    "duration": 221,
    "start_time": "2024-07-18T11:45:40.378Z"
   },
   {
    "duration": 161,
    "start_time": "2024-07-18T11:45:42.324Z"
   },
   {
    "duration": 9,
    "start_time": "2024-07-18T11:45:43.055Z"
   },
   {
    "duration": 26,
    "start_time": "2024-07-18T11:45:44.202Z"
   },
   {
    "duration": 15,
    "start_time": "2024-07-18T11:45:44.815Z"
   },
   {
    "duration": 25,
    "start_time": "2024-07-18T11:45:45.413Z"
   },
   {
    "duration": 167,
    "start_time": "2024-07-18T11:45:46.180Z"
   },
   {
    "duration": 9,
    "start_time": "2024-07-18T11:45:48.118Z"
   },
   {
    "duration": 61,
    "start_time": "2024-07-18T11:45:49.971Z"
   },
   {
    "duration": 6,
    "start_time": "2024-07-18T11:45:57.272Z"
   },
   {
    "duration": 7,
    "start_time": "2024-07-18T11:48:06.280Z"
   },
   {
    "duration": 10,
    "start_time": "2024-07-18T11:55:18.110Z"
   },
   {
    "duration": 24,
    "start_time": "2024-07-18T12:01:51.804Z"
   },
   {
    "duration": 16,
    "start_time": "2024-07-18T12:01:59.236Z"
   },
   {
    "duration": 21,
    "start_time": "2024-07-18T12:02:12.328Z"
   },
   {
    "duration": 19,
    "start_time": "2024-07-18T12:02:26.751Z"
   },
   {
    "duration": 177,
    "start_time": "2024-07-18T12:02:31.728Z"
   },
   {
    "duration": 8,
    "start_time": "2024-07-18T12:02:44.814Z"
   },
   {
    "duration": 66,
    "start_time": "2024-07-18T12:11:16.893Z"
   },
   {
    "duration": 12,
    "start_time": "2024-07-18T12:12:06.781Z"
   },
   {
    "duration": 23,
    "start_time": "2024-07-18T12:12:30.065Z"
   },
   {
    "duration": 25,
    "start_time": "2024-07-18T12:12:55.096Z"
   },
   {
    "duration": 22,
    "start_time": "2024-07-18T12:14:34.025Z"
   },
   {
    "duration": 20,
    "start_time": "2024-07-18T12:14:58.799Z"
   },
   {
    "duration": 24,
    "start_time": "2024-07-18T12:25:48.823Z"
   },
   {
    "duration": 22,
    "start_time": "2024-07-18T12:29:42.252Z"
   },
   {
    "duration": 24,
    "start_time": "2024-07-18T12:36:54.771Z"
   },
   {
    "duration": 20,
    "start_time": "2024-07-18T12:41:19.340Z"
   },
   {
    "duration": 32,
    "start_time": "2024-07-18T12:49:58.949Z"
   },
   {
    "duration": 24,
    "start_time": "2024-07-18T12:50:36.437Z"
   },
   {
    "duration": 21,
    "start_time": "2024-07-18T12:51:01.491Z"
   },
   {
    "duration": 55,
    "start_time": "2024-07-18T13:05:32.410Z"
   },
   {
    "duration": 22,
    "start_time": "2024-07-18T13:06:04.568Z"
   },
   {
    "duration": 20,
    "start_time": "2024-07-18T13:06:44.857Z"
   },
   {
    "duration": 17,
    "start_time": "2024-07-18T13:17:41.681Z"
   },
   {
    "duration": 11,
    "start_time": "2024-07-18T13:19:10.227Z"
   },
   {
    "duration": 6,
    "start_time": "2024-07-18T13:22:37.520Z"
   },
   {
    "duration": 11,
    "start_time": "2024-07-18T13:22:53.523Z"
   },
   {
    "duration": 20,
    "start_time": "2024-07-18T13:23:01.416Z"
   },
   {
    "duration": 4,
    "start_time": "2024-07-18T13:23:44.426Z"
   },
   {
    "duration": 18,
    "start_time": "2024-07-18T13:24:06.739Z"
   },
   {
    "duration": 23,
    "start_time": "2024-07-18T13:46:50.674Z"
   },
   {
    "duration": 20,
    "start_time": "2024-07-18T13:46:57.711Z"
   },
   {
    "duration": 11,
    "start_time": "2024-07-18T13:47:01.610Z"
   },
   {
    "duration": 6,
    "start_time": "2024-07-18T13:47:04.915Z"
   },
   {
    "duration": 12,
    "start_time": "2024-07-18T13:47:06.897Z"
   },
   {
    "duration": 23,
    "start_time": "2024-07-18T13:47:18.680Z"
   },
   {
    "duration": 21,
    "start_time": "2024-07-18T13:47:28.843Z"
   },
   {
    "duration": 26,
    "start_time": "2024-07-18T13:55:07.282Z"
   },
   {
    "duration": 10,
    "start_time": "2024-07-18T13:55:21.837Z"
   },
   {
    "duration": 24,
    "start_time": "2024-07-18T13:55:23.290Z"
   },
   {
    "duration": 20,
    "start_time": "2024-07-18T13:55:24.878Z"
   },
   {
    "duration": 10,
    "start_time": "2024-07-18T13:55:26.050Z"
   },
   {
    "duration": 6,
    "start_time": "2024-07-18T13:55:26.910Z"
   },
   {
    "duration": 11,
    "start_time": "2024-07-18T13:55:27.733Z"
   },
   {
    "duration": 24,
    "start_time": "2024-07-18T13:55:30.468Z"
   },
   {
    "duration": 10,
    "start_time": "2024-07-18T13:59:17.641Z"
   },
   {
    "duration": 16,
    "start_time": "2024-07-18T14:02:55.786Z"
   },
   {
    "duration": 59,
    "start_time": "2024-07-18T14:52:26.378Z"
   },
   {
    "duration": 73,
    "start_time": "2024-07-18T14:52:58.231Z"
   },
   {
    "duration": 14,
    "start_time": "2024-07-18T14:53:15.341Z"
   },
   {
    "duration": 16,
    "start_time": "2024-07-18T14:53:27.632Z"
   },
   {
    "duration": 18,
    "start_time": "2024-07-18T14:56:51.324Z"
   },
   {
    "duration": 16,
    "start_time": "2024-07-18T14:59:42.686Z"
   },
   {
    "duration": 15,
    "start_time": "2024-07-18T15:01:21.547Z"
   },
   {
    "duration": 18,
    "start_time": "2024-07-18T15:04:06.234Z"
   },
   {
    "duration": 20,
    "start_time": "2024-07-18T15:05:20.513Z"
   },
   {
    "duration": 19,
    "start_time": "2024-07-18T15:05:31.809Z"
   },
   {
    "duration": 18,
    "start_time": "2024-07-18T15:05:43.277Z"
   },
   {
    "duration": 18,
    "start_time": "2024-07-18T15:06:36.334Z"
   },
   {
    "duration": 18,
    "start_time": "2024-07-18T15:06:45.132Z"
   },
   {
    "duration": 23,
    "start_time": "2024-07-18T15:07:30.510Z"
   },
   {
    "duration": 15,
    "start_time": "2024-07-18T15:10:29.685Z"
   },
   {
    "duration": 18,
    "start_time": "2024-07-18T15:12:06.903Z"
   },
   {
    "duration": 21,
    "start_time": "2024-07-18T15:13:43.724Z"
   },
   {
    "duration": 16,
    "start_time": "2024-07-18T15:14:05.864Z"
   },
   {
    "duration": 17,
    "start_time": "2024-07-18T15:15:02.933Z"
   },
   {
    "duration": 16,
    "start_time": "2024-07-18T15:15:15.810Z"
   },
   {
    "duration": 13,
    "start_time": "2024-07-18T15:19:54.971Z"
   },
   {
    "duration": 12,
    "start_time": "2024-07-18T15:22:22.775Z"
   },
   {
    "duration": 13,
    "start_time": "2024-07-18T15:23:49.231Z"
   },
   {
    "duration": 3,
    "start_time": "2024-07-18T15:24:06.879Z"
   },
   {
    "duration": 100,
    "start_time": "2024-07-18T15:24:07.937Z"
   },
   {
    "duration": 10,
    "start_time": "2024-07-18T15:24:08.449Z"
   },
   {
    "duration": 17,
    "start_time": "2024-07-18T15:24:09.013Z"
   },
   {
    "duration": 9,
    "start_time": "2024-07-18T15:24:09.596Z"
   },
   {
    "duration": 12,
    "start_time": "2024-07-18T15:24:10.189Z"
   },
   {
    "duration": 6,
    "start_time": "2024-07-18T15:24:11.752Z"
   },
   {
    "duration": 14,
    "start_time": "2024-07-18T15:24:12.277Z"
   },
   {
    "duration": 13,
    "start_time": "2024-07-18T15:24:13.841Z"
   },
   {
    "duration": 21,
    "start_time": "2024-07-18T15:24:14.854Z"
   },
   {
    "duration": 20,
    "start_time": "2024-07-18T15:24:15.654Z"
   },
   {
    "duration": 6,
    "start_time": "2024-07-18T15:24:16.691Z"
   },
   {
    "duration": 13,
    "start_time": "2024-07-18T15:24:17.671Z"
   },
   {
    "duration": 5,
    "start_time": "2024-07-18T15:24:18.210Z"
   },
   {
    "duration": 5,
    "start_time": "2024-07-18T15:24:18.695Z"
   },
   {
    "duration": 4,
    "start_time": "2024-07-18T15:24:19.712Z"
   },
   {
    "duration": 7,
    "start_time": "2024-07-18T15:24:20.245Z"
   },
   {
    "duration": 3,
    "start_time": "2024-07-18T15:24:21.322Z"
   },
   {
    "duration": 13,
    "start_time": "2024-07-18T15:24:22.253Z"
   },
   {
    "duration": 9,
    "start_time": "2024-07-18T15:24:23.332Z"
   },
   {
    "duration": 4,
    "start_time": "2024-07-18T15:24:24.332Z"
   },
   {
    "duration": 9,
    "start_time": "2024-07-18T15:24:25.407Z"
   },
   {
    "duration": 17,
    "start_time": "2024-07-18T15:24:25.953Z"
   },
   {
    "duration": 12,
    "start_time": "2024-07-18T15:24:27.055Z"
   },
   {
    "duration": 5,
    "start_time": "2024-07-18T15:24:27.984Z"
   },
   {
    "duration": 3,
    "start_time": "2024-07-18T15:24:28.955Z"
   },
   {
    "duration": 12,
    "start_time": "2024-07-18T15:24:29.876Z"
   },
   {
    "duration": 5,
    "start_time": "2024-07-18T15:24:30.823Z"
   },
   {
    "duration": 16,
    "start_time": "2024-07-18T15:24:31.271Z"
   },
   {
    "duration": 25,
    "start_time": "2024-07-18T15:24:31.658Z"
   },
   {
    "duration": 15,
    "start_time": "2024-07-18T15:24:32.036Z"
   },
   {
    "duration": 17,
    "start_time": "2024-07-18T15:24:32.974Z"
   },
   {
    "duration": 12,
    "start_time": "2024-07-18T15:24:33.435Z"
   },
   {
    "duration": 4,
    "start_time": "2024-07-18T15:24:34.898Z"
   },
   {
    "duration": 4,
    "start_time": "2024-07-18T15:24:35.412Z"
   },
   {
    "duration": 7,
    "start_time": "2024-07-18T15:24:37.196Z"
   },
   {
    "duration": 4,
    "start_time": "2024-07-18T15:24:37.618Z"
   },
   {
    "duration": 10,
    "start_time": "2024-07-18T15:24:38.548Z"
   },
   {
    "duration": 6,
    "start_time": "2024-07-18T15:24:39.040Z"
   },
   {
    "duration": 11,
    "start_time": "2024-07-18T15:24:39.510Z"
   },
   {
    "duration": 9,
    "start_time": "2024-07-18T15:24:40.050Z"
   },
   {
    "duration": 13,
    "start_time": "2024-07-18T15:24:41.017Z"
   },
   {
    "duration": 12,
    "start_time": "2024-07-18T15:24:41.559Z"
   },
   {
    "duration": 166,
    "start_time": "2024-07-18T15:24:41.993Z"
   },
   {
    "duration": 228,
    "start_time": "2024-07-18T15:24:42.521Z"
   },
   {
    "duration": 20,
    "start_time": "2024-07-18T15:24:44.036Z"
   },
   {
    "duration": 201,
    "start_time": "2024-07-18T15:24:44.545Z"
   },
   {
    "duration": 19,
    "start_time": "2024-07-18T15:24:46.148Z"
   },
   {
    "duration": 176,
    "start_time": "2024-07-18T15:24:46.689Z"
   },
   {
    "duration": 169,
    "start_time": "2024-07-18T15:24:47.196Z"
   },
   {
    "duration": 16,
    "start_time": "2024-07-18T15:24:48.744Z"
   },
   {
    "duration": 581,
    "start_time": "2024-07-18T15:24:49.282Z"
   },
   {
    "duration": 545,
    "start_time": "2024-07-18T15:24:49.865Z"
   },
   {
    "duration": 145,
    "start_time": "2024-07-18T15:24:50.412Z"
   },
   {
    "duration": 7,
    "start_time": "2024-07-18T15:24:50.784Z"
   },
   {
    "duration": 23,
    "start_time": "2024-07-18T15:24:52.383Z"
   },
   {
    "duration": 124,
    "start_time": "2024-07-18T15:24:52.928Z"
   },
   {
    "duration": 7,
    "start_time": "2024-07-18T15:24:53.426Z"
   },
   {
    "duration": 13,
    "start_time": "2024-07-18T15:24:54.302Z"
   },
   {
    "duration": 19,
    "start_time": "2024-07-18T15:24:55.165Z"
   },
   {
    "duration": 21,
    "start_time": "2024-07-18T15:24:56.115Z"
   },
   {
    "duration": 139,
    "start_time": "2024-07-18T15:24:56.442Z"
   },
   {
    "duration": 8,
    "start_time": "2024-07-18T15:24:56.898Z"
   },
   {
    "duration": 315,
    "start_time": "2024-07-18T15:24:58.211Z"
   },
   {
    "duration": 288,
    "start_time": "2024-07-18T15:24:59.501Z"
   },
   {
    "duration": 128,
    "start_time": "2024-07-18T15:24:59.915Z"
   },
   {
    "duration": 9,
    "start_time": "2024-07-18T15:25:00.368Z"
   },
   {
    "duration": 18,
    "start_time": "2024-07-18T15:25:01.721Z"
   },
   {
    "duration": 234,
    "start_time": "2024-07-18T15:25:02.130Z"
   },
   {
    "duration": 159,
    "start_time": "2024-07-18T15:25:03.574Z"
   },
   {
    "duration": 10,
    "start_time": "2024-07-18T15:25:04.051Z"
   },
   {
    "duration": 26,
    "start_time": "2024-07-18T15:25:05.085Z"
   },
   {
    "duration": 21,
    "start_time": "2024-07-18T15:25:05.593Z"
   },
   {
    "duration": 18,
    "start_time": "2024-07-18T15:25:06.085Z"
   },
   {
    "duration": 173,
    "start_time": "2024-07-18T15:25:06.562Z"
   },
   {
    "duration": 8,
    "start_time": "2024-07-18T15:25:08.085Z"
   },
   {
    "duration": 11,
    "start_time": "2024-07-18T15:25:09.995Z"
   },
   {
    "duration": 23,
    "start_time": "2024-07-18T15:25:11.011Z"
   },
   {
    "duration": 27,
    "start_time": "2024-07-18T15:25:12.023Z"
   },
   {
    "duration": 11,
    "start_time": "2024-07-18T15:25:12.550Z"
   },
   {
    "duration": 6,
    "start_time": "2024-07-18T15:25:13.019Z"
   },
   {
    "duration": 12,
    "start_time": "2024-07-18T15:25:13.528Z"
   },
   {
    "duration": 24,
    "start_time": "2024-07-18T15:25:14.601Z"
   },
   {
    "duration": 18,
    "start_time": "2024-07-18T15:25:15.754Z"
   },
   {
    "duration": 18,
    "start_time": "2024-07-18T15:25:16.951Z"
   },
   {
    "duration": 16,
    "start_time": "2024-07-18T15:25:17.647Z"
   },
   {
    "duration": 15,
    "start_time": "2024-07-18T15:25:18.836Z"
   },
   {
    "duration": 19,
    "start_time": "2024-07-18T15:27:39.844Z"
   },
   {
    "duration": 20,
    "start_time": "2024-07-18T15:29:12.328Z"
   },
   {
    "duration": 16,
    "start_time": "2024-07-18T15:29:24.220Z"
   },
   {
    "duration": 18,
    "start_time": "2024-07-18T15:29:27.331Z"
   },
   {
    "duration": 4,
    "start_time": "2024-07-18T15:31:52.170Z"
   },
   {
    "duration": 14,
    "start_time": "2024-07-18T15:32:07.626Z"
   },
   {
    "duration": 18,
    "start_time": "2024-07-18T15:32:29.631Z"
   },
   {
    "duration": 10,
    "start_time": "2024-07-18T15:32:46.081Z"
   },
   {
    "duration": 24,
    "start_time": "2024-07-18T15:33:37.970Z"
   },
   {
    "duration": 13,
    "start_time": "2024-07-18T15:33:42.816Z"
   },
   {
    "duration": 3,
    "start_time": "2024-07-18T15:34:53.885Z"
   },
   {
    "duration": 4,
    "start_time": "2024-07-18T15:34:56.037Z"
   },
   {
    "duration": 13,
    "start_time": "2024-07-18T15:34:57.163Z"
   },
   {
    "duration": 20,
    "start_time": "2024-07-18T15:38:02.480Z"
   },
   {
    "duration": 11,
    "start_time": "2024-07-18T15:39:42.906Z"
   },
   {
    "duration": 14,
    "start_time": "2024-07-18T15:39:56.404Z"
   },
   {
    "duration": 17,
    "start_time": "2024-07-18T15:39:57.287Z"
   },
   {
    "duration": 182,
    "start_time": "2024-07-18T15:39:58.005Z"
   },
   {
    "duration": 10,
    "start_time": "2024-07-18T15:40:00.138Z"
   },
   {
    "duration": 10,
    "start_time": "2024-07-18T15:40:02.484Z"
   },
   {
    "duration": 21,
    "start_time": "2024-07-18T15:40:04.038Z"
   },
   {
    "duration": 20,
    "start_time": "2024-07-18T15:40:05.697Z"
   },
   {
    "duration": 11,
    "start_time": "2024-07-18T15:40:06.393Z"
   },
   {
    "duration": 6,
    "start_time": "2024-07-18T15:40:07.065Z"
   },
   {
    "duration": 14,
    "start_time": "2024-07-18T15:40:08.860Z"
   },
   {
    "duration": 23,
    "start_time": "2024-07-18T15:40:10.305Z"
   },
   {
    "duration": 14,
    "start_time": "2024-07-18T15:40:11.117Z"
   },
   {
    "duration": 17,
    "start_time": "2024-07-18T15:40:12.483Z"
   },
   {
    "duration": 15,
    "start_time": "2024-07-18T15:40:13.852Z"
   },
   {
    "duration": 16,
    "start_time": "2024-07-18T15:40:15.097Z"
   },
   {
    "duration": 11,
    "start_time": "2024-07-18T15:40:16.479Z"
   },
   {
    "duration": 4,
    "start_time": "2024-07-18T15:41:31.596Z"
   },
   {
    "duration": 3,
    "start_time": "2024-07-18T15:41:38.465Z"
   },
   {
    "duration": 15,
    "start_time": "2024-07-18T15:41:40.189Z"
   },
   {
    "duration": 10,
    "start_time": "2024-07-18T15:45:54.378Z"
   },
   {
    "duration": 22,
    "start_time": "2024-07-18T15:45:55.263Z"
   },
   {
    "duration": 21,
    "start_time": "2024-07-18T15:45:57.826Z"
   },
   {
    "duration": 11,
    "start_time": "2024-07-18T15:45:59.546Z"
   },
   {
    "duration": 7,
    "start_time": "2024-07-18T15:46:01.117Z"
   },
   {
    "duration": 11,
    "start_time": "2024-07-18T15:46:02.720Z"
   },
   {
    "duration": 23,
    "start_time": "2024-07-18T15:46:05.900Z"
   },
   {
    "duration": 16,
    "start_time": "2024-07-18T15:46:09.646Z"
   },
   {
    "duration": 19,
    "start_time": "2024-07-18T15:46:13.725Z"
   },
   {
    "duration": 16,
    "start_time": "2024-07-18T15:46:21.526Z"
   },
   {
    "duration": 19,
    "start_time": "2024-07-18T15:46:27.820Z"
   },
   {
    "duration": 11,
    "start_time": "2024-07-18T15:46:35.537Z"
   },
   {
    "duration": 4,
    "start_time": "2024-07-18T15:46:39.439Z"
   },
   {
    "duration": 57,
    "start_time": "2024-07-18T15:46:40.271Z"
   },
   {
    "duration": 4,
    "start_time": "2024-07-18T15:46:49.040Z"
   },
   {
    "duration": 14,
    "start_time": "2024-07-18T15:46:51.830Z"
   },
   {
    "duration": 14,
    "start_time": "2024-07-18T15:47:48.834Z"
   },
   {
    "duration": 4,
    "start_time": "2024-07-18T15:48:53.682Z"
   },
   {
    "duration": 16,
    "start_time": "2024-07-18T15:50:20.315Z"
   },
   {
    "duration": 3,
    "start_time": "2024-07-18T15:54:25.748Z"
   },
   {
    "duration": 4,
    "start_time": "2024-07-18T15:54:29.994Z"
   },
   {
    "duration": 12,
    "start_time": "2024-07-18T15:54:32.643Z"
   },
   {
    "duration": 10,
    "start_time": "2024-07-18T15:55:05.902Z"
   },
   {
    "duration": 25,
    "start_time": "2024-07-18T15:55:07.070Z"
   },
   {
    "duration": 21,
    "start_time": "2024-07-18T15:55:08.232Z"
   },
   {
    "duration": 17,
    "start_time": "2024-07-18T15:55:08.826Z"
   },
   {
    "duration": 6,
    "start_time": "2024-07-18T15:55:09.383Z"
   },
   {
    "duration": 21,
    "start_time": "2024-07-18T15:55:10.119Z"
   },
   {
    "duration": 22,
    "start_time": "2024-07-18T15:55:11.397Z"
   },
   {
    "duration": 18,
    "start_time": "2024-07-18T15:55:12.194Z"
   },
   {
    "duration": 27,
    "start_time": "2024-07-18T15:55:13.524Z"
   },
   {
    "duration": 14,
    "start_time": "2024-07-18T15:55:14.745Z"
   },
   {
    "duration": 16,
    "start_time": "2024-07-18T15:55:16.103Z"
   },
   {
    "duration": 14,
    "start_time": "2024-07-18T15:55:17.928Z"
   },
   {
    "duration": 7,
    "start_time": "2024-07-18T15:55:19.582Z"
   },
   {
    "duration": 5,
    "start_time": "2024-07-18T15:55:20.927Z"
   },
   {
    "duration": 14,
    "start_time": "2024-07-18T15:55:21.586Z"
   },
   {
    "duration": 3,
    "start_time": "2024-07-18T15:55:23.311Z"
   },
   {
    "duration": 4,
    "start_time": "2024-07-18T15:55:24.510Z"
   },
   {
    "duration": 15,
    "start_time": "2024-07-18T15:55:25.892Z"
   },
   {
    "duration": 5,
    "start_time": "2024-07-18T15:57:06.829Z"
   },
   {
    "duration": 13,
    "start_time": "2024-07-18T15:57:08.211Z"
   },
   {
    "duration": 10,
    "start_time": "2024-07-18T15:57:26.278Z"
   },
   {
    "duration": 21,
    "start_time": "2024-07-18T15:57:27.245Z"
   },
   {
    "duration": 22,
    "start_time": "2024-07-18T15:57:28.130Z"
   },
   {
    "duration": 11,
    "start_time": "2024-07-18T15:57:28.606Z"
   },
   {
    "duration": 7,
    "start_time": "2024-07-18T15:57:29.034Z"
   },
   {
    "duration": 17,
    "start_time": "2024-07-18T15:57:29.528Z"
   },
   {
    "duration": 23,
    "start_time": "2024-07-18T15:57:30.460Z"
   },
   {
    "duration": 15,
    "start_time": "2024-07-18T15:57:30.952Z"
   },
   {
    "duration": 18,
    "start_time": "2024-07-18T15:57:31.891Z"
   },
   {
    "duration": 14,
    "start_time": "2024-07-18T15:57:32.999Z"
   },
   {
    "duration": 16,
    "start_time": "2024-07-18T15:57:34.155Z"
   },
   {
    "duration": 9,
    "start_time": "2024-07-18T15:57:35.343Z"
   },
   {
    "duration": 4,
    "start_time": "2024-07-18T15:57:36.354Z"
   },
   {
    "duration": 4,
    "start_time": "2024-07-18T15:57:37.321Z"
   },
   {
    "duration": 14,
    "start_time": "2024-07-18T15:57:37.893Z"
   },
   {
    "duration": 4,
    "start_time": "2024-07-18T15:57:39.283Z"
   },
   {
    "duration": 10,
    "start_time": "2024-07-18T15:57:40.222Z"
   },
   {
    "duration": 15,
    "start_time": "2024-07-18T15:57:41.456Z"
   },
   {
    "duration": 8,
    "start_time": "2024-07-18T16:25:26.379Z"
   },
   {
    "duration": 6,
    "start_time": "2024-07-18T16:50:37.870Z"
   },
   {
    "duration": 157,
    "start_time": "2024-07-18T16:50:44.960Z"
   },
   {
    "duration": 162,
    "start_time": "2024-07-18T16:51:42.805Z"
   },
   {
    "duration": 161,
    "start_time": "2024-07-18T16:53:20.764Z"
   },
   {
    "duration": 250,
    "start_time": "2024-07-18T16:53:31.792Z"
   },
   {
    "duration": 165,
    "start_time": "2024-07-18T16:53:39.313Z"
   },
   {
    "duration": 465,
    "start_time": "2024-07-18T17:54:54.370Z"
   },
   {
    "duration": 19,
    "start_time": "2024-07-18T18:01:43.879Z"
   },
   {
    "duration": 3,
    "start_time": "2024-07-18T18:17:34.411Z"
   },
   {
    "duration": 960,
    "start_time": "2024-07-18T18:21:02.036Z"
   },
   {
    "duration": 1296,
    "start_time": "2024-07-18T18:22:53.060Z"
   },
   {
    "duration": 72,
    "start_time": "2024-07-18T18:28:30.671Z"
   },
   {
    "duration": 12,
    "start_time": "2024-07-18T18:29:31.044Z"
   },
   {
    "duration": 19,
    "start_time": "2024-07-18T19:10:17.045Z"
   },
   {
    "duration": 21,
    "start_time": "2024-07-18T19:10:40.680Z"
   },
   {
    "duration": 21,
    "start_time": "2024-07-18T19:11:23.842Z"
   },
   {
    "duration": 20,
    "start_time": "2024-07-18T19:11:35.843Z"
   },
   {
    "duration": 10,
    "start_time": "2024-07-18T19:16:04.955Z"
   },
   {
    "duration": 11,
    "start_time": "2024-07-18T19:16:41.028Z"
   },
   {
    "duration": 14,
    "start_time": "2024-07-18T19:20:44.953Z"
   },
   {
    "duration": 19,
    "start_time": "2024-07-18T19:22:52.787Z"
   },
   {
    "duration": 20,
    "start_time": "2024-07-18T19:22:55.618Z"
   },
   {
    "duration": 24,
    "start_time": "2024-07-18T19:24:23.128Z"
   },
   {
    "duration": 17,
    "start_time": "2024-07-18T19:26:28.403Z"
   },
   {
    "duration": 22,
    "start_time": "2024-07-18T19:26:31.249Z"
   },
   {
    "duration": 19,
    "start_time": "2024-07-18T19:27:34.661Z"
   },
   {
    "duration": 21,
    "start_time": "2024-07-18T19:27:35.693Z"
   },
   {
    "duration": 18,
    "start_time": "2024-07-18T19:29:10.461Z"
   },
   {
    "duration": 22,
    "start_time": "2024-07-18T19:29:13.836Z"
   },
   {
    "duration": 18,
    "start_time": "2024-07-18T19:31:17.353Z"
   },
   {
    "duration": 22,
    "start_time": "2024-07-18T19:31:18.807Z"
   },
   {
    "duration": 16,
    "start_time": "2024-07-18T19:40:11.035Z"
   },
   {
    "duration": 10,
    "start_time": "2024-07-18T19:40:29.891Z"
   },
   {
    "duration": 22,
    "start_time": "2024-07-18T19:40:31.122Z"
   },
   {
    "duration": 23,
    "start_time": "2024-07-18T19:40:32.404Z"
   },
   {
    "duration": 53,
    "start_time": "2024-07-18T19:40:33.039Z"
   },
   {
    "duration": 14,
    "start_time": "2024-07-18T19:40:33.845Z"
   },
   {
    "duration": 13,
    "start_time": "2024-07-18T19:40:44.419Z"
   },
   {
    "duration": 10,
    "start_time": "2024-07-18T19:41:18.367Z"
   },
   {
    "duration": 10,
    "start_time": "2024-07-18T19:41:31.605Z"
   },
   {
    "duration": 10,
    "start_time": "2024-07-18T19:41:34.365Z"
   },
   {
    "duration": 6,
    "start_time": "2024-07-18T19:41:35.268Z"
   },
   {
    "duration": 11,
    "start_time": "2024-07-18T19:41:36.153Z"
   },
   {
    "duration": 22,
    "start_time": "2024-07-18T19:41:38.321Z"
   },
   {
    "duration": 14,
    "start_time": "2024-07-18T19:41:39.235Z"
   },
   {
    "duration": 18,
    "start_time": "2024-07-18T19:41:44.211Z"
   },
   {
    "duration": 22,
    "start_time": "2024-07-18T19:41:45.307Z"
   },
   {
    "duration": 67,
    "start_time": "2024-07-19T09:36:33.187Z"
   },
   {
    "duration": 56,
    "start_time": "2024-07-19T09:37:11.650Z"
   },
   {
    "duration": 64,
    "start_time": "2024-07-19T09:37:47.327Z"
   },
   {
    "duration": 4,
    "start_time": "2024-07-19T09:38:56.054Z"
   },
   {
    "duration": 45,
    "start_time": "2024-07-19T09:39:38.348Z"
   },
   {
    "duration": 1442,
    "start_time": "2024-07-19T09:40:04.225Z"
   },
   {
    "duration": 352,
    "start_time": "2024-07-19T09:40:05.669Z"
   },
   {
    "duration": 11,
    "start_time": "2024-07-19T09:40:06.022Z"
   },
   {
    "duration": 33,
    "start_time": "2024-07-19T09:40:06.556Z"
   },
   {
    "duration": 14,
    "start_time": "2024-07-19T09:40:07.097Z"
   },
   {
    "duration": 16,
    "start_time": "2024-07-19T09:40:07.678Z"
   },
   {
    "duration": 6,
    "start_time": "2024-07-19T09:40:09.315Z"
   },
   {
    "duration": 25,
    "start_time": "2024-07-19T09:40:09.898Z"
   },
   {
    "duration": 14,
    "start_time": "2024-07-19T09:40:11.555Z"
   },
   {
    "duration": 24,
    "start_time": "2024-07-19T09:40:12.681Z"
   },
   {
    "duration": 29,
    "start_time": "2024-07-19T09:40:27.597Z"
   },
   {
    "duration": 7,
    "start_time": "2024-07-19T09:40:28.768Z"
   },
   {
    "duration": 13,
    "start_time": "2024-07-19T09:40:29.817Z"
   },
   {
    "duration": 5,
    "start_time": "2024-07-19T09:40:30.411Z"
   },
   {
    "duration": 6,
    "start_time": "2024-07-19T09:40:30.991Z"
   },
   {
    "duration": 9,
    "start_time": "2024-07-19T09:40:32.133Z"
   },
   {
    "duration": 9,
    "start_time": "2024-07-19T09:40:32.695Z"
   },
   {
    "duration": 8,
    "start_time": "2024-07-19T09:40:33.938Z"
   },
   {
    "duration": 13,
    "start_time": "2024-07-19T09:40:35.003Z"
   },
   {
    "duration": 10,
    "start_time": "2024-07-19T09:40:36.105Z"
   },
   {
    "duration": 5,
    "start_time": "2024-07-19T09:40:37.121Z"
   },
   {
    "duration": 12,
    "start_time": "2024-07-19T09:40:38.200Z"
   },
   {
    "duration": 28,
    "start_time": "2024-07-19T09:40:38.785Z"
   },
   {
    "duration": 18,
    "start_time": "2024-07-19T09:40:39.895Z"
   },
   {
    "duration": 7,
    "start_time": "2024-07-19T09:40:40.892Z"
   },
   {
    "duration": 5,
    "start_time": "2024-07-19T09:40:41.881Z"
   },
   {
    "duration": 18,
    "start_time": "2024-07-19T09:40:42.916Z"
   },
   {
    "duration": 7,
    "start_time": "2024-07-19T09:40:43.958Z"
   },
   {
    "duration": 23,
    "start_time": "2024-07-19T09:40:44.466Z"
   },
   {
    "duration": 47,
    "start_time": "2024-07-19T09:40:44.934Z"
   },
   {
    "duration": 26,
    "start_time": "2024-07-19T09:40:45.437Z"
   },
   {
    "duration": 23,
    "start_time": "2024-07-19T09:40:46.301Z"
   },
   {
    "duration": 13,
    "start_time": "2024-07-19T09:40:46.862Z"
   },
   {
    "duration": 6,
    "start_time": "2024-07-19T09:40:48.368Z"
   },
   {
    "duration": 5,
    "start_time": "2024-07-19T09:40:48.881Z"
   },
   {
    "duration": 12,
    "start_time": "2024-07-19T09:40:51.029Z"
   },
   {
    "duration": 4,
    "start_time": "2024-07-19T09:40:51.465Z"
   },
   {
    "duration": 11,
    "start_time": "2024-07-19T09:40:52.386Z"
   },
   {
    "duration": 6,
    "start_time": "2024-07-19T09:40:52.854Z"
   },
   {
    "duration": 13,
    "start_time": "2024-07-19T09:40:53.376Z"
   },
   {
    "duration": 10,
    "start_time": "2024-07-19T09:40:53.905Z"
   },
   {
    "duration": 15,
    "start_time": "2024-07-19T09:40:54.861Z"
   },
   {
    "duration": 13,
    "start_time": "2024-07-19T09:40:55.291Z"
   },
   {
    "duration": 177,
    "start_time": "2024-07-19T09:40:55.830Z"
   },
   {
    "duration": 245,
    "start_time": "2024-07-19T09:40:56.373Z"
   },
   {
    "duration": 21,
    "start_time": "2024-07-19T09:40:57.753Z"
   },
   {
    "duration": 223,
    "start_time": "2024-07-19T09:40:58.283Z"
   },
   {
    "duration": 20,
    "start_time": "2024-07-19T09:40:59.661Z"
   },
   {
    "duration": 191,
    "start_time": "2024-07-19T09:41:00.203Z"
   },
   {
    "duration": 181,
    "start_time": "2024-07-19T09:41:00.594Z"
   },
   {
    "duration": 26,
    "start_time": "2024-07-19T09:41:02.020Z"
   },
   {
    "duration": 587,
    "start_time": "2024-07-19T09:41:02.538Z"
   },
   {
    "duration": 586,
    "start_time": "2024-07-19T09:41:03.127Z"
   },
   {
    "duration": 160,
    "start_time": "2024-07-19T09:41:03.714Z"
   },
   {
    "duration": 8,
    "start_time": "2024-07-19T09:41:03.976Z"
   },
   {
    "duration": 24,
    "start_time": "2024-07-19T09:41:05.471Z"
   },
   {
    "duration": 136,
    "start_time": "2024-07-19T09:41:06.081Z"
   },
   {
    "duration": 8,
    "start_time": "2024-07-19T09:41:06.666Z"
   },
   {
    "duration": 13,
    "start_time": "2024-07-19T09:41:07.786Z"
   },
   {
    "duration": 25,
    "start_time": "2024-07-19T09:41:08.818Z"
   },
   {
    "duration": 39,
    "start_time": "2024-07-19T09:41:09.719Z"
   },
   {
    "duration": 137,
    "start_time": "2024-07-19T09:41:10.274Z"
   },
   {
    "duration": 9,
    "start_time": "2024-07-19T09:41:10.783Z"
   },
   {
    "duration": 176,
    "start_time": "2024-07-19T09:41:12.349Z"
   },
   {
    "duration": 266,
    "start_time": "2024-07-19T09:41:13.719Z"
   },
   {
    "duration": 251,
    "start_time": "2024-07-19T09:41:14.219Z"
   },
   {
    "duration": 9,
    "start_time": "2024-07-19T09:41:14.751Z"
   },
   {
    "duration": 18,
    "start_time": "2024-07-19T09:41:16.275Z"
   },
   {
    "duration": 245,
    "start_time": "2024-07-19T09:41:16.798Z"
   },
   {
    "duration": 179,
    "start_time": "2024-07-19T09:41:18.297Z"
   },
   {
    "duration": 10,
    "start_time": "2024-07-19T09:41:18.823Z"
   },
   {
    "duration": 23,
    "start_time": "2024-07-19T09:41:19.658Z"
   },
   {
    "duration": 16,
    "start_time": "2024-07-19T09:41:20.099Z"
   },
   {
    "duration": 24,
    "start_time": "2024-07-19T09:41:20.551Z"
   },
   {
    "duration": 210,
    "start_time": "2024-07-19T09:41:21.047Z"
   },
   {
    "duration": 9,
    "start_time": "2024-07-19T09:41:22.464Z"
   },
   {
    "duration": 10,
    "start_time": "2024-07-19T09:41:24.971Z"
   },
   {
    "duration": 23,
    "start_time": "2024-07-19T09:41:26.208Z"
   },
   {
    "duration": 21,
    "start_time": "2024-07-19T09:41:27.384Z"
   },
   {
    "duration": 11,
    "start_time": "2024-07-19T09:41:28.499Z"
   },
   {
    "duration": 11,
    "start_time": "2024-07-19T09:41:29.185Z"
   },
   {
    "duration": 11,
    "start_time": "2024-07-19T09:41:29.799Z"
   },
   {
    "duration": 5,
    "start_time": "2024-07-19T09:41:30.469Z"
   },
   {
    "duration": 15,
    "start_time": "2024-07-19T09:41:31.142Z"
   },
   {
    "duration": 23,
    "start_time": "2024-07-19T09:41:32.377Z"
   },
   {
    "duration": 20,
    "start_time": "2024-07-19T09:41:33.025Z"
   },
   {
    "duration": 27,
    "start_time": "2024-07-19T09:41:34.462Z"
   },
   {
    "duration": 32,
    "start_time": "2024-07-19T09:41:35.575Z"
   },
   {
    "duration": 3,
    "start_time": "2024-07-19T09:41:37.898Z"
   },
   {
    "duration": 71,
    "start_time": "2024-07-19T09:41:39.076Z"
   },
   {
    "duration": 4,
    "start_time": "2024-07-19T09:48:58.102Z"
   },
   {
    "duration": 18,
    "start_time": "2024-07-19T09:48:59.848Z"
   },
   {
    "duration": 4,
    "start_time": "2024-07-19T09:49:25.873Z"
   },
   {
    "duration": 16,
    "start_time": "2024-07-19T09:49:26.952Z"
   },
   {
    "duration": 4,
    "start_time": "2024-07-19T09:49:51.218Z"
   },
   {
    "duration": 12,
    "start_time": "2024-07-19T09:49:53.493Z"
   },
   {
    "duration": 4,
    "start_time": "2024-07-19T09:52:11.764Z"
   },
   {
    "duration": 14,
    "start_time": "2024-07-19T09:52:12.785Z"
   },
   {
    "duration": 4,
    "start_time": "2024-07-19T09:54:31.004Z"
   },
   {
    "duration": 11,
    "start_time": "2024-07-19T09:54:31.638Z"
   },
   {
    "duration": 3,
    "start_time": "2024-07-19T09:58:12.631Z"
   },
   {
    "duration": 49,
    "start_time": "2024-07-19T09:58:13.435Z"
   },
   {
    "duration": 4,
    "start_time": "2024-07-19T09:59:14.302Z"
   },
   {
    "duration": 12,
    "start_time": "2024-07-19T09:59:15.107Z"
   },
   {
    "duration": 4,
    "start_time": "2024-07-19T10:00:30.974Z"
   },
   {
    "duration": 12,
    "start_time": "2024-07-19T10:00:32.029Z"
   },
   {
    "duration": 14,
    "start_time": "2024-07-19T10:19:08.151Z"
   },
   {
    "duration": 10,
    "start_time": "2024-07-19T10:19:30.614Z"
   },
   {
    "duration": 14,
    "start_time": "2024-07-19T10:20:13.981Z"
   },
   {
    "duration": 14,
    "start_time": "2024-07-19T10:24:21.119Z"
   },
   {
    "duration": 19,
    "start_time": "2024-07-19T10:24:36.937Z"
   },
   {
    "duration": 15,
    "start_time": "2024-07-19T10:25:55.370Z"
   },
   {
    "duration": 27,
    "start_time": "2024-07-19T10:26:13.043Z"
   },
   {
    "duration": 26,
    "start_time": "2024-07-19T10:26:54.133Z"
   },
   {
    "duration": 11,
    "start_time": "2024-07-19T10:26:56.407Z"
   },
   {
    "duration": 16,
    "start_time": "2024-07-19T10:27:08.899Z"
   },
   {
    "duration": 10,
    "start_time": "2024-07-19T10:27:21.313Z"
   },
   {
    "duration": 9,
    "start_time": "2024-07-19T10:27:56.133Z"
   },
   {
    "duration": 4,
    "start_time": "2024-07-19T10:29:17.300Z"
   },
   {
    "duration": 15,
    "start_time": "2024-07-19T10:29:22.199Z"
   },
   {
    "duration": 5,
    "start_time": "2024-07-19T10:29:28.630Z"
   },
   {
    "duration": 6,
    "start_time": "2024-07-19T10:30:55.396Z"
   },
   {
    "duration": 12,
    "start_time": "2024-07-19T10:30:59.356Z"
   },
   {
    "duration": 5,
    "start_time": "2024-07-19T10:31:24.898Z"
   },
   {
    "duration": 26,
    "start_time": "2024-07-19T10:31:34.377Z"
   },
   {
    "duration": 5,
    "start_time": "2024-07-19T10:33:01.713Z"
   },
   {
    "duration": 11,
    "start_time": "2024-07-19T10:33:03.565Z"
   },
   {
    "duration": 7,
    "start_time": "2024-07-19T10:33:35.912Z"
   },
   {
    "duration": 13,
    "start_time": "2024-07-19T10:33:37.936Z"
   },
   {
    "duration": 12,
    "start_time": "2024-07-19T10:33:48.627Z"
   },
   {
    "duration": 11,
    "start_time": "2024-07-19T10:34:47.641Z"
   },
   {
    "duration": 25,
    "start_time": "2024-07-19T10:37:04.480Z"
   },
   {
    "duration": 15,
    "start_time": "2024-07-19T10:37:09.186Z"
   },
   {
    "duration": 13,
    "start_time": "2024-07-19T10:37:10.645Z"
   },
   {
    "duration": 15,
    "start_time": "2024-07-19T10:37:39.561Z"
   },
   {
    "duration": 18,
    "start_time": "2024-07-19T10:39:16.174Z"
   },
   {
    "duration": 1243,
    "start_time": "2024-07-19T10:40:41.713Z"
   },
   {
    "duration": 10,
    "start_time": "2024-07-19T10:40:44.027Z"
   },
   {
    "duration": 7,
    "start_time": "2024-07-19T10:41:38.958Z"
   },
   {
    "duration": 10,
    "start_time": "2024-07-19T10:41:43.549Z"
   },
   {
    "duration": 12,
    "start_time": "2024-07-19T10:46:26.918Z"
   },
   {
    "duration": 18,
    "start_time": "2024-07-19T10:53:50.057Z"
   },
   {
    "duration": 78,
    "start_time": "2024-07-19T10:55:48.052Z"
   },
   {
    "duration": 66,
    "start_time": "2024-07-19T11:01:03.581Z"
   },
   {
    "duration": 59,
    "start_time": "2024-07-19T11:01:19.291Z"
   },
   {
    "duration": 64,
    "start_time": "2024-07-19T11:02:02.316Z"
   },
   {
    "duration": 78,
    "start_time": "2024-07-19T11:05:03.928Z"
   },
   {
    "duration": 66,
    "start_time": "2024-07-19T11:05:14.849Z"
   },
   {
    "duration": 70,
    "start_time": "2024-07-19T11:10:19.983Z"
   },
   {
    "duration": 12,
    "start_time": "2024-07-19T11:11:01.716Z"
   },
   {
    "duration": 17,
    "start_time": "2024-07-19T11:11:04.209Z"
   },
   {
    "duration": 966,
    "start_time": "2024-07-19T11:16:36.905Z"
   },
   {
    "duration": 7,
    "start_time": "2024-07-19T11:17:26.961Z"
   },
   {
    "duration": 13,
    "start_time": "2024-07-19T11:17:32.212Z"
   },
   {
    "duration": 239,
    "start_time": "2024-07-19T11:19:38.999Z"
   },
   {
    "duration": 11,
    "start_time": "2024-07-19T11:20:37.995Z"
   },
   {
    "duration": 14,
    "start_time": "2024-07-19T11:20:41.865Z"
   },
   {
    "duration": 12,
    "start_time": "2024-07-19T11:24:03.595Z"
   },
   {
    "duration": 13,
    "start_time": "2024-07-19T11:24:11.286Z"
   },
   {
    "duration": 16,
    "start_time": "2024-07-19T11:24:36.921Z"
   },
   {
    "duration": 13,
    "start_time": "2024-07-19T11:24:41.742Z"
   },
   {
    "duration": 30,
    "start_time": "2024-07-19T11:26:55.755Z"
   },
   {
    "duration": 13,
    "start_time": "2024-07-19T11:26:59.074Z"
   },
   {
    "duration": 4,
    "start_time": "2024-07-19T11:53:46.600Z"
   },
   {
    "duration": 60,
    "start_time": "2024-07-19T12:08:09.471Z"
   },
   {
    "duration": 319,
    "start_time": "2024-07-19T12:08:41.486Z"
   },
   {
    "duration": 57,
    "start_time": "2024-07-19T12:09:49.129Z"
   },
   {
    "duration": 65,
    "start_time": "2024-07-19T12:11:22.744Z"
   },
   {
    "duration": 5,
    "start_time": "2024-07-19T12:11:47.649Z"
   },
   {
    "duration": 21,
    "start_time": "2024-07-19T12:11:50.825Z"
   },
   {
    "duration": 5,
    "start_time": "2024-07-19T12:12:27.554Z"
   },
   {
    "duration": 4,
    "start_time": "2024-07-19T12:12:59.374Z"
   },
   {
    "duration": 16,
    "start_time": "2024-07-19T12:13:05.216Z"
   },
   {
    "duration": 5,
    "start_time": "2024-07-19T12:34:13.472Z"
   },
   {
    "duration": 17,
    "start_time": "2024-07-19T12:34:17.640Z"
   },
   {
    "duration": 32,
    "start_time": "2024-07-19T12:43:24.981Z"
   },
   {
    "duration": 13,
    "start_time": "2024-07-19T12:43:29.187Z"
   },
   {
    "duration": 24,
    "start_time": "2024-07-19T12:43:50.876Z"
   },
   {
    "duration": 18,
    "start_time": "2024-07-19T12:43:52.661Z"
   },
   {
    "duration": 38,
    "start_time": "2024-07-19T12:44:26.983Z"
   },
   {
    "duration": 16,
    "start_time": "2024-07-19T12:44:29.447Z"
   },
   {
    "duration": 12,
    "start_time": "2024-07-19T12:45:57.291Z"
   },
   {
    "duration": 12,
    "start_time": "2024-07-19T12:46:19.731Z"
   },
   {
    "duration": 19,
    "start_time": "2024-07-19T12:47:41.499Z"
   },
   {
    "duration": 15,
    "start_time": "2024-07-19T12:48:32.000Z"
   },
   {
    "duration": 13,
    "start_time": "2024-07-19T12:49:14.996Z"
   },
   {
    "duration": 27,
    "start_time": "2024-07-19T13:00:02.736Z"
   },
   {
    "duration": 15,
    "start_time": "2024-07-19T13:00:03.468Z"
   },
   {
    "duration": 60,
    "start_time": "2024-07-19T13:15:33.642Z"
   },
   {
    "duration": 68,
    "start_time": "2024-07-19T13:16:21.015Z"
   },
   {
    "duration": 31,
    "start_time": "2024-07-19T13:16:39.779Z"
   },
   {
    "duration": 15,
    "start_time": "2024-07-19T13:17:26.727Z"
   },
   {
    "duration": 15,
    "start_time": "2024-07-19T13:18:35.420Z"
   },
   {
    "duration": 16,
    "start_time": "2024-07-19T13:20:51.219Z"
   },
   {
    "duration": 15,
    "start_time": "2024-07-19T13:24:17.888Z"
   },
   {
    "duration": 14,
    "start_time": "2024-07-19T13:24:20.698Z"
   },
   {
    "duration": 22,
    "start_time": "2024-07-19T13:24:59.894Z"
   },
   {
    "duration": 16,
    "start_time": "2024-07-19T13:25:10.170Z"
   },
   {
    "duration": 17,
    "start_time": "2024-07-19T13:25:16.145Z"
   },
   {
    "duration": 14,
    "start_time": "2024-07-19T13:25:19.086Z"
   },
   {
    "duration": 14,
    "start_time": "2024-07-19T13:25:32.281Z"
   },
   {
    "duration": 12,
    "start_time": "2024-07-19T13:31:18.869Z"
   },
   {
    "duration": 12,
    "start_time": "2024-07-19T13:32:43.012Z"
   },
   {
    "duration": 10,
    "start_time": "2024-07-19T13:34:20.225Z"
   },
   {
    "duration": 10,
    "start_time": "2024-07-19T13:35:08.982Z"
   },
   {
    "duration": 16,
    "start_time": "2024-07-19T13:38:02.502Z"
   },
   {
    "duration": 74,
    "start_time": "2024-07-19T13:40:51.821Z"
   },
   {
    "duration": 5,
    "start_time": "2024-07-19T13:41:07.715Z"
   },
   {
    "duration": 16,
    "start_time": "2024-07-19T13:41:11.514Z"
   },
   {
    "duration": 63,
    "start_time": "2024-07-19T13:42:46.853Z"
   },
   {
    "duration": 772,
    "start_time": "2024-07-19T13:42:57.343Z"
   },
   {
    "duration": 94,
    "start_time": "2024-07-19T13:56:08.802Z"
   },
   {
    "duration": 5,
    "start_time": "2024-07-19T13:56:41.619Z"
   },
   {
    "duration": 13,
    "start_time": "2024-07-19T13:59:12.493Z"
   },
   {
    "duration": 3,
    "start_time": "2024-07-19T14:01:41.269Z"
   },
   {
    "duration": 12,
    "start_time": "2024-07-19T14:01:45.928Z"
   },
   {
    "duration": 11,
    "start_time": "2024-07-19T14:02:04.113Z"
   },
   {
    "duration": 3,
    "start_time": "2024-07-19T14:03:00.692Z"
   },
   {
    "duration": 12,
    "start_time": "2024-07-19T14:03:04.594Z"
   },
   {
    "duration": 4,
    "start_time": "2024-07-19T14:04:09.433Z"
   },
   {
    "duration": 67,
    "start_time": "2024-07-19T14:04:13.119Z"
   },
   {
    "duration": 19,
    "start_time": "2024-07-19T14:04:18.221Z"
   },
   {
    "duration": 4,
    "start_time": "2024-07-19T14:10:31.821Z"
   },
   {
    "duration": 24,
    "start_time": "2024-07-19T14:10:33.861Z"
   },
   {
    "duration": 18,
    "start_time": "2024-07-19T14:10:35.246Z"
   },
   {
    "duration": 6,
    "start_time": "2024-07-19T14:14:17.916Z"
   },
   {
    "duration": 29,
    "start_time": "2024-07-19T14:14:18.785Z"
   },
   {
    "duration": 16,
    "start_time": "2024-07-19T14:14:27.846Z"
   },
   {
    "duration": 28,
    "start_time": "2024-07-19T14:14:37.826Z"
   },
   {
    "duration": 11,
    "start_time": "2024-07-19T14:15:26.409Z"
   },
   {
    "duration": 26,
    "start_time": "2024-07-19T14:16:20.348Z"
   },
   {
    "duration": 11,
    "start_time": "2024-07-19T14:16:22.254Z"
   },
   {
    "duration": 9,
    "start_time": "2024-07-19T14:16:23.670Z"
   },
   {
    "duration": 6,
    "start_time": "2024-07-19T14:16:24.789Z"
   },
   {
    "duration": 8,
    "start_time": "2024-07-19T14:16:25.948Z"
   },
   {
    "duration": 9,
    "start_time": "2024-07-19T14:16:45.522Z"
   },
   {
    "duration": 4,
    "start_time": "2024-07-19T14:17:10.782Z"
   },
   {
    "duration": 42,
    "start_time": "2024-07-19T14:18:14.382Z"
   },
   {
    "duration": 10,
    "start_time": "2024-07-19T14:18:16.405Z"
   },
   {
    "duration": 13,
    "start_time": "2024-07-19T14:18:19.971Z"
   },
   {
    "duration": 12,
    "start_time": "2024-07-19T14:18:53.454Z"
   },
   {
    "duration": 22,
    "start_time": "2024-07-19T14:19:06.110Z"
   },
   {
    "duration": 10,
    "start_time": "2024-07-19T14:19:07.379Z"
   },
   {
    "duration": 9,
    "start_time": "2024-07-19T14:19:08.345Z"
   },
   {
    "duration": 7,
    "start_time": "2024-07-19T14:19:09.393Z"
   },
   {
    "duration": 8,
    "start_time": "2024-07-19T14:19:10.340Z"
   },
   {
    "duration": 10,
    "start_time": "2024-07-19T14:19:13.357Z"
   },
   {
    "duration": 7,
    "start_time": "2024-07-19T14:19:14.503Z"
   },
   {
    "duration": 27,
    "start_time": "2024-07-19T14:19:18.492Z"
   },
   {
    "duration": 10,
    "start_time": "2024-07-19T14:19:20.034Z"
   },
   {
    "duration": 14,
    "start_time": "2024-07-19T14:19:22.268Z"
   },
   {
    "duration": 22,
    "start_time": "2024-07-19T14:20:20.521Z"
   },
   {
    "duration": 12,
    "start_time": "2024-07-19T14:20:21.185Z"
   },
   {
    "duration": 10,
    "start_time": "2024-07-19T14:20:21.810Z"
   },
   {
    "duration": 6,
    "start_time": "2024-07-19T14:20:22.416Z"
   },
   {
    "duration": 8,
    "start_time": "2024-07-19T14:20:23.037Z"
   },
   {
    "duration": 9,
    "start_time": "2024-07-19T14:20:23.797Z"
   },
   {
    "duration": 4,
    "start_time": "2024-07-19T14:20:24.612Z"
   },
   {
    "duration": 29,
    "start_time": "2024-07-19T14:20:27.120Z"
   },
   {
    "duration": 9,
    "start_time": "2024-07-19T14:20:28.231Z"
   },
   {
    "duration": 14,
    "start_time": "2024-07-19T14:20:29.756Z"
   },
   {
    "duration": 25,
    "start_time": "2024-07-19T14:21:01.845Z"
   },
   {
    "duration": 9,
    "start_time": "2024-07-19T14:21:02.894Z"
   },
   {
    "duration": 12,
    "start_time": "2024-07-19T14:21:04.613Z"
   },
   {
    "duration": 23,
    "start_time": "2024-07-19T14:21:50.743Z"
   },
   {
    "duration": 10,
    "start_time": "2024-07-19T14:21:51.399Z"
   },
   {
    "duration": 10,
    "start_time": "2024-07-19T14:21:51.936Z"
   },
   {
    "duration": 6,
    "start_time": "2024-07-19T14:21:52.501Z"
   },
   {
    "duration": 9,
    "start_time": "2024-07-19T14:21:53.217Z"
   },
   {
    "duration": 9,
    "start_time": "2024-07-19T14:21:53.931Z"
   },
   {
    "duration": 5,
    "start_time": "2024-07-19T14:21:54.889Z"
   },
   {
    "duration": 987,
    "start_time": "2024-07-19T14:21:55.838Z"
   },
   {
    "duration": 12,
    "start_time": "2024-07-19T14:26:06.458Z"
   },
   {
    "duration": 1029,
    "start_time": "2024-07-19T14:27:38.684Z"
   },
   {
    "duration": 3,
    "start_time": "2024-07-19T14:27:58.118Z"
   },
   {
    "duration": 23,
    "start_time": "2024-07-19T14:28:07.205Z"
   },
   {
    "duration": 12,
    "start_time": "2024-07-19T14:28:24.520Z"
   },
   {
    "duration": 5,
    "start_time": "2024-07-19T14:29:31.254Z"
   },
   {
    "duration": 37,
    "start_time": "2024-07-19T14:29:35.573Z"
   },
   {
    "duration": 12,
    "start_time": "2024-07-19T14:29:40.199Z"
   },
   {
    "duration": 18,
    "start_time": "2024-07-19T14:29:43.025Z"
   },
   {
    "duration": 15,
    "start_time": "2024-07-19T14:30:03.143Z"
   },
   {
    "duration": 4,
    "start_time": "2024-07-19T14:30:52.475Z"
   },
   {
    "duration": 38,
    "start_time": "2024-07-19T14:30:53.566Z"
   },
   {
    "duration": 12,
    "start_time": "2024-07-19T14:30:57.671Z"
   },
   {
    "duration": 17,
    "start_time": "2024-07-19T14:31:01.851Z"
   },
   {
    "duration": 22,
    "start_time": "2024-07-19T14:34:04.023Z"
   },
   {
    "duration": 11,
    "start_time": "2024-07-19T14:34:04.797Z"
   },
   {
    "duration": 10,
    "start_time": "2024-07-19T14:34:05.756Z"
   },
   {
    "duration": 7,
    "start_time": "2024-07-19T14:34:06.521Z"
   },
   {
    "duration": 8,
    "start_time": "2024-07-19T14:34:07.250Z"
   },
   {
    "duration": 14,
    "start_time": "2024-07-19T14:34:08.085Z"
   },
   {
    "duration": 5,
    "start_time": "2024-07-19T14:34:09.008Z"
   },
   {
    "duration": 1058,
    "start_time": "2024-07-19T14:34:09.867Z"
   },
   {
    "duration": 23,
    "start_time": "2024-07-19T14:35:12.165Z"
   },
   {
    "duration": 10,
    "start_time": "2024-07-19T14:35:14.017Z"
   },
   {
    "duration": 10,
    "start_time": "2024-07-19T14:35:15.833Z"
   },
   {
    "duration": 7,
    "start_time": "2024-07-19T14:35:17.624Z"
   },
   {
    "duration": 8,
    "start_time": "2024-07-19T14:35:19.294Z"
   },
   {
    "duration": 12,
    "start_time": "2024-07-19T14:35:20.798Z"
   },
   {
    "duration": 5,
    "start_time": "2024-07-19T14:35:23.827Z"
   },
   {
    "duration": 1188,
    "start_time": "2024-07-19T14:35:30.356Z"
   },
   {
    "duration": 1070,
    "start_time": "2024-07-19T14:36:19.658Z"
   },
   {
    "duration": 11,
    "start_time": "2024-07-19T14:37:34.456Z"
   },
   {
    "duration": 12,
    "start_time": "2024-07-19T14:37:36.064Z"
   },
   {
    "duration": 22,
    "start_time": "2024-07-19T14:37:59.998Z"
   },
   {
    "duration": 10,
    "start_time": "2024-07-19T14:38:01.093Z"
   },
   {
    "duration": 10,
    "start_time": "2024-07-19T14:38:02.131Z"
   },
   {
    "duration": 6,
    "start_time": "2024-07-19T14:38:03.078Z"
   },
   {
    "duration": 7,
    "start_time": "2024-07-19T14:38:04.087Z"
   },
   {
    "duration": 12,
    "start_time": "2024-07-19T14:38:04.948Z"
   },
   {
    "duration": 4,
    "start_time": "2024-07-19T14:38:05.979Z"
   },
   {
    "duration": 1053,
    "start_time": "2024-07-19T14:38:07.479Z"
   },
   {
    "duration": 4,
    "start_time": "2024-07-19T14:39:34.456Z"
   },
   {
    "duration": 1102,
    "start_time": "2024-07-19T14:39:36.101Z"
   },
   {
    "duration": 4,
    "start_time": "2024-07-19T14:40:09.691Z"
   },
   {
    "duration": 23,
    "start_time": "2024-07-19T14:40:11.724Z"
   },
   {
    "duration": 14,
    "start_time": "2024-07-19T14:40:14.318Z"
   },
   {
    "duration": 5,
    "start_time": "2024-07-19T14:40:43.641Z"
   },
   {
    "duration": 38,
    "start_time": "2024-07-19T14:40:45.146Z"
   },
   {
    "duration": 14,
    "start_time": "2024-07-19T14:40:48.060Z"
   },
   {
    "duration": 15,
    "start_time": "2024-07-19T14:40:51.195Z"
   },
   {
    "duration": 5,
    "start_time": "2024-07-19T14:43:01.113Z"
   },
   {
    "duration": 153,
    "start_time": "2024-07-19T14:43:03.185Z"
   },
   {
    "duration": 15,
    "start_time": "2024-07-19T14:43:06.298Z"
   },
   {
    "duration": 14,
    "start_time": "2024-07-19T14:43:20.636Z"
   },
   {
    "duration": 13,
    "start_time": "2024-07-19T14:43:29.396Z"
   },
   {
    "duration": 15,
    "start_time": "2024-07-19T14:43:33.828Z"
   },
   {
    "duration": 7,
    "start_time": "2024-07-19T14:45:39.324Z"
   },
   {
    "duration": 158,
    "start_time": "2024-07-19T14:45:40.355Z"
   },
   {
    "duration": 11,
    "start_time": "2024-07-19T14:45:44.158Z"
   },
   {
    "duration": 15,
    "start_time": "2024-07-19T14:45:47.949Z"
   },
   {
    "duration": 172,
    "start_time": "2024-07-19T14:47:33.527Z"
   },
   {
    "duration": 4,
    "start_time": "2024-07-19T14:47:40.034Z"
   },
   {
    "duration": 151,
    "start_time": "2024-07-19T14:47:45.742Z"
   },
   {
    "duration": 12,
    "start_time": "2024-07-19T14:47:47.115Z"
   },
   {
    "duration": 15,
    "start_time": "2024-07-19T14:47:47.924Z"
   },
   {
    "duration": 948,
    "start_time": "2024-07-19T14:49:21.464Z"
   },
   {
    "duration": 995,
    "start_time": "2024-07-19T14:49:59.133Z"
   },
   {
    "duration": 1016,
    "start_time": "2024-07-19T14:50:50.218Z"
   },
   {
    "duration": 1005,
    "start_time": "2024-07-19T14:51:05.461Z"
   },
   {
    "duration": 80,
    "start_time": "2024-07-19T14:52:11.479Z"
   },
   {
    "duration": 2,
    "start_time": "2024-07-19T14:52:29.250Z"
   },
   {
    "duration": 3,
    "start_time": "2024-07-19T14:53:01.175Z"
   },
   {
    "duration": 3,
    "start_time": "2024-07-19T14:53:12.574Z"
   },
   {
    "duration": 7,
    "start_time": "2024-07-19T14:53:35.045Z"
   },
   {
    "duration": 159,
    "start_time": "2024-07-19T14:53:37.468Z"
   },
   {
    "duration": 1023,
    "start_time": "2024-07-19T14:53:39.986Z"
   },
   {
    "duration": 15,
    "start_time": "2024-07-19T14:53:47.304Z"
   },
   {
    "duration": 1014,
    "start_time": "2024-07-19T14:56:15.742Z"
   },
   {
    "duration": 3,
    "start_time": "2024-07-19T15:04:33.143Z"
   },
   {
    "duration": 105,
    "start_time": "2024-07-19T15:04:34.043Z"
   },
   {
    "duration": 13,
    "start_time": "2024-07-19T15:04:34.529Z"
   },
   {
    "duration": 23,
    "start_time": "2024-07-19T15:04:35.020Z"
   },
   {
    "duration": 6,
    "start_time": "2024-07-19T15:04:35.498Z"
   },
   {
    "duration": 10,
    "start_time": "2024-07-19T15:04:35.919Z"
   },
   {
    "duration": 5,
    "start_time": "2024-07-19T15:04:37.218Z"
   },
   {
    "duration": 13,
    "start_time": "2024-07-19T15:04:37.702Z"
   },
   {
    "duration": 13,
    "start_time": "2024-07-19T15:04:39.204Z"
   },
   {
    "duration": 19,
    "start_time": "2024-07-19T15:04:40.008Z"
   },
   {
    "duration": 30,
    "start_time": "2024-07-19T15:04:40.901Z"
   },
   {
    "duration": 7,
    "start_time": "2024-07-19T15:04:41.752Z"
   },
   {
    "duration": 13,
    "start_time": "2024-07-19T15:04:42.707Z"
   },
   {
    "duration": 6,
    "start_time": "2024-07-19T15:04:43.167Z"
   },
   {
    "duration": 5,
    "start_time": "2024-07-19T15:04:43.614Z"
   },
   {
    "duration": 5,
    "start_time": "2024-07-19T15:04:44.529Z"
   },
   {
    "duration": 7,
    "start_time": "2024-07-19T15:04:45.033Z"
   },
   {
    "duration": 5,
    "start_time": "2024-07-19T15:04:46.071Z"
   },
   {
    "duration": 18,
    "start_time": "2024-07-19T15:04:46.961Z"
   },
   {
    "duration": 13,
    "start_time": "2024-07-19T15:04:47.932Z"
   },
   {
    "duration": 5,
    "start_time": "2024-07-19T15:04:48.752Z"
   },
   {
    "duration": 11,
    "start_time": "2024-07-19T15:04:49.588Z"
   },
   {
    "duration": 18,
    "start_time": "2024-07-19T15:04:49.963Z"
   },
   {
    "duration": 12,
    "start_time": "2024-07-19T15:04:50.888Z"
   },
   {
    "duration": 6,
    "start_time": "2024-07-19T15:04:51.641Z"
   },
   {
    "duration": 4,
    "start_time": "2024-07-19T15:04:52.441Z"
   },
   {
    "duration": 12,
    "start_time": "2024-07-19T15:04:53.202Z"
   },
   {
    "duration": 6,
    "start_time": "2024-07-19T15:04:53.944Z"
   },
   {
    "duration": 16,
    "start_time": "2024-07-19T15:04:54.287Z"
   },
   {
    "duration": 24,
    "start_time": "2024-07-19T15:04:54.720Z"
   },
   {
    "duration": 16,
    "start_time": "2024-07-19T15:04:55.062Z"
   },
   {
    "duration": 17,
    "start_time": "2024-07-19T15:04:55.795Z"
   },
   {
    "duration": 12,
    "start_time": "2024-07-19T15:04:56.155Z"
   },
   {
    "duration": 5,
    "start_time": "2024-07-19T15:04:57.195Z"
   },
   {
    "duration": 4,
    "start_time": "2024-07-19T15:04:57.564Z"
   },
   {
    "duration": 9,
    "start_time": "2024-07-19T15:04:58.902Z"
   },
   {
    "duration": 4,
    "start_time": "2024-07-19T15:04:59.213Z"
   },
   {
    "duration": 10,
    "start_time": "2024-07-19T15:04:59.806Z"
   },
   {
    "duration": 7,
    "start_time": "2024-07-19T15:05:00.112Z"
   },
   {
    "duration": 11,
    "start_time": "2024-07-19T15:05:00.452Z"
   },
   {
    "duration": 9,
    "start_time": "2024-07-19T15:05:00.795Z"
   },
   {
    "duration": 15,
    "start_time": "2024-07-19T15:05:01.464Z"
   },
   {
    "duration": 14,
    "start_time": "2024-07-19T15:05:01.795Z"
   },
   {
    "duration": 167,
    "start_time": "2024-07-19T15:05:02.127Z"
   },
   {
    "duration": 236,
    "start_time": "2024-07-19T15:05:02.461Z"
   },
   {
    "duration": 20,
    "start_time": "2024-07-19T15:05:03.668Z"
   },
   {
    "duration": 315,
    "start_time": "2024-07-19T15:05:04.038Z"
   },
   {
    "duration": 20,
    "start_time": "2024-07-19T15:05:05.093Z"
   },
   {
    "duration": 206,
    "start_time": "2024-07-19T15:05:05.413Z"
   },
   {
    "duration": 179,
    "start_time": "2024-07-19T15:05:05.775Z"
   },
   {
    "duration": 17,
    "start_time": "2024-07-19T15:05:06.828Z"
   },
   {
    "duration": 509,
    "start_time": "2024-07-19T15:05:07.132Z"
   },
   {
    "duration": 601,
    "start_time": "2024-07-19T15:05:07.642Z"
   },
   {
    "duration": 251,
    "start_time": "2024-07-19T15:05:08.245Z"
   },
   {
    "duration": 8,
    "start_time": "2024-07-19T15:05:08.498Z"
   },
   {
    "duration": 31,
    "start_time": "2024-07-19T15:05:09.299Z"
   },
   {
    "duration": 130,
    "start_time": "2024-07-19T15:05:09.711Z"
   },
   {
    "duration": 8,
    "start_time": "2024-07-19T15:05:10.043Z"
   },
   {
    "duration": 16,
    "start_time": "2024-07-19T15:05:10.746Z"
   },
   {
    "duration": 24,
    "start_time": "2024-07-19T15:05:11.481Z"
   },
   {
    "duration": 22,
    "start_time": "2024-07-19T15:05:12.254Z"
   },
   {
    "duration": 150,
    "start_time": "2024-07-19T15:05:12.625Z"
   },
   {
    "duration": 10,
    "start_time": "2024-07-19T15:05:12.940Z"
   },
   {
    "duration": 172,
    "start_time": "2024-07-19T15:05:14.099Z"
   },
   {
    "duration": 253,
    "start_time": "2024-07-19T15:05:15.087Z"
   },
   {
    "duration": 150,
    "start_time": "2024-07-19T15:05:15.439Z"
   },
   {
    "duration": 10,
    "start_time": "2024-07-19T15:05:15.776Z"
   },
   {
    "duration": 32,
    "start_time": "2024-07-19T15:05:16.878Z"
   },
   {
    "duration": 260,
    "start_time": "2024-07-19T15:05:17.245Z"
   },
   {
    "duration": 158,
    "start_time": "2024-07-19T15:05:18.282Z"
   },
   {
    "duration": 11,
    "start_time": "2024-07-19T15:05:18.676Z"
   },
   {
    "duration": 31,
    "start_time": "2024-07-19T15:05:19.394Z"
   },
   {
    "duration": 15,
    "start_time": "2024-07-19T15:05:19.709Z"
   },
   {
    "duration": 27,
    "start_time": "2024-07-19T15:05:20.067Z"
   },
   {
    "duration": 196,
    "start_time": "2024-07-19T15:05:20.405Z"
   },
   {
    "duration": 8,
    "start_time": "2024-07-19T15:05:21.543Z"
   },
   {
    "duration": 10,
    "start_time": "2024-07-19T15:05:24.544Z"
   },
   {
    "duration": 27,
    "start_time": "2024-07-19T15:05:25.462Z"
   },
   {
    "duration": 21,
    "start_time": "2024-07-19T15:05:26.543Z"
   },
   {
    "duration": 12,
    "start_time": "2024-07-19T15:05:28.074Z"
   },
   {
    "duration": 11,
    "start_time": "2024-07-19T15:05:28.850Z"
   },
   {
    "duration": 15,
    "start_time": "2024-07-19T15:05:29.451Z"
   },
   {
    "duration": 7,
    "start_time": "2024-07-19T15:05:30.045Z"
   },
   {
    "duration": 13,
    "start_time": "2024-07-19T15:05:30.616Z"
   },
   {
    "duration": 28,
    "start_time": "2024-07-19T15:05:32.056Z"
   },
   {
    "duration": 14,
    "start_time": "2024-07-19T15:05:33.103Z"
   },
   {
    "duration": 24,
    "start_time": "2024-07-19T15:05:34.635Z"
   },
   {
    "duration": 29,
    "start_time": "2024-07-19T15:05:35.303Z"
   },
   {
    "duration": 10,
    "start_time": "2024-07-19T15:05:36.283Z"
   },
   {
    "duration": 10,
    "start_time": "2024-07-19T15:05:37.237Z"
   },
   {
    "duration": 8,
    "start_time": "2024-07-19T15:05:37.836Z"
   },
   {
    "duration": 8,
    "start_time": "2024-07-19T15:05:38.638Z"
   },
   {
    "duration": 12,
    "start_time": "2024-07-19T15:05:39.265Z"
   },
   {
    "duration": 5,
    "start_time": "2024-07-19T15:05:39.929Z"
   },
   {
    "duration": 1366,
    "start_time": "2024-07-19T15:05:42.110Z"
   },
   {
    "duration": 963,
    "start_time": "2024-07-19T15:05:44.737Z"
   },
   {
    "duration": 13,
    "start_time": "2024-07-19T15:05:47.020Z"
   },
   {
    "duration": 17,
    "start_time": "2024-07-19T15:45:31.722Z"
   },
   {
    "duration": 11,
    "start_time": "2024-07-19T15:47:27.835Z"
   },
   {
    "duration": 9,
    "start_time": "2024-07-19T15:52:37.497Z"
   },
   {
    "duration": 5,
    "start_time": "2024-07-19T15:53:17.185Z"
   },
   {
    "duration": 8,
    "start_time": "2024-07-19T15:59:31.366Z"
   },
   {
    "duration": 2092,
    "start_time": "2024-07-19T15:59:35.174Z"
   },
   {
    "duration": 9,
    "start_time": "2024-07-19T16:08:59.554Z"
   },
   {
    "duration": 26,
    "start_time": "2024-07-19T16:09:05.512Z"
   },
   {
    "duration": 25,
    "start_time": "2024-07-19T16:09:17.580Z"
   },
   {
    "duration": 19,
    "start_time": "2024-07-19T16:10:37.662Z"
   },
   {
    "duration": 18,
    "start_time": "2024-07-19T16:13:22.031Z"
   },
   {
    "duration": 807,
    "start_time": "2024-07-19T16:16:56.333Z"
   },
   {
    "duration": 12,
    "start_time": "2024-07-19T16:20:14.939Z"
   },
   {
    "duration": 58,
    "start_time": "2024-07-19T16:24:44.695Z"
   },
   {
    "duration": 68,
    "start_time": "2024-07-19T16:24:59.742Z"
   },
   {
    "duration": 3,
    "start_time": "2024-07-19T16:26:52.972Z"
   },
   {
    "duration": 22,
    "start_time": "2024-07-19T16:26:53.081Z"
   },
   {
    "duration": 3,
    "start_time": "2024-07-19T16:27:06.910Z"
   },
   {
    "duration": 18,
    "start_time": "2024-07-19T16:27:30.268Z"
   },
   {
    "duration": 12,
    "start_time": "2024-07-19T16:27:47.563Z"
   },
   {
    "duration": 3,
    "start_time": "2024-07-19T16:28:32.338Z"
   },
   {
    "duration": 20,
    "start_time": "2024-07-19T16:28:34.241Z"
   },
   {
    "duration": 8,
    "start_time": "2024-07-19T16:28:36.209Z"
   },
   {
    "duration": 3,
    "start_time": "2024-07-19T16:29:54.358Z"
   },
   {
    "duration": 26,
    "start_time": "2024-07-19T16:29:55.630Z"
   },
   {
    "duration": 9,
    "start_time": "2024-07-19T16:29:56.947Z"
   },
   {
    "duration": 4,
    "start_time": "2024-07-19T16:30:42.281Z"
   },
   {
    "duration": 107,
    "start_time": "2024-07-19T16:30:43.320Z"
   },
   {
    "duration": 9,
    "start_time": "2024-07-19T16:30:44.529Z"
   },
   {
    "duration": 4,
    "start_time": "2024-07-19T16:33:26.965Z"
   },
   {
    "duration": 3,
    "start_time": "2024-07-19T16:33:27.809Z"
   },
   {
    "duration": 215,
    "start_time": "2024-07-19T16:33:28.918Z"
   },
   {
    "duration": 5,
    "start_time": "2024-07-19T16:33:29.834Z"
   },
   {
    "duration": 13,
    "start_time": "2024-07-19T16:33:30.978Z"
   },
   {
    "duration": 6,
    "start_time": "2024-07-19T16:34:04.787Z"
   },
   {
    "duration": 13,
    "start_time": "2024-07-19T16:34:06.686Z"
   },
   {
    "duration": 15,
    "start_time": "2024-07-19T16:35:39.155Z"
   },
   {
    "duration": 4,
    "start_time": "2024-07-19T16:37:11.414Z"
   },
   {
    "duration": 4,
    "start_time": "2024-07-19T16:37:12.088Z"
   },
   {
    "duration": 77,
    "start_time": "2024-07-19T16:37:12.760Z"
   },
   {
    "duration": 3,
    "start_time": "2024-07-19T16:37:25.154Z"
   },
   {
    "duration": 265,
    "start_time": "2024-07-19T16:37:26.425Z"
   },
   {
    "duration": 22,
    "start_time": "2024-07-19T16:37:52.264Z"
   },
   {
    "duration": 10,
    "start_time": "2024-07-19T16:37:53.065Z"
   },
   {
    "duration": 10,
    "start_time": "2024-07-19T16:37:53.763Z"
   },
   {
    "duration": 6,
    "start_time": "2024-07-19T16:37:54.388Z"
   },
   {
    "duration": 9,
    "start_time": "2024-07-19T16:37:55.036Z"
   },
   {
    "duration": 12,
    "start_time": "2024-07-19T16:37:55.756Z"
   },
   {
    "duration": 10,
    "start_time": "2024-07-19T16:37:56.609Z"
   },
   {
    "duration": 4,
    "start_time": "2024-07-19T16:37:57.521Z"
   },
   {
    "duration": 3,
    "start_time": "2024-07-19T16:37:58.284Z"
   },
   {
    "duration": 3,
    "start_time": "2024-07-19T16:37:59.227Z"
   },
   {
    "duration": 251,
    "start_time": "2024-07-19T16:38:00.412Z"
   },
   {
    "duration": 2,
    "start_time": "2024-07-19T16:41:42.484Z"
   },
   {
    "duration": 300,
    "start_time": "2024-07-19T16:41:43.533Z"
   },
   {
    "duration": 3,
    "start_time": "2024-07-19T16:43:15.235Z"
   },
   {
    "duration": 216,
    "start_time": "2024-07-19T16:43:16.060Z"
   },
   {
    "duration": 13,
    "start_time": "2024-07-19T16:43:17.080Z"
   },
   {
    "duration": 3,
    "start_time": "2024-07-19T16:44:10.530Z"
   },
   {
    "duration": 288,
    "start_time": "2024-07-19T16:44:11.193Z"
   },
   {
    "duration": 12,
    "start_time": "2024-07-19T16:44:11.915Z"
   },
   {
    "duration": 9,
    "start_time": "2024-07-19T16:46:05.483Z"
   },
   {
    "duration": 3,
    "start_time": "2024-07-19T16:49:58.840Z"
   },
   {
    "duration": 8,
    "start_time": "2024-07-19T16:51:04.204Z"
   },
   {
    "duration": 32,
    "start_time": "2024-07-19T16:51:06.354Z"
   },
   {
    "duration": 30,
    "start_time": "2024-07-19T16:51:37.545Z"
   },
   {
    "duration": 16,
    "start_time": "2024-07-19T16:51:38.213Z"
   },
   {
    "duration": 13,
    "start_time": "2024-07-19T16:51:39.004Z"
   },
   {
    "duration": 7,
    "start_time": "2024-07-19T16:51:39.889Z"
   },
   {
    "duration": 7,
    "start_time": "2024-07-19T16:51:40.598Z"
   },
   {
    "duration": 12,
    "start_time": "2024-07-19T16:51:41.390Z"
   },
   {
    "duration": 10,
    "start_time": "2024-07-19T16:51:42.472Z"
   },
   {
    "duration": 4,
    "start_time": "2024-07-19T16:51:43.243Z"
   },
   {
    "duration": 3,
    "start_time": "2024-07-19T16:51:44.036Z"
   },
   {
    "duration": 3,
    "start_time": "2024-07-19T16:51:44.866Z"
   },
   {
    "duration": 334,
    "start_time": "2024-07-19T16:51:45.624Z"
   },
   {
    "duration": 10,
    "start_time": "2024-07-19T16:51:48.292Z"
   },
   {
    "duration": 3,
    "start_time": "2024-07-19T16:51:52.071Z"
   },
   {
    "duration": 8,
    "start_time": "2024-07-19T16:51:52.786Z"
   },
   {
    "duration": 21,
    "start_time": "2024-07-19T16:51:53.685Z"
   },
   {
    "duration": 10,
    "start_time": "2024-07-19T16:59:39.911Z"
   },
   {
    "duration": 5,
    "start_time": "2024-07-19T17:05:51.526Z"
   },
   {
    "duration": 12,
    "start_time": "2024-07-19T17:06:05.991Z"
   },
   {
    "duration": 4,
    "start_time": "2024-07-19T17:16:47.660Z"
   },
   {
    "duration": 17,
    "start_time": "2024-07-19T17:16:59.678Z"
   },
   {
    "duration": 10,
    "start_time": "2024-07-19T17:19:59.223Z"
   },
   {
    "duration": 28,
    "start_time": "2024-07-19T17:20:00.684Z"
   },
   {
    "duration": 20,
    "start_time": "2024-07-19T17:20:07.997Z"
   },
   {
    "duration": 16,
    "start_time": "2024-07-19T17:20:22.504Z"
   },
   {
    "duration": 11,
    "start_time": "2024-07-19T17:20:49.957Z"
   },
   {
    "duration": 11,
    "start_time": "2024-07-19T17:21:26.751Z"
   },
   {
    "duration": 12,
    "start_time": "2024-07-19T17:21:32.727Z"
   },
   {
    "duration": 983,
    "start_time": "2024-07-19T17:21:37.556Z"
   },
   {
    "duration": 20,
    "start_time": "2024-07-19T17:24:31.557Z"
   },
   {
    "duration": 25,
    "start_time": "2024-07-19T17:24:33.151Z"
   },
   {
    "duration": 13,
    "start_time": "2024-07-19T17:24:39.498Z"
   },
   {
    "duration": 9,
    "start_time": "2024-07-19T17:24:43.099Z"
   },
   {
    "duration": 9,
    "start_time": "2024-07-19T17:24:51.146Z"
   },
   {
    "duration": 12,
    "start_time": "2024-07-19T17:24:55.657Z"
   },
   {
    "duration": 19,
    "start_time": "2024-07-19T17:25:03.834Z"
   },
   {
    "duration": 11,
    "start_time": "2024-07-19T17:25:07.015Z"
   },
   {
    "duration": 4,
    "start_time": "2024-07-19T17:25:08.373Z"
   },
   {
    "duration": 3,
    "start_time": "2024-07-19T17:25:09.087Z"
   },
   {
    "duration": 3,
    "start_time": "2024-07-19T17:25:09.846Z"
   },
   {
    "duration": 334,
    "start_time": "2024-07-19T17:25:10.957Z"
   },
   {
    "duration": 10,
    "start_time": "2024-07-19T17:25:12.251Z"
   },
   {
    "duration": 3,
    "start_time": "2024-07-19T17:25:14.724Z"
   },
   {
    "duration": 8,
    "start_time": "2024-07-19T17:25:15.867Z"
   },
   {
    "duration": 10,
    "start_time": "2024-07-19T17:25:17.362Z"
   },
   {
    "duration": 6,
    "start_time": "2024-07-19T17:25:19.555Z"
   },
   {
    "duration": 12,
    "start_time": "2024-07-19T17:25:20.612Z"
   },
   {
    "duration": 4,
    "start_time": "2024-07-19T17:25:23.274Z"
   },
   {
    "duration": 29,
    "start_time": "2024-07-19T17:25:24.741Z"
   },
   {
    "duration": 45,
    "start_time": "2024-07-19T17:27:00.323Z"
   },
   {
    "duration": 11,
    "start_time": "2024-07-19T17:27:01.803Z"
   },
   {
    "duration": 10,
    "start_time": "2024-07-19T17:27:03.796Z"
   },
   {
    "duration": 10,
    "start_time": "2024-07-19T17:28:09.849Z"
   },
   {
    "duration": 23,
    "start_time": "2024-07-19T17:28:11.288Z"
   },
   {
    "duration": 12,
    "start_time": "2024-07-19T17:28:12.513Z"
   },
   {
    "duration": 11,
    "start_time": "2024-07-19T17:28:13.203Z"
   },
   {
    "duration": 11,
    "start_time": "2024-07-19T17:28:13.785Z"
   },
   {
    "duration": 18,
    "start_time": "2024-07-19T17:28:14.900Z"
   },
   {
    "duration": 29,
    "start_time": "2024-07-19T17:28:16.276Z"
   },
   {
    "duration": 14,
    "start_time": "2024-07-19T17:28:18.677Z"
   },
   {
    "duration": 12,
    "start_time": "2024-07-19T17:28:19.500Z"
   },
   {
    "duration": 9,
    "start_time": "2024-07-19T17:28:22.057Z"
   },
   {
    "duration": 11,
    "start_time": "2024-07-19T17:28:22.860Z"
   },
   {
    "duration": 9,
    "start_time": "2024-07-19T17:28:24.066Z"
   },
   {
    "duration": 12,
    "start_time": "2024-07-19T17:28:24.863Z"
   },
   {
    "duration": 7,
    "start_time": "2024-07-19T17:29:28.427Z"
   },
   {
    "duration": 11,
    "start_time": "2024-07-19T17:29:29.250Z"
   },
   {
    "duration": 9,
    "start_time": "2024-07-19T17:29:30.569Z"
   },
   {
    "duration": 11,
    "start_time": "2024-07-19T17:36:14.294Z"
   },
   {
    "duration": 16,
    "start_time": "2024-07-19T17:36:35.059Z"
   },
   {
    "duration": 13,
    "start_time": "2024-07-19T17:36:39.123Z"
   },
   {
    "duration": 24,
    "start_time": "2024-07-19T17:37:51.733Z"
   },
   {
    "duration": 31,
    "start_time": "2024-07-19T17:38:06.771Z"
   },
   {
    "duration": 18,
    "start_time": "2024-07-19T17:38:09.157Z"
   },
   {
    "duration": 13,
    "start_time": "2024-07-19T17:38:09.912Z"
   },
   {
    "duration": 9,
    "start_time": "2024-07-19T17:38:10.504Z"
   },
   {
    "duration": 18,
    "start_time": "2024-07-19T17:38:12.000Z"
   },
   {
    "duration": 32,
    "start_time": "2024-07-19T17:38:13.454Z"
   },
   {
    "duration": 11,
    "start_time": "2024-07-19T17:38:14.174Z"
   },
   {
    "duration": 14,
    "start_time": "2024-07-19T17:38:14.748Z"
   },
   {
    "duration": 6,
    "start_time": "2024-07-19T17:38:16.117Z"
   },
   {
    "duration": 10,
    "start_time": "2024-07-19T17:38:16.807Z"
   },
   {
    "duration": 10,
    "start_time": "2024-07-19T17:38:17.512Z"
   },
   {
    "duration": 9,
    "start_time": "2024-07-19T17:38:19.167Z"
   },
   {
    "duration": 3,
    "start_time": "2024-07-19T17:38:20.914Z"
   },
   {
    "duration": 4,
    "start_time": "2024-07-19T17:38:21.699Z"
   },
   {
    "duration": 3,
    "start_time": "2024-07-19T17:38:22.415Z"
   },
   {
    "duration": 356,
    "start_time": "2024-07-19T17:38:23.102Z"
   },
   {
    "duration": 10,
    "start_time": "2024-07-19T17:38:23.815Z"
   },
   {
    "duration": 3,
    "start_time": "2024-07-19T17:38:25.729Z"
   },
   {
    "duration": 16,
    "start_time": "2024-07-19T17:38:26.650Z"
   },
   {
    "duration": 10,
    "start_time": "2024-07-19T17:38:27.366Z"
   },
   {
    "duration": 7,
    "start_time": "2024-07-19T17:38:29.332Z"
   },
   {
    "duration": 13,
    "start_time": "2024-07-19T17:38:31.711Z"
   },
   {
    "duration": 5,
    "start_time": "2024-07-19T17:38:33.383Z"
   },
   {
    "duration": 22,
    "start_time": "2024-07-19T17:38:34.322Z"
   },
   {
    "duration": 7,
    "start_time": "2024-07-19T17:38:36.551Z"
   },
   {
    "duration": 152,
    "start_time": "2024-07-19T17:39:14.777Z"
   },
   {
    "duration": 31,
    "start_time": "2024-07-19T17:43:36.939Z"
   },
   {
    "duration": 11,
    "start_time": "2024-07-19T17:43:37.742Z"
   },
   {
    "duration": 10,
    "start_time": "2024-07-19T17:43:38.469Z"
   },
   {
    "duration": 7,
    "start_time": "2024-07-19T17:43:39.715Z"
   },
   {
    "duration": 8,
    "start_time": "2024-07-19T17:43:40.400Z"
   },
   {
    "duration": 8,
    "start_time": "2024-07-19T17:43:41.083Z"
   },
   {
    "duration": 11,
    "start_time": "2024-07-19T17:43:42.873Z"
   },
   {
    "duration": 3,
    "start_time": "2024-07-19T17:43:44.564Z"
   },
   {
    "duration": 9,
    "start_time": "2024-07-19T17:43:45.242Z"
   },
   {
    "duration": 3,
    "start_time": "2024-07-19T17:43:45.814Z"
   },
   {
    "duration": 352,
    "start_time": "2024-07-19T17:43:47.820Z"
   },
   {
    "duration": 13,
    "start_time": "2024-07-19T17:43:48.613Z"
   },
   {
    "duration": 4,
    "start_time": "2024-07-19T17:43:50.525Z"
   },
   {
    "duration": 15,
    "start_time": "2024-07-19T17:43:51.335Z"
   },
   {
    "duration": 11,
    "start_time": "2024-07-19T17:43:52.255Z"
   },
   {
    "duration": 9,
    "start_time": "2024-07-19T17:43:56.645Z"
   },
   {
    "duration": 12,
    "start_time": "2024-07-19T17:43:58.028Z"
   },
   {
    "duration": 1288,
    "start_time": "2024-07-19T17:44:00.744Z"
   },
   {
    "duration": 0,
    "start_time": "2024-07-19T17:44:02.033Z"
   },
   {
    "duration": 4,
    "start_time": "2024-07-19T17:44:14.226Z"
   },
   {
    "duration": 18,
    "start_time": "2024-07-19T17:44:15.617Z"
   },
   {
    "duration": 14,
    "start_time": "2024-07-19T17:44:23.335Z"
   },
   {
    "duration": 162,
    "start_time": "2024-07-19T17:44:24.811Z"
   },
   {
    "duration": 6,
    "start_time": "2024-07-19T17:44:34.977Z"
   },
   {
    "duration": 7,
    "start_time": "2024-07-19T17:46:11.836Z"
   },
   {
    "duration": 21,
    "start_time": "2024-07-19T17:46:21.296Z"
   },
   {
    "duration": 24,
    "start_time": "2024-07-19T17:47:00.387Z"
   },
   {
    "duration": 11,
    "start_time": "2024-07-19T17:47:01.214Z"
   },
   {
    "duration": 11,
    "start_time": "2024-07-19T17:47:01.803Z"
   },
   {
    "duration": 7,
    "start_time": "2024-07-19T17:47:02.894Z"
   },
   {
    "duration": 9,
    "start_time": "2024-07-19T17:47:03.514Z"
   },
   {
    "duration": 15,
    "start_time": "2024-07-19T17:47:04.099Z"
   },
   {
    "duration": 18,
    "start_time": "2024-07-19T17:47:05.446Z"
   },
   {
    "duration": 6,
    "start_time": "2024-07-19T17:47:06.642Z"
   },
   {
    "duration": 6,
    "start_time": "2024-07-19T17:47:07.236Z"
   },
   {
    "duration": 5,
    "start_time": "2024-07-19T17:47:07.761Z"
   },
   {
    "duration": 349,
    "start_time": "2024-07-19T17:47:08.268Z"
   },
   {
    "duration": 20,
    "start_time": "2024-07-19T17:47:08.845Z"
   },
   {
    "duration": 3,
    "start_time": "2024-07-19T17:47:10.110Z"
   },
   {
    "duration": 13,
    "start_time": "2024-07-19T17:47:10.736Z"
   },
   {
    "duration": 11,
    "start_time": "2024-07-19T17:47:11.300Z"
   },
   {
    "duration": 5,
    "start_time": "2024-07-19T17:47:12.574Z"
   },
   {
    "duration": 25,
    "start_time": "2024-07-19T17:47:13.145Z"
   },
   {
    "duration": 5,
    "start_time": "2024-07-19T17:47:14.433Z"
   },
   {
    "duration": 27,
    "start_time": "2024-07-19T17:47:15.143Z"
   },
   {
    "duration": 13,
    "start_time": "2024-07-19T17:47:17.231Z"
   },
   {
    "duration": 179,
    "start_time": "2024-07-19T17:47:19.007Z"
   },
   {
    "duration": 23,
    "start_time": "2024-07-19T17:47:24.577Z"
   },
   {
    "duration": 15,
    "start_time": "2024-07-19T17:49:23.356Z"
   },
   {
    "duration": 12,
    "start_time": "2024-07-19T17:49:54.225Z"
   },
   {
    "duration": 24,
    "start_time": "2024-07-19T17:50:13.608Z"
   },
   {
    "duration": 11,
    "start_time": "2024-07-19T17:50:14.249Z"
   },
   {
    "duration": 10,
    "start_time": "2024-07-19T17:50:14.859Z"
   },
   {
    "duration": 8,
    "start_time": "2024-07-19T17:50:16.078Z"
   },
   {
    "duration": 9,
    "start_time": "2024-07-19T17:50:16.652Z"
   },
   {
    "duration": 9,
    "start_time": "2024-07-19T17:50:17.299Z"
   },
   {
    "duration": 96,
    "start_time": "2024-07-19T17:50:18.736Z"
   },
   {
    "duration": 3,
    "start_time": "2024-07-19T17:50:20.198Z"
   },
   {
    "duration": 4,
    "start_time": "2024-07-19T17:50:20.892Z"
   },
   {
    "duration": 3,
    "start_time": "2024-07-19T17:50:21.494Z"
   },
   {
    "duration": 359,
    "start_time": "2024-07-19T17:50:22.213Z"
   },
   {
    "duration": 13,
    "start_time": "2024-07-19T17:50:23.130Z"
   },
   {
    "duration": 3,
    "start_time": "2024-07-19T17:50:25.806Z"
   },
   {
    "duration": 9,
    "start_time": "2024-07-19T17:50:26.450Z"
   },
   {
    "duration": 11,
    "start_time": "2024-07-19T17:50:27.689Z"
   },
   {
    "duration": 5,
    "start_time": "2024-07-19T17:50:30.274Z"
   },
   {
    "duration": 15,
    "start_time": "2024-07-19T17:50:31.130Z"
   },
   {
    "duration": 19,
    "start_time": "2024-07-19T17:50:35.530Z"
   },
   {
    "duration": 8,
    "start_time": "2024-07-19T17:50:45.536Z"
   },
   {
    "duration": 26,
    "start_time": "2024-07-19T17:50:47.164Z"
   },
   {
    "duration": 9,
    "start_time": "2024-07-19T17:50:54.582Z"
   },
   {
    "duration": 155,
    "start_time": "2024-07-19T17:50:56.807Z"
   },
   {
    "duration": 21,
    "start_time": "2024-07-19T17:50:59.254Z"
   },
   {
    "duration": 3,
    "start_time": "2024-07-19T17:52:52.132Z"
   },
   {
    "duration": 110,
    "start_time": "2024-07-19T17:52:53.476Z"
   },
   {
    "duration": 13,
    "start_time": "2024-07-19T17:52:54.016Z"
   },
   {
    "duration": 31,
    "start_time": "2024-07-19T17:52:54.730Z"
   },
   {
    "duration": 9,
    "start_time": "2024-07-19T17:52:55.297Z"
   },
   {
    "duration": 10,
    "start_time": "2024-07-19T17:52:55.893Z"
   },
   {
    "duration": 6,
    "start_time": "2024-07-19T17:52:57.667Z"
   },
   {
    "duration": 13,
    "start_time": "2024-07-19T17:52:58.178Z"
   },
   {
    "duration": 13,
    "start_time": "2024-07-19T17:52:59.771Z"
   },
   {
    "duration": 16,
    "start_time": "2024-07-19T17:53:00.857Z"
   },
   {
    "duration": 22,
    "start_time": "2024-07-19T17:53:01.976Z"
   },
   {
    "duration": 7,
    "start_time": "2024-07-19T17:53:03.093Z"
   },
   {
    "duration": 18,
    "start_time": "2024-07-19T17:53:04.149Z"
   },
   {
    "duration": 11,
    "start_time": "2024-07-19T17:53:04.734Z"
   },
   {
    "duration": 6,
    "start_time": "2024-07-19T17:53:05.234Z"
   },
   {
    "duration": 5,
    "start_time": "2024-07-19T17:53:06.203Z"
   },
   {
    "duration": 9,
    "start_time": "2024-07-19T17:53:06.699Z"
   },
   {
    "duration": 4,
    "start_time": "2024-07-19T17:53:07.809Z"
   },
   {
    "duration": 14,
    "start_time": "2024-07-19T17:53:08.775Z"
   },
   {
    "duration": 17,
    "start_time": "2024-07-19T17:53:09.736Z"
   },
   {
    "duration": 4,
    "start_time": "2024-07-19T17:53:10.666Z"
   },
   {
    "duration": 12,
    "start_time": "2024-07-19T17:53:11.614Z"
   },
   {
    "duration": 17,
    "start_time": "2024-07-19T17:53:12.183Z"
   },
   {
    "duration": 11,
    "start_time": "2024-07-19T17:53:13.214Z"
   },
   {
    "duration": 10,
    "start_time": "2024-07-19T17:53:14.147Z"
   },
   {
    "duration": 7,
    "start_time": "2024-07-19T17:53:15.135Z"
   },
   {
    "duration": 22,
    "start_time": "2024-07-19T17:53:16.149Z"
   },
   {
    "duration": 6,
    "start_time": "2024-07-19T17:53:17.157Z"
   },
   {
    "duration": 15,
    "start_time": "2024-07-19T17:53:17.657Z"
   },
   {
    "duration": 27,
    "start_time": "2024-07-19T17:53:18.168Z"
   },
   {
    "duration": 25,
    "start_time": "2024-07-19T17:53:18.746Z"
   },
   {
    "duration": 22,
    "start_time": "2024-07-19T17:53:19.746Z"
   },
   {
    "duration": 12,
    "start_time": "2024-07-19T17:53:20.274Z"
   },
   {
    "duration": 10,
    "start_time": "2024-07-19T17:53:21.841Z"
   },
   {
    "duration": 5,
    "start_time": "2024-07-19T17:53:22.380Z"
   },
   {
    "duration": 8,
    "start_time": "2024-07-19T17:53:24.468Z"
   },
   {
    "duration": 6,
    "start_time": "2024-07-19T17:53:24.741Z"
   },
   {
    "duration": 10,
    "start_time": "2024-07-19T17:53:25.768Z"
   },
   {
    "duration": 5,
    "start_time": "2024-07-19T17:53:26.287Z"
   },
   {
    "duration": 14,
    "start_time": "2024-07-19T17:53:26.724Z"
   },
   {
    "duration": 9,
    "start_time": "2024-07-19T17:53:27.248Z"
   },
   {
    "duration": 19,
    "start_time": "2024-07-19T17:53:28.226Z"
   },
   {
    "duration": 19,
    "start_time": "2024-07-19T17:53:28.744Z"
   },
   {
    "duration": 165,
    "start_time": "2024-07-19T17:53:29.363Z"
   },
   {
    "duration": 285,
    "start_time": "2024-07-19T17:53:30.018Z"
   },
   {
    "duration": 19,
    "start_time": "2024-07-19T17:53:32.258Z"
   },
   {
    "duration": 243,
    "start_time": "2024-07-19T17:53:32.863Z"
   },
   {
    "duration": 28,
    "start_time": "2024-07-19T17:53:34.602Z"
   },
   {
    "duration": 189,
    "start_time": "2024-07-19T17:53:35.186Z"
   },
   {
    "duration": 191,
    "start_time": "2024-07-19T17:53:35.937Z"
   },
   {
    "duration": 17,
    "start_time": "2024-07-19T17:53:37.868Z"
   },
   {
    "duration": 500,
    "start_time": "2024-07-19T17:53:38.586Z"
   },
   {
    "duration": 695,
    "start_time": "2024-07-19T17:53:39.206Z"
   },
   {
    "duration": 170,
    "start_time": "2024-07-19T17:53:39.921Z"
   },
   {
    "duration": 7,
    "start_time": "2024-07-19T17:53:41.127Z"
   },
   {
    "duration": 24,
    "start_time": "2024-07-19T17:53:43.566Z"
   },
   {
    "duration": 158,
    "start_time": "2024-07-19T17:53:44.782Z"
   },
   {
    "duration": 7,
    "start_time": "2024-07-19T17:53:45.915Z"
   },
   {
    "duration": 16,
    "start_time": "2024-07-19T17:53:48.150Z"
   },
   {
    "duration": 27,
    "start_time": "2024-07-19T17:53:49.588Z"
   },
   {
    "duration": 31,
    "start_time": "2024-07-19T17:53:50.943Z"
   },
   {
    "duration": 170,
    "start_time": "2024-07-19T17:53:51.630Z"
   },
   {
    "duration": 9,
    "start_time": "2024-07-19T17:53:52.325Z"
   },
   {
    "duration": 182,
    "start_time": "2024-07-19T17:53:54.091Z"
   },
   {
    "duration": 283,
    "start_time": "2024-07-19T17:53:55.881Z"
   },
   {
    "duration": 151,
    "start_time": "2024-07-19T17:53:56.438Z"
   },
   {
    "duration": 8,
    "start_time": "2024-07-19T17:53:57.115Z"
   },
   {
    "duration": 25,
    "start_time": "2024-07-19T17:53:58.933Z"
   },
   {
    "duration": 374,
    "start_time": "2024-07-19T17:53:59.611Z"
   },
   {
    "duration": 184,
    "start_time": "2024-07-19T17:54:01.800Z"
   },
   {
    "duration": 9,
    "start_time": "2024-07-19T17:54:02.615Z"
   },
   {
    "duration": 26,
    "start_time": "2024-07-19T17:54:03.984Z"
   },
   {
    "duration": 27,
    "start_time": "2024-07-19T17:54:04.939Z"
   },
   {
    "duration": 21,
    "start_time": "2024-07-19T17:54:05.573Z"
   },
   {
    "duration": 182,
    "start_time": "2024-07-19T17:54:06.345Z"
   },
   {
    "duration": 12,
    "start_time": "2024-07-19T17:54:08.339Z"
   },
   {
    "duration": 11,
    "start_time": "2024-07-19T17:54:11.053Z"
   },
   {
    "duration": 21,
    "start_time": "2024-07-19T17:54:12.408Z"
   },
   {
    "duration": 12,
    "start_time": "2024-07-19T17:54:13.709Z"
   },
   {
    "duration": 11,
    "start_time": "2024-07-19T17:54:14.405Z"
   },
   {
    "duration": 11,
    "start_time": "2024-07-19T17:54:15.099Z"
   },
   {
    "duration": 19,
    "start_time": "2024-07-19T17:54:16.718Z"
   },
   {
    "duration": 25,
    "start_time": "2024-07-19T17:54:17.982Z"
   },
   {
    "duration": 11,
    "start_time": "2024-07-19T17:54:18.660Z"
   },
   {
    "duration": 12,
    "start_time": "2024-07-19T17:54:19.245Z"
   },
   {
    "duration": 8,
    "start_time": "2024-07-19T17:54:20.371Z"
   },
   {
    "duration": 11,
    "start_time": "2024-07-19T17:54:20.948Z"
   },
   {
    "duration": 8,
    "start_time": "2024-07-19T17:54:21.467Z"
   },
   {
    "duration": 15,
    "start_time": "2024-07-19T17:54:22.967Z"
   },
   {
    "duration": 3,
    "start_time": "2024-07-19T17:54:24.414Z"
   },
   {
    "duration": 3,
    "start_time": "2024-07-19T17:54:25.054Z"
   },
   {
    "duration": 4,
    "start_time": "2024-07-19T17:54:25.587Z"
   },
   {
    "duration": 360,
    "start_time": "2024-07-19T17:54:26.227Z"
   },
   {
    "duration": 17,
    "start_time": "2024-07-19T17:54:26.933Z"
   },
   {
    "duration": 3,
    "start_time": "2024-07-19T17:54:29.802Z"
   },
   {
    "duration": 8,
    "start_time": "2024-07-19T17:54:30.419Z"
   },
   {
    "duration": 14,
    "start_time": "2024-07-19T17:54:31.013Z"
   },
   {
    "duration": 5,
    "start_time": "2024-07-19T17:54:32.231Z"
   },
   {
    "duration": 13,
    "start_time": "2024-07-19T17:54:32.810Z"
   },
   {
    "duration": 4,
    "start_time": "2024-07-19T17:54:35.171Z"
   },
   {
    "duration": 27,
    "start_time": "2024-07-19T17:54:35.930Z"
   },
   {
    "duration": 6,
    "start_time": "2024-07-19T17:54:38.486Z"
   },
   {
    "duration": 161,
    "start_time": "2024-07-19T17:54:39.611Z"
   },
   {
    "duration": 21,
    "start_time": "2024-07-19T17:54:42.355Z"
   },
   {
    "duration": 809,
    "start_time": "2024-07-19T17:58:10.230Z"
   },
   {
    "duration": 874,
    "start_time": "2024-07-19T18:00:29.895Z"
   },
   {
    "duration": 21,
    "start_time": "2024-07-19T18:00:42.917Z"
   },
   {
    "duration": 20,
    "start_time": "2024-07-19T18:01:25.724Z"
   },
   {
    "duration": 4,
    "start_time": "2024-07-19T18:03:26.903Z"
   },
   {
    "duration": 5,
    "start_time": "2024-07-19T18:03:41.472Z"
   },
   {
    "duration": 5,
    "start_time": "2024-07-19T18:04:06.935Z"
   },
   {
    "duration": 5,
    "start_time": "2024-07-19T18:13:04.150Z"
   },
   {
    "duration": 4,
    "start_time": "2024-07-19T18:13:41.161Z"
   },
   {
    "duration": 5,
    "start_time": "2024-07-19T18:14:34.993Z"
   },
   {
    "duration": 4,
    "start_time": "2024-07-19T18:14:51.651Z"
   },
   {
    "duration": 4,
    "start_time": "2024-07-19T18:15:03.257Z"
   },
   {
    "duration": 4,
    "start_time": "2024-07-19T18:15:51.642Z"
   },
   {
    "duration": 4,
    "start_time": "2024-07-19T18:16:57.522Z"
   },
   {
    "duration": 4,
    "start_time": "2024-07-19T18:17:56.027Z"
   },
   {
    "duration": 16,
    "start_time": "2024-07-19T18:31:43.741Z"
   },
   {
    "duration": 18,
    "start_time": "2024-07-19T19:19:56.765Z"
   },
   {
    "duration": 3,
    "start_time": "2024-07-19T19:21:16.274Z"
   },
   {
    "duration": 7,
    "start_time": "2024-07-19T19:21:21.196Z"
   },
   {
    "duration": 2,
    "start_time": "2024-07-19T19:29:59.410Z"
   },
   {
    "duration": 80,
    "start_time": "2024-07-19T19:42:50.350Z"
   },
   {
    "duration": 6,
    "start_time": "2024-07-19T19:42:55.592Z"
   },
   {
    "duration": 101,
    "start_time": "2024-07-19T19:43:52.379Z"
   },
   {
    "duration": 121,
    "start_time": "2024-07-19T20:02:30.844Z"
   },
   {
    "duration": 8,
    "start_time": "2024-07-19T20:03:03.557Z"
   },
   {
    "duration": 1122,
    "start_time": "2024-07-20T07:08:35.314Z"
   },
   {
    "duration": 383,
    "start_time": "2024-07-20T07:08:36.438Z"
   },
   {
    "duration": 13,
    "start_time": "2024-07-20T07:08:36.824Z"
   },
   {
    "duration": 33,
    "start_time": "2024-07-20T07:08:36.840Z"
   },
   {
    "duration": 17,
    "start_time": "2024-07-20T07:08:36.876Z"
   },
   {
    "duration": 14,
    "start_time": "2024-07-20T07:08:36.895Z"
   },
   {
    "duration": 7,
    "start_time": "2024-07-20T07:08:36.911Z"
   },
   {
    "duration": 17,
    "start_time": "2024-07-20T07:08:36.919Z"
   },
   {
    "duration": 16,
    "start_time": "2024-07-20T07:08:36.938Z"
   },
   {
    "duration": 35,
    "start_time": "2024-07-20T07:08:36.956Z"
   },
   {
    "duration": 32,
    "start_time": "2024-07-20T07:08:36.992Z"
   },
   {
    "duration": 9,
    "start_time": "2024-07-20T07:08:37.026Z"
   },
   {
    "duration": 22,
    "start_time": "2024-07-20T07:08:37.036Z"
   },
   {
    "duration": 6,
    "start_time": "2024-07-20T07:08:37.081Z"
   },
   {
    "duration": 7,
    "start_time": "2024-07-20T07:08:37.089Z"
   },
   {
    "duration": 10,
    "start_time": "2024-07-20T07:08:37.098Z"
   },
   {
    "duration": 10,
    "start_time": "2024-07-20T07:08:37.109Z"
   },
   {
    "duration": 4,
    "start_time": "2024-07-20T07:08:37.121Z"
   },
   {
    "duration": 22,
    "start_time": "2024-07-20T07:08:37.127Z"
   },
   {
    "duration": 10,
    "start_time": "2024-07-20T07:08:37.150Z"
   },
   {
    "duration": 5,
    "start_time": "2024-07-20T07:08:37.182Z"
   },
   {
    "duration": 12,
    "start_time": "2024-07-20T07:08:37.188Z"
   },
   {
    "duration": 32,
    "start_time": "2024-07-20T07:08:37.202Z"
   },
   {
    "duration": 20,
    "start_time": "2024-07-20T07:08:37.236Z"
   },
   {
    "duration": 5,
    "start_time": "2024-07-20T07:08:37.258Z"
   },
   {
    "duration": 11,
    "start_time": "2024-07-20T07:08:37.265Z"
   },
   {
    "duration": 27,
    "start_time": "2024-07-20T07:08:37.277Z"
   },
   {
    "duration": 7,
    "start_time": "2024-07-20T07:08:37.306Z"
   },
   {
    "duration": 17,
    "start_time": "2024-07-20T07:08:37.315Z"
   },
   {
    "duration": 27,
    "start_time": "2024-07-20T07:08:37.335Z"
   },
   {
    "duration": 27,
    "start_time": "2024-07-20T07:08:37.363Z"
   },
   {
    "duration": 20,
    "start_time": "2024-07-20T07:08:37.391Z"
   },
   {
    "duration": 13,
    "start_time": "2024-07-20T07:08:37.413Z"
   },
   {
    "duration": 5,
    "start_time": "2024-07-20T07:08:37.427Z"
   },
   {
    "duration": 5,
    "start_time": "2024-07-20T07:08:37.434Z"
   },
   {
    "duration": 44,
    "start_time": "2024-07-20T07:08:37.440Z"
   },
   {
    "duration": 5,
    "start_time": "2024-07-20T07:08:37.486Z"
   },
   {
    "duration": 26,
    "start_time": "2024-07-20T07:08:37.492Z"
   },
   {
    "duration": 6,
    "start_time": "2024-07-20T07:08:37.520Z"
   },
   {
    "duration": 12,
    "start_time": "2024-07-20T07:08:37.528Z"
   },
   {
    "duration": 8,
    "start_time": "2024-07-20T07:08:37.545Z"
   },
   {
    "duration": 29,
    "start_time": "2024-07-20T07:08:37.554Z"
   },
   {
    "duration": 12,
    "start_time": "2024-07-20T07:08:37.584Z"
   },
   {
    "duration": 168,
    "start_time": "2024-07-20T07:08:37.598Z"
   },
   {
    "duration": 232,
    "start_time": "2024-07-20T07:08:37.767Z"
   },
   {
    "duration": 18,
    "start_time": "2024-07-20T07:08:38.001Z"
   },
   {
    "duration": 224,
    "start_time": "2024-07-20T07:08:38.021Z"
   },
   {
    "duration": 20,
    "start_time": "2024-07-20T07:08:38.246Z"
   },
   {
    "duration": 184,
    "start_time": "2024-07-20T07:08:38.267Z"
   },
   {
    "duration": 181,
    "start_time": "2024-07-20T07:08:38.453Z"
   },
   {
    "duration": 19,
    "start_time": "2024-07-20T07:08:38.635Z"
   },
   {
    "duration": 646,
    "start_time": "2024-07-20T07:08:38.656Z"
   },
   {
    "duration": 481,
    "start_time": "2024-07-20T07:08:39.304Z"
   },
   {
    "duration": 137,
    "start_time": "2024-07-20T07:08:39.786Z"
   },
   {
    "duration": 9,
    "start_time": "2024-07-20T07:08:39.925Z"
   },
   {
    "duration": 48,
    "start_time": "2024-07-20T07:08:39.935Z"
   },
   {
    "duration": 147,
    "start_time": "2024-07-20T07:08:39.985Z"
   },
   {
    "duration": 7,
    "start_time": "2024-07-20T07:08:40.133Z"
   },
   {
    "duration": 11,
    "start_time": "2024-07-20T07:08:40.142Z"
   },
   {
    "duration": 33,
    "start_time": "2024-07-20T07:08:40.155Z"
   },
   {
    "duration": 29,
    "start_time": "2024-07-20T07:08:40.189Z"
   },
   {
    "duration": 155,
    "start_time": "2024-07-20T07:08:40.220Z"
   },
   {
    "duration": 12,
    "start_time": "2024-07-20T07:08:40.376Z"
   },
   {
    "duration": 161,
    "start_time": "2024-07-20T07:08:40.389Z"
   },
   {
    "duration": 336,
    "start_time": "2024-07-20T07:08:40.551Z"
   },
   {
    "duration": 127,
    "start_time": "2024-07-20T07:08:40.889Z"
   },
   {
    "duration": 8,
    "start_time": "2024-07-20T07:08:41.017Z"
   },
   {
    "duration": 16,
    "start_time": "2024-07-20T07:08:41.026Z"
   },
   {
    "duration": 219,
    "start_time": "2024-07-20T07:08:41.043Z"
   },
   {
    "duration": 159,
    "start_time": "2024-07-20T07:08:41.263Z"
   },
   {
    "duration": 10,
    "start_time": "2024-07-20T07:08:41.423Z"
   },
   {
    "duration": 24,
    "start_time": "2024-07-20T07:08:41.434Z"
   },
   {
    "duration": 32,
    "start_time": "2024-07-20T07:08:41.459Z"
   },
   {
    "duration": 20,
    "start_time": "2024-07-20T07:08:41.492Z"
   },
   {
    "duration": 172,
    "start_time": "2024-07-20T07:08:41.513Z"
   },
   {
    "duration": 7,
    "start_time": "2024-07-20T07:08:41.687Z"
   },
   {
    "duration": 10,
    "start_time": "2024-07-20T07:08:41.695Z"
   },
   {
    "duration": 19,
    "start_time": "2024-07-20T07:08:41.706Z"
   },
   {
    "duration": 10,
    "start_time": "2024-07-20T07:08:41.727Z"
   },
   {
    "duration": 43,
    "start_time": "2024-07-20T07:08:41.739Z"
   },
   {
    "duration": 10,
    "start_time": "2024-07-20T07:08:41.783Z"
   },
   {
    "duration": 18,
    "start_time": "2024-07-20T07:08:41.795Z"
   },
   {
    "duration": 26,
    "start_time": "2024-07-20T07:08:41.815Z"
   },
   {
    "duration": 10,
    "start_time": "2024-07-20T07:08:41.842Z"
   },
   {
    "duration": 12,
    "start_time": "2024-07-20T07:08:41.882Z"
   },
   {
    "duration": 25,
    "start_time": "2024-07-20T07:08:41.896Z"
   },
   {
    "duration": 15,
    "start_time": "2024-07-20T07:08:41.922Z"
   },
   {
    "duration": 15,
    "start_time": "2024-07-20T07:08:41.938Z"
   },
   {
    "duration": 15,
    "start_time": "2024-07-20T07:08:41.955Z"
   },
   {
    "duration": 6,
    "start_time": "2024-07-20T07:08:41.972Z"
   },
   {
    "duration": 3,
    "start_time": "2024-07-20T07:08:41.982Z"
   },
   {
    "duration": 5,
    "start_time": "2024-07-20T07:08:41.986Z"
   },
   {
    "duration": 340,
    "start_time": "2024-07-20T07:08:41.992Z"
   },
   {
    "duration": 9,
    "start_time": "2024-07-20T07:08:42.333Z"
   },
   {
    "duration": 22,
    "start_time": "2024-07-20T07:08:42.344Z"
   },
   {
    "duration": 14,
    "start_time": "2024-07-20T07:08:42.368Z"
   },
   {
    "duration": 10,
    "start_time": "2024-07-20T07:08:42.384Z"
   },
   {
    "duration": 5,
    "start_time": "2024-07-20T07:08:42.395Z"
   },
   {
    "duration": 12,
    "start_time": "2024-07-20T07:08:42.402Z"
   },
   {
    "duration": 116,
    "start_time": "2024-07-20T07:08:42.416Z"
   },
   {
    "duration": 6,
    "start_time": "2024-07-20T07:08:42.533Z"
   },
   {
    "duration": 4,
    "start_time": "2024-07-20T07:08:42.540Z"
   },
   {
    "duration": 17,
    "start_time": "2024-07-20T07:08:42.546Z"
   },
   {
    "duration": 21,
    "start_time": "2024-07-20T07:08:42.564Z"
   },
   {
    "duration": 200,
    "start_time": "2024-07-20T07:08:42.587Z"
   },
   {
    "duration": 34,
    "start_time": "2024-07-20T07:08:42.789Z"
   },
   {
    "duration": 4,
    "start_time": "2024-07-20T07:08:42.825Z"
   },
   {
    "duration": 8,
    "start_time": "2024-07-20T07:08:42.831Z"
   },
   {
    "duration": 6,
    "start_time": "2024-07-20T07:08:42.841Z"
   },
   {
    "duration": 5,
    "start_time": "2024-07-20T07:08:42.882Z"
   },
   {
    "duration": 6,
    "start_time": "2024-07-20T07:08:42.889Z"
   },
   {
    "duration": 7,
    "start_time": "2024-07-20T07:08:42.896Z"
   },
   {
    "duration": 1267,
    "start_time": "2024-07-22T12:00:18.711Z"
   },
   {
    "duration": 350,
    "start_time": "2024-07-22T12:00:20.068Z"
   },
   {
    "duration": 11,
    "start_time": "2024-07-22T12:00:21.330Z"
   },
   {
    "duration": 14,
    "start_time": "2024-07-22T12:00:22.238Z"
   },
   {
    "duration": 10,
    "start_time": "2024-07-22T12:00:23.137Z"
   },
   {
    "duration": 10,
    "start_time": "2024-07-22T12:00:24.732Z"
   },
   {
    "duration": 7,
    "start_time": "2024-07-22T12:00:29.374Z"
   },
   {
    "duration": 11,
    "start_time": "2024-07-22T12:00:30.172Z"
   },
   {
    "duration": 11,
    "start_time": "2024-07-22T12:00:33.466Z"
   },
   {
    "duration": 13,
    "start_time": "2024-07-22T12:00:35.816Z"
   },
   {
    "duration": 18,
    "start_time": "2024-07-22T12:00:38.397Z"
   },
   {
    "duration": 5,
    "start_time": "2024-07-22T12:02:07.929Z"
   },
   {
    "duration": 6,
    "start_time": "2024-07-22T12:24:10.168Z"
   },
   {
    "duration": 12,
    "start_time": "2024-07-22T12:24:16.431Z"
   },
   {
    "duration": 5,
    "start_time": "2024-07-22T12:24:17.420Z"
   },
   {
    "duration": 5,
    "start_time": "2024-07-22T12:24:18.530Z"
   },
   {
    "duration": 4,
    "start_time": "2024-07-22T12:24:25.289Z"
   },
   {
    "duration": 5,
    "start_time": "2024-07-22T12:24:26.119Z"
   },
   {
    "duration": 3,
    "start_time": "2024-07-22T12:24:33.330Z"
   },
   {
    "duration": 10,
    "start_time": "2024-07-22T12:24:35.308Z"
   },
   {
    "duration": 9,
    "start_time": "2024-07-22T12:24:37.580Z"
   },
   {
    "duration": 5,
    "start_time": "2024-07-22T12:24:39.084Z"
   },
   {
    "duration": 9,
    "start_time": "2024-07-22T12:24:40.352Z"
   },
   {
    "duration": 13,
    "start_time": "2024-07-22T12:24:41.229Z"
   },
   {
    "duration": 11,
    "start_time": "2024-07-22T12:24:42.816Z"
   },
   {
    "duration": 4,
    "start_time": "2024-07-22T12:24:44.077Z"
   },
   {
    "duration": 3,
    "start_time": "2024-07-22T12:24:46.071Z"
   },
   {
    "duration": 11,
    "start_time": "2024-07-22T12:24:47.634Z"
   },
   {
    "duration": 4,
    "start_time": "2024-07-22T12:24:49.366Z"
   },
   {
    "duration": 19,
    "start_time": "2024-07-22T12:24:50.241Z"
   },
   {
    "duration": 27,
    "start_time": "2024-07-22T12:24:51.523Z"
   },
   {
    "duration": 13,
    "start_time": "2024-07-22T12:24:57.086Z"
   },
   {
    "duration": 20,
    "start_time": "2024-07-22T12:24:58.533Z"
   },
   {
    "duration": 9,
    "start_time": "2024-07-22T12:24:59.299Z"
   },
   {
    "duration": 4,
    "start_time": "2024-07-22T12:25:59.960Z"
   },
   {
    "duration": 5,
    "start_time": "2024-07-22T12:26:00.572Z"
   },
   {
    "duration": 4,
    "start_time": "2024-07-22T12:26:03.855Z"
   },
   {
    "duration": 3,
    "start_time": "2024-07-22T12:26:04.373Z"
   },
   {
    "duration": 8,
    "start_time": "2024-07-22T12:26:05.569Z"
   },
   {
    "duration": 5,
    "start_time": "2024-07-22T12:26:06.111Z"
   },
   {
    "duration": 9,
    "start_time": "2024-07-22T12:26:07.789Z"
   },
   {
    "duration": 8,
    "start_time": "2024-07-22T12:26:10.997Z"
   },
   {
    "duration": 12,
    "start_time": "2024-07-22T12:26:12.639Z"
   },
   {
    "duration": 11,
    "start_time": "2024-07-22T12:26:13.626Z"
   },
   {
    "duration": 156,
    "start_time": "2024-07-22T12:26:14.839Z"
   },
   {
    "duration": 195,
    "start_time": "2024-07-22T12:26:15.856Z"
   },
   {
    "duration": 69,
    "start_time": "2024-07-22T12:30:39.086Z"
   },
   {
    "duration": 20,
    "start_time": "2024-07-22T12:31:10.742Z"
   },
   {
    "duration": 282,
    "start_time": "2024-07-22T12:31:19.065Z"
   },
   {
    "duration": 18,
    "start_time": "2024-07-22T12:31:55.117Z"
   },
   {
    "duration": 142,
    "start_time": "2024-07-22T12:32:02.929Z"
   },
   {
    "duration": 138,
    "start_time": "2024-07-22T12:32:09.841Z"
   },
   {
    "duration": 16,
    "start_time": "2024-07-22T12:32:46.534Z"
   },
   {
    "duration": 448,
    "start_time": "2024-07-22T12:32:54.774Z"
   },
   {
    "duration": 385,
    "start_time": "2024-07-22T12:32:59.445Z"
   },
   {
    "duration": 115,
    "start_time": "2024-07-22T12:33:04.909Z"
   },
   {
    "duration": 6,
    "start_time": "2024-07-22T12:33:12.040Z"
   },
   {
    "duration": 34,
    "start_time": "2024-07-22T12:33:58.637Z"
   },
   {
    "duration": 124,
    "start_time": "2024-07-22T12:34:06.855Z"
   },
   {
    "duration": 6,
    "start_time": "2024-07-22T12:34:12.023Z"
   },
   {
    "duration": 15,
    "start_time": "2024-07-22T12:35:13.725Z"
   },
   {
    "duration": 17,
    "start_time": "2024-07-22T12:35:22.625Z"
   },
   {
    "duration": 8,
    "start_time": "2024-07-22T12:38:38.204Z"
   },
   {
    "duration": 122,
    "start_time": "2024-07-22T12:45:00.273Z"
   },
   {
    "duration": 12,
    "start_time": "2024-07-22T12:45:19.646Z"
   },
   {
    "duration": 119,
    "start_time": "2024-07-22T12:48:21.321Z"
   },
   {
    "duration": 114,
    "start_time": "2024-07-22T12:48:36.505Z"
   },
   {
    "duration": 6,
    "start_time": "2024-07-22T12:48:43.709Z"
   },
   {
    "duration": 31,
    "start_time": "2024-07-22T12:48:55.140Z"
   },
   {
    "duration": 112,
    "start_time": "2024-07-22T12:49:01.461Z"
   },
   {
    "duration": 8,
    "start_time": "2024-07-22T12:49:09.258Z"
   },
   {
    "duration": 13,
    "start_time": "2024-07-22T12:52:04.550Z"
   },
   {
    "duration": 15,
    "start_time": "2024-07-22T12:52:18.351Z"
   },
   {
    "duration": 15,
    "start_time": "2024-07-22T12:52:45.855Z"
   },
   {
    "duration": 3,
    "start_time": "2024-07-22T12:53:28.002Z"
   },
   {
    "duration": 3,
    "start_time": "2024-07-22T12:53:50.773Z"
   },
   {
    "duration": 4,
    "start_time": "2024-07-22T12:53:58.623Z"
   },
   {
    "duration": 60,
    "start_time": "2024-07-22T12:55:21.273Z"
   },
   {
    "duration": 76,
    "start_time": "2024-07-22T12:55:33.474Z"
   },
   {
    "duration": 3,
    "start_time": "2024-07-22T12:55:39.835Z"
   },
   {
    "duration": 4,
    "start_time": "2024-07-22T12:56:17.646Z"
   },
   {
    "duration": 75,
    "start_time": "2024-07-22T12:58:12.489Z"
   },
   {
    "duration": 30,
    "start_time": "2024-07-22T12:58:20.937Z"
   },
   {
    "duration": 197,
    "start_time": "2024-07-22T12:58:36.073Z"
   },
   {
    "duration": 7,
    "start_time": "2024-07-22T12:58:41.159Z"
   },
   {
    "duration": 11,
    "start_time": "2024-07-22T13:00:08.653Z"
   },
   {
    "duration": 15,
    "start_time": "2024-07-22T13:00:23.001Z"
   },
   {
    "duration": 3,
    "start_time": "2024-07-22T13:00:28.921Z"
   },
   {
    "duration": 4,
    "start_time": "2024-07-22T13:00:43.182Z"
   },
   {
    "duration": 11,
    "start_time": "2024-07-22T13:01:45.534Z"
   },
   {
    "duration": 16,
    "start_time": "2024-07-22T13:01:54.425Z"
   },
   {
    "duration": 3,
    "start_time": "2024-07-22T13:01:57.466Z"
   },
   {
    "duration": 4,
    "start_time": "2024-07-22T13:02:06.763Z"
   },
   {
    "duration": 19,
    "start_time": "2024-07-22T13:02:17.544Z"
   },
   {
    "duration": 129,
    "start_time": "2024-07-22T13:02:20.758Z"
   },
   {
    "duration": 8,
    "start_time": "2024-07-22T13:02:24.934Z"
   },
   {
    "duration": 145,
    "start_time": "2024-07-22T13:02:45.003Z"
   },
   {
    "duration": 210,
    "start_time": "2024-07-22T13:03:37.976Z"
   },
   {
    "duration": 114,
    "start_time": "2024-07-22T13:03:41.760Z"
   },
   {
    "duration": 9,
    "start_time": "2024-07-22T13:03:47.025Z"
   },
   {
    "duration": 21,
    "start_time": "2024-07-22T13:04:33.275Z"
   },
   {
    "duration": 190,
    "start_time": "2024-07-22T13:04:34.349Z"
   },
   {
    "duration": 15,
    "start_time": "2024-07-22T13:04:46.256Z"
   },
   {
    "duration": 184,
    "start_time": "2024-07-22T13:04:49.041Z"
   },
   {
    "duration": 136,
    "start_time": "2024-07-22T13:05:14.031Z"
   },
   {
    "duration": 223,
    "start_time": "2024-07-22T13:05:45.078Z"
   },
   {
    "duration": 177,
    "start_time": "2024-07-22T13:05:48.503Z"
   },
   {
    "duration": 7,
    "start_time": "2024-07-22T13:05:51.915Z"
   },
   {
    "duration": 15,
    "start_time": "2024-07-22T13:05:59.755Z"
   },
   {
    "duration": 163,
    "start_time": "2024-07-22T13:11:43.365Z"
   },
   {
    "duration": 9,
    "start_time": "2024-07-22T13:11:49.164Z"
   },
   {
    "duration": 24,
    "start_time": "2024-07-22T13:13:04.054Z"
   },
   {
    "duration": 14,
    "start_time": "2024-07-22T13:13:15.364Z"
   },
   {
    "duration": 61,
    "start_time": "2024-07-22T13:15:43.121Z"
   },
   {
    "duration": 16,
    "start_time": "2024-07-22T13:16:05.169Z"
   },
   {
    "duration": 13,
    "start_time": "2024-07-22T13:16:15.577Z"
   },
   {
    "duration": 177,
    "start_time": "2024-07-22T13:16:31.515Z"
   },
   {
    "duration": 27,
    "start_time": "2024-07-22T13:28:39.199Z"
   },
   {
    "duration": 1184,
    "start_time": "2024-07-22T13:31:56.994Z"
   },
   {
    "duration": 64,
    "start_time": "2024-07-22T13:32:20.581Z"
   },
   {
    "duration": 59,
    "start_time": "2024-07-22T13:32:47.729Z"
   },
   {
    "duration": 931,
    "start_time": "2024-07-22T13:33:05.545Z"
   },
   {
    "duration": 12,
    "start_time": "2024-07-22T13:34:59.965Z"
   },
   {
    "duration": 1148,
    "start_time": "2024-07-22T13:35:03.383Z"
   },
   {
    "duration": 1005,
    "start_time": "2024-07-22T13:35:27.869Z"
   },
   {
    "duration": 1030,
    "start_time": "2024-07-22T13:37:09.698Z"
   },
   {
    "duration": 13,
    "start_time": "2024-07-22T13:37:30.212Z"
   },
   {
    "duration": 1152,
    "start_time": "2024-07-22T13:37:49.644Z"
   },
   {
    "duration": 8,
    "start_time": "2024-07-22T13:39:51.053Z"
   },
   {
    "duration": 27,
    "start_time": "2024-07-22T13:39:57.302Z"
   },
   {
    "duration": 13,
    "start_time": "2024-07-22T13:39:59.241Z"
   },
   {
    "duration": 12,
    "start_time": "2024-07-22T13:40:00.762Z"
   },
   {
    "duration": 16,
    "start_time": "2024-07-22T13:40:16.866Z"
   },
   {
    "duration": 4,
    "start_time": "2024-07-22T13:40:20.158Z"
   },
   {
    "duration": 4,
    "start_time": "2024-07-22T13:40:33.420Z"
   },
   {
    "duration": 4,
    "start_time": "2024-07-22T13:41:40.335Z"
   },
   {
    "duration": 4,
    "start_time": "2024-07-22T13:43:05.223Z"
   },
   {
    "duration": 4,
    "start_time": "2024-07-22T13:44:27.040Z"
   },
   {
    "duration": 1241,
    "start_time": "2024-07-22T13:45:53.792Z"
   },
   {
    "duration": 1015,
    "start_time": "2024-07-22T13:47:05.788Z"
   },
   {
    "duration": 152,
    "start_time": "2024-07-22T13:47:14.305Z"
   },
   {
    "duration": 13,
    "start_time": "2024-07-22T13:48:18.544Z"
   },
   {
    "duration": 13,
    "start_time": "2024-07-22T13:55:32.787Z"
   },
   {
    "duration": 68,
    "start_time": "2024-07-22T13:57:19.843Z"
   },
   {
    "duration": 20,
    "start_time": "2024-07-22T13:57:33.457Z"
   },
   {
    "duration": 35,
    "start_time": "2024-07-22T13:58:41.218Z"
   },
   {
    "duration": 29,
    "start_time": "2024-07-22T14:01:50.144Z"
   },
   {
    "duration": 25,
    "start_time": "2024-07-22T14:01:58.794Z"
   },
   {
    "duration": 61,
    "start_time": "2024-07-22T14:02:31.523Z"
   },
   {
    "duration": 10,
    "start_time": "2024-07-22T14:02:46.427Z"
   },
   {
    "duration": 10,
    "start_time": "2024-07-22T14:02:47.780Z"
   },
   {
    "duration": 10,
    "start_time": "2024-07-22T14:02:49.506Z"
   },
   {
    "duration": 16,
    "start_time": "2024-07-22T14:02:53.752Z"
   },
   {
    "duration": 25,
    "start_time": "2024-07-22T14:03:23.408Z"
   },
   {
    "duration": 21,
    "start_time": "2024-07-22T14:03:32.660Z"
   },
   {
    "duration": 9,
    "start_time": "2024-07-22T14:04:26.544Z"
   },
   {
    "duration": 7,
    "start_time": "2024-07-22T14:04:32.016Z"
   },
   {
    "duration": 7,
    "start_time": "2024-07-22T14:04:40.246Z"
   },
   {
    "duration": 7,
    "start_time": "2024-07-22T14:04:41.547Z"
   },
   {
    "duration": 7,
    "start_time": "2024-07-22T14:04:43.520Z"
   },
   {
    "duration": 8,
    "start_time": "2024-07-22T14:04:53.066Z"
   },
   {
    "duration": 3,
    "start_time": "2024-07-22T14:04:55.324Z"
   },
   {
    "duration": 3,
    "start_time": "2024-07-22T14:04:56.245Z"
   },
   {
    "duration": 2,
    "start_time": "2024-07-22T14:04:57.192Z"
   },
   {
    "duration": 2405,
    "start_time": "2024-07-22T14:04:57.999Z"
   },
   {
    "duration": 8,
    "start_time": "2024-07-22T14:05:00.406Z"
   },
   {
    "duration": 2,
    "start_time": "2024-07-22T14:05:13.362Z"
   },
   {
    "duration": 33,
    "start_time": "2024-07-22T14:05:15.073Z"
   },
   {
    "duration": 9,
    "start_time": "2024-07-22T14:05:16.490Z"
   },
   {
    "duration": 5,
    "start_time": "2024-07-22T14:05:26.441Z"
   },
   {
    "duration": 12,
    "start_time": "2024-07-22T14:05:27.889Z"
   },
   {
    "duration": 92,
    "start_time": "2024-07-22T14:05:44.709Z"
   },
   {
    "duration": 5,
    "start_time": "2024-07-22T14:06:25.668Z"
   },
   {
    "duration": 4,
    "start_time": "2024-07-22T14:06:30.070Z"
   },
   {
    "duration": 17,
    "start_time": "2024-07-22T14:06:34.484Z"
   },
   {
    "duration": 6,
    "start_time": "2024-07-22T14:06:46.202Z"
   },
   {
    "duration": 121,
    "start_time": "2024-07-22T14:06:49.572Z"
   },
   {
    "duration": 19,
    "start_time": "2024-07-22T14:07:07.627Z"
   },
   {
    "duration": 3,
    "start_time": "2024-07-22T14:07:11.452Z"
   },
   {
    "duration": 4,
    "start_time": "2024-07-22T14:07:28.849Z"
   },
   {
    "duration": 3,
    "start_time": "2024-07-22T14:07:35.025Z"
   },
   {
    "duration": 67,
    "start_time": "2024-07-22T14:08:07.000Z"
   },
   {
    "duration": 4,
    "start_time": "2024-07-22T14:08:19.406Z"
   },
   {
    "duration": 4,
    "start_time": "2024-07-22T14:08:26.261Z"
   },
   {
    "duration": 4,
    "start_time": "2024-07-22T14:13:21.616Z"
   },
   {
    "duration": 21,
    "start_time": "2024-07-22T14:13:22.598Z"
   },
   {
    "duration": 5,
    "start_time": "2024-07-22T14:13:25.084Z"
   },
   {
    "duration": 125,
    "start_time": "2024-07-22T14:13:26.984Z"
   },
   {
    "duration": 17,
    "start_time": "2024-07-22T14:13:30.345Z"
   },
   {
    "duration": 4,
    "start_time": "2024-07-22T14:13:31.935Z"
   },
   {
    "duration": 3,
    "start_time": "2024-07-22T14:13:33.233Z"
   },
   {
    "duration": 4,
    "start_time": "2024-07-22T14:13:34.830Z"
   },
   {
    "duration": 4,
    "start_time": "2024-07-22T14:13:35.594Z"
   },
   {
    "duration": 23,
    "start_time": "2024-07-22T14:22:21.239Z"
   },
   {
    "duration": 23,
    "start_time": "2024-07-22T14:22:33.912Z"
   },
   {
    "duration": 22,
    "start_time": "2024-07-22T14:23:13.312Z"
   },
   {
    "duration": 9,
    "start_time": "2024-07-22T14:23:42.492Z"
   },
   {
    "duration": 10,
    "start_time": "2024-07-22T14:23:48.492Z"
   },
   {
    "duration": 6,
    "start_time": "2024-07-22T14:23:52.375Z"
   },
   {
    "duration": 9,
    "start_time": "2024-07-22T14:23:53.808Z"
   },
   {
    "duration": 9,
    "start_time": "2024-07-22T14:23:55.028Z"
   },
   {
    "duration": 9,
    "start_time": "2024-07-22T14:24:47.077Z"
   },
   {
    "duration": 5,
    "start_time": "2024-07-22T14:25:29.800Z"
   },
   {
    "duration": 3,
    "start_time": "2024-07-22T14:25:30.542Z"
   },
   {
    "duration": 3,
    "start_time": "2024-07-22T14:25:31.537Z"
   },
   {
    "duration": 8348,
    "start_time": "2024-07-22T14:25:32.641Z"
   },
   {
    "duration": 22,
    "start_time": "2024-07-22T14:25:40.990Z"
   },
   {
    "duration": 4,
    "start_time": "2024-07-22T14:25:54.716Z"
   },
   {
    "duration": 124,
    "start_time": "2024-07-22T14:25:57.167Z"
   },
   {
    "duration": 13,
    "start_time": "2024-07-22T14:25:58.082Z"
   },
   {
    "duration": 4,
    "start_time": "2024-07-22T14:26:03.916Z"
   },
   {
    "duration": 10,
    "start_time": "2024-07-22T14:26:04.974Z"
   },
   {
    "duration": 97,
    "start_time": "2024-07-22T14:26:20.407Z"
   },
   {
    "duration": 6,
    "start_time": "2024-07-22T14:26:26.020Z"
   },
   {
    "duration": 4,
    "start_time": "2024-07-22T14:26:31.649Z"
   },
   {
    "duration": 16,
    "start_time": "2024-07-22T14:26:34.023Z"
   },
   {
    "duration": 6,
    "start_time": "2024-07-22T14:26:43.431Z"
   },
   {
    "duration": 10,
    "start_time": "2024-07-22T14:27:12.645Z"
   },
   {
    "duration": 9,
    "start_time": "2024-07-22T14:37:38.815Z"
   },
   {
    "duration": 8,
    "start_time": "2024-07-22T14:38:19.098Z"
   },
   {
    "duration": 14,
    "start_time": "2024-07-22T14:38:39.508Z"
   },
   {
    "duration": 12,
    "start_time": "2024-07-22T14:41:11.045Z"
   },
   {
    "duration": 13,
    "start_time": "2024-07-22T14:42:46.503Z"
   },
   {
    "duration": 14,
    "start_time": "2024-07-22T14:45:03.651Z"
   },
   {
    "duration": 7,
    "start_time": "2024-07-22T14:47:07.038Z"
   },
   {
    "duration": 252,
    "start_time": "2024-07-22T14:48:31.606Z"
   },
   {
    "duration": 193,
    "start_time": "2024-07-22T14:51:23.909Z"
   },
   {
    "duration": 9,
    "start_time": "2024-07-22T14:56:04.475Z"
   },
   {
    "duration": 26,
    "start_time": "2024-07-22T15:02:17.514Z"
   },
   {
    "duration": 122,
    "start_time": "2024-07-22T15:03:56.862Z"
   },
   {
    "duration": 12,
    "start_time": "2024-07-22T15:04:28.582Z"
   },
   {
    "duration": 13,
    "start_time": "2024-07-22T15:05:07.594Z"
   },
   {
    "duration": 13,
    "start_time": "2024-07-22T15:05:23.590Z"
   },
   {
    "duration": 10,
    "start_time": "2024-07-22T15:05:37.850Z"
   },
   {
    "duration": 12,
    "start_time": "2024-07-22T15:05:50.306Z"
   },
   {
    "duration": 9,
    "start_time": "2024-07-22T15:06:02.753Z"
   },
   {
    "duration": 10,
    "start_time": "2024-07-22T15:06:10.572Z"
   },
   {
    "duration": 11,
    "start_time": "2024-07-22T15:06:18.204Z"
   },
   {
    "duration": 13,
    "start_time": "2024-07-22T15:09:26.423Z"
   },
   {
    "duration": 21,
    "start_time": "2024-07-22T15:09:52.666Z"
   },
   {
    "duration": 10,
    "start_time": "2024-07-22T15:10:07.225Z"
   },
   {
    "duration": 9,
    "start_time": "2024-07-22T15:10:10.493Z"
   },
   {
    "duration": 6,
    "start_time": "2024-07-22T15:10:38.742Z"
   },
   {
    "duration": 7,
    "start_time": "2024-07-22T15:10:39.305Z"
   },
   {
    "duration": 7,
    "start_time": "2024-07-22T15:10:42.261Z"
   },
   {
    "duration": 8,
    "start_time": "2024-07-22T15:10:53.860Z"
   },
   {
    "duration": 4,
    "start_time": "2024-07-22T15:10:55.470Z"
   },
   {
    "duration": 4,
    "start_time": "2024-07-22T15:10:56.222Z"
   },
   {
    "duration": 3,
    "start_time": "2024-07-22T15:10:56.902Z"
   },
   {
    "duration": 685,
    "start_time": "2024-07-22T15:10:57.685Z"
   },
   {
    "duration": 9,
    "start_time": "2024-07-22T15:11:00.068Z"
   },
   {
    "duration": 2,
    "start_time": "2024-07-22T15:11:07.647Z"
   },
   {
    "duration": 15,
    "start_time": "2024-07-22T15:11:08.469Z"
   },
   {
    "duration": 11,
    "start_time": "2024-07-22T15:11:10.198Z"
   },
   {
    "duration": 5,
    "start_time": "2024-07-22T15:11:15.973Z"
   },
   {
    "duration": 11,
    "start_time": "2024-07-22T15:11:17.494Z"
   },
   {
    "duration": 13,
    "start_time": "2024-07-22T15:11:22.836Z"
   },
   {
    "duration": 198,
    "start_time": "2024-07-22T15:11:28.986Z"
   },
   {
    "duration": 196,
    "start_time": "2024-07-22T15:12:50.533Z"
   },
   {
    "duration": 187,
    "start_time": "2024-07-22T15:13:01.581Z"
   },
   {
    "duration": 207,
    "start_time": "2024-07-22T15:13:37.177Z"
   },
   {
    "duration": 108,
    "start_time": "2024-07-22T15:13:39.808Z"
   },
   {
    "duration": 6,
    "start_time": "2024-07-22T15:13:51.376Z"
   },
   {
    "duration": 188,
    "start_time": "2024-07-22T15:14:14.759Z"
   },
   {
    "duration": 168,
    "start_time": "2024-07-22T15:14:58.024Z"
   },
   {
    "duration": 5,
    "start_time": "2024-07-22T15:15:06.922Z"
   },
   {
    "duration": 4,
    "start_time": "2024-07-22T15:15:12.060Z"
   },
   {
    "duration": 15,
    "start_time": "2024-07-22T15:15:13.106Z"
   },
   {
    "duration": 6,
    "start_time": "2024-07-22T15:15:20.536Z"
   },
   {
    "duration": 6,
    "start_time": "2024-07-22T15:20:53.222Z"
   },
   {
    "duration": 4,
    "start_time": "2024-07-22T15:20:54.355Z"
   },
   {
    "duration": 19,
    "start_time": "2024-07-22T15:20:55.013Z"
   },
   {
    "duration": 106,
    "start_time": "2024-07-22T15:23:17.299Z"
   },
   {
    "duration": 6,
    "start_time": "2024-07-22T15:23:18.953Z"
   },
   {
    "duration": 4,
    "start_time": "2024-07-22T15:23:20.824Z"
   },
   {
    "duration": 17,
    "start_time": "2024-07-22T15:23:21.678Z"
   },
   {
    "duration": 166,
    "start_time": "2024-07-22T15:23:24.767Z"
   },
   {
    "duration": 19,
    "start_time": "2024-07-22T15:23:59.386Z"
   },
   {
    "duration": 4,
    "start_time": "2024-07-22T15:24:01.308Z"
   },
   {
    "duration": 4,
    "start_time": "2024-07-22T15:24:08.417Z"
   },
   {
    "duration": 4,
    "start_time": "2024-07-22T15:24:10.510Z"
   },
   {
    "duration": 6,
    "start_time": "2024-07-22T15:24:11.880Z"
   },
   {
    "duration": 6,
    "start_time": "2024-07-22T15:28:31.214Z"
   },
   {
    "duration": 4,
    "start_time": "2024-07-22T15:28:52.131Z"
   },
   {
    "duration": 144,
    "start_time": "2024-07-22T15:38:35.857Z"
   },
   {
    "duration": 198,
    "start_time": "2024-07-22T15:38:44.019Z"
   },
   {
    "duration": 274,
    "start_time": "2024-07-22T15:38:53.214Z"
   },
   {
    "duration": 199,
    "start_time": "2024-07-22T15:39:02.943Z"
   },
   {
    "duration": 294,
    "start_time": "2024-07-22T15:40:51.277Z"
   },
   {
    "duration": 214,
    "start_time": "2024-07-22T15:41:01.512Z"
   },
   {
    "duration": 204,
    "start_time": "2024-07-22T15:42:01.621Z"
   },
   {
    "duration": 188,
    "start_time": "2024-07-22T15:46:37.861Z"
   },
   {
    "duration": 150,
    "start_time": "2024-07-22T15:48:21.408Z"
   },
   {
    "duration": 217,
    "start_time": "2024-07-22T15:48:28.350Z"
   },
   {
    "duration": 315,
    "start_time": "2024-07-22T15:50:31.470Z"
   },
   {
    "duration": 196,
    "start_time": "2024-07-22T15:50:58.538Z"
   },
   {
    "duration": 6,
    "start_time": "2024-07-22T15:55:13.950Z"
   },
   {
    "duration": 213,
    "start_time": "2024-07-22T15:56:01.771Z"
   },
   {
    "duration": 217,
    "start_time": "2024-07-22T15:56:42.397Z"
   },
   {
    "duration": 6,
    "start_time": "2024-07-22T15:57:38.363Z"
   },
   {
    "duration": 54,
    "start_time": "2024-07-22T15:58:37.062Z"
   },
   {
    "duration": 214,
    "start_time": "2024-07-22T15:59:19.391Z"
   },
   {
    "duration": 4,
    "start_time": "2024-07-22T16:17:17.426Z"
   },
   {
    "duration": 4,
    "start_time": "2024-07-22T16:18:24.102Z"
   },
   {
    "duration": 3,
    "start_time": "2024-07-22T16:51:13.018Z"
   },
   {
    "duration": 89,
    "start_time": "2024-07-22T16:51:14.018Z"
   },
   {
    "duration": 9,
    "start_time": "2024-07-22T16:51:14.646Z"
   },
   {
    "duration": 13,
    "start_time": "2024-07-22T16:51:15.168Z"
   },
   {
    "duration": 7,
    "start_time": "2024-07-22T16:51:15.682Z"
   },
   {
    "duration": 9,
    "start_time": "2024-07-22T16:51:16.235Z"
   },
   {
    "duration": 5,
    "start_time": "2024-07-22T16:51:18.793Z"
   },
   {
    "duration": 10,
    "start_time": "2024-07-22T16:51:18.850Z"
   },
   {
    "duration": 12,
    "start_time": "2024-07-22T16:51:22.122Z"
   },
   {
    "duration": 12,
    "start_time": "2024-07-22T16:51:23.292Z"
   },
   {
    "duration": 17,
    "start_time": "2024-07-22T16:51:24.617Z"
   },
   {
    "duration": 6,
    "start_time": "2024-07-22T16:51:25.810Z"
   },
   {
    "duration": 12,
    "start_time": "2024-07-22T16:51:28.866Z"
   },
   {
    "duration": 5,
    "start_time": "2024-07-22T16:51:29.409Z"
   },
   {
    "duration": 5,
    "start_time": "2024-07-22T16:51:29.917Z"
   },
   {
    "duration": 4,
    "start_time": "2024-07-22T16:51:30.955Z"
   },
   {
    "duration": 6,
    "start_time": "2024-07-22T16:51:31.506Z"
   },
   {
    "duration": 4,
    "start_time": "2024-07-22T16:51:33.180Z"
   },
   {
    "duration": 10,
    "start_time": "2024-07-22T16:51:34.340Z"
   },
   {
    "duration": 9,
    "start_time": "2024-07-22T16:51:35.459Z"
   },
   {
    "duration": 4,
    "start_time": "2024-07-22T16:51:36.525Z"
   },
   {
    "duration": 8,
    "start_time": "2024-07-22T16:51:37.571Z"
   },
   {
    "duration": 13,
    "start_time": "2024-07-22T16:51:38.126Z"
   },
   {
    "duration": 11,
    "start_time": "2024-07-22T16:51:39.205Z"
   },
   {
    "duration": 5,
    "start_time": "2024-07-22T16:51:40.152Z"
   },
   {
    "duration": 3,
    "start_time": "2024-07-22T16:51:41.106Z"
   },
   {
    "duration": 11,
    "start_time": "2024-07-22T16:51:42.131Z"
   },
   {
    "duration": 5,
    "start_time": "2024-07-22T16:51:43.110Z"
   },
   {
    "duration": 15,
    "start_time": "2024-07-22T16:51:43.603Z"
   },
   {
    "duration": 23,
    "start_time": "2024-07-22T16:51:44.120Z"
   },
   {
    "duration": 15,
    "start_time": "2024-07-22T16:51:44.629Z"
   },
   {
    "duration": 15,
    "start_time": "2024-07-22T16:51:45.611Z"
   },
   {
    "duration": 10,
    "start_time": "2024-07-22T16:51:46.072Z"
   },
   {
    "duration": 4,
    "start_time": "2024-07-22T16:51:47.954Z"
   },
   {
    "duration": 4,
    "start_time": "2024-07-22T16:51:48.426Z"
   },
   {
    "duration": 4,
    "start_time": "2024-07-22T16:51:51.006Z"
   },
   {
    "duration": 3,
    "start_time": "2024-07-22T16:51:51.494Z"
   },
   {
    "duration": 7,
    "start_time": "2024-07-22T16:51:52.408Z"
   },
   {
    "duration": 6,
    "start_time": "2024-07-22T16:51:52.884Z"
   },
   {
    "duration": 9,
    "start_time": "2024-07-22T16:51:53.332Z"
   },
   {
    "duration": 8,
    "start_time": "2024-07-22T16:51:54.375Z"
   },
   {
    "duration": 13,
    "start_time": "2024-07-22T16:51:55.432Z"
   },
   {
    "duration": 15,
    "start_time": "2024-07-22T16:51:55.903Z"
   },
   {
    "duration": 129,
    "start_time": "2024-07-22T16:51:56.429Z"
   },
   {
    "duration": 278,
    "start_time": "2024-07-22T16:51:57.021Z"
   },
   {
    "duration": 19,
    "start_time": "2024-07-22T16:51:59.779Z"
   },
   {
    "duration": 279,
    "start_time": "2024-07-22T16:52:00.297Z"
   },
   {
    "duration": 16,
    "start_time": "2024-07-22T16:52:02.055Z"
   },
   {
    "duration": 154,
    "start_time": "2024-07-22T16:52:02.610Z"
   },
   {
    "duration": 160,
    "start_time": "2024-07-22T16:52:03.127Z"
   },
   {
    "duration": 17,
    "start_time": "2024-07-22T16:52:05.269Z"
   },
   {
    "duration": 408,
    "start_time": "2024-07-22T16:52:05.824Z"
   },
   {
    "duration": 473,
    "start_time": "2024-07-22T16:52:06.332Z"
   },
   {
    "duration": 114,
    "start_time": "2024-07-22T16:52:06.912Z"
   },
   {
    "duration": 6,
    "start_time": "2024-07-22T16:52:07.506Z"
   },
   {
    "duration": 30,
    "start_time": "2024-07-22T16:52:09.142Z"
   },
   {
    "duration": 110,
    "start_time": "2024-07-22T16:52:09.657Z"
   },
   {
    "duration": 6,
    "start_time": "2024-07-22T16:52:10.172Z"
   },
   {
    "duration": 11,
    "start_time": "2024-07-22T16:52:11.261Z"
   },
   {
    "duration": 17,
    "start_time": "2024-07-22T16:52:12.329Z"
   },
   {
    "duration": 3,
    "start_time": "2024-07-22T16:52:12.810Z"
   },
   {
    "duration": 19,
    "start_time": "2024-07-22T16:52:14.941Z"
   },
   {
    "duration": 123,
    "start_time": "2024-07-22T16:52:15.506Z"
   },
   {
    "duration": 8,
    "start_time": "2024-07-22T16:52:15.998Z"
   },
   {
    "duration": 139,
    "start_time": "2024-07-22T16:52:17.695Z"
   },
   {
    "duration": 205,
    "start_time": "2024-07-22T16:52:19.415Z"
   },
   {
    "duration": 113,
    "start_time": "2024-07-22T16:52:19.971Z"
   },
   {
    "duration": 8,
    "start_time": "2024-07-22T16:52:20.596Z"
   },
   {
    "duration": 19,
    "start_time": "2024-07-22T16:52:22.222Z"
   },
   {
    "duration": 189,
    "start_time": "2024-07-22T16:52:22.762Z"
   },
   {
    "duration": 142,
    "start_time": "2024-07-22T16:52:24.389Z"
   },
   {
    "duration": 8,
    "start_time": "2024-07-22T16:52:24.938Z"
   },
   {
    "duration": 23,
    "start_time": "2024-07-22T16:52:26.125Z"
   },
   {
    "duration": 14,
    "start_time": "2024-07-22T16:52:26.742Z"
   },
   {
    "duration": 12,
    "start_time": "2024-07-22T16:52:27.299Z"
   },
   {
    "duration": 4,
    "start_time": "2024-07-22T16:52:27.830Z"
   },
   {
    "duration": 144,
    "start_time": "2024-07-22T16:52:29.885Z"
   },
   {
    "duration": 11,
    "start_time": "2024-07-22T16:52:31.561Z"
   },
   {
    "duration": 9,
    "start_time": "2024-07-22T16:52:34.506Z"
   },
   {
    "duration": 24,
    "start_time": "2024-07-22T16:52:36.484Z"
   },
   {
    "duration": 11,
    "start_time": "2024-07-22T16:52:38.409Z"
   },
   {
    "duration": 10,
    "start_time": "2024-07-22T16:52:38.982Z"
   },
   {
    "duration": 12,
    "start_time": "2024-07-22T16:52:39.530Z"
   },
   {
    "duration": 20,
    "start_time": "2024-07-22T16:52:40.583Z"
   },
   {
    "duration": 21,
    "start_time": "2024-07-22T16:52:41.700Z"
   },
   {
    "duration": 11,
    "start_time": "2024-07-22T16:52:42.233Z"
   },
   {
    "duration": 8,
    "start_time": "2024-07-22T16:52:42.815Z"
   },
   {
    "duration": 6,
    "start_time": "2024-07-22T16:52:43.831Z"
   },
   {
    "duration": 7,
    "start_time": "2024-07-22T16:52:44.323Z"
   },
   {
    "duration": 9,
    "start_time": "2024-07-22T16:52:44.801Z"
   },
   {
    "duration": 9,
    "start_time": "2024-07-22T16:52:45.844Z"
   },
   {
    "duration": 3,
    "start_time": "2024-07-22T16:52:46.789Z"
   },
   {
    "duration": 3,
    "start_time": "2024-07-22T16:52:47.355Z"
   },
   {
    "duration": 2,
    "start_time": "2024-07-22T16:52:47.890Z"
   },
   {
    "duration": 724,
    "start_time": "2024-07-22T16:52:48.419Z"
   },
   {
    "duration": 9,
    "start_time": "2024-07-22T16:52:49.145Z"
   },
   {
    "duration": 2,
    "start_time": "2024-07-22T16:52:50.053Z"
   },
   {
    "duration": 14,
    "start_time": "2024-07-22T16:52:50.546Z"
   },
   {
    "duration": 10,
    "start_time": "2024-07-22T16:52:51.078Z"
   },
   {
    "duration": 5,
    "start_time": "2024-07-22T16:52:52.172Z"
   },
   {
    "duration": 10,
    "start_time": "2024-07-22T16:52:52.627Z"
   },
   {
    "duration": 14,
    "start_time": "2024-07-22T16:52:53.720Z"
   },
   {
    "duration": 203,
    "start_time": "2024-07-22T16:52:54.309Z"
   },
   {
    "duration": 98,
    "start_time": "2024-07-22T16:52:56.324Z"
   },
   {
    "duration": 6,
    "start_time": "2024-07-22T16:52:57.131Z"
   },
   {
    "duration": 4,
    "start_time": "2024-07-22T16:52:58.239Z"
   },
   {
    "duration": 17,
    "start_time": "2024-07-22T16:52:58.838Z"
   },
   {
    "duration": 19,
    "start_time": "2024-07-22T16:53:00.619Z"
   },
   {
    "duration": 4,
    "start_time": "2024-07-22T16:53:01.221Z"
   },
   {
    "duration": 4,
    "start_time": "2024-07-22T16:53:02.174Z"
   },
   {
    "duration": 5,
    "start_time": "2024-07-22T16:53:02.633Z"
   },
   {
    "duration": 4,
    "start_time": "2024-07-22T16:53:03.558Z"
   },
   {
    "duration": 4,
    "start_time": "2024-07-22T16:53:04.050Z"
   },
   {
    "duration": 211,
    "start_time": "2024-07-22T16:53:08.266Z"
   },
   {
    "duration": 227,
    "start_time": "2024-07-22T16:53:08.806Z"
   },
   {
    "duration": 7,
    "start_time": "2024-07-22T16:53:10.130Z"
   },
   {
    "duration": 202,
    "start_time": "2024-07-22T16:53:15.562Z"
   },
   {
    "duration": 284,
    "start_time": "2024-07-22T16:53:16.462Z"
   },
   {
    "duration": 6,
    "start_time": "2024-07-22T16:53:24.615Z"
   },
   {
    "duration": 1430,
    "start_time": "2024-07-23T05:42:17.593Z"
   },
   {
    "duration": 355,
    "start_time": "2024-07-23T05:42:19.025Z"
   },
   {
    "duration": 13,
    "start_time": "2024-07-23T05:42:19.381Z"
   },
   {
    "duration": 22,
    "start_time": "2024-07-23T05:42:19.395Z"
   },
   {
    "duration": 10,
    "start_time": "2024-07-23T05:42:19.419Z"
   },
   {
    "duration": 9,
    "start_time": "2024-07-23T05:42:19.431Z"
   },
   {
    "duration": 6,
    "start_time": "2024-07-23T05:42:19.441Z"
   },
   {
    "duration": 23,
    "start_time": "2024-07-23T05:42:19.449Z"
   },
   {
    "duration": 33,
    "start_time": "2024-07-23T05:42:19.473Z"
   },
   {
    "duration": 16,
    "start_time": "2024-07-23T05:42:19.508Z"
   },
   {
    "duration": 21,
    "start_time": "2024-07-23T05:42:19.526Z"
   },
   {
    "duration": 19,
    "start_time": "2024-07-23T05:42:19.548Z"
   },
   {
    "duration": 15,
    "start_time": "2024-07-23T05:42:19.568Z"
   },
   {
    "duration": 5,
    "start_time": "2024-07-23T05:42:19.586Z"
   },
   {
    "duration": 7,
    "start_time": "2024-07-23T05:42:19.592Z"
   },
   {
    "duration": 4,
    "start_time": "2024-07-23T05:42:19.601Z"
   },
   {
    "duration": 7,
    "start_time": "2024-07-23T05:42:19.606Z"
   },
   {
    "duration": 4,
    "start_time": "2024-07-23T05:42:19.614Z"
   },
   {
    "duration": 52,
    "start_time": "2024-07-23T05:42:19.619Z"
   },
   {
    "duration": 44,
    "start_time": "2024-07-23T05:42:19.673Z"
   },
   {
    "duration": 10,
    "start_time": "2024-07-23T05:42:19.719Z"
   },
   {
    "duration": 20,
    "start_time": "2024-07-23T05:42:19.731Z"
   },
   {
    "duration": 19,
    "start_time": "2024-07-23T05:42:19.752Z"
   },
   {
    "duration": 13,
    "start_time": "2024-07-23T05:42:19.773Z"
   },
   {
    "duration": 5,
    "start_time": "2024-07-23T05:42:19.788Z"
   },
   {
    "duration": 5,
    "start_time": "2024-07-23T05:42:19.795Z"
   },
   {
    "duration": 15,
    "start_time": "2024-07-23T05:42:19.801Z"
   },
   {
    "duration": 6,
    "start_time": "2024-07-23T05:42:19.818Z"
   },
   {
    "duration": 53,
    "start_time": "2024-07-23T05:42:19.825Z"
   },
   {
    "duration": 34,
    "start_time": "2024-07-23T05:42:19.880Z"
   },
   {
    "duration": 20,
    "start_time": "2024-07-23T05:42:19.916Z"
   },
   {
    "duration": 44,
    "start_time": "2024-07-23T05:42:19.938Z"
   },
   {
    "duration": 12,
    "start_time": "2024-07-23T05:42:19.984Z"
   },
   {
    "duration": 5,
    "start_time": "2024-07-23T05:42:19.998Z"
   },
   {
    "duration": 20,
    "start_time": "2024-07-23T05:42:20.004Z"
   },
   {
    "duration": 7,
    "start_time": "2024-07-23T05:42:20.026Z"
   },
   {
    "duration": 4,
    "start_time": "2024-07-23T05:42:20.035Z"
   },
   {
    "duration": 32,
    "start_time": "2024-07-23T05:42:20.040Z"
   },
   {
    "duration": 6,
    "start_time": "2024-07-23T05:42:20.074Z"
   },
   {
    "duration": 21,
    "start_time": "2024-07-23T05:42:20.081Z"
   },
   {
    "duration": 15,
    "start_time": "2024-07-23T05:42:20.108Z"
   },
   {
    "duration": 15,
    "start_time": "2024-07-23T05:42:20.124Z"
   },
   {
    "duration": 31,
    "start_time": "2024-07-23T05:42:20.141Z"
   },
   {
    "duration": 192,
    "start_time": "2024-07-23T05:42:20.174Z"
   },
   {
    "duration": 267,
    "start_time": "2024-07-23T05:42:20.368Z"
   },
   {
    "duration": 28,
    "start_time": "2024-07-23T05:42:20.637Z"
   },
   {
    "duration": 423,
    "start_time": "2024-07-23T05:42:20.667Z"
   },
   {
    "duration": 23,
    "start_time": "2024-07-23T05:42:21.091Z"
   },
   {
    "duration": 194,
    "start_time": "2024-07-23T05:42:21.115Z"
   },
   {
    "duration": 185,
    "start_time": "2024-07-23T05:42:21.311Z"
   },
   {
    "duration": 21,
    "start_time": "2024-07-23T05:42:21.498Z"
   },
   {
    "duration": 664,
    "start_time": "2024-07-23T05:42:21.520Z"
   },
   {
    "duration": 567,
    "start_time": "2024-07-23T05:42:22.185Z"
   },
   {
    "duration": 142,
    "start_time": "2024-07-23T05:42:22.753Z"
   },
   {
    "duration": 9,
    "start_time": "2024-07-23T05:42:22.896Z"
   },
   {
    "duration": 44,
    "start_time": "2024-07-23T05:42:22.906Z"
   },
   {
    "duration": 146,
    "start_time": "2024-07-23T05:42:22.951Z"
   },
   {
    "duration": 8,
    "start_time": "2024-07-23T05:42:23.099Z"
   },
   {
    "duration": 12,
    "start_time": "2024-07-23T05:42:23.109Z"
   },
   {
    "duration": 17,
    "start_time": "2024-07-23T05:42:23.123Z"
   },
   {
    "duration": 24,
    "start_time": "2024-07-23T05:42:23.142Z"
   },
   {
    "duration": 38,
    "start_time": "2024-07-23T05:42:23.168Z"
   },
   {
    "duration": 140,
    "start_time": "2024-07-23T05:42:23.207Z"
   },
   {
    "duration": 18,
    "start_time": "2024-07-23T05:42:23.349Z"
   },
   {
    "duration": 172,
    "start_time": "2024-07-23T05:42:23.369Z"
   },
   {
    "duration": 400,
    "start_time": "2024-07-23T05:42:23.542Z"
   },
   {
    "duration": 158,
    "start_time": "2024-07-23T05:42:23.944Z"
   },
   {
    "duration": 9,
    "start_time": "2024-07-23T05:42:24.104Z"
   },
   {
    "duration": 19,
    "start_time": "2024-07-23T05:42:24.115Z"
   },
   {
    "duration": 270,
    "start_time": "2024-07-23T05:42:24.136Z"
   },
   {
    "duration": 192,
    "start_time": "2024-07-23T05:42:24.408Z"
   },
   {
    "duration": 11,
    "start_time": "2024-07-23T05:42:24.602Z"
   },
   {
    "duration": 28,
    "start_time": "2024-07-23T05:42:24.614Z"
   },
   {
    "duration": 31,
    "start_time": "2024-07-23T05:42:24.643Z"
   },
   {
    "duration": 59,
    "start_time": "2024-07-23T05:42:24.676Z"
   },
   {
    "duration": 7,
    "start_time": "2024-07-23T05:42:24.737Z"
   },
   {
    "duration": 173,
    "start_time": "2024-07-23T05:42:24.746Z"
   },
   {
    "duration": 16,
    "start_time": "2024-07-23T05:42:24.920Z"
   },
   {
    "duration": 10,
    "start_time": "2024-07-23T05:42:24.938Z"
   },
   {
    "duration": 55,
    "start_time": "2024-07-23T05:42:24.949Z"
   },
   {
    "duration": 11,
    "start_time": "2024-07-23T05:42:25.006Z"
   },
   {
    "duration": 14,
    "start_time": "2024-07-23T05:42:25.019Z"
   },
   {
    "duration": 10,
    "start_time": "2024-07-23T05:42:25.034Z"
   },
   {
    "duration": 38,
    "start_time": "2024-07-23T05:42:25.045Z"
   },
   {
    "duration": 24,
    "start_time": "2024-07-23T05:42:25.085Z"
   },
   {
    "duration": 11,
    "start_time": "2024-07-23T05:42:25.111Z"
   },
   {
    "duration": 14,
    "start_time": "2024-07-23T05:42:25.123Z"
   },
   {
    "duration": 32,
    "start_time": "2024-07-23T05:42:25.139Z"
   },
   {
    "duration": 25,
    "start_time": "2024-07-23T05:42:25.173Z"
   },
   {
    "duration": 21,
    "start_time": "2024-07-23T05:42:25.200Z"
   },
   {
    "duration": 11,
    "start_time": "2024-07-23T05:42:25.223Z"
   },
   {
    "duration": 37,
    "start_time": "2024-07-23T05:42:25.235Z"
   },
   {
    "duration": 21,
    "start_time": "2024-07-23T05:42:25.274Z"
   },
   {
    "duration": 13,
    "start_time": "2024-07-23T05:42:25.297Z"
   },
   {
    "duration": 828,
    "start_time": "2024-07-23T05:42:25.312Z"
   },
   {
    "duration": 11,
    "start_time": "2024-07-23T05:42:26.142Z"
   },
   {
    "duration": 3,
    "start_time": "2024-07-23T05:42:26.165Z"
   },
   {
    "duration": 19,
    "start_time": "2024-07-23T05:42:26.170Z"
   },
   {
    "duration": 12,
    "start_time": "2024-07-23T05:42:26.191Z"
   },
   {
    "duration": 10,
    "start_time": "2024-07-23T05:42:26.205Z"
   },
   {
    "duration": 15,
    "start_time": "2024-07-23T05:42:26.216Z"
   },
   {
    "duration": 40,
    "start_time": "2024-07-23T05:42:26.233Z"
   },
   {
    "duration": 243,
    "start_time": "2024-07-23T05:42:26.274Z"
   },
   {
    "duration": 124,
    "start_time": "2024-07-23T05:42:26.519Z"
   },
   {
    "duration": 7,
    "start_time": "2024-07-23T05:42:26.644Z"
   },
   {
    "duration": 51,
    "start_time": "2024-07-23T05:42:26.666Z"
   },
   {
    "duration": 20,
    "start_time": "2024-07-23T05:42:26.718Z"
   },
   {
    "duration": 22,
    "start_time": "2024-07-23T05:42:26.740Z"
   },
   {
    "duration": 5,
    "start_time": "2024-07-23T05:42:26.763Z"
   },
   {
    "duration": 9,
    "start_time": "2024-07-23T05:42:26.769Z"
   },
   {
    "duration": 5,
    "start_time": "2024-07-23T05:42:26.780Z"
   },
   {
    "duration": 9,
    "start_time": "2024-07-23T05:42:26.787Z"
   },
   {
    "duration": 6,
    "start_time": "2024-07-23T05:42:26.797Z"
   },
   {
    "duration": 388,
    "start_time": "2024-07-23T05:42:26.805Z"
   },
   {
    "duration": 286,
    "start_time": "2024-07-23T05:42:27.195Z"
   },
   {
    "duration": 7,
    "start_time": "2024-07-23T05:42:27.483Z"
   },
   {
    "duration": 316,
    "start_time": "2024-07-23T05:42:27.492Z"
   },
   {
    "duration": 279,
    "start_time": "2024-07-23T05:42:27.810Z"
   },
   {
    "duration": 7,
    "start_time": "2024-07-23T05:42:28.090Z"
   },
   {
    "duration": 61,
    "start_time": "2024-07-23T05:44:23.771Z"
   }
  ],
  "kernelspec": {
   "display_name": "Python 3 (ipykernel)",
   "language": "python",
   "name": "python3"
  },
  "language_info": {
   "codemirror_mode": {
    "name": "ipython",
    "version": 3
   },
   "file_extension": ".py",
   "mimetype": "text/x-python",
   "name": "python",
   "nbconvert_exporter": "python",
   "pygments_lexer": "ipython3",
   "version": "3.11.5"
  },
  "toc": {
   "base_numbering": 1,
   "nav_menu": {},
   "number_sections": true,
   "sideBar": true,
   "skip_h1_title": true,
   "title_cell": "Table of Contents",
   "title_sidebar": "Contents",
   "toc_cell": false,
   "toc_position": {
    "height": "calc(100% - 180px)",
    "left": "10px",
    "top": "150px",
    "width": "303.825px"
   },
   "toc_section_display": true,
   "toc_window_display": true
  },
  "varInspector": {
   "cols": {
    "lenName": 16,
    "lenType": 16,
    "lenVar": 40
   },
   "kernels_config": {
    "python": {
     "delete_cmd_postfix": "",
     "delete_cmd_prefix": "del ",
     "library": "var_list.py",
     "varRefreshCmd": "print(var_dic_list())"
    },
    "r": {
     "delete_cmd_postfix": ") ",
     "delete_cmd_prefix": "rm(",
     "library": "var_list.r",
     "varRefreshCmd": "cat(var_dic_list()) "
    }
   },
   "types_to_exclude": [
    "module",
    "function",
    "builtin_function_or_method",
    "instance",
    "_Feature"
   ],
   "window_display": false
  }
 },
 "nbformat": 4,
 "nbformat_minor": 2
}
